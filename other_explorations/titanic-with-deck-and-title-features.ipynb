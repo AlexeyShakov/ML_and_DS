{
 "cells": [
  {
   "cell_type": "markdown",
   "id": "1b8de283",
   "metadata": {
    "papermill": {
     "duration": 0.039112,
     "end_time": "2022-06-06T16:03:20.120191",
     "exception": false,
     "start_time": "2022-06-06T16:03:20.081079",
     "status": "completed"
    },
    "tags": []
   },
   "source": [
    "# 1. Importing libraries."
   ]
  },
  {
   "cell_type": "code",
   "execution_count": 1,
   "id": "9d1c806d",
   "metadata": {
    "execution": {
     "iopub.execute_input": "2022-06-06T16:03:20.194776Z",
     "iopub.status.busy": "2022-06-06T16:03:20.194150Z",
     "iopub.status.idle": "2022-06-06T16:03:22.289385Z",
     "shell.execute_reply": "2022-06-06T16:03:22.288255Z"
    },
    "papermill": {
     "duration": 2.135443,
     "end_time": "2022-06-06T16:03:22.291967",
     "exception": false,
     "start_time": "2022-06-06T16:03:20.156524",
     "status": "completed"
    },
    "tags": []
   },
   "outputs": [],
   "source": [
    "import pandas as pd \n",
    "import numpy as np \n",
    "import seaborn as sns\n",
    "import matplotlib.pyplot as plt \n",
    "\n",
    "from sklearn.tree import DecisionTreeClassifier \n",
    "from sklearn.neighbors import KNeighborsClassifier\n",
    "from sklearn.model_selection import GridSearchCV\n",
    "from sklearn.feature_selection import SelectKBest, f_classif\n",
    "from sklearn import tree\n",
    "from sklearn.model_selection import train_test_split\n",
    "from sklearn.metrics import classification_report, f1_score\n",
    "from sklearn.preprocessing import MinMaxScaler \n",
    "\n",
    "from catboost import CatBoostClassifier\n",
    "from tqdm import tqdm\n",
    "\n",
    "\n",
    "%matplotlib inline"
   ]
  },
  {
   "cell_type": "code",
   "execution_count": 2,
   "id": "c4152e8a",
   "metadata": {
    "execution": {
     "iopub.execute_input": "2022-06-06T16:03:22.362953Z",
     "iopub.status.busy": "2022-06-06T16:03:22.361866Z",
     "iopub.status.idle": "2022-06-06T16:03:22.369385Z",
     "shell.execute_reply": "2022-06-06T16:03:22.368379Z"
    },
    "papermill": {
     "duration": 0.04503,
     "end_time": "2022-06-06T16:03:22.371608",
     "exception": false,
     "start_time": "2022-06-06T16:03:22.326578",
     "status": "completed"
    },
    "tags": []
   },
   "outputs": [
    {
     "name": "stdout",
     "output_type": "stream",
     "text": [
      "/kaggle/input/titanic/train.csv\n",
      "/kaggle/input/titanic/test.csv\n",
      "/kaggle/input/titanic/gender_submission.csv\n"
     ]
    }
   ],
   "source": [
    "import os\n",
    "for dirname, _, filenames in os.walk('/kaggle/input'):\n",
    "    for filename in filenames:\n",
    "        print(os.path.join(dirname, filename))"
   ]
  },
  {
   "cell_type": "markdown",
   "id": "2245c40a",
   "metadata": {
    "papermill": {
     "duration": 0.03495,
     "end_time": "2022-06-06T16:03:22.441497",
     "exception": false,
     "start_time": "2022-06-06T16:03:22.406547",
     "status": "completed"
    },
    "tags": []
   },
   "source": [
    "# 2. Exploratory data analysis"
   ]
  },
  {
   "cell_type": "markdown",
   "id": "61c93882",
   "metadata": {
    "papermill": {
     "duration": 0.034346,
     "end_time": "2022-06-06T16:03:22.510233",
     "exception": false,
     "start_time": "2022-06-06T16:03:22.475887",
     "status": "completed"
    },
    "tags": []
   },
   "source": [
    "## Train dataset"
   ]
  },
  {
   "cell_type": "code",
   "execution_count": 3,
   "id": "7f586aa4",
   "metadata": {
    "execution": {
     "iopub.execute_input": "2022-06-06T16:03:22.582664Z",
     "iopub.status.busy": "2022-06-06T16:03:22.582257Z",
     "iopub.status.idle": "2022-06-06T16:03:22.601507Z",
     "shell.execute_reply": "2022-06-06T16:03:22.600592Z"
    },
    "papermill": {
     "duration": 0.057424,
     "end_time": "2022-06-06T16:03:22.603778",
     "exception": false,
     "start_time": "2022-06-06T16:03:22.546354",
     "status": "completed"
    },
    "tags": []
   },
   "outputs": [],
   "source": [
    "train_df = pd.read_csv(\"/kaggle/input/titanic/train.csv\")"
   ]
  },
  {
   "cell_type": "code",
   "execution_count": 4,
   "id": "2277bf0e",
   "metadata": {
    "execution": {
     "iopub.execute_input": "2022-06-06T16:03:22.676472Z",
     "iopub.status.busy": "2022-06-06T16:03:22.675609Z",
     "iopub.status.idle": "2022-06-06T16:03:22.681592Z",
     "shell.execute_reply": "2022-06-06T16:03:22.680184Z"
    },
    "papermill": {
     "duration": 0.044168,
     "end_time": "2022-06-06T16:03:22.683616",
     "exception": false,
     "start_time": "2022-06-06T16:03:22.639448",
     "status": "completed"
    },
    "tags": []
   },
   "outputs": [
    {
     "name": "stdout",
     "output_type": "stream",
     "text": [
      "the amount of rows and columns uploaded for train_df:  (891, 12)\n"
     ]
    }
   ],
   "source": [
    "print(\"the amount of rows and columns uploaded for train_df: \", train_df.shape )"
   ]
  },
  {
   "cell_type": "code",
   "execution_count": 5,
   "id": "631ab55c",
   "metadata": {
    "execution": {
     "iopub.execute_input": "2022-06-06T16:03:22.756117Z",
     "iopub.status.busy": "2022-06-06T16:03:22.755465Z",
     "iopub.status.idle": "2022-06-06T16:03:22.778583Z",
     "shell.execute_reply": "2022-06-06T16:03:22.777808Z"
    },
    "papermill": {
     "duration": 0.06119,
     "end_time": "2022-06-06T16:03:22.780501",
     "exception": false,
     "start_time": "2022-06-06T16:03:22.719311",
     "status": "completed"
    },
    "tags": []
   },
   "outputs": [
    {
     "data": {
      "text/html": [
       "<div>\n",
       "<style scoped>\n",
       "    .dataframe tbody tr th:only-of-type {\n",
       "        vertical-align: middle;\n",
       "    }\n",
       "\n",
       "    .dataframe tbody tr th {\n",
       "        vertical-align: top;\n",
       "    }\n",
       "\n",
       "    .dataframe thead th {\n",
       "        text-align: right;\n",
       "    }\n",
       "</style>\n",
       "<table border=\"1\" class=\"dataframe\">\n",
       "  <thead>\n",
       "    <tr style=\"text-align: right;\">\n",
       "      <th></th>\n",
       "      <th>PassengerId</th>\n",
       "      <th>Survived</th>\n",
       "      <th>Pclass</th>\n",
       "      <th>Name</th>\n",
       "      <th>Sex</th>\n",
       "      <th>Age</th>\n",
       "      <th>SibSp</th>\n",
       "      <th>Parch</th>\n",
       "      <th>Ticket</th>\n",
       "      <th>Fare</th>\n",
       "      <th>Cabin</th>\n",
       "      <th>Embarked</th>\n",
       "    </tr>\n",
       "  </thead>\n",
       "  <tbody>\n",
       "    <tr>\n",
       "      <th>0</th>\n",
       "      <td>1</td>\n",
       "      <td>0</td>\n",
       "      <td>3</td>\n",
       "      <td>Braund, Mr. Owen Harris</td>\n",
       "      <td>male</td>\n",
       "      <td>22.0</td>\n",
       "      <td>1</td>\n",
       "      <td>0</td>\n",
       "      <td>A/5 21171</td>\n",
       "      <td>7.2500</td>\n",
       "      <td>NaN</td>\n",
       "      <td>S</td>\n",
       "    </tr>\n",
       "    <tr>\n",
       "      <th>1</th>\n",
       "      <td>2</td>\n",
       "      <td>1</td>\n",
       "      <td>1</td>\n",
       "      <td>Cumings, Mrs. John Bradley (Florence Briggs Th...</td>\n",
       "      <td>female</td>\n",
       "      <td>38.0</td>\n",
       "      <td>1</td>\n",
       "      <td>0</td>\n",
       "      <td>PC 17599</td>\n",
       "      <td>71.2833</td>\n",
       "      <td>C85</td>\n",
       "      <td>C</td>\n",
       "    </tr>\n",
       "    <tr>\n",
       "      <th>2</th>\n",
       "      <td>3</td>\n",
       "      <td>1</td>\n",
       "      <td>3</td>\n",
       "      <td>Heikkinen, Miss. Laina</td>\n",
       "      <td>female</td>\n",
       "      <td>26.0</td>\n",
       "      <td>0</td>\n",
       "      <td>0</td>\n",
       "      <td>STON/O2. 3101282</td>\n",
       "      <td>7.9250</td>\n",
       "      <td>NaN</td>\n",
       "      <td>S</td>\n",
       "    </tr>\n",
       "  </tbody>\n",
       "</table>\n",
       "</div>"
      ],
      "text/plain": [
       "   PassengerId  Survived  Pclass  \\\n",
       "0            1         0       3   \n",
       "1            2         1       1   \n",
       "2            3         1       3   \n",
       "\n",
       "                                                Name     Sex   Age  SibSp  \\\n",
       "0                            Braund, Mr. Owen Harris    male  22.0      1   \n",
       "1  Cumings, Mrs. John Bradley (Florence Briggs Th...  female  38.0      1   \n",
       "2                             Heikkinen, Miss. Laina  female  26.0      0   \n",
       "\n",
       "   Parch            Ticket     Fare Cabin Embarked  \n",
       "0      0         A/5 21171   7.2500   NaN        S  \n",
       "1      0          PC 17599  71.2833   C85        C  \n",
       "2      0  STON/O2. 3101282   7.9250   NaN        S  "
      ]
     },
     "execution_count": 5,
     "metadata": {},
     "output_type": "execute_result"
    }
   ],
   "source": [
    "train_df.head(3)"
   ]
  },
  {
   "cell_type": "code",
   "execution_count": 6,
   "id": "bcf1fa0f",
   "metadata": {
    "execution": {
     "iopub.execute_input": "2022-06-06T16:03:22.851252Z",
     "iopub.status.busy": "2022-06-06T16:03:22.850590Z",
     "iopub.status.idle": "2022-06-06T16:03:22.878105Z",
     "shell.execute_reply": "2022-06-06T16:03:22.877367Z"
    },
    "papermill": {
     "duration": 0.065834,
     "end_time": "2022-06-06T16:03:22.880903",
     "exception": false,
     "start_time": "2022-06-06T16:03:22.815069",
     "status": "completed"
    },
    "tags": []
   },
   "outputs": [
    {
     "name": "stdout",
     "output_type": "stream",
     "text": [
      "<class 'pandas.core.frame.DataFrame'>\n",
      "RangeIndex: 891 entries, 0 to 890\n",
      "Data columns (total 12 columns):\n",
      " #   Column       Non-Null Count  Dtype  \n",
      "---  ------       --------------  -----  \n",
      " 0   PassengerId  891 non-null    int64  \n",
      " 1   Survived     891 non-null    int64  \n",
      " 2   Pclass       891 non-null    int64  \n",
      " 3   Name         891 non-null    object \n",
      " 4   Sex          891 non-null    object \n",
      " 5   Age          714 non-null    float64\n",
      " 6   SibSp        891 non-null    int64  \n",
      " 7   Parch        891 non-null    int64  \n",
      " 8   Ticket       891 non-null    object \n",
      " 9   Fare         891 non-null    float64\n",
      " 10  Cabin        204 non-null    object \n",
      " 11  Embarked     889 non-null    object \n",
      "dtypes: float64(2), int64(5), object(5)\n",
      "memory usage: 83.7+ KB\n"
     ]
    }
   ],
   "source": [
    "train_df.info()"
   ]
  },
  {
   "cell_type": "code",
   "execution_count": 7,
   "id": "2a07fd1b",
   "metadata": {
    "execution": {
     "iopub.execute_input": "2022-06-06T16:03:22.954514Z",
     "iopub.status.busy": "2022-06-06T16:03:22.953683Z",
     "iopub.status.idle": "2022-06-06T16:03:23.155530Z",
     "shell.execute_reply": "2022-06-06T16:03:23.153817Z"
    },
    "papermill": {
     "duration": 0.242751,
     "end_time": "2022-06-06T16:03:23.158509",
     "exception": false,
     "start_time": "2022-06-06T16:03:22.915758",
     "status": "completed"
    },
    "tags": []
   },
   "outputs": [
    {
     "data": {
      "text/plain": [
       "([<matplotlib.axis.XTick at 0x7f1ba6d06850>,\n",
       "  <matplotlib.axis.XTick at 0x7f1ba6d06950>],\n",
       " [Text(0, 0, ''), Text(0, 0, '')])"
      ]
     },
     "execution_count": 7,
     "metadata": {},
     "output_type": "execute_result"
    },
    {
     "data": {
      "image/png": "[encoded data removed]",
      "text/plain": [
       "<Figure size 576x576 with 1 Axes>"
      ]
     },
     "metadata": {
      "needs_background": "light"
     },
     "output_type": "display_data"
    }
   ],
   "source": [
    "# Let's see the distribution of data in Survived column\n",
    "fig = plt.figure(figsize=(8,8))\n",
    "\n",
    "names = train_df[\"Survived\"].unique()\n",
    "values = train_df.groupby(\"Survived\").size().values\n",
    "plt.bar(names, values)\n",
    "plt.xticks(names)"
   ]
  },
  {
   "cell_type": "markdown",
   "id": "432eba27",
   "metadata": {
    "papermill": {
     "duration": 0.03482,
     "end_time": "2022-06-06T16:03:23.228764",
     "exception": false,
     "start_time": "2022-06-06T16:03:23.193944",
     "status": "completed"
    },
    "tags": []
   },
   "source": [
    "We see that the data is unbalanced a little bit"
   ]
  },
  {
   "cell_type": "code",
   "execution_count": 8,
   "id": "bad9db46",
   "metadata": {
    "execution": {
     "iopub.execute_input": "2022-06-06T16:03:23.302153Z",
     "iopub.status.busy": "2022-06-06T16:03:23.301179Z",
     "iopub.status.idle": "2022-06-06T16:03:23.311290Z",
     "shell.execute_reply": "2022-06-06T16:03:23.310079Z"
    },
    "papermill": {
     "duration": 0.048673,
     "end_time": "2022-06-06T16:03:23.313387",
     "exception": false,
     "start_time": "2022-06-06T16:03:23.264714",
     "status": "completed"
    },
    "tags": []
   },
   "outputs": [
    {
     "data": {
      "text/plain": [
       "PassengerId      0\n",
       "Survived         0\n",
       "Pclass           0\n",
       "Name             0\n",
       "Sex              0\n",
       "Age            177\n",
       "SibSp            0\n",
       "Parch            0\n",
       "Ticket           0\n",
       "Fare             0\n",
       "Cabin          687\n",
       "Embarked         2\n",
       "dtype: int64"
      ]
     },
     "execution_count": 8,
     "metadata": {},
     "output_type": "execute_result"
    }
   ],
   "source": [
    "train_df.isnull().sum() # let's look on the missing values"
   ]
  },
  {
   "cell_type": "code",
   "execution_count": 9,
   "id": "7529c5e9",
   "metadata": {
    "execution": {
     "iopub.execute_input": "2022-06-06T16:03:23.391558Z",
     "iopub.status.busy": "2022-06-06T16:03:23.390911Z",
     "iopub.status.idle": "2022-06-06T16:03:23.846948Z",
     "shell.execute_reply": "2022-06-06T16:03:23.845539Z"
    },
    "papermill": {
     "duration": 0.496698,
     "end_time": "2022-06-06T16:03:23.849287",
     "exception": false,
     "start_time": "2022-06-06T16:03:23.352589",
     "status": "completed"
    },
    "tags": []
   },
   "outputs": [
    {
     "data": {
      "text/plain": [
       "<AxesSubplot:>"
      ]
     },
     "execution_count": 9,
     "metadata": {},
     "output_type": "execute_result"
    },
    {
     "data": {
      "image/png": "[encoded data removed]",
      "text/plain": [
       "<Figure size 504x504 with 1 Axes>"
      ]
     },
     "metadata": {
      "needs_background": "light"
     },
     "output_type": "display_data"
    }
   ],
   "source": [
    "fig, ax = plt.subplots(figsize=(7,7))  # let's plot the distribution of missing values                 \n",
    "sns.heatmap(train_df.isnull(), center=0.3, cbar=False)"
   ]
  },
  {
   "cell_type": "markdown",
   "id": "8ef8c429",
   "metadata": {
    "papermill": {
     "duration": 0.035211,
     "end_time": "2022-06-06T16:03:23.920975",
     "exception": false,
     "start_time": "2022-06-06T16:03:23.885764",
     "status": "completed"
    },
    "tags": []
   },
   "source": [
    "**Let's look at the correlation between our variables in the data.**"
   ]
  },
  {
   "cell_type": "code",
   "execution_count": 10,
   "id": "9b3550f0",
   "metadata": {
    "execution": {
     "iopub.execute_input": "2022-06-06T16:03:23.995117Z",
     "iopub.status.busy": "2022-06-06T16:03:23.994512Z",
     "iopub.status.idle": "2022-06-06T16:03:24.358099Z",
     "shell.execute_reply": "2022-06-06T16:03:24.356644Z"
    },
    "papermill": {
     "duration": 0.403815,
     "end_time": "2022-06-06T16:03:24.360538",
     "exception": false,
     "start_time": "2022-06-06T16:03:23.956723",
     "status": "completed"
    },
    "tags": []
   },
   "outputs": [
    {
     "data": {
      "text/plain": [
       "<AxesSubplot:>"
      ]
     },
     "execution_count": 10,
     "metadata": {},
     "output_type": "execute_result"
    },
    {
     "data": {
      "image/png": "[encoded data removed]",
      "text/plain": [
       "<Figure size 576x576 with 2 Axes>"
      ]
     },
     "metadata": {
      "needs_background": "light"
     },
     "output_type": "display_data"
    }
   ],
   "source": [
    "fig, ax = plt.subplots(figsize=(8,8))             \n",
    "sns.heatmap(train_df.drop(\"PassengerId\", axis=1).corr(method=\"pearson\"), center=0.5, annot=True)"
   ]
  },
  {
   "cell_type": "code",
   "execution_count": 11,
   "id": "22dd7c0c",
   "metadata": {
    "execution": {
     "iopub.execute_input": "2022-06-06T16:03:24.435449Z",
     "iopub.status.busy": "2022-06-06T16:03:24.434740Z",
     "iopub.status.idle": "2022-06-06T16:03:24.833645Z",
     "shell.execute_reply": "2022-06-06T16:03:24.832672Z"
    },
    "papermill": {
     "duration": 0.43999,
     "end_time": "2022-06-06T16:03:24.836968",
     "exception": false,
     "start_time": "2022-06-06T16:03:24.396978",
     "status": "completed"
    },
    "tags": []
   },
   "outputs": [
    {
     "data": {
      "text/plain": [
       "<AxesSubplot:>"
      ]
     },
     "execution_count": 11,
     "metadata": {},
     "output_type": "execute_result"
    },
    {
     "data": {
      "image/png": "[encoded data removed]",
      "text/plain": [
       "<Figure size 576x576 with 2 Axes>"
      ]
     },
     "metadata": {
      "needs_background": "light"
     },
     "output_type": "display_data"
    }
   ],
   "source": [
    "fig, ax = plt.subplots(figsize=(8,8))             \n",
    "sns.heatmap(train_df.drop(\"PassengerId\", axis=1).corr(method=\"spearman\"), center=0.5, annot=True)"
   ]
  },
  {
   "cell_type": "markdown",
   "id": "87c17c54",
   "metadata": {
    "papermill": {
     "duration": 0.045622,
     "end_time": "2022-06-06T16:03:24.933519",
     "exception": false,
     "start_time": "2022-06-06T16:03:24.887897",
     "status": "completed"
    },
    "tags": []
   },
   "source": [
    "**We see that two types of calculating correlation coefficient gives us sliglty different results. Overall, the spearman coefficient is more for every variable by the same value. But for some variables like SibSp-Fare, the difference between two coefficients is larger than for other pairs.**"
   ]
  },
  {
   "cell_type": "markdown",
   "id": "034c7a82",
   "metadata": {
    "papermill": {
     "duration": 0.040663,
     "end_time": "2022-06-06T16:03:25.011621",
     "exception": false,
     "start_time": "2022-06-06T16:03:24.970958",
     "status": "completed"
    },
    "tags": []
   },
   "source": [
    "**Let's look at the number of survived and non-survived people based on class and gender.**"
   ]
  },
  {
   "cell_type": "code",
   "execution_count": 12,
   "id": "7211053d",
   "metadata": {
    "execution": {
     "iopub.execute_input": "2022-06-06T16:03:25.094159Z",
     "iopub.status.busy": "2022-06-06T16:03:25.093604Z",
     "iopub.status.idle": "2022-06-06T16:03:25.114594Z",
     "shell.execute_reply": "2022-06-06T16:03:25.113609Z"
    },
    "papermill": {
     "duration": 0.064011,
     "end_time": "2022-06-06T16:03:25.118219",
     "exception": false,
     "start_time": "2022-06-06T16:03:25.054208",
     "status": "completed"
    },
    "tags": []
   },
   "outputs": [],
   "source": [
    "sur_data = train_df[train_df[\"Survived\"]==1]      \n",
    "no_sur_data = train_df[train_df[\"Survived\"]==0]   \n",
    "\n",
    "sur_gender = sur_data.groupby(\"Sex\").size().values \n",
    "no_sur_gender = no_sur_data.groupby(\"Sex\").size().values\n",
    "\n",
    "genders = [\"Female\", \"Male\"]\n",
    "\n",
    "\n",
    "\n",
    "# percentage of women survived\n",
    "percentage_female_sur = sur_data.groupby(\"Sex\").size().values[0] / (no_sur_data.groupby(\"Sex\").size().values[0] + sur_data.groupby(\"Sex\").size().values[0]) * 100\n",
    "percentage_female_no_sur = 100 - percentage_female_sur\n",
    "\n",
    "# percentage of men survived\n",
    "percentage_male_sur = sur_data.groupby(\"Sex\").size().values[1] / (no_sur_data.groupby(\"Sex\").size().values[1] + sur_data.groupby(\"Sex\").size().values[1]) * 100\n",
    "percentage_male_no_sur = 100 - percentage_male_sur\n",
    "\n",
    "# the list of all percentage survived and non-survived people by gender\n",
    "percentage_gender = [percentage_female_sur, percentage_male_sur, percentage_female_no_sur, percentage_male_no_sur]\n",
    "\n"
   ]
  },
  {
   "cell_type": "code",
   "execution_count": 13,
   "id": "723202e6",
   "metadata": {
    "execution": {
     "iopub.execute_input": "2022-06-06T16:03:25.203500Z",
     "iopub.status.busy": "2022-06-06T16:03:25.203143Z",
     "iopub.status.idle": "2022-06-06T16:03:25.213199Z",
     "shell.execute_reply": "2022-06-06T16:03:25.212091Z"
    },
    "papermill": {
     "duration": 0.057046,
     "end_time": "2022-06-06T16:03:25.216202",
     "exception": false,
     "start_time": "2022-06-06T16:03:25.159156",
     "status": "completed"
    },
    "tags": []
   },
   "outputs": [
    {
     "name": "stdout",
     "output_type": "stream",
     "text": [
      "the number of survived people from 1st class -  136\n",
      "the number of survived people from 1st class -  87\n",
      "the number of survived people from 1st class -  119\n"
     ]
    }
   ],
   "source": [
    "print(\"the number of survived people from 1st class - \", sur_data.groupby(\"Pclass\").size().values[0])\n",
    "print(\"the number of survived people from 1st class - \", sur_data.groupby(\"Pclass\").size().values[1])\n",
    "print(\"the number of survived people from 1st class - \", sur_data.groupby(\"Pclass\").size().values[2])"
   ]
  },
  {
   "cell_type": "code",
   "execution_count": 14,
   "id": "161ddf91",
   "metadata": {
    "execution": {
     "iopub.execute_input": "2022-06-06T16:03:25.297990Z",
     "iopub.status.busy": "2022-06-06T16:03:25.297150Z",
     "iopub.status.idle": "2022-06-06T16:03:25.316190Z",
     "shell.execute_reply": "2022-06-06T16:03:25.314213Z"
    },
    "papermill": {
     "duration": 0.063387,
     "end_time": "2022-06-06T16:03:25.320266",
     "exception": false,
     "start_time": "2022-06-06T16:03:25.256879",
     "status": "completed"
    },
    "tags": []
   },
   "outputs": [],
   "source": [
    "first_cl_sur = sur_data.groupby(\"Pclass\").size().values[0]\n",
    "first_cl_no_sur = no_sur_class = no_sur_data.groupby(\"Pclass\").size().values[0]\n",
    "first_sur_percent = first_cl_sur / (first_cl_sur + first_cl_no_sur) * 100\n",
    "first_no_sur_percent = first_cl_no_sur / (first_cl_sur + first_cl_no_sur) * 100\n",
    "\n",
    "sec_cl_sur = sur_data.groupby(\"Pclass\").size().values[1]\n",
    "sec_cl_no_sur = no_sur_class = no_sur_data.groupby(\"Pclass\").size().values[1]\n",
    "sec_sur_percent = sec_cl_sur / (sec_cl_sur + sec_cl_no_sur) * 100\n",
    "sec_no_sur_percent = sec_cl_no_sur / (sec_cl_sur + sec_cl_no_sur) * 100\n",
    "\n",
    "third_cl_sur = sur_data.groupby(\"Pclass\").size().values[2]\n",
    "third_cl_no_sur = no_sur_class = no_sur_data.groupby(\"Pclass\").size().values[2]\n",
    "third_sur_percent = third_cl_sur / (third_cl_sur + third_cl_no_sur) * 100\n",
    "third_no_sur_percent = third_cl_no_sur / (third_cl_sur + third_cl_no_sur) * 100\n",
    "\n",
    "percentage_class = [first_sur_percent, sec_sur_percent, third_sur_percent, first_no_sur_percent, sec_no_sur_percent, third_no_sur_percent]"
   ]
  },
  {
   "cell_type": "code",
   "execution_count": 15,
   "id": "b028e2b1",
   "metadata": {
    "execution": {
     "iopub.execute_input": "2022-06-06T16:03:25.400667Z",
     "iopub.status.busy": "2022-06-06T16:03:25.399785Z",
     "iopub.status.idle": "2022-06-06T16:03:25.411275Z",
     "shell.execute_reply": "2022-06-06T16:03:25.409785Z"
    },
    "papermill": {
     "duration": 0.054641,
     "end_time": "2022-06-06T16:03:25.414415",
     "exception": false,
     "start_time": "2022-06-06T16:03:25.359774",
     "status": "completed"
    },
    "tags": []
   },
   "outputs": [
    {
     "name": "stdout",
     "output_type": "stream",
     "text": [
      "the number of survived people from 1st class -  80\n",
      "the number of survived people from 1st class -  97\n",
      "the number of survived people from 1st class -  372\n"
     ]
    }
   ],
   "source": [
    "print(\"the number of survived people from 1st class - \", no_sur_data.groupby(\"Pclass\").size().values[0])\n",
    "print(\"the number of survived people from 1st class - \", no_sur_data.groupby(\"Pclass\").size().values[1])\n",
    "print(\"the number of survived people from 1st class - \", no_sur_data.groupby(\"Pclass\").size().values[2])"
   ]
  },
  {
   "cell_type": "code",
   "execution_count": 16,
   "id": "b021a254",
   "metadata": {
    "execution": {
     "iopub.execute_input": "2022-06-06T16:03:25.492712Z",
     "iopub.status.busy": "2022-06-06T16:03:25.491632Z",
     "iopub.status.idle": "2022-06-06T16:03:25.714792Z",
     "shell.execute_reply": "2022-06-06T16:03:25.713692Z"
    },
    "papermill": {
     "duration": 0.263821,
     "end_time": "2022-06-06T16:03:25.717060",
     "exception": false,
     "start_time": "2022-06-06T16:03:25.453239",
     "status": "completed"
    },
    "tags": []
   },
   "outputs": [
    {
     "data": {
      "image/png": "[encoded data removed]",
      "text/plain": [
       "<Figure size 720x576 with 1 Axes>"
      ]
     },
     "metadata": {
      "needs_background": "light"
     },
     "output_type": "display_data"
    }
   ],
   "source": [
    "# vizualize the percentage of survived people by gender\n",
    "f, ax = plt.subplots(1, figsize=(10,8))\n",
    "ax.bar(range(len(sur_gender)), sur_gender, label='Survivors', alpha=0.8, color='g')\n",
    "ax.bar(range(len(no_sur_gender)), no_sur_gender, bottom=sur_gender, label='Non-Survivors', alpha=0.8, color='r')\n",
    "plt.sca(ax)\n",
    "plt.xticks([0, 1], genders )\n",
    "ax.set_ylabel(\"Number of people\")\n",
    "ax.set_xlabel(\"Gender\")\n",
    "ax.set_title(\"Percentage of survivors by gender\",fontsize=14)\n",
    "plt.legend(loc='upper left')\n",
    "\n",
    "i = 0 \n",
    "for p in ax.patches:\n",
    "    width = p.get_width()\n",
    "    height = p.get_height()\n",
    "    x, y = p.get_xy()\n",
    "    \n",
    "    plt.text(x+width/2, \n",
    "            y+height*1.01, \n",
    "            str(round(percentage_gender[i], 1)) + \"%\",\n",
    "            ha=\"center\",\n",
    "            weight='bold')\n",
    "    i += 1\n",
    "\n"
   ]
  },
  {
   "cell_type": "code",
   "execution_count": 17,
   "id": "db7a7a23",
   "metadata": {
    "execution": {
     "iopub.execute_input": "2022-06-06T16:03:25.795171Z",
     "iopub.status.busy": "2022-06-06T16:03:25.794783Z",
     "iopub.status.idle": "2022-06-06T16:03:26.009268Z",
     "shell.execute_reply": "2022-06-06T16:03:26.008500Z"
    },
    "papermill": {
     "duration": 0.255807,
     "end_time": "2022-06-06T16:03:26.011303",
     "exception": false,
     "start_time": "2022-06-06T16:03:25.755496",
     "status": "completed"
    },
    "tags": []
   },
   "outputs": [
    {
     "data": {
      "image/png": "[encoded data removed]",
      "text/plain": [
       "<Figure size 720x576 with 1 Axes>"
      ]
     },
     "metadata": {
      "needs_background": "light"
     },
     "output_type": "display_data"
    }
   ],
   "source": [
    "# vizualize the percentage of survived people by class\n",
    "sur_class = sur_data.groupby(\"Pclass\").size().values\n",
    "no_sur_class = no_sur_data.groupby(\"Pclass\").size().values\n",
    "classes = [1, 2, 3]\n",
    "\n",
    "f, ax = plt.subplots(1, figsize=(10,8))\n",
    "ax.bar(range(len(sur_class)), sur_class, label='Survivors', alpha=0.8, color='g')\n",
    "ax.bar(range(len(no_sur_class)), no_sur_class, bottom=sur_class, label='Non-Survivors', alpha=0.8, color='r')\n",
    "plt.sca(ax)\n",
    "plt.xticks([0, 1, 2], classes)\n",
    "ax.set_ylabel(\"Number of people\")\n",
    "ax.set_xlabel(\"Classes\")\n",
    "ax.set_title(\"Percentage of survivors by class\",fontsize=14)\n",
    "plt.legend(loc='upper left')\n",
    "\n",
    "i = 0 \n",
    "for p in ax.patches:\n",
    "    width = p.get_width()\n",
    "    height = p.get_height()\n",
    "    x, y = p.get_xy()\n",
    "    \n",
    "    plt.text(x+width/2, \n",
    "            y+height*1.01, \n",
    "            str(round(percentage_class[i], 1)) + \"%\",\n",
    "            ha=\"center\",\n",
    "            weight='bold')\n",
    "    i += 1\n",
    "\n"
   ]
  },
  {
   "cell_type": "markdown",
   "id": "254d87ec",
   "metadata": {
    "papermill": {
     "duration": 0.037684,
     "end_time": "2022-06-06T16:03:26.087322",
     "exception": false,
     "start_time": "2022-06-06T16:03:26.049638",
     "status": "completed"
    },
    "tags": []
   },
   "source": [
    "**It's perfectly seen that the number of survivors is depent on the gender and class.**"
   ]
  },
  {
   "cell_type": "code",
   "execution_count": 18,
   "id": "0a2fef84",
   "metadata": {
    "execution": {
     "iopub.execute_input": "2022-06-06T16:03:26.167305Z",
     "iopub.status.busy": "2022-06-06T16:03:26.166844Z",
     "iopub.status.idle": "2022-06-06T16:03:26.421814Z",
     "shell.execute_reply": "2022-06-06T16:03:26.420664Z"
    },
    "papermill": {
     "duration": 0.298182,
     "end_time": "2022-06-06T16:03:26.424299",
     "exception": false,
     "start_time": "2022-06-06T16:03:26.126117",
     "status": "completed"
    },
    "tags": []
   },
   "outputs": [
    {
     "data": {
      "text/plain": [
       "<AxesSubplot:>"
      ]
     },
     "execution_count": 18,
     "metadata": {},
     "output_type": "execute_result"
    },
    {
     "data": {
      "image/png": "[encoded data removed]",
      "text/plain": [
       "<Figure size 432x288 with 1 Axes>"
      ]
     },
     "metadata": {
      "needs_background": "light"
     },
     "output_type": "display_data"
    }
   ],
   "source": [
    "# As it's important to fill blanks in the \"Age\" column let's look at the distribution\n",
    "train_df[\"Age\"].hist()"
   ]
  },
  {
   "cell_type": "code",
   "execution_count": 19,
   "id": "93862af9",
   "metadata": {
    "execution": {
     "iopub.execute_input": "2022-06-06T16:03:26.513547Z",
     "iopub.status.busy": "2022-06-06T16:03:26.513053Z",
     "iopub.status.idle": "2022-06-06T16:03:27.232936Z",
     "shell.execute_reply": "2022-06-06T16:03:27.232200Z"
    },
    "papermill": {
     "duration": 0.763129,
     "end_time": "2022-06-06T16:03:27.235060",
     "exception": false,
     "start_time": "2022-06-06T16:03:26.471931",
     "status": "completed"
    },
    "tags": []
   },
   "outputs": [
    {
     "data": {
      "text/plain": [
       "Text(0.5, 1.0, '3')"
      ]
     },
     "execution_count": 19,
     "metadata": {},
     "output_type": "execute_result"
    },
    {
     "data": {
      "image/png": "[encoded data removed]",
      "text/plain": [
       "<Figure size 1440x432 with 4 Axes>"
      ]
     },
     "metadata": {
      "needs_background": "light"
     },
     "output_type": "display_data"
    }
   ],
   "source": [
    "figure, axis = plt.subplots(1, 4, figsize=(20, 6))\n",
    "\n",
    "# Age with respect to the whole dataset\n",
    "axis[0].hist(train_df[\"Age\"])\n",
    "axis[0].set_title(\"Whole dataset\")\n",
    "\n",
    "# with respect to 1st class\n",
    "axis[1].hist(train_df[train_df[\"Pclass\"] == 1][\"Age\"])\n",
    "axis[1].set_title(\"1\")\n",
    "\n",
    "# with respect to 2nd class\n",
    "axis[2].hist(train_df[train_df[\"Pclass\"] == 2][\"Age\"])\n",
    "axis[2].set_title(\"2\")\n",
    "\n",
    "# with respect to 3nd class\n",
    "axis[3].hist(train_df[train_df[\"Pclass\"] == 3][\"Age\"])\n",
    "axis[3].set_title(\"3\")"
   ]
  },
  {
   "cell_type": "markdown",
   "id": "71a34296",
   "metadata": {
    "papermill": {
     "duration": 0.038727,
     "end_time": "2022-06-06T16:03:27.312594",
     "exception": false,
     "start_time": "2022-06-06T16:03:27.273867",
     "status": "completed"
    },
    "tags": []
   },
   "source": [
    "**We see that the distribution of age is different with respect to the class.**\n",
    "\n",
    "**Let's check the distribution based on gender**"
   ]
  },
  {
   "cell_type": "code",
   "execution_count": 20,
   "id": "923cf15c",
   "metadata": {
    "execution": {
     "iopub.execute_input": "2022-06-06T16:03:27.393234Z",
     "iopub.status.busy": "2022-06-06T16:03:27.392275Z",
     "iopub.status.idle": "2022-06-06T16:03:27.725538Z",
     "shell.execute_reply": "2022-06-06T16:03:27.724494Z"
    },
    "papermill": {
     "duration": 0.376836,
     "end_time": "2022-06-06T16:03:27.728420",
     "exception": false,
     "start_time": "2022-06-06T16:03:27.351584",
     "status": "completed"
    },
    "tags": []
   },
   "outputs": [
    {
     "data": {
      "text/plain": [
       "Text(0.5, 1.0, 'Women')"
      ]
     },
     "execution_count": 20,
     "metadata": {},
     "output_type": "execute_result"
    },
    {
     "data": {
      "image/png": "[encoded data removed]",
      "text/plain": [
       "<Figure size 1008x432 with 2 Axes>"
      ]
     },
     "metadata": {
      "needs_background": "light"
     },
     "output_type": "display_data"
    }
   ],
   "source": [
    "figure, axis = plt.subplots(1, 2, figsize=(14, 6))\n",
    "\n",
    "# with respect to 1st class\n",
    "axis[0].hist(train_df[train_df[\"Sex\"] == \"male\"][\"Age\"])\n",
    "axis[0].set_title(\"Men\")\n",
    "\n",
    "# with respect to 2nd class\n",
    "axis[1].hist(train_df[train_df[\"Sex\"] == \"female\"][\"Age\"])\n",
    "axis[1].set_title(\"Women\")"
   ]
  },
  {
   "cell_type": "markdown",
   "id": "26c4fba0",
   "metadata": {
    "papermill": {
     "duration": 0.038905,
     "end_time": "2022-06-06T16:03:27.806761",
     "exception": false,
     "start_time": "2022-06-06T16:03:27.767856",
     "status": "completed"
    },
    "tags": []
   },
   "source": [
    "**We see that the distribution of age differs with respect to gender**"
   ]
  },
  {
   "cell_type": "markdown",
   "id": "f0c4a049",
   "metadata": {
    "papermill": {
     "duration": 0.039369,
     "end_time": "2022-06-06T16:03:27.886066",
     "exception": false,
     "start_time": "2022-06-06T16:03:27.846697",
     "status": "completed"
    },
    "tags": []
   },
   "source": [
    "**Let's see the median values of age for class and gender**"
   ]
  },
  {
   "cell_type": "code",
   "execution_count": 21,
   "id": "e2d4f096",
   "metadata": {
    "execution": {
     "iopub.execute_input": "2022-06-06T16:03:27.966359Z",
     "iopub.status.busy": "2022-06-06T16:03:27.965947Z",
     "iopub.status.idle": "2022-06-06T16:03:27.976124Z",
     "shell.execute_reply": "2022-06-06T16:03:27.975169Z"
    },
    "papermill": {
     "duration": 0.052854,
     "end_time": "2022-06-06T16:03:27.978094",
     "exception": false,
     "start_time": "2022-06-06T16:03:27.925240",
     "status": "completed"
    },
    "tags": []
   },
   "outputs": [
    {
     "data": {
      "text/plain": [
       "Pclass  Sex   \n",
       "1       female    35.0\n",
       "        male      40.0\n",
       "2       female    28.0\n",
       "        male      30.0\n",
       "3       female    21.5\n",
       "        male      25.0\n",
       "Name: Age, dtype: float64"
      ]
     },
     "execution_count": 21,
     "metadata": {},
     "output_type": "execute_result"
    }
   ],
   "source": [
    "train_df.groupby([\"Pclass\", \"Sex\"])[\"Age\"].median()"
   ]
  },
  {
   "cell_type": "markdown",
   "id": "7e689316",
   "metadata": {
    "papermill": {
     "duration": 0.039006,
     "end_time": "2022-06-06T16:03:28.057278",
     "exception": false,
     "start_time": "2022-06-06T16:03:28.018272",
     "status": "completed"
    },
    "tags": []
   },
   "source": [
    "## Test dataset"
   ]
  },
  {
   "cell_type": "code",
   "execution_count": 22,
   "id": "a024c556",
   "metadata": {
    "execution": {
     "iopub.execute_input": "2022-06-06T16:03:28.138694Z",
     "iopub.status.busy": "2022-06-06T16:03:28.137808Z",
     "iopub.status.idle": "2022-06-06T16:03:28.151860Z",
     "shell.execute_reply": "2022-06-06T16:03:28.151092Z"
    },
    "papermill": {
     "duration": 0.056862,
     "end_time": "2022-06-06T16:03:28.154146",
     "exception": false,
     "start_time": "2022-06-06T16:03:28.097284",
     "status": "completed"
    },
    "tags": []
   },
   "outputs": [],
   "source": [
    "test_df = pd.read_csv(\"/kaggle/input/titanic/test.csv\")"
   ]
  },
  {
   "cell_type": "code",
   "execution_count": 23,
   "id": "19d58ea7",
   "metadata": {
    "execution": {
     "iopub.execute_input": "2022-06-06T16:03:28.234845Z",
     "iopub.status.busy": "2022-06-06T16:03:28.234108Z",
     "iopub.status.idle": "2022-06-06T16:03:28.240047Z",
     "shell.execute_reply": "2022-06-06T16:03:28.239094Z"
    },
    "papermill": {
     "duration": 0.048587,
     "end_time": "2022-06-06T16:03:28.242290",
     "exception": false,
     "start_time": "2022-06-06T16:03:28.193703",
     "status": "completed"
    },
    "tags": []
   },
   "outputs": [
    {
     "name": "stdout",
     "output_type": "stream",
     "text": [
      "the amount of rows and columns uploaded for train_df:  (418, 11)\n"
     ]
    }
   ],
   "source": [
    "print(\"the amount of rows and columns uploaded for train_df: \", test_df.shape )"
   ]
  },
  {
   "cell_type": "code",
   "execution_count": 24,
   "id": "b832cab3",
   "metadata": {
    "execution": {
     "iopub.execute_input": "2022-06-06T16:03:28.322952Z",
     "iopub.status.busy": "2022-06-06T16:03:28.321880Z",
     "iopub.status.idle": "2022-06-06T16:03:28.337679Z",
     "shell.execute_reply": "2022-06-06T16:03:28.336663Z"
    },
    "papermill": {
     "duration": 0.058319,
     "end_time": "2022-06-06T16:03:28.339813",
     "exception": false,
     "start_time": "2022-06-06T16:03:28.281494",
     "status": "completed"
    },
    "tags": []
   },
   "outputs": [
    {
     "data": {
      "text/html": [
       "<div>\n",
       "<style scoped>\n",
       "    .dataframe tbody tr th:only-of-type {\n",
       "        vertical-align: middle;\n",
       "    }\n",
       "\n",
       "    .dataframe tbody tr th {\n",
       "        vertical-align: top;\n",
       "    }\n",
       "\n",
       "    .dataframe thead th {\n",
       "        text-align: right;\n",
       "    }\n",
       "</style>\n",
       "<table border=\"1\" class=\"dataframe\">\n",
       "  <thead>\n",
       "    <tr style=\"text-align: right;\">\n",
       "      <th></th>\n",
       "      <th>PassengerId</th>\n",
       "      <th>Pclass</th>\n",
       "      <th>Name</th>\n",
       "      <th>Sex</th>\n",
       "      <th>Age</th>\n",
       "      <th>SibSp</th>\n",
       "      <th>Parch</th>\n",
       "      <th>Ticket</th>\n",
       "      <th>Fare</th>\n",
       "      <th>Cabin</th>\n",
       "      <th>Embarked</th>\n",
       "    </tr>\n",
       "  </thead>\n",
       "  <tbody>\n",
       "    <tr>\n",
       "      <th>0</th>\n",
       "      <td>892</td>\n",
       "      <td>3</td>\n",
       "      <td>Kelly, Mr. James</td>\n",
       "      <td>male</td>\n",
       "      <td>34.5</td>\n",
       "      <td>0</td>\n",
       "      <td>0</td>\n",
       "      <td>330911</td>\n",
       "      <td>7.8292</td>\n",
       "      <td>NaN</td>\n",
       "      <td>Q</td>\n",
       "    </tr>\n",
       "    <tr>\n",
       "      <th>1</th>\n",
       "      <td>893</td>\n",
       "      <td>3</td>\n",
       "      <td>Wilkes, Mrs. James (Ellen Needs)</td>\n",
       "      <td>female</td>\n",
       "      <td>47.0</td>\n",
       "      <td>1</td>\n",
       "      <td>0</td>\n",
       "      <td>363272</td>\n",
       "      <td>7.0000</td>\n",
       "      <td>NaN</td>\n",
       "      <td>S</td>\n",
       "    </tr>\n",
       "    <tr>\n",
       "      <th>2</th>\n",
       "      <td>894</td>\n",
       "      <td>2</td>\n",
       "      <td>Myles, Mr. Thomas Francis</td>\n",
       "      <td>male</td>\n",
       "      <td>62.0</td>\n",
       "      <td>0</td>\n",
       "      <td>0</td>\n",
       "      <td>240276</td>\n",
       "      <td>9.6875</td>\n",
       "      <td>NaN</td>\n",
       "      <td>Q</td>\n",
       "    </tr>\n",
       "  </tbody>\n",
       "</table>\n",
       "</div>"
      ],
      "text/plain": [
       "   PassengerId  Pclass                              Name     Sex   Age  SibSp  \\\n",
       "0          892       3                  Kelly, Mr. James    male  34.5      0   \n",
       "1          893       3  Wilkes, Mrs. James (Ellen Needs)  female  47.0      1   \n",
       "2          894       2         Myles, Mr. Thomas Francis    male  62.0      0   \n",
       "\n",
       "   Parch  Ticket    Fare Cabin Embarked  \n",
       "0      0  330911  7.8292   NaN        Q  \n",
       "1      0  363272  7.0000   NaN        S  \n",
       "2      0  240276  9.6875   NaN        Q  "
      ]
     },
     "execution_count": 24,
     "metadata": {},
     "output_type": "execute_result"
    }
   ],
   "source": [
    "test_df.head(3)"
   ]
  },
  {
   "cell_type": "code",
   "execution_count": 25,
   "id": "5d60e10c",
   "metadata": {
    "execution": {
     "iopub.execute_input": "2022-06-06T16:03:28.427973Z",
     "iopub.status.busy": "2022-06-06T16:03:28.427589Z",
     "iopub.status.idle": "2022-06-06T16:03:28.441208Z",
     "shell.execute_reply": "2022-06-06T16:03:28.439609Z"
    },
    "papermill": {
     "duration": 0.056856,
     "end_time": "2022-06-06T16:03:28.443713",
     "exception": false,
     "start_time": "2022-06-06T16:03:28.386857",
     "status": "completed"
    },
    "tags": []
   },
   "outputs": [
    {
     "name": "stdout",
     "output_type": "stream",
     "text": [
      "<class 'pandas.core.frame.DataFrame'>\n",
      "RangeIndex: 418 entries, 0 to 417\n",
      "Data columns (total 11 columns):\n",
      " #   Column       Non-Null Count  Dtype  \n",
      "---  ------       --------------  -----  \n",
      " 0   PassengerId  418 non-null    int64  \n",
      " 1   Pclass       418 non-null    int64  \n",
      " 2   Name         418 non-null    object \n",
      " 3   Sex          418 non-null    object \n",
      " 4   Age          332 non-null    float64\n",
      " 5   SibSp        418 non-null    int64  \n",
      " 6   Parch        418 non-null    int64  \n",
      " 7   Ticket       418 non-null    object \n",
      " 8   Fare         417 non-null    float64\n",
      " 9   Cabin        91 non-null     object \n",
      " 10  Embarked     418 non-null    object \n",
      "dtypes: float64(2), int64(4), object(5)\n",
      "memory usage: 36.0+ KB\n"
     ]
    }
   ],
   "source": [
    "test_df.info()"
   ]
  },
  {
   "cell_type": "code",
   "execution_count": 26,
   "id": "be88970b",
   "metadata": {
    "execution": {
     "iopub.execute_input": "2022-06-06T16:03:28.524874Z",
     "iopub.status.busy": "2022-06-06T16:03:28.524254Z",
     "iopub.status.idle": "2022-06-06T16:03:28.534301Z",
     "shell.execute_reply": "2022-06-06T16:03:28.533450Z"
    },
    "papermill": {
     "duration": 0.052821,
     "end_time": "2022-06-06T16:03:28.536280",
     "exception": false,
     "start_time": "2022-06-06T16:03:28.483459",
     "status": "completed"
    },
    "tags": []
   },
   "outputs": [
    {
     "data": {
      "text/plain": [
       "PassengerId      0\n",
       "Pclass           0\n",
       "Name             0\n",
       "Sex              0\n",
       "Age             86\n",
       "SibSp            0\n",
       "Parch            0\n",
       "Ticket           0\n",
       "Fare             1\n",
       "Cabin          327\n",
       "Embarked         0\n",
       "dtype: int64"
      ]
     },
     "execution_count": 26,
     "metadata": {},
     "output_type": "execute_result"
    }
   ],
   "source": [
    "test_df.isnull().sum() # let's look on the missing values"
   ]
  },
  {
   "cell_type": "markdown",
   "id": "cc6fc0bc",
   "metadata": {
    "papermill": {
     "duration": 0.039833,
     "end_time": "2022-06-06T16:03:28.616307",
     "exception": false,
     "start_time": "2022-06-06T16:03:28.576474",
     "status": "completed"
    },
    "tags": []
   },
   "source": [
    "Let's unite train and test dataframes in order to do preprocessing for them at once"
   ]
  },
  {
   "cell_type": "code",
   "execution_count": 27,
   "id": "b725a8d2",
   "metadata": {
    "execution": {
     "iopub.execute_input": "2022-06-06T16:03:28.699118Z",
     "iopub.status.busy": "2022-06-06T16:03:28.698381Z",
     "iopub.status.idle": "2022-06-06T16:03:28.723974Z",
     "shell.execute_reply": "2022-06-06T16:03:28.722834Z"
    },
    "papermill": {
     "duration": 0.069728,
     "end_time": "2022-06-06T16:03:28.726243",
     "exception": false,
     "start_time": "2022-06-06T16:03:28.656515",
     "status": "completed"
    },
    "tags": []
   },
   "outputs": [
    {
     "data": {
      "text/html": [
       "<div>\n",
       "<style scoped>\n",
       "    .dataframe tbody tr th:only-of-type {\n",
       "        vertical-align: middle;\n",
       "    }\n",
       "\n",
       "    .dataframe tbody tr th {\n",
       "        vertical-align: top;\n",
       "    }\n",
       "\n",
       "    .dataframe thead th {\n",
       "        text-align: right;\n",
       "    }\n",
       "</style>\n",
       "<table border=\"1\" class=\"dataframe\">\n",
       "  <thead>\n",
       "    <tr style=\"text-align: right;\">\n",
       "      <th></th>\n",
       "      <th></th>\n",
       "      <th>PassengerId</th>\n",
       "      <th>Survived</th>\n",
       "      <th>Pclass</th>\n",
       "      <th>Name</th>\n",
       "      <th>Sex</th>\n",
       "      <th>Age</th>\n",
       "      <th>SibSp</th>\n",
       "      <th>Parch</th>\n",
       "      <th>Ticket</th>\n",
       "      <th>Fare</th>\n",
       "      <th>Cabin</th>\n",
       "      <th>Embarked</th>\n",
       "    </tr>\n",
       "  </thead>\n",
       "  <tbody>\n",
       "    <tr>\n",
       "      <th rowspan=\"5\" valign=\"top\">0</th>\n",
       "      <th>0</th>\n",
       "      <td>1</td>\n",
       "      <td>0.0</td>\n",
       "      <td>3</td>\n",
       "      <td>Braund, Mr. Owen Harris</td>\n",
       "      <td>male</td>\n",
       "      <td>22.0</td>\n",
       "      <td>1</td>\n",
       "      <td>0</td>\n",
       "      <td>A/5 21171</td>\n",
       "      <td>7.2500</td>\n",
       "      <td>NaN</td>\n",
       "      <td>S</td>\n",
       "    </tr>\n",
       "    <tr>\n",
       "      <th>1</th>\n",
       "      <td>2</td>\n",
       "      <td>1.0</td>\n",
       "      <td>1</td>\n",
       "      <td>Cumings, Mrs. John Bradley (Florence Briggs Th...</td>\n",
       "      <td>female</td>\n",
       "      <td>38.0</td>\n",
       "      <td>1</td>\n",
       "      <td>0</td>\n",
       "      <td>PC 17599</td>\n",
       "      <td>71.2833</td>\n",
       "      <td>C85</td>\n",
       "      <td>C</td>\n",
       "    </tr>\n",
       "    <tr>\n",
       "      <th>2</th>\n",
       "      <td>3</td>\n",
       "      <td>1.0</td>\n",
       "      <td>3</td>\n",
       "      <td>Heikkinen, Miss. Laina</td>\n",
       "      <td>female</td>\n",
       "      <td>26.0</td>\n",
       "      <td>0</td>\n",
       "      <td>0</td>\n",
       "      <td>STON/O2. 3101282</td>\n",
       "      <td>7.9250</td>\n",
       "      <td>NaN</td>\n",
       "      <td>S</td>\n",
       "    </tr>\n",
       "    <tr>\n",
       "      <th>3</th>\n",
       "      <td>4</td>\n",
       "      <td>1.0</td>\n",
       "      <td>1</td>\n",
       "      <td>Futrelle, Mrs. Jacques Heath (Lily May Peel)</td>\n",
       "      <td>female</td>\n",
       "      <td>35.0</td>\n",
       "      <td>1</td>\n",
       "      <td>0</td>\n",
       "      <td>113803</td>\n",
       "      <td>53.1000</td>\n",
       "      <td>C123</td>\n",
       "      <td>S</td>\n",
       "    </tr>\n",
       "    <tr>\n",
       "      <th>4</th>\n",
       "      <td>5</td>\n",
       "      <td>0.0</td>\n",
       "      <td>3</td>\n",
       "      <td>Allen, Mr. William Henry</td>\n",
       "      <td>male</td>\n",
       "      <td>35.0</td>\n",
       "      <td>0</td>\n",
       "      <td>0</td>\n",
       "      <td>373450</td>\n",
       "      <td>8.0500</td>\n",
       "      <td>NaN</td>\n",
       "      <td>S</td>\n",
       "    </tr>\n",
       "  </tbody>\n",
       "</table>\n",
       "</div>"
      ],
      "text/plain": [
       "     PassengerId  Survived  Pclass  \\\n",
       "0 0            1       0.0       3   \n",
       "  1            2       1.0       1   \n",
       "  2            3       1.0       3   \n",
       "  3            4       1.0       1   \n",
       "  4            5       0.0       3   \n",
       "\n",
       "                                                  Name     Sex   Age  SibSp  \\\n",
       "0 0                            Braund, Mr. Owen Harris    male  22.0      1   \n",
       "  1  Cumings, Mrs. John Bradley (Florence Briggs Th...  female  38.0      1   \n",
       "  2                             Heikkinen, Miss. Laina  female  26.0      0   \n",
       "  3       Futrelle, Mrs. Jacques Heath (Lily May Peel)  female  35.0      1   \n",
       "  4                           Allen, Mr. William Henry    male  35.0      0   \n",
       "\n",
       "     Parch            Ticket     Fare Cabin Embarked  \n",
       "0 0      0         A/5 21171   7.2500   NaN        S  \n",
       "  1      0          PC 17599  71.2833   C85        C  \n",
       "  2      0  STON/O2. 3101282   7.9250   NaN        S  \n",
       "  3      0            113803  53.1000  C123        S  \n",
       "  4      0            373450   8.0500   NaN        S  "
      ]
     },
     "execution_count": 27,
     "metadata": {},
     "output_type": "execute_result"
    }
   ],
   "source": [
    "final_train_df = pd.concat([train_df,test_df],keys=[0,1])\n",
    "final_train_df.head()"
   ]
  },
  {
   "cell_type": "code",
   "execution_count": 28,
   "id": "53f9dba7",
   "metadata": {
    "execution": {
     "iopub.execute_input": "2022-06-06T16:03:28.809924Z",
     "iopub.status.busy": "2022-06-06T16:03:28.809083Z",
     "iopub.status.idle": "2022-06-06T16:03:28.827388Z",
     "shell.execute_reply": "2022-06-06T16:03:28.826630Z"
    },
    "papermill": {
     "duration": 0.063036,
     "end_time": "2022-06-06T16:03:28.829551",
     "exception": false,
     "start_time": "2022-06-06T16:03:28.766515",
     "status": "completed"
    },
    "tags": []
   },
   "outputs": [
    {
     "data": {
      "text/html": [
       "<div>\n",
       "<style scoped>\n",
       "    .dataframe tbody tr th:only-of-type {\n",
       "        vertical-align: middle;\n",
       "    }\n",
       "\n",
       "    .dataframe tbody tr th {\n",
       "        vertical-align: top;\n",
       "    }\n",
       "\n",
       "    .dataframe thead th {\n",
       "        text-align: right;\n",
       "    }\n",
       "</style>\n",
       "<table border=\"1\" class=\"dataframe\">\n",
       "  <thead>\n",
       "    <tr style=\"text-align: right;\">\n",
       "      <th></th>\n",
       "      <th></th>\n",
       "      <th>PassengerId</th>\n",
       "      <th>Survived</th>\n",
       "      <th>Pclass</th>\n",
       "      <th>Name</th>\n",
       "      <th>Sex</th>\n",
       "      <th>Age</th>\n",
       "      <th>SibSp</th>\n",
       "      <th>Parch</th>\n",
       "      <th>Ticket</th>\n",
       "      <th>Fare</th>\n",
       "      <th>Cabin</th>\n",
       "      <th>Embarked</th>\n",
       "    </tr>\n",
       "  </thead>\n",
       "  <tbody>\n",
       "    <tr>\n",
       "      <th rowspan=\"5\" valign=\"top\">1</th>\n",
       "      <th>413</th>\n",
       "      <td>1305</td>\n",
       "      <td>NaN</td>\n",
       "      <td>3</td>\n",
       "      <td>Spector, Mr. Woolf</td>\n",
       "      <td>male</td>\n",
       "      <td>NaN</td>\n",
       "      <td>0</td>\n",
       "      <td>0</td>\n",
       "      <td>A.5. 3236</td>\n",
       "      <td>8.0500</td>\n",
       "      <td>NaN</td>\n",
       "      <td>S</td>\n",
       "    </tr>\n",
       "    <tr>\n",
       "      <th>414</th>\n",
       "      <td>1306</td>\n",
       "      <td>NaN</td>\n",
       "      <td>1</td>\n",
       "      <td>Oliva y Ocana, Dona. Fermina</td>\n",
       "      <td>female</td>\n",
       "      <td>39.0</td>\n",
       "      <td>0</td>\n",
       "      <td>0</td>\n",
       "      <td>PC 17758</td>\n",
       "      <td>108.9000</td>\n",
       "      <td>C105</td>\n",
       "      <td>C</td>\n",
       "    </tr>\n",
       "    <tr>\n",
       "      <th>415</th>\n",
       "      <td>1307</td>\n",
       "      <td>NaN</td>\n",
       "      <td>3</td>\n",
       "      <td>Saether, Mr. Simon Sivertsen</td>\n",
       "      <td>male</td>\n",
       "      <td>38.5</td>\n",
       "      <td>0</td>\n",
       "      <td>0</td>\n",
       "      <td>SOTON/O.Q. 3101262</td>\n",
       "      <td>7.2500</td>\n",
       "      <td>NaN</td>\n",
       "      <td>S</td>\n",
       "    </tr>\n",
       "    <tr>\n",
       "      <th>416</th>\n",
       "      <td>1308</td>\n",
       "      <td>NaN</td>\n",
       "      <td>3</td>\n",
       "      <td>Ware, Mr. Frederick</td>\n",
       "      <td>male</td>\n",
       "      <td>NaN</td>\n",
       "      <td>0</td>\n",
       "      <td>0</td>\n",
       "      <td>359309</td>\n",
       "      <td>8.0500</td>\n",
       "      <td>NaN</td>\n",
       "      <td>S</td>\n",
       "    </tr>\n",
       "    <tr>\n",
       "      <th>417</th>\n",
       "      <td>1309</td>\n",
       "      <td>NaN</td>\n",
       "      <td>3</td>\n",
       "      <td>Peter, Master. Michael J</td>\n",
       "      <td>male</td>\n",
       "      <td>NaN</td>\n",
       "      <td>1</td>\n",
       "      <td>1</td>\n",
       "      <td>2668</td>\n",
       "      <td>22.3583</td>\n",
       "      <td>NaN</td>\n",
       "      <td>C</td>\n",
       "    </tr>\n",
       "  </tbody>\n",
       "</table>\n",
       "</div>"
      ],
      "text/plain": [
       "       PassengerId  Survived  Pclass                          Name     Sex  \\\n",
       "1 413         1305       NaN       3            Spector, Mr. Woolf    male   \n",
       "  414         1306       NaN       1  Oliva y Ocana, Dona. Fermina  female   \n",
       "  415         1307       NaN       3  Saether, Mr. Simon Sivertsen    male   \n",
       "  416         1308       NaN       3           Ware, Mr. Frederick    male   \n",
       "  417         1309       NaN       3      Peter, Master. Michael J    male   \n",
       "\n",
       "        Age  SibSp  Parch              Ticket      Fare Cabin Embarked  \n",
       "1 413   NaN      0      0           A.5. 3236    8.0500   NaN        S  \n",
       "  414  39.0      0      0            PC 17758  108.9000  C105        C  \n",
       "  415  38.5      0      0  SOTON/O.Q. 3101262    7.2500   NaN        S  \n",
       "  416   NaN      0      0              359309    8.0500   NaN        S  \n",
       "  417   NaN      1      1                2668   22.3583   NaN        C  "
      ]
     },
     "execution_count": 28,
     "metadata": {},
     "output_type": "execute_result"
    }
   ],
   "source": [
    "final_train_df.tail()"
   ]
  },
  {
   "cell_type": "markdown",
   "id": "01732dac",
   "metadata": {
    "papermill": {
     "duration": 0.043419,
     "end_time": "2022-06-06T16:03:28.914668",
     "exception": false,
     "start_time": "2022-06-06T16:03:28.871249",
     "status": "completed"
    },
    "tags": []
   },
   "source": [
    "# 3. Feature engineering and data Cleaning"
   ]
  },
  {
   "cell_type": "code",
   "execution_count": 29,
   "id": "dc28970f",
   "metadata": {
    "execution": {
     "iopub.execute_input": "2022-06-06T16:03:28.998415Z",
     "iopub.status.busy": "2022-06-06T16:03:28.997751Z",
     "iopub.status.idle": "2022-06-06T16:03:29.025307Z",
     "shell.execute_reply": "2022-06-06T16:03:29.024330Z"
    },
    "papermill": {
     "duration": 0.071845,
     "end_time": "2022-06-06T16:03:29.027445",
     "exception": false,
     "start_time": "2022-06-06T16:03:28.955600",
     "status": "completed"
    },
    "tags": []
   },
   "outputs": [
    {
     "data": {
      "text/html": [
       "<div>\n",
       "<style scoped>\n",
       "    .dataframe tbody tr th:only-of-type {\n",
       "        vertical-align: middle;\n",
       "    }\n",
       "\n",
       "    .dataframe tbody tr th {\n",
       "        vertical-align: top;\n",
       "    }\n",
       "\n",
       "    .dataframe thead th {\n",
       "        text-align: right;\n",
       "    }\n",
       "</style>\n",
       "<table border=\"1\" class=\"dataframe\">\n",
       "  <thead>\n",
       "    <tr style=\"text-align: right;\">\n",
       "      <th></th>\n",
       "      <th></th>\n",
       "      <th>PassengerId</th>\n",
       "      <th>Survived</th>\n",
       "      <th>Pclass</th>\n",
       "      <th>Name</th>\n",
       "      <th>Sex</th>\n",
       "      <th>Age</th>\n",
       "      <th>SibSp</th>\n",
       "      <th>Parch</th>\n",
       "      <th>Ticket</th>\n",
       "      <th>Fare</th>\n",
       "      <th>Cabin</th>\n",
       "      <th>Embarked</th>\n",
       "      <th>Title</th>\n",
       "    </tr>\n",
       "  </thead>\n",
       "  <tbody>\n",
       "    <tr>\n",
       "      <th rowspan=\"5\" valign=\"top\">0</th>\n",
       "      <th>0</th>\n",
       "      <td>1</td>\n",
       "      <td>0.0</td>\n",
       "      <td>3</td>\n",
       "      <td>Braund, Mr. Owen Harris</td>\n",
       "      <td>male</td>\n",
       "      <td>22.0</td>\n",
       "      <td>1</td>\n",
       "      <td>0</td>\n",
       "      <td>A/5 21171</td>\n",
       "      <td>7.2500</td>\n",
       "      <td>NaN</td>\n",
       "      <td>S</td>\n",
       "      <td>Mr</td>\n",
       "    </tr>\n",
       "    <tr>\n",
       "      <th>1</th>\n",
       "      <td>2</td>\n",
       "      <td>1.0</td>\n",
       "      <td>1</td>\n",
       "      <td>Cumings, Mrs. John Bradley (Florence Briggs Th...</td>\n",
       "      <td>female</td>\n",
       "      <td>38.0</td>\n",
       "      <td>1</td>\n",
       "      <td>0</td>\n",
       "      <td>PC 17599</td>\n",
       "      <td>71.2833</td>\n",
       "      <td>C85</td>\n",
       "      <td>C</td>\n",
       "      <td>Mrs</td>\n",
       "    </tr>\n",
       "    <tr>\n",
       "      <th>2</th>\n",
       "      <td>3</td>\n",
       "      <td>1.0</td>\n",
       "      <td>3</td>\n",
       "      <td>Heikkinen, Miss. Laina</td>\n",
       "      <td>female</td>\n",
       "      <td>26.0</td>\n",
       "      <td>0</td>\n",
       "      <td>0</td>\n",
       "      <td>STON/O2. 3101282</td>\n",
       "      <td>7.9250</td>\n",
       "      <td>NaN</td>\n",
       "      <td>S</td>\n",
       "      <td>Miss</td>\n",
       "    </tr>\n",
       "    <tr>\n",
       "      <th>3</th>\n",
       "      <td>4</td>\n",
       "      <td>1.0</td>\n",
       "      <td>1</td>\n",
       "      <td>Futrelle, Mrs. Jacques Heath (Lily May Peel)</td>\n",
       "      <td>female</td>\n",
       "      <td>35.0</td>\n",
       "      <td>1</td>\n",
       "      <td>0</td>\n",
       "      <td>113803</td>\n",
       "      <td>53.1000</td>\n",
       "      <td>C123</td>\n",
       "      <td>S</td>\n",
       "      <td>Mrs</td>\n",
       "    </tr>\n",
       "    <tr>\n",
       "      <th>4</th>\n",
       "      <td>5</td>\n",
       "      <td>0.0</td>\n",
       "      <td>3</td>\n",
       "      <td>Allen, Mr. William Henry</td>\n",
       "      <td>male</td>\n",
       "      <td>35.0</td>\n",
       "      <td>0</td>\n",
       "      <td>0</td>\n",
       "      <td>373450</td>\n",
       "      <td>8.0500</td>\n",
       "      <td>NaN</td>\n",
       "      <td>S</td>\n",
       "      <td>Mr</td>\n",
       "    </tr>\n",
       "  </tbody>\n",
       "</table>\n",
       "</div>"
      ],
      "text/plain": [
       "     PassengerId  Survived  Pclass  \\\n",
       "0 0            1       0.0       3   \n",
       "  1            2       1.0       1   \n",
       "  2            3       1.0       3   \n",
       "  3            4       1.0       1   \n",
       "  4            5       0.0       3   \n",
       "\n",
       "                                                  Name     Sex   Age  SibSp  \\\n",
       "0 0                            Braund, Mr. Owen Harris    male  22.0      1   \n",
       "  1  Cumings, Mrs. John Bradley (Florence Briggs Th...  female  38.0      1   \n",
       "  2                             Heikkinen, Miss. Laina  female  26.0      0   \n",
       "  3       Futrelle, Mrs. Jacques Heath (Lily May Peel)  female  35.0      1   \n",
       "  4                           Allen, Mr. William Henry    male  35.0      0   \n",
       "\n",
       "     Parch            Ticket     Fare Cabin Embarked Title  \n",
       "0 0      0         A/5 21171   7.2500   NaN        S    Mr  \n",
       "  1      0          PC 17599  71.2833   C85        C   Mrs  \n",
       "  2      0  STON/O2. 3101282   7.9250   NaN        S  Miss  \n",
       "  3      0            113803  53.1000  C123        S   Mrs  \n",
       "  4      0            373450   8.0500   NaN        S    Mr  "
      ]
     },
     "execution_count": 29,
     "metadata": {},
     "output_type": "execute_result"
    }
   ],
   "source": [
    "# Let's extract 'title' frome the name. It can tell us about the socio-economic status of a person\n",
    "final_train_df[\"Title\"] = final_train_df[\"Name\"].str.split(\", \", expand=True)[1].str.split(\".\", expand=True)[0]\n",
    "final_train_df.head()"
   ]
  },
  {
   "cell_type": "code",
   "execution_count": 30,
   "id": "f70deafa",
   "metadata": {
    "execution": {
     "iopub.execute_input": "2022-06-06T16:03:29.112577Z",
     "iopub.status.busy": "2022-06-06T16:03:29.111860Z",
     "iopub.status.idle": "2022-06-06T16:03:29.118458Z",
     "shell.execute_reply": "2022-06-06T16:03:29.117578Z"
    },
    "papermill": {
     "duration": 0.051111,
     "end_time": "2022-06-06T16:03:29.120414",
     "exception": false,
     "start_time": "2022-06-06T16:03:29.069303",
     "status": "completed"
    },
    "tags": []
   },
   "outputs": [
    {
     "data": {
      "text/plain": [
       "18"
      ]
     },
     "execution_count": 30,
     "metadata": {},
     "output_type": "execute_result"
    }
   ],
   "source": [
    "final_train_df[\"Title\"].nunique()"
   ]
  },
  {
   "cell_type": "code",
   "execution_count": 31,
   "id": "df0c3510",
   "metadata": {
    "execution": {
     "iopub.execute_input": "2022-06-06T16:03:29.204868Z",
     "iopub.status.busy": "2022-06-06T16:03:29.204187Z",
     "iopub.status.idle": "2022-06-06T16:03:29.210455Z",
     "shell.execute_reply": "2022-06-06T16:03:29.209563Z"
    },
    "papermill": {
     "duration": 0.051196,
     "end_time": "2022-06-06T16:03:29.212540",
     "exception": false,
     "start_time": "2022-06-06T16:03:29.161344",
     "status": "completed"
    },
    "tags": []
   },
   "outputs": [
    {
     "data": {
      "text/plain": [
       "array(['Mr', 'Mrs', 'Miss', 'Master', 'Don', 'Rev', 'Dr', 'Mme', 'Ms',\n",
       "       'Major', 'Lady', 'Sir', 'Mlle', 'Col', 'Capt', 'the Countess',\n",
       "       'Jonkheer', 'Dona'], dtype=object)"
      ]
     },
     "execution_count": 31,
     "metadata": {},
     "output_type": "execute_result"
    }
   ],
   "source": [
    "final_train_df[\"Title\"].unique()"
   ]
  },
  {
   "cell_type": "code",
   "execution_count": 32,
   "id": "467f0b36",
   "metadata": {
    "execution": {
     "iopub.execute_input": "2022-06-06T16:03:29.298306Z",
     "iopub.status.busy": "2022-06-06T16:03:29.297616Z",
     "iopub.status.idle": "2022-06-06T16:03:29.341775Z",
     "shell.execute_reply": "2022-06-06T16:03:29.341092Z"
    },
    "papermill": {
     "duration": 0.088501,
     "end_time": "2022-06-06T16:03:29.343673",
     "exception": false,
     "start_time": "2022-06-06T16:03:29.255172",
     "status": "completed"
    },
    "tags": []
   },
   "outputs": [
    {
     "data": {
      "text/html": [
       "<div>\n",
       "<style scoped>\n",
       "    .dataframe tbody tr th:only-of-type {\n",
       "        vertical-align: middle;\n",
       "    }\n",
       "\n",
       "    .dataframe tbody tr th {\n",
       "        vertical-align: top;\n",
       "    }\n",
       "\n",
       "    .dataframe thead th {\n",
       "        text-align: right;\n",
       "    }\n",
       "</style>\n",
       "<table border=\"1\" class=\"dataframe\">\n",
       "  <thead>\n",
       "    <tr style=\"text-align: right;\">\n",
       "      <th></th>\n",
       "      <th></th>\n",
       "      <th>PassengerId</th>\n",
       "      <th>Survived</th>\n",
       "      <th>Pclass</th>\n",
       "      <th>Name</th>\n",
       "      <th>Sex</th>\n",
       "      <th>Age</th>\n",
       "      <th>SibSp</th>\n",
       "      <th>Parch</th>\n",
       "      <th>Ticket</th>\n",
       "      <th>Fare</th>\n",
       "      <th>Cabin</th>\n",
       "      <th>Embarked</th>\n",
       "      <th>Title</th>\n",
       "    </tr>\n",
       "  </thead>\n",
       "  <tbody>\n",
       "    <tr>\n",
       "      <th rowspan=\"5\" valign=\"top\">0</th>\n",
       "      <th>0</th>\n",
       "      <td>1</td>\n",
       "      <td>0.0</td>\n",
       "      <td>3</td>\n",
       "      <td>Braund, Mr. Owen Harris</td>\n",
       "      <td>male</td>\n",
       "      <td>22.0</td>\n",
       "      <td>1</td>\n",
       "      <td>0</td>\n",
       "      <td>A/5 21171</td>\n",
       "      <td>7.2500</td>\n",
       "      <td>NaN</td>\n",
       "      <td>S</td>\n",
       "      <td>Mr</td>\n",
       "    </tr>\n",
       "    <tr>\n",
       "      <th>1</th>\n",
       "      <td>2</td>\n",
       "      <td>1.0</td>\n",
       "      <td>1</td>\n",
       "      <td>Cumings, Mrs. John Bradley (Florence Briggs Th...</td>\n",
       "      <td>female</td>\n",
       "      <td>38.0</td>\n",
       "      <td>1</td>\n",
       "      <td>0</td>\n",
       "      <td>PC 17599</td>\n",
       "      <td>71.2833</td>\n",
       "      <td>C85</td>\n",
       "      <td>C</td>\n",
       "      <td>Mrs</td>\n",
       "    </tr>\n",
       "    <tr>\n",
       "      <th>2</th>\n",
       "      <td>3</td>\n",
       "      <td>1.0</td>\n",
       "      <td>3</td>\n",
       "      <td>Heikkinen, Miss. Laina</td>\n",
       "      <td>female</td>\n",
       "      <td>26.0</td>\n",
       "      <td>0</td>\n",
       "      <td>0</td>\n",
       "      <td>STON/O2. 3101282</td>\n",
       "      <td>7.9250</td>\n",
       "      <td>NaN</td>\n",
       "      <td>S</td>\n",
       "      <td>Miss</td>\n",
       "    </tr>\n",
       "    <tr>\n",
       "      <th>3</th>\n",
       "      <td>4</td>\n",
       "      <td>1.0</td>\n",
       "      <td>1</td>\n",
       "      <td>Futrelle, Mrs. Jacques Heath (Lily May Peel)</td>\n",
       "      <td>female</td>\n",
       "      <td>35.0</td>\n",
       "      <td>1</td>\n",
       "      <td>0</td>\n",
       "      <td>113803</td>\n",
       "      <td>53.1000</td>\n",
       "      <td>C123</td>\n",
       "      <td>S</td>\n",
       "      <td>Mrs</td>\n",
       "    </tr>\n",
       "    <tr>\n",
       "      <th>4</th>\n",
       "      <td>5</td>\n",
       "      <td>0.0</td>\n",
       "      <td>3</td>\n",
       "      <td>Allen, Mr. William Henry</td>\n",
       "      <td>male</td>\n",
       "      <td>35.0</td>\n",
       "      <td>0</td>\n",
       "      <td>0</td>\n",
       "      <td>373450</td>\n",
       "      <td>8.0500</td>\n",
       "      <td>NaN</td>\n",
       "      <td>S</td>\n",
       "      <td>Mr</td>\n",
       "    </tr>\n",
       "  </tbody>\n",
       "</table>\n",
       "</div>"
      ],
      "text/plain": [
       "     PassengerId  Survived  Pclass  \\\n",
       "0 0            1       0.0       3   \n",
       "  1            2       1.0       1   \n",
       "  2            3       1.0       3   \n",
       "  3            4       1.0       1   \n",
       "  4            5       0.0       3   \n",
       "\n",
       "                                                  Name     Sex   Age  SibSp  \\\n",
       "0 0                            Braund, Mr. Owen Harris    male  22.0      1   \n",
       "  1  Cumings, Mrs. John Bradley (Florence Briggs Th...  female  38.0      1   \n",
       "  2                             Heikkinen, Miss. Laina  female  26.0      0   \n",
       "  3       Futrelle, Mrs. Jacques Heath (Lily May Peel)  female  35.0      1   \n",
       "  4                           Allen, Mr. William Henry    male  35.0      0   \n",
       "\n",
       "     Parch            Ticket     Fare Cabin Embarked Title  \n",
       "0 0      0         A/5 21171   7.2500   NaN        S    Mr  \n",
       "  1      0          PC 17599  71.2833   C85        C   Mrs  \n",
       "  2      0  STON/O2. 3101282   7.9250   NaN        S  Miss  \n",
       "  3      0            113803  53.1000  C123        S   Mrs  \n",
       "  4      0            373450   8.0500   NaN        S    Mr  "
      ]
     },
     "execution_count": 32,
     "metadata": {},
     "output_type": "execute_result"
    }
   ],
   "source": [
    "# There are quite few titles in the dataset. I'll consider only titles with 10 or more appearances\n",
    "\n",
    "# check each title if it has 10 appearances(True) or not(False)\n",
    "title_names = (final_train_df[\"Title\"].value_counts() < 10)\n",
    "\n",
    "# name the titles with less than 10 appearances to title \"other\"\n",
    "final_train_df[\"Title\"] = final_train_df[\"Title\"].apply(lambda x: \"other\" if title_names.loc[x] == True else x)\n",
    "final_train_df.head()"
   ]
  },
  {
   "cell_type": "code",
   "execution_count": 33,
   "id": "d310efe3",
   "metadata": {
    "execution": {
     "iopub.execute_input": "2022-06-06T16:03:29.428989Z",
     "iopub.status.busy": "2022-06-06T16:03:29.428582Z",
     "iopub.status.idle": "2022-06-06T16:03:29.437440Z",
     "shell.execute_reply": "2022-06-06T16:03:29.436672Z"
    },
    "papermill": {
     "duration": 0.053762,
     "end_time": "2022-06-06T16:03:29.439351",
     "exception": false,
     "start_time": "2022-06-06T16:03:29.385589",
     "status": "completed"
    },
    "tags": []
   },
   "outputs": [
    {
     "data": {
      "text/plain": [
       "Title\n",
       "Master     61\n",
       "Miss      260\n",
       "Mr        757\n",
       "Mrs       197\n",
       "other      34\n",
       "Name: Title, dtype: int64"
      ]
     },
     "execution_count": 33,
     "metadata": {},
     "output_type": "execute_result"
    }
   ],
   "source": [
    "# count the number of people of each title\n",
    "final_train_df.groupby(\"Title\")[\"Title\"].count()"
   ]
  },
  {
   "cell_type": "code",
   "execution_count": 34,
   "id": "194e5d38",
   "metadata": {
    "execution": {
     "iopub.execute_input": "2022-06-06T16:03:29.524816Z",
     "iopub.status.busy": "2022-06-06T16:03:29.523693Z",
     "iopub.status.idle": "2022-06-06T16:03:29.539488Z",
     "shell.execute_reply": "2022-06-06T16:03:29.538462Z"
    },
    "papermill": {
     "duration": 0.060657,
     "end_time": "2022-06-06T16:03:29.541568",
     "exception": false,
     "start_time": "2022-06-06T16:03:29.480911",
     "status": "completed"
    },
    "tags": []
   },
   "outputs": [
    {
     "data": {
      "text/html": [
       "<div>\n",
       "<style scoped>\n",
       "    .dataframe tbody tr th:only-of-type {\n",
       "        vertical-align: middle;\n",
       "    }\n",
       "\n",
       "    .dataframe tbody tr th {\n",
       "        vertical-align: top;\n",
       "    }\n",
       "\n",
       "    .dataframe thead th {\n",
       "        text-align: right;\n",
       "    }\n",
       "</style>\n",
       "<table border=\"1\" class=\"dataframe\">\n",
       "  <thead>\n",
       "    <tr style=\"text-align: right;\">\n",
       "      <th></th>\n",
       "      <th>Survived</th>\n",
       "    </tr>\n",
       "    <tr>\n",
       "      <th>Title</th>\n",
       "      <th></th>\n",
       "    </tr>\n",
       "  </thead>\n",
       "  <tbody>\n",
       "    <tr>\n",
       "      <th>Master</th>\n",
       "      <td>0.575000</td>\n",
       "    </tr>\n",
       "    <tr>\n",
       "      <th>Miss</th>\n",
       "      <td>0.697802</td>\n",
       "    </tr>\n",
       "    <tr>\n",
       "      <th>Mr</th>\n",
       "      <td>0.156673</td>\n",
       "    </tr>\n",
       "    <tr>\n",
       "      <th>Mrs</th>\n",
       "      <td>0.792000</td>\n",
       "    </tr>\n",
       "    <tr>\n",
       "      <th>other</th>\n",
       "      <td>0.444444</td>\n",
       "    </tr>\n",
       "  </tbody>\n",
       "</table>\n",
       "</div>"
      ],
      "text/plain": [
       "        Survived\n",
       "Title           \n",
       "Master  0.575000\n",
       "Miss    0.697802\n",
       "Mr      0.156673\n",
       "Mrs     0.792000\n",
       "other   0.444444"
      ]
     },
     "execution_count": 34,
     "metadata": {},
     "output_type": "execute_result"
    }
   ],
   "source": [
    "final_train_df[[\"Title\", \"Survived\"]].groupby(\"Title\").mean()"
   ]
  },
  {
   "cell_type": "code",
   "execution_count": 35,
   "id": "60557546",
   "metadata": {
    "execution": {
     "iopub.execute_input": "2022-06-06T16:03:29.628224Z",
     "iopub.status.busy": "2022-06-06T16:03:29.627799Z",
     "iopub.status.idle": "2022-06-06T16:03:29.847359Z",
     "shell.execute_reply": "2022-06-06T16:03:29.846192Z"
    },
    "papermill": {
     "duration": 0.265854,
     "end_time": "2022-06-06T16:03:29.849868",
     "exception": false,
     "start_time": "2022-06-06T16:03:29.584014",
     "status": "completed"
    },
    "tags": []
   },
   "outputs": [
    {
     "data": {
      "text/plain": [
       "<AxesSubplot:xlabel='Survived', ylabel='count'>"
      ]
     },
     "execution_count": 35,
     "metadata": {},
     "output_type": "execute_result"
    },
    {
     "data": {
      "image/png": "[encoded data removed]",
      "text/plain": [
       "<Figure size 432x288 with 1 Axes>"
      ]
     },
     "metadata": {
      "needs_background": "light"
     },
     "output_type": "display_data"
    }
   ],
   "source": [
    "sns.countplot(x=\"Survived\", hue=\"Title\", data=final_train_df)"
   ]
  },
  {
   "cell_type": "markdown",
   "id": "0ba85469",
   "metadata": {
    "papermill": {
     "duration": 0.043354,
     "end_time": "2022-06-06T16:03:29.937788",
     "exception": false,
     "start_time": "2022-06-06T16:03:29.894434",
     "status": "completed"
    },
    "tags": []
   },
   "source": [
    "**We see that the ratio of survived people is more with master title and woman titles.**"
   ]
  },
  {
   "cell_type": "markdown",
   "id": "9fb68236",
   "metadata": {
    "papermill": {
     "duration": 0.042523,
     "end_time": "2022-06-06T16:03:30.022835",
     "exception": false,
     "start_time": "2022-06-06T16:03:29.980312",
     "status": "completed"
    },
    "tags": []
   },
   "source": [
    "### Cabin"
   ]
  },
  {
   "cell_type": "markdown",
   "id": "9a2eb7a3",
   "metadata": {
    "papermill": {
     "duration": 0.042153,
     "end_time": "2022-06-06T16:03:30.107380",
     "exception": false,
     "start_time": "2022-06-06T16:03:30.065227",
     "status": "completed"
    },
    "tags": []
   },
   "source": [
    "**The cabin column carries significant information. The cabins was located on the different levels of Titanic. So the deeper level the less chances one could survive. If we look at the values in the cabin carefully we can extract a deck(the first letter) where cabin was.**"
   ]
  },
  {
   "cell_type": "code",
   "execution_count": 36,
   "id": "3989f0d8",
   "metadata": {
    "execution": {
     "iopub.execute_input": "2022-06-06T16:03:30.201238Z",
     "iopub.status.busy": "2022-06-06T16:03:30.200827Z",
     "iopub.status.idle": "2022-06-06T16:03:30.211278Z",
     "shell.execute_reply": "2022-06-06T16:03:30.210224Z"
    },
    "papermill": {
     "duration": 0.063781,
     "end_time": "2022-06-06T16:03:30.213460",
     "exception": false,
     "start_time": "2022-06-06T16:03:30.149679",
     "status": "completed"
    },
    "tags": []
   },
   "outputs": [
    {
     "data": {
      "text/plain": [
       "0  0     NaN\n",
       "   1     C85\n",
       "   2     NaN\n",
       "   3    C123\n",
       "   4     NaN\n",
       "Name: Cabin, dtype: object"
      ]
     },
     "execution_count": 36,
     "metadata": {},
     "output_type": "execute_result"
    }
   ],
   "source": [
    "final_train_df[\"Cabin\"].head()"
   ]
  },
  {
   "cell_type": "code",
   "execution_count": 37,
   "id": "edcfac06",
   "metadata": {
    "execution": {
     "iopub.execute_input": "2022-06-06T16:03:30.309984Z",
     "iopub.status.busy": "2022-06-06T16:03:30.309247Z",
     "iopub.status.idle": "2022-06-06T16:03:30.331862Z",
     "shell.execute_reply": "2022-06-06T16:03:30.330915Z"
    },
    "papermill": {
     "duration": 0.069113,
     "end_time": "2022-06-06T16:03:30.334014",
     "exception": false,
     "start_time": "2022-06-06T16:03:30.264901",
     "status": "completed"
    },
    "tags": []
   },
   "outputs": [
    {
     "data": {
      "text/html": [
       "<div>\n",
       "<style scoped>\n",
       "    .dataframe tbody tr th:only-of-type {\n",
       "        vertical-align: middle;\n",
       "    }\n",
       "\n",
       "    .dataframe tbody tr th {\n",
       "        vertical-align: top;\n",
       "    }\n",
       "\n",
       "    .dataframe thead th {\n",
       "        text-align: right;\n",
       "    }\n",
       "</style>\n",
       "<table border=\"1\" class=\"dataframe\">\n",
       "  <thead>\n",
       "    <tr style=\"text-align: right;\">\n",
       "      <th></th>\n",
       "      <th></th>\n",
       "      <th>PassengerId</th>\n",
       "      <th>Survived</th>\n",
       "      <th>Pclass</th>\n",
       "      <th>Name</th>\n",
       "      <th>Sex</th>\n",
       "      <th>Age</th>\n",
       "      <th>SibSp</th>\n",
       "      <th>Parch</th>\n",
       "      <th>Ticket</th>\n",
       "      <th>Fare</th>\n",
       "      <th>Cabin</th>\n",
       "      <th>Embarked</th>\n",
       "      <th>Title</th>\n",
       "      <th>Deck</th>\n",
       "    </tr>\n",
       "  </thead>\n",
       "  <tbody>\n",
       "    <tr>\n",
       "      <th rowspan=\"5\" valign=\"top\">0</th>\n",
       "      <th>0</th>\n",
       "      <td>1</td>\n",
       "      <td>0.0</td>\n",
       "      <td>3</td>\n",
       "      <td>Braund, Mr. Owen Harris</td>\n",
       "      <td>male</td>\n",
       "      <td>22.0</td>\n",
       "      <td>1</td>\n",
       "      <td>0</td>\n",
       "      <td>A/5 21171</td>\n",
       "      <td>7.2500</td>\n",
       "      <td>NaN</td>\n",
       "      <td>S</td>\n",
       "      <td>Mr</td>\n",
       "      <td>Missed</td>\n",
       "    </tr>\n",
       "    <tr>\n",
       "      <th>1</th>\n",
       "      <td>2</td>\n",
       "      <td>1.0</td>\n",
       "      <td>1</td>\n",
       "      <td>Cumings, Mrs. John Bradley (Florence Briggs Th...</td>\n",
       "      <td>female</td>\n",
       "      <td>38.0</td>\n",
       "      <td>1</td>\n",
       "      <td>0</td>\n",
       "      <td>PC 17599</td>\n",
       "      <td>71.2833</td>\n",
       "      <td>C85</td>\n",
       "      <td>C</td>\n",
       "      <td>Mrs</td>\n",
       "      <td>C</td>\n",
       "    </tr>\n",
       "    <tr>\n",
       "      <th>2</th>\n",
       "      <td>3</td>\n",
       "      <td>1.0</td>\n",
       "      <td>3</td>\n",
       "      <td>Heikkinen, Miss. Laina</td>\n",
       "      <td>female</td>\n",
       "      <td>26.0</td>\n",
       "      <td>0</td>\n",
       "      <td>0</td>\n",
       "      <td>STON/O2. 3101282</td>\n",
       "      <td>7.9250</td>\n",
       "      <td>NaN</td>\n",
       "      <td>S</td>\n",
       "      <td>Miss</td>\n",
       "      <td>Missed</td>\n",
       "    </tr>\n",
       "    <tr>\n",
       "      <th>3</th>\n",
       "      <td>4</td>\n",
       "      <td>1.0</td>\n",
       "      <td>1</td>\n",
       "      <td>Futrelle, Mrs. Jacques Heath (Lily May Peel)</td>\n",
       "      <td>female</td>\n",
       "      <td>35.0</td>\n",
       "      <td>1</td>\n",
       "      <td>0</td>\n",
       "      <td>113803</td>\n",
       "      <td>53.1000</td>\n",
       "      <td>C123</td>\n",
       "      <td>S</td>\n",
       "      <td>Mrs</td>\n",
       "      <td>C</td>\n",
       "    </tr>\n",
       "    <tr>\n",
       "      <th>4</th>\n",
       "      <td>5</td>\n",
       "      <td>0.0</td>\n",
       "      <td>3</td>\n",
       "      <td>Allen, Mr. William Henry</td>\n",
       "      <td>male</td>\n",
       "      <td>35.0</td>\n",
       "      <td>0</td>\n",
       "      <td>0</td>\n",
       "      <td>373450</td>\n",
       "      <td>8.0500</td>\n",
       "      <td>NaN</td>\n",
       "      <td>S</td>\n",
       "      <td>Mr</td>\n",
       "      <td>Missed</td>\n",
       "    </tr>\n",
       "  </tbody>\n",
       "</table>\n",
       "</div>"
      ],
      "text/plain": [
       "     PassengerId  Survived  Pclass  \\\n",
       "0 0            1       0.0       3   \n",
       "  1            2       1.0       1   \n",
       "  2            3       1.0       3   \n",
       "  3            4       1.0       1   \n",
       "  4            5       0.0       3   \n",
       "\n",
       "                                                  Name     Sex   Age  SibSp  \\\n",
       "0 0                            Braund, Mr. Owen Harris    male  22.0      1   \n",
       "  1  Cumings, Mrs. John Bradley (Florence Briggs Th...  female  38.0      1   \n",
       "  2                             Heikkinen, Miss. Laina  female  26.0      0   \n",
       "  3       Futrelle, Mrs. Jacques Heath (Lily May Peel)  female  35.0      1   \n",
       "  4                           Allen, Mr. William Henry    male  35.0      0   \n",
       "\n",
       "     Parch            Ticket     Fare Cabin Embarked Title    Deck  \n",
       "0 0      0         A/5 21171   7.2500   NaN        S    Mr  Missed  \n",
       "  1      0          PC 17599  71.2833   C85        C   Mrs       C  \n",
       "  2      0  STON/O2. 3101282   7.9250   NaN        S  Miss  Missed  \n",
       "  3      0            113803  53.1000  C123        S   Mrs       C  \n",
       "  4      0            373450   8.0500   NaN        S    Mr  Missed  "
      ]
     },
     "execution_count": 37,
     "metadata": {},
     "output_type": "execute_result"
    }
   ],
   "source": [
    "final_train_df[\"Deck\"] = final_train_df[\"Cabin\"].apply(lambda x: x[0] if pd.notnull(x) else \"Missed\")\n",
    "final_train_df.head()"
   ]
  },
  {
   "cell_type": "code",
   "execution_count": 38,
   "id": "96cea90f",
   "metadata": {
    "execution": {
     "iopub.execute_input": "2022-06-06T16:03:30.488315Z",
     "iopub.status.busy": "2022-06-06T16:03:30.487623Z",
     "iopub.status.idle": "2022-06-06T16:03:30.703875Z",
     "shell.execute_reply": "2022-06-06T16:03:30.702904Z"
    },
    "papermill": {
     "duration": 0.329386,
     "end_time": "2022-06-06T16:03:30.706073",
     "exception": false,
     "start_time": "2022-06-06T16:03:30.376687",
     "status": "completed"
    },
    "tags": []
   },
   "outputs": [
    {
     "data": {
      "text/plain": [
       "Text(0.5, 1.0, 'Survival rates for different decks')"
      ]
     },
     "execution_count": 38,
     "metadata": {},
     "output_type": "execute_result"
    },
    {
     "data": {
      "image/png": "[encoded data removed]",
      "text/plain": [
       "<Figure size 576x432 with 1 Axes>"
      ]
     },
     "metadata": {
      "needs_background": "light"
     },
     "output_type": "display_data"
    }
   ],
   "source": [
    "final_train_df[[\"Survived\", \"Deck\"]].groupby(\"Deck\")[\"Survived\"].mean().plot(kind=\"bar\", figsize=(8, 6))\n",
    "plt.title(\"Survival rates for different decks\")"
   ]
  },
  {
   "cell_type": "code",
   "execution_count": 39,
   "id": "4335b033",
   "metadata": {
    "execution": {
     "iopub.execute_input": "2022-06-06T16:03:30.795285Z",
     "iopub.status.busy": "2022-06-06T16:03:30.794691Z",
     "iopub.status.idle": "2022-06-06T16:03:31.118582Z",
     "shell.execute_reply": "2022-06-06T16:03:31.117591Z"
    },
    "papermill": {
     "duration": 0.371151,
     "end_time": "2022-06-06T16:03:31.120800",
     "exception": false,
     "start_time": "2022-06-06T16:03:30.749649",
     "status": "completed"
    },
    "tags": []
   },
   "outputs": [
    {
     "data": {
      "text/plain": [
       "<AxesSubplot:xlabel='Pclass', ylabel='count'>"
      ]
     },
     "execution_count": 39,
     "metadata": {},
     "output_type": "execute_result"
    },
    {
     "data": {
      "image/png": "[encoded data removed]",
      "text/plain": [
       "<Figure size 864x864 with 1 Axes>"
      ]
     },
     "metadata": {
      "needs_background": "light"
     },
     "output_type": "display_data"
    }
   ],
   "source": [
    "fig = plt.figure(figsize=(12, 12))\n",
    "sns.countplot(x=\"Pclass\", hue=\"Deck\", data=final_train_df)"
   ]
  },
  {
   "cell_type": "markdown",
   "id": "4ed00941",
   "metadata": {
    "papermill": {
     "duration": 0.043478,
     "end_time": "2022-06-06T16:03:31.208420",
     "exception": false,
     "start_time": "2022-06-06T16:03:31.164942",
     "status": "completed"
    },
    "tags": []
   },
   "source": [
    "**We see that it's very hard to get a tendency in which deck the cabins of different classes were located, because even the first class cabins were located at almost every deck.**\n"
   ]
  },
  {
   "cell_type": "markdown",
   "id": "8470786d",
   "metadata": {
    "papermill": {
     "duration": 0.043306,
     "end_time": "2022-06-06T16:03:31.295377",
     "exception": false,
     "start_time": "2022-06-06T16:03:31.252071",
     "status": "completed"
    },
    "tags": []
   },
   "source": [
    "**Delete features from the dataset which are not valuable for us. \"Name\" and \"Cabin\" are not already needed for us. Plus, we delete \"PassengerId\" as it is a very unique feature and delete \"Fare\" as in my opinion it has big correlation with \"Pclass\"**"
   ]
  },
  {
   "cell_type": "code",
   "execution_count": 40,
   "id": "d42faf0c",
   "metadata": {
    "execution": {
     "iopub.execute_input": "2022-06-06T16:03:31.384123Z",
     "iopub.status.busy": "2022-06-06T16:03:31.383720Z",
     "iopub.status.idle": "2022-06-06T16:03:31.389953Z",
     "shell.execute_reply": "2022-06-06T16:03:31.388940Z"
    },
    "papermill": {
     "duration": 0.053688,
     "end_time": "2022-06-06T16:03:31.392615",
     "exception": false,
     "start_time": "2022-06-06T16:03:31.338927",
     "status": "completed"
    },
    "tags": []
   },
   "outputs": [],
   "source": [
    "final_train_df = final_train_df.drop([\"PassengerId\", \"Name\", \"Ticket\", \"Cabin\", \"Fare\"], axis=1)"
   ]
  },
  {
   "cell_type": "code",
   "execution_count": 41,
   "id": "63362692",
   "metadata": {
    "execution": {
     "iopub.execute_input": "2022-06-06T16:03:31.484785Z",
     "iopub.status.busy": "2022-06-06T16:03:31.483333Z",
     "iopub.status.idle": "2022-06-06T16:03:31.500951Z",
     "shell.execute_reply": "2022-06-06T16:03:31.499939Z"
    },
    "papermill": {
     "duration": 0.065078,
     "end_time": "2022-06-06T16:03:31.503358",
     "exception": false,
     "start_time": "2022-06-06T16:03:31.438280",
     "status": "completed"
    },
    "tags": []
   },
   "outputs": [
    {
     "data": {
      "text/html": [
       "<div>\n",
       "<style scoped>\n",
       "    .dataframe tbody tr th:only-of-type {\n",
       "        vertical-align: middle;\n",
       "    }\n",
       "\n",
       "    .dataframe tbody tr th {\n",
       "        vertical-align: top;\n",
       "    }\n",
       "\n",
       "    .dataframe thead th {\n",
       "        text-align: right;\n",
       "    }\n",
       "</style>\n",
       "<table border=\"1\" class=\"dataframe\">\n",
       "  <thead>\n",
       "    <tr style=\"text-align: right;\">\n",
       "      <th></th>\n",
       "      <th></th>\n",
       "      <th>Survived</th>\n",
       "      <th>Pclass</th>\n",
       "      <th>Sex</th>\n",
       "      <th>Age</th>\n",
       "      <th>SibSp</th>\n",
       "      <th>Parch</th>\n",
       "      <th>Embarked</th>\n",
       "      <th>Title</th>\n",
       "      <th>Deck</th>\n",
       "    </tr>\n",
       "  </thead>\n",
       "  <tbody>\n",
       "    <tr>\n",
       "      <th rowspan=\"5\" valign=\"top\">0</th>\n",
       "      <th>0</th>\n",
       "      <td>0.0</td>\n",
       "      <td>3</td>\n",
       "      <td>male</td>\n",
       "      <td>22.0</td>\n",
       "      <td>1</td>\n",
       "      <td>0</td>\n",
       "      <td>S</td>\n",
       "      <td>Mr</td>\n",
       "      <td>Missed</td>\n",
       "    </tr>\n",
       "    <tr>\n",
       "      <th>1</th>\n",
       "      <td>1.0</td>\n",
       "      <td>1</td>\n",
       "      <td>female</td>\n",
       "      <td>38.0</td>\n",
       "      <td>1</td>\n",
       "      <td>0</td>\n",
       "      <td>C</td>\n",
       "      <td>Mrs</td>\n",
       "      <td>C</td>\n",
       "    </tr>\n",
       "    <tr>\n",
       "      <th>2</th>\n",
       "      <td>1.0</td>\n",
       "      <td>3</td>\n",
       "      <td>female</td>\n",
       "      <td>26.0</td>\n",
       "      <td>0</td>\n",
       "      <td>0</td>\n",
       "      <td>S</td>\n",
       "      <td>Miss</td>\n",
       "      <td>Missed</td>\n",
       "    </tr>\n",
       "    <tr>\n",
       "      <th>3</th>\n",
       "      <td>1.0</td>\n",
       "      <td>1</td>\n",
       "      <td>female</td>\n",
       "      <td>35.0</td>\n",
       "      <td>1</td>\n",
       "      <td>0</td>\n",
       "      <td>S</td>\n",
       "      <td>Mrs</td>\n",
       "      <td>C</td>\n",
       "    </tr>\n",
       "    <tr>\n",
       "      <th>4</th>\n",
       "      <td>0.0</td>\n",
       "      <td>3</td>\n",
       "      <td>male</td>\n",
       "      <td>35.0</td>\n",
       "      <td>0</td>\n",
       "      <td>0</td>\n",
       "      <td>S</td>\n",
       "      <td>Mr</td>\n",
       "      <td>Missed</td>\n",
       "    </tr>\n",
       "  </tbody>\n",
       "</table>\n",
       "</div>"
      ],
      "text/plain": [
       "     Survived  Pclass     Sex   Age  SibSp  Parch Embarked Title    Deck\n",
       "0 0       0.0       3    male  22.0      1      0        S    Mr  Missed\n",
       "  1       1.0       1  female  38.0      1      0        C   Mrs       C\n",
       "  2       1.0       3  female  26.0      0      0        S  Miss  Missed\n",
       "  3       1.0       1  female  35.0      1      0        S   Mrs       C\n",
       "  4       0.0       3    male  35.0      0      0        S    Mr  Missed"
      ]
     },
     "execution_count": 41,
     "metadata": {},
     "output_type": "execute_result"
    }
   ],
   "source": [
    "final_train_df.head()"
   ]
  },
  {
   "cell_type": "code",
   "execution_count": 42,
   "id": "560d08c4",
   "metadata": {
    "execution": {
     "iopub.execute_input": "2022-06-06T16:03:31.593731Z",
     "iopub.status.busy": "2022-06-06T16:03:31.593033Z",
     "iopub.status.idle": "2022-06-06T16:03:31.598536Z",
     "shell.execute_reply": "2022-06-06T16:03:31.597268Z"
    },
    "papermill": {
     "duration": 0.053644,
     "end_time": "2022-06-06T16:03:31.600988",
     "exception": false,
     "start_time": "2022-06-06T16:03:31.547344",
     "status": "completed"
    },
    "tags": []
   },
   "outputs": [
    {
     "name": "stdout",
     "output_type": "stream",
     "text": [
      "Количество строк в датафрейме: 1309\n"
     ]
    }
   ],
   "source": [
    "print(\"Количество строк в датафрейме:\", len(final_train_df))"
   ]
  },
  {
   "cell_type": "code",
   "execution_count": 43,
   "id": "09bf3224",
   "metadata": {
    "execution": {
     "iopub.execute_input": "2022-06-06T16:03:31.692681Z",
     "iopub.status.busy": "2022-06-06T16:03:31.690877Z",
     "iopub.status.idle": "2022-06-06T16:03:31.702442Z",
     "shell.execute_reply": "2022-06-06T16:03:31.701416Z"
    },
    "papermill": {
     "duration": 0.059171,
     "end_time": "2022-06-06T16:03:31.704505",
     "exception": false,
     "start_time": "2022-06-06T16:03:31.645334",
     "status": "completed"
    },
    "tags": []
   },
   "outputs": [
    {
     "data": {
      "text/plain": [
       "Survived    418\n",
       "Pclass        0\n",
       "Sex           0\n",
       "Age         263\n",
       "SibSp         0\n",
       "Parch         0\n",
       "Embarked      2\n",
       "Title         0\n",
       "Deck          0\n",
       "dtype: int64"
      ]
     },
     "execution_count": 43,
     "metadata": {},
     "output_type": "execute_result"
    }
   ],
   "source": [
    "final_train_df.isnull().sum()"
   ]
  },
  {
   "cell_type": "markdown",
   "id": "b962fde1",
   "metadata": {
    "papermill": {
     "duration": 0.04514,
     "end_time": "2022-06-06T16:03:31.795177",
     "exception": false,
     "start_time": "2022-06-06T16:03:31.750037",
     "status": "completed"
    },
    "tags": []
   },
   "source": [
    "As we have only 2 missing values for Embarked column I fill the blanks with the mode."
   ]
  },
  {
   "cell_type": "code",
   "execution_count": 44,
   "id": "47d19a6e",
   "metadata": {
    "execution": {
     "iopub.execute_input": "2022-06-06T16:03:31.886921Z",
     "iopub.status.busy": "2022-06-06T16:03:31.886514Z",
     "iopub.status.idle": "2022-06-06T16:03:31.893997Z",
     "shell.execute_reply": "2022-06-06T16:03:31.893286Z"
    },
    "papermill": {
     "duration": 0.056683,
     "end_time": "2022-06-06T16:03:31.896644",
     "exception": false,
     "start_time": "2022-06-06T16:03:31.839961",
     "status": "completed"
    },
    "tags": []
   },
   "outputs": [
    {
     "data": {
      "text/plain": [
       "0    S\n",
       "dtype: object"
      ]
     },
     "execution_count": 44,
     "metadata": {},
     "output_type": "execute_result"
    }
   ],
   "source": [
    "final_train_df[\"Embarked\"].mode()"
   ]
  },
  {
   "cell_type": "code",
   "execution_count": 45,
   "id": "2612f77f",
   "metadata": {
    "execution": {
     "iopub.execute_input": "2022-06-06T16:03:31.991778Z",
     "iopub.status.busy": "2022-06-06T16:03:31.991063Z",
     "iopub.status.idle": "2022-06-06T16:03:31.996984Z",
     "shell.execute_reply": "2022-06-06T16:03:31.996222Z"
    },
    "papermill": {
     "duration": 0.055435,
     "end_time": "2022-06-06T16:03:31.999330",
     "exception": false,
     "start_time": "2022-06-06T16:03:31.943895",
     "status": "completed"
    },
    "tags": []
   },
   "outputs": [],
   "source": [
    "final_train_df[\"Embarked\"].fillna(final_train_df[\"Embarked\"].mode()[0], inplace=True)\n"
   ]
  },
  {
   "cell_type": "code",
   "execution_count": 46,
   "id": "0f87de97",
   "metadata": {
    "execution": {
     "iopub.execute_input": "2022-06-06T16:03:32.094626Z",
     "iopub.status.busy": "2022-06-06T16:03:32.093780Z",
     "iopub.status.idle": "2022-06-06T16:03:32.104581Z",
     "shell.execute_reply": "2022-06-06T16:03:32.103471Z"
    },
    "papermill": {
     "duration": 0.060007,
     "end_time": "2022-06-06T16:03:32.107043",
     "exception": false,
     "start_time": "2022-06-06T16:03:32.047036",
     "status": "completed"
    },
    "tags": []
   },
   "outputs": [
    {
     "data": {
      "text/plain": [
       "Survived    418\n",
       "Pclass        0\n",
       "Sex           0\n",
       "Age         263\n",
       "SibSp         0\n",
       "Parch         0\n",
       "Embarked      0\n",
       "Title         0\n",
       "Deck          0\n",
       "dtype: int64"
      ]
     },
     "execution_count": 46,
     "metadata": {},
     "output_type": "execute_result"
    }
   ],
   "source": [
    "final_train_df.isnull().sum()"
   ]
  },
  {
   "cell_type": "markdown",
   "id": "e6d20744",
   "metadata": {
    "papermill": {
     "duration": 0.045159,
     "end_time": "2022-06-06T16:03:32.198717",
     "exception": false,
     "start_time": "2022-06-06T16:03:32.153558",
     "status": "completed"
    },
    "tags": []
   },
   "source": [
    "**Convert categorical features to numeric**"
   ]
  },
  {
   "cell_type": "code",
   "execution_count": 47,
   "id": "f41cde0d",
   "metadata": {
    "execution": {
     "iopub.execute_input": "2022-06-06T16:03:32.291723Z",
     "iopub.status.busy": "2022-06-06T16:03:32.291332Z",
     "iopub.status.idle": "2022-06-06T16:03:32.310087Z",
     "shell.execute_reply": "2022-06-06T16:03:32.309168Z"
    },
    "papermill": {
     "duration": 0.068284,
     "end_time": "2022-06-06T16:03:32.312151",
     "exception": false,
     "start_time": "2022-06-06T16:03:32.243867",
     "status": "completed"
    },
    "tags": []
   },
   "outputs": [
    {
     "data": {
      "text/html": [
       "<div>\n",
       "<style scoped>\n",
       "    .dataframe tbody tr th:only-of-type {\n",
       "        vertical-align: middle;\n",
       "    }\n",
       "\n",
       "    .dataframe tbody tr th {\n",
       "        vertical-align: top;\n",
       "    }\n",
       "\n",
       "    .dataframe thead th {\n",
       "        text-align: right;\n",
       "    }\n",
       "</style>\n",
       "<table border=\"1\" class=\"dataframe\">\n",
       "  <thead>\n",
       "    <tr style=\"text-align: right;\">\n",
       "      <th></th>\n",
       "      <th></th>\n",
       "      <th>Survived</th>\n",
       "      <th>Pclass</th>\n",
       "      <th>Sex</th>\n",
       "      <th>Age</th>\n",
       "      <th>SibSp</th>\n",
       "      <th>Parch</th>\n",
       "      <th>Embarked</th>\n",
       "      <th>Title</th>\n",
       "      <th>Deck</th>\n",
       "    </tr>\n",
       "  </thead>\n",
       "  <tbody>\n",
       "    <tr>\n",
       "      <th rowspan=\"5\" valign=\"top\">0</th>\n",
       "      <th>0</th>\n",
       "      <td>0.0</td>\n",
       "      <td>3</td>\n",
       "      <td>male</td>\n",
       "      <td>22.0</td>\n",
       "      <td>1</td>\n",
       "      <td>0</td>\n",
       "      <td>S</td>\n",
       "      <td>Mr</td>\n",
       "      <td>Missed</td>\n",
       "    </tr>\n",
       "    <tr>\n",
       "      <th>1</th>\n",
       "      <td>1.0</td>\n",
       "      <td>1</td>\n",
       "      <td>female</td>\n",
       "      <td>38.0</td>\n",
       "      <td>1</td>\n",
       "      <td>0</td>\n",
       "      <td>C</td>\n",
       "      <td>Mrs</td>\n",
       "      <td>C</td>\n",
       "    </tr>\n",
       "    <tr>\n",
       "      <th>2</th>\n",
       "      <td>1.0</td>\n",
       "      <td>3</td>\n",
       "      <td>female</td>\n",
       "      <td>26.0</td>\n",
       "      <td>0</td>\n",
       "      <td>0</td>\n",
       "      <td>S</td>\n",
       "      <td>Miss</td>\n",
       "      <td>Missed</td>\n",
       "    </tr>\n",
       "    <tr>\n",
       "      <th>3</th>\n",
       "      <td>1.0</td>\n",
       "      <td>1</td>\n",
       "      <td>female</td>\n",
       "      <td>35.0</td>\n",
       "      <td>1</td>\n",
       "      <td>0</td>\n",
       "      <td>S</td>\n",
       "      <td>Mrs</td>\n",
       "      <td>C</td>\n",
       "    </tr>\n",
       "    <tr>\n",
       "      <th>4</th>\n",
       "      <td>0.0</td>\n",
       "      <td>3</td>\n",
       "      <td>male</td>\n",
       "      <td>35.0</td>\n",
       "      <td>0</td>\n",
       "      <td>0</td>\n",
       "      <td>S</td>\n",
       "      <td>Mr</td>\n",
       "      <td>Missed</td>\n",
       "    </tr>\n",
       "  </tbody>\n",
       "</table>\n",
       "</div>"
      ],
      "text/plain": [
       "     Survived  Pclass     Sex   Age  SibSp  Parch Embarked Title    Deck\n",
       "0 0       0.0       3    male  22.0      1      0        S    Mr  Missed\n",
       "  1       1.0       1  female  38.0      1      0        C   Mrs       C\n",
       "  2       1.0       3  female  26.0      0      0        S  Miss  Missed\n",
       "  3       1.0       1  female  35.0      1      0        S   Mrs       C\n",
       "  4       0.0       3    male  35.0      0      0        S    Mr  Missed"
      ]
     },
     "execution_count": 47,
     "metadata": {},
     "output_type": "execute_result"
    }
   ],
   "source": [
    "final_train_df.head()"
   ]
  },
  {
   "cell_type": "code",
   "execution_count": 48,
   "id": "e373fd62",
   "metadata": {
    "execution": {
     "iopub.execute_input": "2022-06-06T16:03:32.406400Z",
     "iopub.status.busy": "2022-06-06T16:03:32.404848Z",
     "iopub.status.idle": "2022-06-06T16:03:32.419285Z",
     "shell.execute_reply": "2022-06-06T16:03:32.418302Z"
    },
    "papermill": {
     "duration": 0.064528,
     "end_time": "2022-06-06T16:03:32.422576",
     "exception": false,
     "start_time": "2022-06-06T16:03:32.358048",
     "status": "completed"
    },
    "tags": []
   },
   "outputs": [],
   "source": [
    "# final_train_df = pd.get_dummies(final_train_df, columns=[\"Sex\", \"Embarked\", \"Pclass\"])\n",
    "final_train_df = pd.get_dummies(final_train_df, columns=[\"Sex\", \"Pclass\", \"Embarked\", \"Title\", \"Deck\"])"
   ]
  },
  {
   "cell_type": "code",
   "execution_count": 49,
   "id": "24404489",
   "metadata": {
    "execution": {
     "iopub.execute_input": "2022-06-06T16:03:32.518153Z",
     "iopub.status.busy": "2022-06-06T16:03:32.517563Z",
     "iopub.status.idle": "2022-06-06T16:03:32.541015Z",
     "shell.execute_reply": "2022-06-06T16:03:32.540279Z"
    },
    "papermill": {
     "duration": 0.075224,
     "end_time": "2022-06-06T16:03:32.543051",
     "exception": false,
     "start_time": "2022-06-06T16:03:32.467827",
     "status": "completed"
    },
    "tags": []
   },
   "outputs": [
    {
     "data": {
      "text/html": [
       "<div>\n",
       "<style scoped>\n",
       "    .dataframe tbody tr th:only-of-type {\n",
       "        vertical-align: middle;\n",
       "    }\n",
       "\n",
       "    .dataframe tbody tr th {\n",
       "        vertical-align: top;\n",
       "    }\n",
       "\n",
       "    .dataframe thead th {\n",
       "        text-align: right;\n",
       "    }\n",
       "</style>\n",
       "<table border=\"1\" class=\"dataframe\">\n",
       "  <thead>\n",
       "    <tr style=\"text-align: right;\">\n",
       "      <th></th>\n",
       "      <th></th>\n",
       "      <th>Survived</th>\n",
       "      <th>Age</th>\n",
       "      <th>SibSp</th>\n",
       "      <th>Parch</th>\n",
       "      <th>Sex_female</th>\n",
       "      <th>Sex_male</th>\n",
       "      <th>Pclass_1</th>\n",
       "      <th>Pclass_2</th>\n",
       "      <th>Pclass_3</th>\n",
       "      <th>Embarked_C</th>\n",
       "      <th>...</th>\n",
       "      <th>Title_other</th>\n",
       "      <th>Deck_A</th>\n",
       "      <th>Deck_B</th>\n",
       "      <th>Deck_C</th>\n",
       "      <th>Deck_D</th>\n",
       "      <th>Deck_E</th>\n",
       "      <th>Deck_F</th>\n",
       "      <th>Deck_G</th>\n",
       "      <th>Deck_Missed</th>\n",
       "      <th>Deck_T</th>\n",
       "    </tr>\n",
       "  </thead>\n",
       "  <tbody>\n",
       "    <tr>\n",
       "      <th rowspan=\"5\" valign=\"top\">0</th>\n",
       "      <th>0</th>\n",
       "      <td>0.0</td>\n",
       "      <td>22.0</td>\n",
       "      <td>1</td>\n",
       "      <td>0</td>\n",
       "      <td>0</td>\n",
       "      <td>1</td>\n",
       "      <td>0</td>\n",
       "      <td>0</td>\n",
       "      <td>1</td>\n",
       "      <td>0</td>\n",
       "      <td>...</td>\n",
       "      <td>0</td>\n",
       "      <td>0</td>\n",
       "      <td>0</td>\n",
       "      <td>0</td>\n",
       "      <td>0</td>\n",
       "      <td>0</td>\n",
       "      <td>0</td>\n",
       "      <td>0</td>\n",
       "      <td>1</td>\n",
       "      <td>0</td>\n",
       "    </tr>\n",
       "    <tr>\n",
       "      <th>1</th>\n",
       "      <td>1.0</td>\n",
       "      <td>38.0</td>\n",
       "      <td>1</td>\n",
       "      <td>0</td>\n",
       "      <td>1</td>\n",
       "      <td>0</td>\n",
       "      <td>1</td>\n",
       "      <td>0</td>\n",
       "      <td>0</td>\n",
       "      <td>1</td>\n",
       "      <td>...</td>\n",
       "      <td>0</td>\n",
       "      <td>0</td>\n",
       "      <td>0</td>\n",
       "      <td>1</td>\n",
       "      <td>0</td>\n",
       "      <td>0</td>\n",
       "      <td>0</td>\n",
       "      <td>0</td>\n",
       "      <td>0</td>\n",
       "      <td>0</td>\n",
       "    </tr>\n",
       "    <tr>\n",
       "      <th>2</th>\n",
       "      <td>1.0</td>\n",
       "      <td>26.0</td>\n",
       "      <td>0</td>\n",
       "      <td>0</td>\n",
       "      <td>1</td>\n",
       "      <td>0</td>\n",
       "      <td>0</td>\n",
       "      <td>0</td>\n",
       "      <td>1</td>\n",
       "      <td>0</td>\n",
       "      <td>...</td>\n",
       "      <td>0</td>\n",
       "      <td>0</td>\n",
       "      <td>0</td>\n",
       "      <td>0</td>\n",
       "      <td>0</td>\n",
       "      <td>0</td>\n",
       "      <td>0</td>\n",
       "      <td>0</td>\n",
       "      <td>1</td>\n",
       "      <td>0</td>\n",
       "    </tr>\n",
       "    <tr>\n",
       "      <th>3</th>\n",
       "      <td>1.0</td>\n",
       "      <td>35.0</td>\n",
       "      <td>1</td>\n",
       "      <td>0</td>\n",
       "      <td>1</td>\n",
       "      <td>0</td>\n",
       "      <td>1</td>\n",
       "      <td>0</td>\n",
       "      <td>0</td>\n",
       "      <td>0</td>\n",
       "      <td>...</td>\n",
       "      <td>0</td>\n",
       "      <td>0</td>\n",
       "      <td>0</td>\n",
       "      <td>1</td>\n",
       "      <td>0</td>\n",
       "      <td>0</td>\n",
       "      <td>0</td>\n",
       "      <td>0</td>\n",
       "      <td>0</td>\n",
       "      <td>0</td>\n",
       "    </tr>\n",
       "    <tr>\n",
       "      <th>4</th>\n",
       "      <td>0.0</td>\n",
       "      <td>35.0</td>\n",
       "      <td>0</td>\n",
       "      <td>0</td>\n",
       "      <td>0</td>\n",
       "      <td>1</td>\n",
       "      <td>0</td>\n",
       "      <td>0</td>\n",
       "      <td>1</td>\n",
       "      <td>0</td>\n",
       "      <td>...</td>\n",
       "      <td>0</td>\n",
       "      <td>0</td>\n",
       "      <td>0</td>\n",
       "      <td>0</td>\n",
       "      <td>0</td>\n",
       "      <td>0</td>\n",
       "      <td>0</td>\n",
       "      <td>0</td>\n",
       "      <td>1</td>\n",
       "      <td>0</td>\n",
       "    </tr>\n",
       "  </tbody>\n",
       "</table>\n",
       "<p>5 rows × 26 columns</p>\n",
       "</div>"
      ],
      "text/plain": [
       "     Survived   Age  SibSp  Parch  Sex_female  Sex_male  Pclass_1  Pclass_2  \\\n",
       "0 0       0.0  22.0      1      0           0         1         0         0   \n",
       "  1       1.0  38.0      1      0           1         0         1         0   \n",
       "  2       1.0  26.0      0      0           1         0         0         0   \n",
       "  3       1.0  35.0      1      0           1         0         1         0   \n",
       "  4       0.0  35.0      0      0           0         1         0         0   \n",
       "\n",
       "     Pclass_3  Embarked_C  ...  Title_other  Deck_A  Deck_B  Deck_C  Deck_D  \\\n",
       "0 0         1           0  ...            0       0       0       0       0   \n",
       "  1         0           1  ...            0       0       0       1       0   \n",
       "  2         1           0  ...            0       0       0       0       0   \n",
       "  3         0           0  ...            0       0       0       1       0   \n",
       "  4         1           0  ...            0       0       0       0       0   \n",
       "\n",
       "     Deck_E  Deck_F  Deck_G  Deck_Missed  Deck_T  \n",
       "0 0       0       0       0            1       0  \n",
       "  1       0       0       0            0       0  \n",
       "  2       0       0       0            1       0  \n",
       "  3       0       0       0            0       0  \n",
       "  4       0       0       0            1       0  \n",
       "\n",
       "[5 rows x 26 columns]"
      ]
     },
     "execution_count": 49,
     "metadata": {},
     "output_type": "execute_result"
    }
   ],
   "source": [
    "final_train_df.head()"
   ]
  },
  {
   "cell_type": "code",
   "execution_count": 50,
   "id": "29a32263",
   "metadata": {
    "execution": {
     "iopub.execute_input": "2022-06-06T16:03:32.636276Z",
     "iopub.status.busy": "2022-06-06T16:03:32.635711Z",
     "iopub.status.idle": "2022-06-06T16:03:32.643350Z",
     "shell.execute_reply": "2022-06-06T16:03:32.642218Z"
    },
    "papermill": {
     "duration": 0.057134,
     "end_time": "2022-06-06T16:03:32.645713",
     "exception": false,
     "start_time": "2022-06-06T16:03:32.588579",
     "status": "completed"
    },
    "tags": []
   },
   "outputs": [],
   "source": [
    "final_train_df = final_train_df.rename(columns={\"Sex_female\": \"female/male\"}) # в столбце female/male \"0\" - male, \"1\" - female\n",
    "final_train_df.drop(\"Sex_male\", axis=1, inplace=True)"
   ]
  },
  {
   "cell_type": "code",
   "execution_count": 51,
   "id": "b1758778",
   "metadata": {
    "execution": {
     "iopub.execute_input": "2022-06-06T16:03:32.738395Z",
     "iopub.status.busy": "2022-06-06T16:03:32.737615Z",
     "iopub.status.idle": "2022-06-06T16:03:32.759399Z",
     "shell.execute_reply": "2022-06-06T16:03:32.758455Z"
    },
    "papermill": {
     "duration": 0.070707,
     "end_time": "2022-06-06T16:03:32.761494",
     "exception": false,
     "start_time": "2022-06-06T16:03:32.690787",
     "status": "completed"
    },
    "tags": []
   },
   "outputs": [
    {
     "data": {
      "text/html": [
       "<div>\n",
       "<style scoped>\n",
       "    .dataframe tbody tr th:only-of-type {\n",
       "        vertical-align: middle;\n",
       "    }\n",
       "\n",
       "    .dataframe tbody tr th {\n",
       "        vertical-align: top;\n",
       "    }\n",
       "\n",
       "    .dataframe thead th {\n",
       "        text-align: right;\n",
       "    }\n",
       "</style>\n",
       "<table border=\"1\" class=\"dataframe\">\n",
       "  <thead>\n",
       "    <tr style=\"text-align: right;\">\n",
       "      <th></th>\n",
       "      <th></th>\n",
       "      <th>Survived</th>\n",
       "      <th>Age</th>\n",
       "      <th>SibSp</th>\n",
       "      <th>Parch</th>\n",
       "      <th>female/male</th>\n",
       "      <th>Pclass_1</th>\n",
       "      <th>Pclass_2</th>\n",
       "      <th>Pclass_3</th>\n",
       "      <th>Embarked_C</th>\n",
       "      <th>Embarked_Q</th>\n",
       "      <th>...</th>\n",
       "      <th>Title_other</th>\n",
       "      <th>Deck_A</th>\n",
       "      <th>Deck_B</th>\n",
       "      <th>Deck_C</th>\n",
       "      <th>Deck_D</th>\n",
       "      <th>Deck_E</th>\n",
       "      <th>Deck_F</th>\n",
       "      <th>Deck_G</th>\n",
       "      <th>Deck_Missed</th>\n",
       "      <th>Deck_T</th>\n",
       "    </tr>\n",
       "  </thead>\n",
       "  <tbody>\n",
       "    <tr>\n",
       "      <th rowspan=\"5\" valign=\"top\">0</th>\n",
       "      <th>0</th>\n",
       "      <td>0.0</td>\n",
       "      <td>22.0</td>\n",
       "      <td>1</td>\n",
       "      <td>0</td>\n",
       "      <td>0</td>\n",
       "      <td>0</td>\n",
       "      <td>0</td>\n",
       "      <td>1</td>\n",
       "      <td>0</td>\n",
       "      <td>0</td>\n",
       "      <td>...</td>\n",
       "      <td>0</td>\n",
       "      <td>0</td>\n",
       "      <td>0</td>\n",
       "      <td>0</td>\n",
       "      <td>0</td>\n",
       "      <td>0</td>\n",
       "      <td>0</td>\n",
       "      <td>0</td>\n",
       "      <td>1</td>\n",
       "      <td>0</td>\n",
       "    </tr>\n",
       "    <tr>\n",
       "      <th>1</th>\n",
       "      <td>1.0</td>\n",
       "      <td>38.0</td>\n",
       "      <td>1</td>\n",
       "      <td>0</td>\n",
       "      <td>1</td>\n",
       "      <td>1</td>\n",
       "      <td>0</td>\n",
       "      <td>0</td>\n",
       "      <td>1</td>\n",
       "      <td>0</td>\n",
       "      <td>...</td>\n",
       "      <td>0</td>\n",
       "      <td>0</td>\n",
       "      <td>0</td>\n",
       "      <td>1</td>\n",
       "      <td>0</td>\n",
       "      <td>0</td>\n",
       "      <td>0</td>\n",
       "      <td>0</td>\n",
       "      <td>0</td>\n",
       "      <td>0</td>\n",
       "    </tr>\n",
       "    <tr>\n",
       "      <th>2</th>\n",
       "      <td>1.0</td>\n",
       "      <td>26.0</td>\n",
       "      <td>0</td>\n",
       "      <td>0</td>\n",
       "      <td>1</td>\n",
       "      <td>0</td>\n",
       "      <td>0</td>\n",
       "      <td>1</td>\n",
       "      <td>0</td>\n",
       "      <td>0</td>\n",
       "      <td>...</td>\n",
       "      <td>0</td>\n",
       "      <td>0</td>\n",
       "      <td>0</td>\n",
       "      <td>0</td>\n",
       "      <td>0</td>\n",
       "      <td>0</td>\n",
       "      <td>0</td>\n",
       "      <td>0</td>\n",
       "      <td>1</td>\n",
       "      <td>0</td>\n",
       "    </tr>\n",
       "    <tr>\n",
       "      <th>3</th>\n",
       "      <td>1.0</td>\n",
       "      <td>35.0</td>\n",
       "      <td>1</td>\n",
       "      <td>0</td>\n",
       "      <td>1</td>\n",
       "      <td>1</td>\n",
       "      <td>0</td>\n",
       "      <td>0</td>\n",
       "      <td>0</td>\n",
       "      <td>0</td>\n",
       "      <td>...</td>\n",
       "      <td>0</td>\n",
       "      <td>0</td>\n",
       "      <td>0</td>\n",
       "      <td>1</td>\n",
       "      <td>0</td>\n",
       "      <td>0</td>\n",
       "      <td>0</td>\n",
       "      <td>0</td>\n",
       "      <td>0</td>\n",
       "      <td>0</td>\n",
       "    </tr>\n",
       "    <tr>\n",
       "      <th>4</th>\n",
       "      <td>0.0</td>\n",
       "      <td>35.0</td>\n",
       "      <td>0</td>\n",
       "      <td>0</td>\n",
       "      <td>0</td>\n",
       "      <td>0</td>\n",
       "      <td>0</td>\n",
       "      <td>1</td>\n",
       "      <td>0</td>\n",
       "      <td>0</td>\n",
       "      <td>...</td>\n",
       "      <td>0</td>\n",
       "      <td>0</td>\n",
       "      <td>0</td>\n",
       "      <td>0</td>\n",
       "      <td>0</td>\n",
       "      <td>0</td>\n",
       "      <td>0</td>\n",
       "      <td>0</td>\n",
       "      <td>1</td>\n",
       "      <td>0</td>\n",
       "    </tr>\n",
       "  </tbody>\n",
       "</table>\n",
       "<p>5 rows × 25 columns</p>\n",
       "</div>"
      ],
      "text/plain": [
       "     Survived   Age  SibSp  Parch  female/male  Pclass_1  Pclass_2  Pclass_3  \\\n",
       "0 0       0.0  22.0      1      0            0         0         0         1   \n",
       "  1       1.0  38.0      1      0            1         1         0         0   \n",
       "  2       1.0  26.0      0      0            1         0         0         1   \n",
       "  3       1.0  35.0      1      0            1         1         0         0   \n",
       "  4       0.0  35.0      0      0            0         0         0         1   \n",
       "\n",
       "     Embarked_C  Embarked_Q  ...  Title_other  Deck_A  Deck_B  Deck_C  Deck_D  \\\n",
       "0 0           0           0  ...            0       0       0       0       0   \n",
       "  1           1           0  ...            0       0       0       1       0   \n",
       "  2           0           0  ...            0       0       0       0       0   \n",
       "  3           0           0  ...            0       0       0       1       0   \n",
       "  4           0           0  ...            0       0       0       0       0   \n",
       "\n",
       "     Deck_E  Deck_F  Deck_G  Deck_Missed  Deck_T  \n",
       "0 0       0       0       0            1       0  \n",
       "  1       0       0       0            0       0  \n",
       "  2       0       0       0            1       0  \n",
       "  3       0       0       0            0       0  \n",
       "  4       0       0       0            1       0  \n",
       "\n",
       "[5 rows x 25 columns]"
      ]
     },
     "execution_count": 51,
     "metadata": {},
     "output_type": "execute_result"
    }
   ],
   "source": [
    "final_train_df.head()"
   ]
  },
  {
   "cell_type": "markdown",
   "id": "5baec79b",
   "metadata": {
    "papermill": {
     "duration": 0.0453,
     "end_time": "2022-06-06T16:03:32.852657",
     "exception": false,
     "start_time": "2022-06-06T16:03:32.807357",
     "status": "completed"
    },
    "tags": []
   },
   "source": [
    "**Сonvert \"SibSp\" и \"Parch\" into \"Family_size\" features in order to distinguish people who was alone from those who was with the family. If the value is greater than 1 it mean that a person was with family, if equal 1 - alone.**"
   ]
  },
  {
   "cell_type": "code",
   "execution_count": 52,
   "id": "030dbd20",
   "metadata": {
    "execution": {
     "iopub.execute_input": "2022-06-06T16:03:32.947428Z",
     "iopub.status.busy": "2022-06-06T16:03:32.946501Z",
     "iopub.status.idle": "2022-06-06T16:03:32.953392Z",
     "shell.execute_reply": "2022-06-06T16:03:32.952013Z"
    },
    "papermill": {
     "duration": 0.056898,
     "end_time": "2022-06-06T16:03:32.955715",
     "exception": false,
     "start_time": "2022-06-06T16:03:32.898817",
     "status": "completed"
    },
    "tags": []
   },
   "outputs": [],
   "source": [
    "final_train_df[\"Family_size\"] = final_train_df[\"SibSp\"] + final_train_df[\"Parch\"] + 1"
   ]
  },
  {
   "cell_type": "code",
   "execution_count": 53,
   "id": "3d000aca",
   "metadata": {
    "execution": {
     "iopub.execute_input": "2022-06-06T16:03:33.049613Z",
     "iopub.status.busy": "2022-06-06T16:03:33.048942Z",
     "iopub.status.idle": "2022-06-06T16:03:33.071274Z",
     "shell.execute_reply": "2022-06-06T16:03:33.070334Z"
    },
    "papermill": {
     "duration": 0.071959,
     "end_time": "2022-06-06T16:03:33.073465",
     "exception": false,
     "start_time": "2022-06-06T16:03:33.001506",
     "status": "completed"
    },
    "tags": []
   },
   "outputs": [
    {
     "data": {
      "text/html": [
       "<div>\n",
       "<style scoped>\n",
       "    .dataframe tbody tr th:only-of-type {\n",
       "        vertical-align: middle;\n",
       "    }\n",
       "\n",
       "    .dataframe tbody tr th {\n",
       "        vertical-align: top;\n",
       "    }\n",
       "\n",
       "    .dataframe thead th {\n",
       "        text-align: right;\n",
       "    }\n",
       "</style>\n",
       "<table border=\"1\" class=\"dataframe\">\n",
       "  <thead>\n",
       "    <tr style=\"text-align: right;\">\n",
       "      <th></th>\n",
       "      <th></th>\n",
       "      <th>Survived</th>\n",
       "      <th>Age</th>\n",
       "      <th>SibSp</th>\n",
       "      <th>Parch</th>\n",
       "      <th>female/male</th>\n",
       "      <th>Pclass_1</th>\n",
       "      <th>Pclass_2</th>\n",
       "      <th>Pclass_3</th>\n",
       "      <th>Embarked_C</th>\n",
       "      <th>Embarked_Q</th>\n",
       "      <th>...</th>\n",
       "      <th>Deck_A</th>\n",
       "      <th>Deck_B</th>\n",
       "      <th>Deck_C</th>\n",
       "      <th>Deck_D</th>\n",
       "      <th>Deck_E</th>\n",
       "      <th>Deck_F</th>\n",
       "      <th>Deck_G</th>\n",
       "      <th>Deck_Missed</th>\n",
       "      <th>Deck_T</th>\n",
       "      <th>Family_size</th>\n",
       "    </tr>\n",
       "  </thead>\n",
       "  <tbody>\n",
       "    <tr>\n",
       "      <th rowspan=\"5\" valign=\"top\">0</th>\n",
       "      <th>0</th>\n",
       "      <td>0.0</td>\n",
       "      <td>22.0</td>\n",
       "      <td>1</td>\n",
       "      <td>0</td>\n",
       "      <td>0</td>\n",
       "      <td>0</td>\n",
       "      <td>0</td>\n",
       "      <td>1</td>\n",
       "      <td>0</td>\n",
       "      <td>0</td>\n",
       "      <td>...</td>\n",
       "      <td>0</td>\n",
       "      <td>0</td>\n",
       "      <td>0</td>\n",
       "      <td>0</td>\n",
       "      <td>0</td>\n",
       "      <td>0</td>\n",
       "      <td>0</td>\n",
       "      <td>1</td>\n",
       "      <td>0</td>\n",
       "      <td>2</td>\n",
       "    </tr>\n",
       "    <tr>\n",
       "      <th>1</th>\n",
       "      <td>1.0</td>\n",
       "      <td>38.0</td>\n",
       "      <td>1</td>\n",
       "      <td>0</td>\n",
       "      <td>1</td>\n",
       "      <td>1</td>\n",
       "      <td>0</td>\n",
       "      <td>0</td>\n",
       "      <td>1</td>\n",
       "      <td>0</td>\n",
       "      <td>...</td>\n",
       "      <td>0</td>\n",
       "      <td>0</td>\n",
       "      <td>1</td>\n",
       "      <td>0</td>\n",
       "      <td>0</td>\n",
       "      <td>0</td>\n",
       "      <td>0</td>\n",
       "      <td>0</td>\n",
       "      <td>0</td>\n",
       "      <td>2</td>\n",
       "    </tr>\n",
       "    <tr>\n",
       "      <th>2</th>\n",
       "      <td>1.0</td>\n",
       "      <td>26.0</td>\n",
       "      <td>0</td>\n",
       "      <td>0</td>\n",
       "      <td>1</td>\n",
       "      <td>0</td>\n",
       "      <td>0</td>\n",
       "      <td>1</td>\n",
       "      <td>0</td>\n",
       "      <td>0</td>\n",
       "      <td>...</td>\n",
       "      <td>0</td>\n",
       "      <td>0</td>\n",
       "      <td>0</td>\n",
       "      <td>0</td>\n",
       "      <td>0</td>\n",
       "      <td>0</td>\n",
       "      <td>0</td>\n",
       "      <td>1</td>\n",
       "      <td>0</td>\n",
       "      <td>1</td>\n",
       "    </tr>\n",
       "    <tr>\n",
       "      <th>3</th>\n",
       "      <td>1.0</td>\n",
       "      <td>35.0</td>\n",
       "      <td>1</td>\n",
       "      <td>0</td>\n",
       "      <td>1</td>\n",
       "      <td>1</td>\n",
       "      <td>0</td>\n",
       "      <td>0</td>\n",
       "      <td>0</td>\n",
       "      <td>0</td>\n",
       "      <td>...</td>\n",
       "      <td>0</td>\n",
       "      <td>0</td>\n",
       "      <td>1</td>\n",
       "      <td>0</td>\n",
       "      <td>0</td>\n",
       "      <td>0</td>\n",
       "      <td>0</td>\n",
       "      <td>0</td>\n",
       "      <td>0</td>\n",
       "      <td>2</td>\n",
       "    </tr>\n",
       "    <tr>\n",
       "      <th>4</th>\n",
       "      <td>0.0</td>\n",
       "      <td>35.0</td>\n",
       "      <td>0</td>\n",
       "      <td>0</td>\n",
       "      <td>0</td>\n",
       "      <td>0</td>\n",
       "      <td>0</td>\n",
       "      <td>1</td>\n",
       "      <td>0</td>\n",
       "      <td>0</td>\n",
       "      <td>...</td>\n",
       "      <td>0</td>\n",
       "      <td>0</td>\n",
       "      <td>0</td>\n",
       "      <td>0</td>\n",
       "      <td>0</td>\n",
       "      <td>0</td>\n",
       "      <td>0</td>\n",
       "      <td>1</td>\n",
       "      <td>0</td>\n",
       "      <td>1</td>\n",
       "    </tr>\n",
       "  </tbody>\n",
       "</table>\n",
       "<p>5 rows × 26 columns</p>\n",
       "</div>"
      ],
      "text/plain": [
       "     Survived   Age  SibSp  Parch  female/male  Pclass_1  Pclass_2  Pclass_3  \\\n",
       "0 0       0.0  22.0      1      0            0         0         0         1   \n",
       "  1       1.0  38.0      1      0            1         1         0         0   \n",
       "  2       1.0  26.0      0      0            1         0         0         1   \n",
       "  3       1.0  35.0      1      0            1         1         0         0   \n",
       "  4       0.0  35.0      0      0            0         0         0         1   \n",
       "\n",
       "     Embarked_C  Embarked_Q  ...  Deck_A  Deck_B  Deck_C  Deck_D  Deck_E  \\\n",
       "0 0           0           0  ...       0       0       0       0       0   \n",
       "  1           1           0  ...       0       0       1       0       0   \n",
       "  2           0           0  ...       0       0       0       0       0   \n",
       "  3           0           0  ...       0       0       1       0       0   \n",
       "  4           0           0  ...       0       0       0       0       0   \n",
       "\n",
       "     Deck_F  Deck_G  Deck_Missed  Deck_T  Family_size  \n",
       "0 0       0       0            1       0            2  \n",
       "  1       0       0            0       0            2  \n",
       "  2       0       0            1       0            1  \n",
       "  3       0       0            0       0            2  \n",
       "  4       0       0            1       0            1  \n",
       "\n",
       "[5 rows x 26 columns]"
      ]
     },
     "execution_count": 53,
     "metadata": {},
     "output_type": "execute_result"
    }
   ],
   "source": [
    "final_train_df.head()"
   ]
  },
  {
   "cell_type": "markdown",
   "id": "144c966c",
   "metadata": {
    "papermill": {
     "duration": 0.046481,
     "end_time": "2022-06-06T16:03:33.166182",
     "exception": false,
     "start_time": "2022-06-06T16:03:33.119701",
     "status": "completed"
    },
    "tags": []
   },
   "source": [
    "<!-- Create the column \"Is_alone\" based on \"Family_size\" -->"
   ]
  },
  {
   "cell_type": "markdown",
   "id": "45d09e46",
   "metadata": {
    "papermill": {
     "duration": 0.046263,
     "end_time": "2022-06-06T16:03:33.258243",
     "exception": false,
     "start_time": "2022-06-06T16:03:33.211980",
     "status": "completed"
    },
    "tags": []
   },
   "source": [
    "**Create the column \"Is_alone\" which corresponds whether a person was alone or not**"
   ]
  },
  {
   "cell_type": "code",
   "execution_count": 54,
   "id": "f861b4ec",
   "metadata": {
    "execution": {
     "iopub.execute_input": "2022-06-06T16:03:33.358015Z",
     "iopub.status.busy": "2022-06-06T16:03:33.357462Z",
     "iopub.status.idle": "2022-06-06T16:03:33.362605Z",
     "shell.execute_reply": "2022-06-06T16:03:33.361911Z"
    },
    "papermill": {
     "duration": 0.059689,
     "end_time": "2022-06-06T16:03:33.364535",
     "exception": false,
     "start_time": "2022-06-06T16:03:33.304846",
     "status": "completed"
    },
    "tags": []
   },
   "outputs": [],
   "source": [
    "final_train_df[\"Is_alone\"] = 1 "
   ]
  },
  {
   "cell_type": "code",
   "execution_count": 55,
   "id": "40b109f1",
   "metadata": {
    "execution": {
     "iopub.execute_input": "2022-06-06T16:03:33.459213Z",
     "iopub.status.busy": "2022-06-06T16:03:33.458784Z",
     "iopub.status.idle": "2022-06-06T16:03:33.465422Z",
     "shell.execute_reply": "2022-06-06T16:03:33.464060Z"
    },
    "papermill": {
     "duration": 0.056111,
     "end_time": "2022-06-06T16:03:33.467756",
     "exception": false,
     "start_time": "2022-06-06T16:03:33.411645",
     "status": "completed"
    },
    "tags": []
   },
   "outputs": [],
   "source": [
    "final_train_df.loc[final_train_df.Family_size > 1, \"Is_alone\"] = 0"
   ]
  },
  {
   "cell_type": "code",
   "execution_count": 56,
   "id": "6d06e2ec",
   "metadata": {
    "execution": {
     "iopub.execute_input": "2022-06-06T16:03:33.562856Z",
     "iopub.status.busy": "2022-06-06T16:03:33.562468Z",
     "iopub.status.idle": "2022-06-06T16:03:33.568398Z",
     "shell.execute_reply": "2022-06-06T16:03:33.567359Z"
    },
    "papermill": {
     "duration": 0.056792,
     "end_time": "2022-06-06T16:03:33.570896",
     "exception": false,
     "start_time": "2022-06-06T16:03:33.514104",
     "status": "completed"
    },
    "tags": []
   },
   "outputs": [],
   "source": [
    "final_train_df = final_train_df.drop([\"Family_size\", \"SibSp\", \"Parch\"], axis=1)"
   ]
  },
  {
   "cell_type": "code",
   "execution_count": 57,
   "id": "2c9d5230",
   "metadata": {
    "execution": {
     "iopub.execute_input": "2022-06-06T16:03:33.663979Z",
     "iopub.status.busy": "2022-06-06T16:03:33.663606Z",
     "iopub.status.idle": "2022-06-06T16:03:33.685219Z",
     "shell.execute_reply": "2022-06-06T16:03:33.684141Z"
    },
    "papermill": {
     "duration": 0.070778,
     "end_time": "2022-06-06T16:03:33.687331",
     "exception": false,
     "start_time": "2022-06-06T16:03:33.616553",
     "status": "completed"
    },
    "tags": []
   },
   "outputs": [
    {
     "data": {
      "text/html": [
       "<div>\n",
       "<style scoped>\n",
       "    .dataframe tbody tr th:only-of-type {\n",
       "        vertical-align: middle;\n",
       "    }\n",
       "\n",
       "    .dataframe tbody tr th {\n",
       "        vertical-align: top;\n",
       "    }\n",
       "\n",
       "    .dataframe thead th {\n",
       "        text-align: right;\n",
       "    }\n",
       "</style>\n",
       "<table border=\"1\" class=\"dataframe\">\n",
       "  <thead>\n",
       "    <tr style=\"text-align: right;\">\n",
       "      <th></th>\n",
       "      <th></th>\n",
       "      <th>Survived</th>\n",
       "      <th>Age</th>\n",
       "      <th>female/male</th>\n",
       "      <th>Pclass_1</th>\n",
       "      <th>Pclass_2</th>\n",
       "      <th>Pclass_3</th>\n",
       "      <th>Embarked_C</th>\n",
       "      <th>Embarked_Q</th>\n",
       "      <th>Embarked_S</th>\n",
       "      <th>Title_Master</th>\n",
       "      <th>...</th>\n",
       "      <th>Deck_A</th>\n",
       "      <th>Deck_B</th>\n",
       "      <th>Deck_C</th>\n",
       "      <th>Deck_D</th>\n",
       "      <th>Deck_E</th>\n",
       "      <th>Deck_F</th>\n",
       "      <th>Deck_G</th>\n",
       "      <th>Deck_Missed</th>\n",
       "      <th>Deck_T</th>\n",
       "      <th>Is_alone</th>\n",
       "    </tr>\n",
       "  </thead>\n",
       "  <tbody>\n",
       "    <tr>\n",
       "      <th rowspan=\"3\" valign=\"top\">0</th>\n",
       "      <th>0</th>\n",
       "      <td>0.0</td>\n",
       "      <td>22.0</td>\n",
       "      <td>0</td>\n",
       "      <td>0</td>\n",
       "      <td>0</td>\n",
       "      <td>1</td>\n",
       "      <td>0</td>\n",
       "      <td>0</td>\n",
       "      <td>1</td>\n",
       "      <td>0</td>\n",
       "      <td>...</td>\n",
       "      <td>0</td>\n",
       "      <td>0</td>\n",
       "      <td>0</td>\n",
       "      <td>0</td>\n",
       "      <td>0</td>\n",
       "      <td>0</td>\n",
       "      <td>0</td>\n",
       "      <td>1</td>\n",
       "      <td>0</td>\n",
       "      <td>0</td>\n",
       "    </tr>\n",
       "    <tr>\n",
       "      <th>1</th>\n",
       "      <td>1.0</td>\n",
       "      <td>38.0</td>\n",
       "      <td>1</td>\n",
       "      <td>1</td>\n",
       "      <td>0</td>\n",
       "      <td>0</td>\n",
       "      <td>1</td>\n",
       "      <td>0</td>\n",
       "      <td>0</td>\n",
       "      <td>0</td>\n",
       "      <td>...</td>\n",
       "      <td>0</td>\n",
       "      <td>0</td>\n",
       "      <td>1</td>\n",
       "      <td>0</td>\n",
       "      <td>0</td>\n",
       "      <td>0</td>\n",
       "      <td>0</td>\n",
       "      <td>0</td>\n",
       "      <td>0</td>\n",
       "      <td>0</td>\n",
       "    </tr>\n",
       "    <tr>\n",
       "      <th>2</th>\n",
       "      <td>1.0</td>\n",
       "      <td>26.0</td>\n",
       "      <td>1</td>\n",
       "      <td>0</td>\n",
       "      <td>0</td>\n",
       "      <td>1</td>\n",
       "      <td>0</td>\n",
       "      <td>0</td>\n",
       "      <td>1</td>\n",
       "      <td>0</td>\n",
       "      <td>...</td>\n",
       "      <td>0</td>\n",
       "      <td>0</td>\n",
       "      <td>0</td>\n",
       "      <td>0</td>\n",
       "      <td>0</td>\n",
       "      <td>0</td>\n",
       "      <td>0</td>\n",
       "      <td>1</td>\n",
       "      <td>0</td>\n",
       "      <td>1</td>\n",
       "    </tr>\n",
       "  </tbody>\n",
       "</table>\n",
       "<p>3 rows × 24 columns</p>\n",
       "</div>"
      ],
      "text/plain": [
       "     Survived   Age  female/male  Pclass_1  Pclass_2  Pclass_3  Embarked_C  \\\n",
       "0 0       0.0  22.0            0         0         0         1           0   \n",
       "  1       1.0  38.0            1         1         0         0           1   \n",
       "  2       1.0  26.0            1         0         0         1           0   \n",
       "\n",
       "     Embarked_Q  Embarked_S  Title_Master  ...  Deck_A  Deck_B  Deck_C  \\\n",
       "0 0           0           1             0  ...       0       0       0   \n",
       "  1           0           0             0  ...       0       0       1   \n",
       "  2           0           1             0  ...       0       0       0   \n",
       "\n",
       "     Deck_D  Deck_E  Deck_F  Deck_G  Deck_Missed  Deck_T  Is_alone  \n",
       "0 0       0       0       0       0            1       0         0  \n",
       "  1       0       0       0       0            0       0         0  \n",
       "  2       0       0       0       0            1       0         1  \n",
       "\n",
       "[3 rows x 24 columns]"
      ]
     },
     "execution_count": 57,
     "metadata": {},
     "output_type": "execute_result"
    }
   ],
   "source": [
    "final_train_df.head(3)"
   ]
  },
  {
   "cell_type": "markdown",
   "id": "3d54c72b",
   "metadata": {
    "papermill": {
     "duration": 0.046178,
     "end_time": "2022-06-06T16:03:33.779201",
     "exception": false,
     "start_time": "2022-06-06T16:03:33.733023",
     "status": "completed"
    },
    "tags": []
   },
   "source": [
    "### Clustering for filling Nans"
   ]
  },
  {
   "cell_type": "markdown",
   "id": "ab6f8e62",
   "metadata": {
    "papermill": {
     "duration": 0.045355,
     "end_time": "2022-06-06T16:03:33.870933",
     "exception": false,
     "start_time": "2022-06-06T16:03:33.825578",
     "status": "completed"
    },
    "tags": []
   },
   "source": [
    "**We fill the missing values in \"Age\" by using cluster analysis. You can check this [notebook](https://www.kaggle.com/code/alexeyshakov/titanic) for more information**"
   ]
  },
  {
   "cell_type": "code",
   "execution_count": 58,
   "id": "9076e70e",
   "metadata": {
    "execution": {
     "iopub.execute_input": "2022-06-06T16:03:33.966516Z",
     "iopub.status.busy": "2022-06-06T16:03:33.966109Z",
     "iopub.status.idle": "2022-06-06T16:03:33.990255Z",
     "shell.execute_reply": "2022-06-06T16:03:33.989484Z"
    },
    "papermill": {
     "duration": 0.074828,
     "end_time": "2022-06-06T16:03:33.992487",
     "exception": false,
     "start_time": "2022-06-06T16:03:33.917659",
     "status": "completed"
    },
    "tags": []
   },
   "outputs": [
    {
     "data": {
      "text/html": [
       "<div>\n",
       "<style scoped>\n",
       "    .dataframe tbody tr th:only-of-type {\n",
       "        vertical-align: middle;\n",
       "    }\n",
       "\n",
       "    .dataframe tbody tr th {\n",
       "        vertical-align: top;\n",
       "    }\n",
       "\n",
       "    .dataframe thead th {\n",
       "        text-align: right;\n",
       "    }\n",
       "</style>\n",
       "<table border=\"1\" class=\"dataframe\">\n",
       "  <thead>\n",
       "    <tr style=\"text-align: right;\">\n",
       "      <th></th>\n",
       "      <th></th>\n",
       "      <th>Survived</th>\n",
       "      <th>Age</th>\n",
       "      <th>female/male</th>\n",
       "      <th>Pclass_1</th>\n",
       "      <th>Pclass_2</th>\n",
       "      <th>Pclass_3</th>\n",
       "      <th>Embarked_C</th>\n",
       "      <th>Embarked_Q</th>\n",
       "      <th>Embarked_S</th>\n",
       "      <th>Title_Master</th>\n",
       "      <th>...</th>\n",
       "      <th>Deck_A</th>\n",
       "      <th>Deck_B</th>\n",
       "      <th>Deck_C</th>\n",
       "      <th>Deck_D</th>\n",
       "      <th>Deck_E</th>\n",
       "      <th>Deck_F</th>\n",
       "      <th>Deck_G</th>\n",
       "      <th>Deck_Missed</th>\n",
       "      <th>Deck_T</th>\n",
       "      <th>Is_alone</th>\n",
       "    </tr>\n",
       "  </thead>\n",
       "  <tbody>\n",
       "    <tr>\n",
       "      <th rowspan=\"5\" valign=\"top\">0</th>\n",
       "      <th>0</th>\n",
       "      <td>0.0</td>\n",
       "      <td>22.0</td>\n",
       "      <td>0</td>\n",
       "      <td>0</td>\n",
       "      <td>0</td>\n",
       "      <td>1</td>\n",
       "      <td>0</td>\n",
       "      <td>0</td>\n",
       "      <td>1</td>\n",
       "      <td>0</td>\n",
       "      <td>...</td>\n",
       "      <td>0</td>\n",
       "      <td>0</td>\n",
       "      <td>0</td>\n",
       "      <td>0</td>\n",
       "      <td>0</td>\n",
       "      <td>0</td>\n",
       "      <td>0</td>\n",
       "      <td>1</td>\n",
       "      <td>0</td>\n",
       "      <td>0</td>\n",
       "    </tr>\n",
       "    <tr>\n",
       "      <th>1</th>\n",
       "      <td>1.0</td>\n",
       "      <td>38.0</td>\n",
       "      <td>1</td>\n",
       "      <td>1</td>\n",
       "      <td>0</td>\n",
       "      <td>0</td>\n",
       "      <td>1</td>\n",
       "      <td>0</td>\n",
       "      <td>0</td>\n",
       "      <td>0</td>\n",
       "      <td>...</td>\n",
       "      <td>0</td>\n",
       "      <td>0</td>\n",
       "      <td>1</td>\n",
       "      <td>0</td>\n",
       "      <td>0</td>\n",
       "      <td>0</td>\n",
       "      <td>0</td>\n",
       "      <td>0</td>\n",
       "      <td>0</td>\n",
       "      <td>0</td>\n",
       "    </tr>\n",
       "    <tr>\n",
       "      <th>2</th>\n",
       "      <td>1.0</td>\n",
       "      <td>26.0</td>\n",
       "      <td>1</td>\n",
       "      <td>0</td>\n",
       "      <td>0</td>\n",
       "      <td>1</td>\n",
       "      <td>0</td>\n",
       "      <td>0</td>\n",
       "      <td>1</td>\n",
       "      <td>0</td>\n",
       "      <td>...</td>\n",
       "      <td>0</td>\n",
       "      <td>0</td>\n",
       "      <td>0</td>\n",
       "      <td>0</td>\n",
       "      <td>0</td>\n",
       "      <td>0</td>\n",
       "      <td>0</td>\n",
       "      <td>1</td>\n",
       "      <td>0</td>\n",
       "      <td>1</td>\n",
       "    </tr>\n",
       "    <tr>\n",
       "      <th>3</th>\n",
       "      <td>1.0</td>\n",
       "      <td>35.0</td>\n",
       "      <td>1</td>\n",
       "      <td>1</td>\n",
       "      <td>0</td>\n",
       "      <td>0</td>\n",
       "      <td>0</td>\n",
       "      <td>0</td>\n",
       "      <td>1</td>\n",
       "      <td>0</td>\n",
       "      <td>...</td>\n",
       "      <td>0</td>\n",
       "      <td>0</td>\n",
       "      <td>1</td>\n",
       "      <td>0</td>\n",
       "      <td>0</td>\n",
       "      <td>0</td>\n",
       "      <td>0</td>\n",
       "      <td>0</td>\n",
       "      <td>0</td>\n",
       "      <td>0</td>\n",
       "    </tr>\n",
       "    <tr>\n",
       "      <th>4</th>\n",
       "      <td>0.0</td>\n",
       "      <td>35.0</td>\n",
       "      <td>0</td>\n",
       "      <td>0</td>\n",
       "      <td>0</td>\n",
       "      <td>1</td>\n",
       "      <td>0</td>\n",
       "      <td>0</td>\n",
       "      <td>1</td>\n",
       "      <td>0</td>\n",
       "      <td>...</td>\n",
       "      <td>0</td>\n",
       "      <td>0</td>\n",
       "      <td>0</td>\n",
       "      <td>0</td>\n",
       "      <td>0</td>\n",
       "      <td>0</td>\n",
       "      <td>0</td>\n",
       "      <td>1</td>\n",
       "      <td>0</td>\n",
       "      <td>1</td>\n",
       "    </tr>\n",
       "  </tbody>\n",
       "</table>\n",
       "<p>5 rows × 24 columns</p>\n",
       "</div>"
      ],
      "text/plain": [
       "     Survived   Age  female/male  Pclass_1  Pclass_2  Pclass_3  Embarked_C  \\\n",
       "0 0       0.0  22.0            0         0         0         1           0   \n",
       "  1       1.0  38.0            1         1         0         0           1   \n",
       "  2       1.0  26.0            1         0         0         1           0   \n",
       "  3       1.0  35.0            1         1         0         0           0   \n",
       "  4       0.0  35.0            0         0         0         1           0   \n",
       "\n",
       "     Embarked_Q  Embarked_S  Title_Master  ...  Deck_A  Deck_B  Deck_C  \\\n",
       "0 0           0           1             0  ...       0       0       0   \n",
       "  1           0           0             0  ...       0       0       1   \n",
       "  2           0           1             0  ...       0       0       0   \n",
       "  3           0           1             0  ...       0       0       1   \n",
       "  4           0           1             0  ...       0       0       0   \n",
       "\n",
       "     Deck_D  Deck_E  Deck_F  Deck_G  Deck_Missed  Deck_T  Is_alone  \n",
       "0 0       0       0       0       0            1       0         0  \n",
       "  1       0       0       0       0            0       0         0  \n",
       "  2       0       0       0       0            1       0         1  \n",
       "  3       0       0       0       0            0       0         0  \n",
       "  4       0       0       0       0            1       0         1  \n",
       "\n",
       "[5 rows x 24 columns]"
      ]
     },
     "execution_count": 58,
     "metadata": {},
     "output_type": "execute_result"
    }
   ],
   "source": [
    "final_train_df_cluster = final_train_df.copy()\n",
    "final_train_df_cluster.head()"
   ]
  },
  {
   "cell_type": "code",
   "execution_count": 59,
   "id": "109dd43b",
   "metadata": {
    "execution": {
     "iopub.execute_input": "2022-06-06T16:03:34.090003Z",
     "iopub.status.busy": "2022-06-06T16:03:34.089585Z",
     "iopub.status.idle": "2022-06-06T16:03:34.106294Z",
     "shell.execute_reply": "2022-06-06T16:03:34.104915Z"
    },
    "papermill": {
     "duration": 0.06936,
     "end_time": "2022-06-06T16:03:34.108639",
     "exception": false,
     "start_time": "2022-06-06T16:03:34.039279",
     "status": "completed"
    },
    "tags": []
   },
   "outputs": [
    {
     "name": "stdout",
     "output_type": "stream",
     "text": [
      "<class 'pandas.core.frame.DataFrame'>\n",
      "MultiIndex: 1309 entries, (0, 0) to (1, 417)\n",
      "Data columns (total 24 columns):\n",
      " #   Column        Non-Null Count  Dtype  \n",
      "---  ------        --------------  -----  \n",
      " 0   Survived      891 non-null    float64\n",
      " 1   Age           1046 non-null   float64\n",
      " 2   female/male   1309 non-null   uint8  \n",
      " 3   Pclass_1      1309 non-null   uint8  \n",
      " 4   Pclass_2      1309 non-null   uint8  \n",
      " 5   Pclass_3      1309 non-null   uint8  \n",
      " 6   Embarked_C    1309 non-null   uint8  \n",
      " 7   Embarked_Q    1309 non-null   uint8  \n",
      " 8   Embarked_S    1309 non-null   uint8  \n",
      " 9   Title_Master  1309 non-null   uint8  \n",
      " 10  Title_Miss    1309 non-null   uint8  \n",
      " 11  Title_Mr      1309 non-null   uint8  \n",
      " 12  Title_Mrs     1309 non-null   uint8  \n",
      " 13  Title_other   1309 non-null   uint8  \n",
      " 14  Deck_A        1309 non-null   uint8  \n",
      " 15  Deck_B        1309 non-null   uint8  \n",
      " 16  Deck_C        1309 non-null   uint8  \n",
      " 17  Deck_D        1309 non-null   uint8  \n",
      " 18  Deck_E        1309 non-null   uint8  \n",
      " 19  Deck_F        1309 non-null   uint8  \n",
      " 20  Deck_G        1309 non-null   uint8  \n",
      " 21  Deck_Missed   1309 non-null   uint8  \n",
      " 22  Deck_T        1309 non-null   uint8  \n",
      " 23  Is_alone      1309 non-null   int64  \n",
      "dtypes: float64(2), int64(1), uint8(21)\n",
      "memory usage: 100.8 KB\n"
     ]
    }
   ],
   "source": [
    "final_train_df_cluster.info()"
   ]
  },
  {
   "cell_type": "code",
   "execution_count": 60,
   "id": "e2cc58e3",
   "metadata": {
    "execution": {
     "iopub.execute_input": "2022-06-06T16:03:34.203562Z",
     "iopub.status.busy": "2022-06-06T16:03:34.202795Z",
     "iopub.status.idle": "2022-06-06T16:03:34.226578Z",
     "shell.execute_reply": "2022-06-06T16:03:34.225644Z"
    },
    "papermill": {
     "duration": 0.073464,
     "end_time": "2022-06-06T16:03:34.228691",
     "exception": false,
     "start_time": "2022-06-06T16:03:34.155227",
     "status": "completed"
    },
    "tags": []
   },
   "outputs": [
    {
     "data": {
      "text/html": [
       "<div>\n",
       "<style scoped>\n",
       "    .dataframe tbody tr th:only-of-type {\n",
       "        vertical-align: middle;\n",
       "    }\n",
       "\n",
       "    .dataframe tbody tr th {\n",
       "        vertical-align: top;\n",
       "    }\n",
       "\n",
       "    .dataframe thead th {\n",
       "        text-align: right;\n",
       "    }\n",
       "</style>\n",
       "<table border=\"1\" class=\"dataframe\">\n",
       "  <thead>\n",
       "    <tr style=\"text-align: right;\">\n",
       "      <th></th>\n",
       "      <th></th>\n",
       "      <th>female/male</th>\n",
       "      <th>Pclass_1</th>\n",
       "      <th>Pclass_2</th>\n",
       "      <th>Pclass_3</th>\n",
       "      <th>Embarked_C</th>\n",
       "      <th>Embarked_Q</th>\n",
       "      <th>Embarked_S</th>\n",
       "      <th>Title_Master</th>\n",
       "      <th>Title_Miss</th>\n",
       "      <th>Title_Mr</th>\n",
       "      <th>...</th>\n",
       "      <th>Deck_A</th>\n",
       "      <th>Deck_B</th>\n",
       "      <th>Deck_C</th>\n",
       "      <th>Deck_D</th>\n",
       "      <th>Deck_E</th>\n",
       "      <th>Deck_F</th>\n",
       "      <th>Deck_G</th>\n",
       "      <th>Deck_Missed</th>\n",
       "      <th>Deck_T</th>\n",
       "      <th>Is_alone</th>\n",
       "    </tr>\n",
       "  </thead>\n",
       "  <tbody>\n",
       "    <tr>\n",
       "      <th rowspan=\"5\" valign=\"top\">0</th>\n",
       "      <th>0</th>\n",
       "      <td>0</td>\n",
       "      <td>0</td>\n",
       "      <td>0</td>\n",
       "      <td>1</td>\n",
       "      <td>0</td>\n",
       "      <td>0</td>\n",
       "      <td>1</td>\n",
       "      <td>0</td>\n",
       "      <td>0</td>\n",
       "      <td>1</td>\n",
       "      <td>...</td>\n",
       "      <td>0</td>\n",
       "      <td>0</td>\n",
       "      <td>0</td>\n",
       "      <td>0</td>\n",
       "      <td>0</td>\n",
       "      <td>0</td>\n",
       "      <td>0</td>\n",
       "      <td>1</td>\n",
       "      <td>0</td>\n",
       "      <td>0</td>\n",
       "    </tr>\n",
       "    <tr>\n",
       "      <th>1</th>\n",
       "      <td>1</td>\n",
       "      <td>1</td>\n",
       "      <td>0</td>\n",
       "      <td>0</td>\n",
       "      <td>1</td>\n",
       "      <td>0</td>\n",
       "      <td>0</td>\n",
       "      <td>0</td>\n",
       "      <td>0</td>\n",
       "      <td>0</td>\n",
       "      <td>...</td>\n",
       "      <td>0</td>\n",
       "      <td>0</td>\n",
       "      <td>1</td>\n",
       "      <td>0</td>\n",
       "      <td>0</td>\n",
       "      <td>0</td>\n",
       "      <td>0</td>\n",
       "      <td>0</td>\n",
       "      <td>0</td>\n",
       "      <td>0</td>\n",
       "    </tr>\n",
       "    <tr>\n",
       "      <th>2</th>\n",
       "      <td>1</td>\n",
       "      <td>0</td>\n",
       "      <td>0</td>\n",
       "      <td>1</td>\n",
       "      <td>0</td>\n",
       "      <td>0</td>\n",
       "      <td>1</td>\n",
       "      <td>0</td>\n",
       "      <td>1</td>\n",
       "      <td>0</td>\n",
       "      <td>...</td>\n",
       "      <td>0</td>\n",
       "      <td>0</td>\n",
       "      <td>0</td>\n",
       "      <td>0</td>\n",
       "      <td>0</td>\n",
       "      <td>0</td>\n",
       "      <td>0</td>\n",
       "      <td>1</td>\n",
       "      <td>0</td>\n",
       "      <td>1</td>\n",
       "    </tr>\n",
       "    <tr>\n",
       "      <th>3</th>\n",
       "      <td>1</td>\n",
       "      <td>1</td>\n",
       "      <td>0</td>\n",
       "      <td>0</td>\n",
       "      <td>0</td>\n",
       "      <td>0</td>\n",
       "      <td>1</td>\n",
       "      <td>0</td>\n",
       "      <td>0</td>\n",
       "      <td>0</td>\n",
       "      <td>...</td>\n",
       "      <td>0</td>\n",
       "      <td>0</td>\n",
       "      <td>1</td>\n",
       "      <td>0</td>\n",
       "      <td>0</td>\n",
       "      <td>0</td>\n",
       "      <td>0</td>\n",
       "      <td>0</td>\n",
       "      <td>0</td>\n",
       "      <td>0</td>\n",
       "    </tr>\n",
       "    <tr>\n",
       "      <th>4</th>\n",
       "      <td>0</td>\n",
       "      <td>0</td>\n",
       "      <td>0</td>\n",
       "      <td>1</td>\n",
       "      <td>0</td>\n",
       "      <td>0</td>\n",
       "      <td>1</td>\n",
       "      <td>0</td>\n",
       "      <td>0</td>\n",
       "      <td>1</td>\n",
       "      <td>...</td>\n",
       "      <td>0</td>\n",
       "      <td>0</td>\n",
       "      <td>0</td>\n",
       "      <td>0</td>\n",
       "      <td>0</td>\n",
       "      <td>0</td>\n",
       "      <td>0</td>\n",
       "      <td>1</td>\n",
       "      <td>0</td>\n",
       "      <td>1</td>\n",
       "    </tr>\n",
       "  </tbody>\n",
       "</table>\n",
       "<p>5 rows × 22 columns</p>\n",
       "</div>"
      ],
      "text/plain": [
       "     female/male  Pclass_1  Pclass_2  Pclass_3  Embarked_C  Embarked_Q  \\\n",
       "0 0            0         0         0         1           0           0   \n",
       "  1            1         1         0         0           1           0   \n",
       "  2            1         0         0         1           0           0   \n",
       "  3            1         1         0         0           0           0   \n",
       "  4            0         0         0         1           0           0   \n",
       "\n",
       "     Embarked_S  Title_Master  Title_Miss  Title_Mr  ...  Deck_A  Deck_B  \\\n",
       "0 0           1             0           0         1  ...       0       0   \n",
       "  1           0             0           0         0  ...       0       0   \n",
       "  2           1             0           1         0  ...       0       0   \n",
       "  3           1             0           0         0  ...       0       0   \n",
       "  4           1             0           0         1  ...       0       0   \n",
       "\n",
       "     Deck_C  Deck_D  Deck_E  Deck_F  Deck_G  Deck_Missed  Deck_T  Is_alone  \n",
       "0 0       0       0       0       0       0            1       0         0  \n",
       "  1       1       0       0       0       0            0       0         0  \n",
       "  2       0       0       0       0       0            1       0         1  \n",
       "  3       1       0       0       0       0            0       0         0  \n",
       "  4       0       0       0       0       0            1       0         1  \n",
       "\n",
       "[5 rows x 22 columns]"
      ]
     },
     "execution_count": 60,
     "metadata": {},
     "output_type": "execute_result"
    }
   ],
   "source": [
    "# Import the whiten function\n",
    "from scipy.cluster.vq import whiten\n",
    "\n",
    "# get the columns names without 'Age'\n",
    "columns_names = list(final_train_df_cluster.columns)\n",
    "columns_names.remove(\"Age\")\n",
    "columns_names.remove(\"Survived\")\n",
    "\n",
    "# drop age columns as we'll cluster obesvations without it\n",
    "final_train_df_cluster.drop([\"Age\", \"Survived\"], axis=1, inplace=True)\n",
    "\n",
    "final_train_df_cluster.head()"
   ]
  },
  {
   "cell_type": "code",
   "execution_count": 61,
   "id": "63523855",
   "metadata": {
    "execution": {
     "iopub.execute_input": "2022-06-06T16:03:34.326197Z",
     "iopub.status.busy": "2022-06-06T16:03:34.325747Z",
     "iopub.status.idle": "2022-06-06T16:03:34.378235Z",
     "shell.execute_reply": "2022-06-06T16:03:34.377292Z"
    },
    "papermill": {
     "duration": 0.103788,
     "end_time": "2022-06-06T16:03:34.380934",
     "exception": false,
     "start_time": "2022-06-06T16:03:34.277146",
     "status": "completed"
    },
    "tags": []
   },
   "outputs": [],
   "source": [
    "# Import the fcluster and linkage functions\n",
    "from scipy.cluster.hierarchy import fcluster, linkage\n",
    "\n",
    "# Use the linkage() function\n",
    "distance_matrix = linkage(final_train_df_cluster.to_numpy(), method = 'ward', metric = 'euclidean')"
   ]
  },
  {
   "cell_type": "code",
   "execution_count": 62,
   "id": "993cf382",
   "metadata": {
    "execution": {
     "iopub.execute_input": "2022-06-06T16:03:34.485298Z",
     "iopub.status.busy": "2022-06-06T16:03:34.484871Z",
     "iopub.status.idle": "2022-06-06T16:03:58.909042Z",
     "shell.execute_reply": "2022-06-06T16:03:58.908072Z"
    },
    "papermill": {
     "duration": 24.479962,
     "end_time": "2022-06-06T16:03:58.911151",
     "exception": false,
     "start_time": "2022-06-06T16:03:34.431189",
     "status": "completed"
    },
    "tags": []
   },
   "outputs": [
    {
     "data": {
      "image/png": "[encoded data removed]",
      "text/plain": [
       "<Figure size 864x576 with 1 Axes>"
      ]
     },
     "metadata": {
      "needs_background": "light"
     },
     "output_type": "display_data"
    }
   ],
   "source": [
    "fig = plt.figure(figsize=(12,8))\n",
    "# Import the dendrogram function\n",
    "from scipy.cluster.hierarchy import dendrogram\n",
    " \n",
    "# Create a dendrogram\n",
    "dn = dendrogram(distance_matrix)\n",
    " \n",
    "# Display the dendogram\n",
    "plt.show()"
   ]
  },
  {
   "cell_type": "code",
   "execution_count": 63,
   "id": "3857a512",
   "metadata": {
    "execution": {
     "iopub.execute_input": "2022-06-06T16:03:59.009528Z",
     "iopub.status.busy": "2022-06-06T16:03:59.009101Z",
     "iopub.status.idle": "2022-06-06T16:03:59.013151Z",
     "shell.execute_reply": "2022-06-06T16:03:59.012260Z"
    },
    "papermill": {
     "duration": 0.056349,
     "end_time": "2022-06-06T16:03:59.015226",
     "exception": false,
     "start_time": "2022-06-06T16:03:58.958877",
     "status": "completed"
    },
    "tags": []
   },
   "outputs": [],
   "source": [
    "# n_clust_hier = 3\n",
    "thresh = 25"
   ]
  },
  {
   "cell_type": "code",
   "execution_count": 64,
   "id": "799c4248",
   "metadata": {
    "execution": {
     "iopub.execute_input": "2022-06-06T16:03:59.114500Z",
     "iopub.status.busy": "2022-06-06T16:03:59.114112Z",
     "iopub.status.idle": "2022-06-06T16:03:59.139883Z",
     "shell.execute_reply": "2022-06-06T16:03:59.139179Z"
    },
    "papermill": {
     "duration": 0.077267,
     "end_time": "2022-06-06T16:03:59.141908",
     "exception": false,
     "start_time": "2022-06-06T16:03:59.064641",
     "status": "completed"
    },
    "tags": []
   },
   "outputs": [
    {
     "data": {
      "text/html": [
       "<div>\n",
       "<style scoped>\n",
       "    .dataframe tbody tr th:only-of-type {\n",
       "        vertical-align: middle;\n",
       "    }\n",
       "\n",
       "    .dataframe tbody tr th {\n",
       "        vertical-align: top;\n",
       "    }\n",
       "\n",
       "    .dataframe thead th {\n",
       "        text-align: right;\n",
       "    }\n",
       "</style>\n",
       "<table border=\"1\" class=\"dataframe\">\n",
       "  <thead>\n",
       "    <tr style=\"text-align: right;\">\n",
       "      <th></th>\n",
       "      <th></th>\n",
       "      <th>female/male</th>\n",
       "      <th>Pclass_1</th>\n",
       "      <th>Pclass_2</th>\n",
       "      <th>Pclass_3</th>\n",
       "      <th>Embarked_C</th>\n",
       "      <th>Embarked_Q</th>\n",
       "      <th>Embarked_S</th>\n",
       "      <th>Title_Master</th>\n",
       "      <th>Title_Miss</th>\n",
       "      <th>Title_Mr</th>\n",
       "      <th>...</th>\n",
       "      <th>Deck_B</th>\n",
       "      <th>Deck_C</th>\n",
       "      <th>Deck_D</th>\n",
       "      <th>Deck_E</th>\n",
       "      <th>Deck_F</th>\n",
       "      <th>Deck_G</th>\n",
       "      <th>Deck_Missed</th>\n",
       "      <th>Deck_T</th>\n",
       "      <th>Is_alone</th>\n",
       "      <th>cluster_labels</th>\n",
       "    </tr>\n",
       "  </thead>\n",
       "  <tbody>\n",
       "    <tr>\n",
       "      <th rowspan=\"5\" valign=\"top\">0</th>\n",
       "      <th>0</th>\n",
       "      <td>0</td>\n",
       "      <td>0</td>\n",
       "      <td>0</td>\n",
       "      <td>1</td>\n",
       "      <td>0</td>\n",
       "      <td>0</td>\n",
       "      <td>1</td>\n",
       "      <td>0</td>\n",
       "      <td>0</td>\n",
       "      <td>1</td>\n",
       "      <td>...</td>\n",
       "      <td>0</td>\n",
       "      <td>0</td>\n",
       "      <td>0</td>\n",
       "      <td>0</td>\n",
       "      <td>0</td>\n",
       "      <td>0</td>\n",
       "      <td>1</td>\n",
       "      <td>0</td>\n",
       "      <td>0</td>\n",
       "      <td>2</td>\n",
       "    </tr>\n",
       "    <tr>\n",
       "      <th>1</th>\n",
       "      <td>1</td>\n",
       "      <td>1</td>\n",
       "      <td>0</td>\n",
       "      <td>0</td>\n",
       "      <td>1</td>\n",
       "      <td>0</td>\n",
       "      <td>0</td>\n",
       "      <td>0</td>\n",
       "      <td>0</td>\n",
       "      <td>0</td>\n",
       "      <td>...</td>\n",
       "      <td>0</td>\n",
       "      <td>1</td>\n",
       "      <td>0</td>\n",
       "      <td>0</td>\n",
       "      <td>0</td>\n",
       "      <td>0</td>\n",
       "      <td>0</td>\n",
       "      <td>0</td>\n",
       "      <td>0</td>\n",
       "      <td>1</td>\n",
       "    </tr>\n",
       "    <tr>\n",
       "      <th>2</th>\n",
       "      <td>1</td>\n",
       "      <td>0</td>\n",
       "      <td>0</td>\n",
       "      <td>1</td>\n",
       "      <td>0</td>\n",
       "      <td>0</td>\n",
       "      <td>1</td>\n",
       "      <td>0</td>\n",
       "      <td>1</td>\n",
       "      <td>0</td>\n",
       "      <td>...</td>\n",
       "      <td>0</td>\n",
       "      <td>0</td>\n",
       "      <td>0</td>\n",
       "      <td>0</td>\n",
       "      <td>0</td>\n",
       "      <td>0</td>\n",
       "      <td>1</td>\n",
       "      <td>0</td>\n",
       "      <td>1</td>\n",
       "      <td>3</td>\n",
       "    </tr>\n",
       "    <tr>\n",
       "      <th>3</th>\n",
       "      <td>1</td>\n",
       "      <td>1</td>\n",
       "      <td>0</td>\n",
       "      <td>0</td>\n",
       "      <td>0</td>\n",
       "      <td>0</td>\n",
       "      <td>1</td>\n",
       "      <td>0</td>\n",
       "      <td>0</td>\n",
       "      <td>0</td>\n",
       "      <td>...</td>\n",
       "      <td>0</td>\n",
       "      <td>1</td>\n",
       "      <td>0</td>\n",
       "      <td>0</td>\n",
       "      <td>0</td>\n",
       "      <td>0</td>\n",
       "      <td>0</td>\n",
       "      <td>0</td>\n",
       "      <td>0</td>\n",
       "      <td>1</td>\n",
       "    </tr>\n",
       "    <tr>\n",
       "      <th>4</th>\n",
       "      <td>0</td>\n",
       "      <td>0</td>\n",
       "      <td>0</td>\n",
       "      <td>1</td>\n",
       "      <td>0</td>\n",
       "      <td>0</td>\n",
       "      <td>1</td>\n",
       "      <td>0</td>\n",
       "      <td>0</td>\n",
       "      <td>1</td>\n",
       "      <td>...</td>\n",
       "      <td>0</td>\n",
       "      <td>0</td>\n",
       "      <td>0</td>\n",
       "      <td>0</td>\n",
       "      <td>0</td>\n",
       "      <td>0</td>\n",
       "      <td>1</td>\n",
       "      <td>0</td>\n",
       "      <td>1</td>\n",
       "      <td>2</td>\n",
       "    </tr>\n",
       "  </tbody>\n",
       "</table>\n",
       "<p>5 rows × 23 columns</p>\n",
       "</div>"
      ],
      "text/plain": [
       "     female/male  Pclass_1  Pclass_2  Pclass_3  Embarked_C  Embarked_Q  \\\n",
       "0 0            0         0         0         1           0           0   \n",
       "  1            1         1         0         0           1           0   \n",
       "  2            1         0         0         1           0           0   \n",
       "  3            1         1         0         0           0           0   \n",
       "  4            0         0         0         1           0           0   \n",
       "\n",
       "     Embarked_S  Title_Master  Title_Miss  Title_Mr  ...  Deck_B  Deck_C  \\\n",
       "0 0           1             0           0         1  ...       0       0   \n",
       "  1           0             0           0         0  ...       0       1   \n",
       "  2           1             0           1         0  ...       0       0   \n",
       "  3           1             0           0         0  ...       0       1   \n",
       "  4           1             0           0         1  ...       0       0   \n",
       "\n",
       "     Deck_D  Deck_E  Deck_F  Deck_G  Deck_Missed  Deck_T  Is_alone  \\\n",
       "0 0       0       0       0       0            1       0         0   \n",
       "  1       0       0       0       0            0       0         0   \n",
       "  2       0       0       0       0            1       0         1   \n",
       "  3       0       0       0       0            0       0         0   \n",
       "  4       0       0       0       0            1       0         1   \n",
       "\n",
       "     cluster_labels  \n",
       "0 0               2  \n",
       "  1               1  \n",
       "  2               3  \n",
       "  3               1  \n",
       "  4               2  \n",
       "\n",
       "[5 rows x 23 columns]"
      ]
     },
     "execution_count": 64,
     "metadata": {},
     "output_type": "execute_result"
    }
   ],
   "source": [
    "final_train_df_cluster[\"cluster_labels\"] = fcluster(distance_matrix, thresh, criterion='distance')\n",
    "final_train_df_cluster.head()"
   ]
  },
  {
   "cell_type": "code",
   "execution_count": 65,
   "id": "99ffe578",
   "metadata": {
    "execution": {
     "iopub.execute_input": "2022-06-06T16:03:59.239395Z",
     "iopub.status.busy": "2022-06-06T16:03:59.238847Z",
     "iopub.status.idle": "2022-06-06T16:03:59.261291Z",
     "shell.execute_reply": "2022-06-06T16:03:59.260607Z"
    },
    "papermill": {
     "duration": 0.07326,
     "end_time": "2022-06-06T16:03:59.263200",
     "exception": false,
     "start_time": "2022-06-06T16:03:59.189940",
     "status": "completed"
    },
    "tags": []
   },
   "outputs": [
    {
     "data": {
      "text/html": [
       "<div>\n",
       "<style scoped>\n",
       "    .dataframe tbody tr th:only-of-type {\n",
       "        vertical-align: middle;\n",
       "    }\n",
       "\n",
       "    .dataframe tbody tr th {\n",
       "        vertical-align: top;\n",
       "    }\n",
       "\n",
       "    .dataframe thead th {\n",
       "        text-align: right;\n",
       "    }\n",
       "</style>\n",
       "<table border=\"1\" class=\"dataframe\">\n",
       "  <thead>\n",
       "    <tr style=\"text-align: right;\">\n",
       "      <th></th>\n",
       "      <th></th>\n",
       "      <th>female/male</th>\n",
       "      <th>Pclass_1</th>\n",
       "      <th>Pclass_2</th>\n",
       "      <th>Pclass_3</th>\n",
       "      <th>Embarked_C</th>\n",
       "      <th>Embarked_Q</th>\n",
       "      <th>Embarked_S</th>\n",
       "      <th>Title_Master</th>\n",
       "      <th>Title_Miss</th>\n",
       "      <th>Title_Mr</th>\n",
       "      <th>...</th>\n",
       "      <th>Deck_D</th>\n",
       "      <th>Deck_E</th>\n",
       "      <th>Deck_F</th>\n",
       "      <th>Deck_G</th>\n",
       "      <th>Deck_Missed</th>\n",
       "      <th>Deck_T</th>\n",
       "      <th>Is_alone</th>\n",
       "      <th>cluster_labels</th>\n",
       "      <th>Age</th>\n",
       "      <th>Survived</th>\n",
       "    </tr>\n",
       "  </thead>\n",
       "  <tbody>\n",
       "    <tr>\n",
       "      <th rowspan=\"5\" valign=\"top\">0</th>\n",
       "      <th>0</th>\n",
       "      <td>0</td>\n",
       "      <td>0</td>\n",
       "      <td>0</td>\n",
       "      <td>1</td>\n",
       "      <td>0</td>\n",
       "      <td>0</td>\n",
       "      <td>1</td>\n",
       "      <td>0</td>\n",
       "      <td>0</td>\n",
       "      <td>1</td>\n",
       "      <td>...</td>\n",
       "      <td>0</td>\n",
       "      <td>0</td>\n",
       "      <td>0</td>\n",
       "      <td>0</td>\n",
       "      <td>1</td>\n",
       "      <td>0</td>\n",
       "      <td>0</td>\n",
       "      <td>2</td>\n",
       "      <td>22.0</td>\n",
       "      <td>0.0</td>\n",
       "    </tr>\n",
       "    <tr>\n",
       "      <th>1</th>\n",
       "      <td>1</td>\n",
       "      <td>1</td>\n",
       "      <td>0</td>\n",
       "      <td>0</td>\n",
       "      <td>1</td>\n",
       "      <td>0</td>\n",
       "      <td>0</td>\n",
       "      <td>0</td>\n",
       "      <td>0</td>\n",
       "      <td>0</td>\n",
       "      <td>...</td>\n",
       "      <td>0</td>\n",
       "      <td>0</td>\n",
       "      <td>0</td>\n",
       "      <td>0</td>\n",
       "      <td>0</td>\n",
       "      <td>0</td>\n",
       "      <td>0</td>\n",
       "      <td>1</td>\n",
       "      <td>38.0</td>\n",
       "      <td>1.0</td>\n",
       "    </tr>\n",
       "    <tr>\n",
       "      <th>2</th>\n",
       "      <td>1</td>\n",
       "      <td>0</td>\n",
       "      <td>0</td>\n",
       "      <td>1</td>\n",
       "      <td>0</td>\n",
       "      <td>0</td>\n",
       "      <td>1</td>\n",
       "      <td>0</td>\n",
       "      <td>1</td>\n",
       "      <td>0</td>\n",
       "      <td>...</td>\n",
       "      <td>0</td>\n",
       "      <td>0</td>\n",
       "      <td>0</td>\n",
       "      <td>0</td>\n",
       "      <td>1</td>\n",
       "      <td>0</td>\n",
       "      <td>1</td>\n",
       "      <td>3</td>\n",
       "      <td>26.0</td>\n",
       "      <td>1.0</td>\n",
       "    </tr>\n",
       "    <tr>\n",
       "      <th>3</th>\n",
       "      <td>1</td>\n",
       "      <td>1</td>\n",
       "      <td>0</td>\n",
       "      <td>0</td>\n",
       "      <td>0</td>\n",
       "      <td>0</td>\n",
       "      <td>1</td>\n",
       "      <td>0</td>\n",
       "      <td>0</td>\n",
       "      <td>0</td>\n",
       "      <td>...</td>\n",
       "      <td>0</td>\n",
       "      <td>0</td>\n",
       "      <td>0</td>\n",
       "      <td>0</td>\n",
       "      <td>0</td>\n",
       "      <td>0</td>\n",
       "      <td>0</td>\n",
       "      <td>1</td>\n",
       "      <td>35.0</td>\n",
       "      <td>1.0</td>\n",
       "    </tr>\n",
       "    <tr>\n",
       "      <th>4</th>\n",
       "      <td>0</td>\n",
       "      <td>0</td>\n",
       "      <td>0</td>\n",
       "      <td>1</td>\n",
       "      <td>0</td>\n",
       "      <td>0</td>\n",
       "      <td>1</td>\n",
       "      <td>0</td>\n",
       "      <td>0</td>\n",
       "      <td>1</td>\n",
       "      <td>...</td>\n",
       "      <td>0</td>\n",
       "      <td>0</td>\n",
       "      <td>0</td>\n",
       "      <td>0</td>\n",
       "      <td>1</td>\n",
       "      <td>0</td>\n",
       "      <td>1</td>\n",
       "      <td>2</td>\n",
       "      <td>35.0</td>\n",
       "      <td>0.0</td>\n",
       "    </tr>\n",
       "  </tbody>\n",
       "</table>\n",
       "<p>5 rows × 25 columns</p>\n",
       "</div>"
      ],
      "text/plain": [
       "     female/male  Pclass_1  Pclass_2  Pclass_3  Embarked_C  Embarked_Q  \\\n",
       "0 0            0         0         0         1           0           0   \n",
       "  1            1         1         0         0           1           0   \n",
       "  2            1         0         0         1           0           0   \n",
       "  3            1         1         0         0           0           0   \n",
       "  4            0         0         0         1           0           0   \n",
       "\n",
       "     Embarked_S  Title_Master  Title_Miss  Title_Mr  ...  Deck_D  Deck_E  \\\n",
       "0 0           1             0           0         1  ...       0       0   \n",
       "  1           0             0           0         0  ...       0       0   \n",
       "  2           1             0           1         0  ...       0       0   \n",
       "  3           1             0           0         0  ...       0       0   \n",
       "  4           1             0           0         1  ...       0       0   \n",
       "\n",
       "     Deck_F  Deck_G  Deck_Missed  Deck_T  Is_alone  cluster_labels   Age  \\\n",
       "0 0       0       0            1       0         0               2  22.0   \n",
       "  1       0       0            0       0         0               1  38.0   \n",
       "  2       0       0            1       0         1               3  26.0   \n",
       "  3       0       0            0       0         0               1  35.0   \n",
       "  4       0       0            1       0         1               2  35.0   \n",
       "\n",
       "     Survived  \n",
       "0 0       0.0  \n",
       "  1       1.0  \n",
       "  2       1.0  \n",
       "  3       1.0  \n",
       "  4       0.0  \n",
       "\n",
       "[5 rows x 25 columns]"
      ]
     },
     "execution_count": 65,
     "metadata": {},
     "output_type": "execute_result"
    }
   ],
   "source": [
    "# add age column from the initial dataset\n",
    "final_train_df_cluster = pd.concat([final_train_df_cluster, final_train_df[[\"Age\", \"Survived\"]]], axis=1)\n",
    "final_train_df_cluster.head()"
   ]
  },
  {
   "cell_type": "code",
   "execution_count": 66,
   "id": "419f3d18",
   "metadata": {
    "execution": {
     "iopub.execute_input": "2022-06-06T16:03:59.375005Z",
     "iopub.status.busy": "2022-06-06T16:03:59.374263Z",
     "iopub.status.idle": "2022-06-06T16:03:59.604452Z",
     "shell.execute_reply": "2022-06-06T16:03:59.603498Z"
    },
    "papermill": {
     "duration": 0.294981,
     "end_time": "2022-06-06T16:03:59.606564",
     "exception": false,
     "start_time": "2022-06-06T16:03:59.311583",
     "status": "completed"
    },
    "tags": []
   },
   "outputs": [
    {
     "data": {
      "image/png": "[encoded data removed]",
      "text/plain": [
       "<Figure size 432x432 with 1 Axes>"
      ]
     },
     "metadata": {
      "needs_background": "light"
     },
     "output_type": "display_data"
    }
   ],
   "source": [
    "# let's make the boxplots for each cluster\n",
    "fig, ax = plt.subplots(figsize=(6, 6))\n",
    "ax = sns.boxplot(x=\"cluster_labels\", y=\"Age\", data=final_train_df_cluster)"
   ]
  },
  {
   "cell_type": "code",
   "execution_count": 67,
   "id": "f27db073",
   "metadata": {
    "execution": {
     "iopub.execute_input": "2022-06-06T16:03:59.708269Z",
     "iopub.status.busy": "2022-06-06T16:03:59.707846Z",
     "iopub.status.idle": "2022-06-06T16:03:59.711866Z",
     "shell.execute_reply": "2022-06-06T16:03:59.710945Z"
    },
    "papermill": {
     "duration": 0.055675,
     "end_time": "2022-06-06T16:03:59.713865",
     "exception": false,
     "start_time": "2022-06-06T16:03:59.658190",
     "status": "completed"
    },
    "tags": []
   },
   "outputs": [],
   "source": [
    "# final_train_df_median['Age'].fillna(final_train_df.groupby(['female/male'])['Age'].transform(np.median), inplace=True)"
   ]
  },
  {
   "cell_type": "code",
   "execution_count": 68,
   "id": "9c59e830",
   "metadata": {
    "execution": {
     "iopub.execute_input": "2022-06-06T16:03:59.813207Z",
     "iopub.status.busy": "2022-06-06T16:03:59.812543Z",
     "iopub.status.idle": "2022-06-06T16:03:59.818393Z",
     "shell.execute_reply": "2022-06-06T16:03:59.817724Z"
    },
    "papermill": {
     "duration": 0.058076,
     "end_time": "2022-06-06T16:03:59.820216",
     "exception": false,
     "start_time": "2022-06-06T16:03:59.762140",
     "status": "completed"
    },
    "tags": []
   },
   "outputs": [],
   "source": [
    "# filling blanks\n",
    "final_train_df_cluster['Age'].fillna(final_train_df_cluster.groupby(['cluster_labels'])['Age'].transform(np.median), inplace=True)"
   ]
  },
  {
   "cell_type": "code",
   "execution_count": 69,
   "id": "3a3e9236",
   "metadata": {
    "execution": {
     "iopub.execute_input": "2022-06-06T16:03:59.919478Z",
     "iopub.status.busy": "2022-06-06T16:03:59.918867Z",
     "iopub.status.idle": "2022-06-06T16:03:59.931938Z",
     "shell.execute_reply": "2022-06-06T16:03:59.931164Z"
    },
    "papermill": {
     "duration": 0.06509,
     "end_time": "2022-06-06T16:03:59.934438",
     "exception": false,
     "start_time": "2022-06-06T16:03:59.869348",
     "status": "completed"
    },
    "tags": []
   },
   "outputs": [
    {
     "name": "stdout",
     "output_type": "stream",
     "text": [
      "<class 'pandas.core.frame.DataFrame'>\n",
      "MultiIndex: 1309 entries, (0, 0) to (1, 417)\n",
      "Data columns (total 25 columns):\n",
      " #   Column          Non-Null Count  Dtype  \n",
      "---  ------          --------------  -----  \n",
      " 0   female/male     1309 non-null   uint8  \n",
      " 1   Pclass_1        1309 non-null   uint8  \n",
      " 2   Pclass_2        1309 non-null   uint8  \n",
      " 3   Pclass_3        1309 non-null   uint8  \n",
      " 4   Embarked_C      1309 non-null   uint8  \n",
      " 5   Embarked_Q      1309 non-null   uint8  \n",
      " 6   Embarked_S      1309 non-null   uint8  \n",
      " 7   Title_Master    1309 non-null   uint8  \n",
      " 8   Title_Miss      1309 non-null   uint8  \n",
      " 9   Title_Mr        1309 non-null   uint8  \n",
      " 10  Title_Mrs       1309 non-null   uint8  \n",
      " 11  Title_other     1309 non-null   uint8  \n",
      " 12  Deck_A          1309 non-null   uint8  \n",
      " 13  Deck_B          1309 non-null   uint8  \n",
      " 14  Deck_C          1309 non-null   uint8  \n",
      " 15  Deck_D          1309 non-null   uint8  \n",
      " 16  Deck_E          1309 non-null   uint8  \n",
      " 17  Deck_F          1309 non-null   uint8  \n",
      " 18  Deck_G          1309 non-null   uint8  \n",
      " 19  Deck_Missed     1309 non-null   uint8  \n",
      " 20  Deck_T          1309 non-null   uint8  \n",
      " 21  Is_alone        1309 non-null   int64  \n",
      " 22  cluster_labels  1309 non-null   int32  \n",
      " 23  Age             1309 non-null   float64\n",
      " 24  Survived        891 non-null    float64\n",
      "dtypes: float64(2), int32(1), int64(1), uint8(21)\n",
      "memory usage: 105.9 KB\n"
     ]
    }
   ],
   "source": [
    "final_train_df_cluster.info()"
   ]
  },
  {
   "cell_type": "code",
   "execution_count": 70,
   "id": "dbb8a846",
   "metadata": {
    "execution": {
     "iopub.execute_input": "2022-06-06T16:04:00.033293Z",
     "iopub.status.busy": "2022-06-06T16:04:00.032658Z",
     "iopub.status.idle": "2022-06-06T16:04:00.058033Z",
     "shell.execute_reply": "2022-06-06T16:04:00.057337Z"
    },
    "papermill": {
     "duration": 0.077229,
     "end_time": "2022-06-06T16:04:00.060033",
     "exception": false,
     "start_time": "2022-06-06T16:03:59.982804",
     "status": "completed"
    },
    "tags": []
   },
   "outputs": [
    {
     "data": {
      "text/html": [
       "<div>\n",
       "<style scoped>\n",
       "    .dataframe tbody tr th:only-of-type {\n",
       "        vertical-align: middle;\n",
       "    }\n",
       "\n",
       "    .dataframe tbody tr th {\n",
       "        vertical-align: top;\n",
       "    }\n",
       "\n",
       "    .dataframe thead th {\n",
       "        text-align: right;\n",
       "    }\n",
       "</style>\n",
       "<table border=\"1\" class=\"dataframe\">\n",
       "  <thead>\n",
       "    <tr style=\"text-align: right;\">\n",
       "      <th></th>\n",
       "      <th></th>\n",
       "      <th>female/male</th>\n",
       "      <th>Pclass_1</th>\n",
       "      <th>Pclass_2</th>\n",
       "      <th>Pclass_3</th>\n",
       "      <th>Embarked_C</th>\n",
       "      <th>Embarked_Q</th>\n",
       "      <th>Embarked_S</th>\n",
       "      <th>Title_Master</th>\n",
       "      <th>Title_Miss</th>\n",
       "      <th>Title_Mr</th>\n",
       "      <th>...</th>\n",
       "      <th>Deck_G</th>\n",
       "      <th>Deck_Missed</th>\n",
       "      <th>Deck_T</th>\n",
       "      <th>Is_alone</th>\n",
       "      <th>Age</th>\n",
       "      <th>Survived</th>\n",
       "      <th>cluster_labels_1</th>\n",
       "      <th>cluster_labels_2</th>\n",
       "      <th>cluster_labels_3</th>\n",
       "      <th>cluster_labels_4</th>\n",
       "    </tr>\n",
       "  </thead>\n",
       "  <tbody>\n",
       "    <tr>\n",
       "      <th rowspan=\"5\" valign=\"top\">0</th>\n",
       "      <th>0</th>\n",
       "      <td>0</td>\n",
       "      <td>0</td>\n",
       "      <td>0</td>\n",
       "      <td>1</td>\n",
       "      <td>0</td>\n",
       "      <td>0</td>\n",
       "      <td>1</td>\n",
       "      <td>0</td>\n",
       "      <td>0</td>\n",
       "      <td>1</td>\n",
       "      <td>...</td>\n",
       "      <td>0</td>\n",
       "      <td>1</td>\n",
       "      <td>0</td>\n",
       "      <td>0</td>\n",
       "      <td>22.0</td>\n",
       "      <td>0.0</td>\n",
       "      <td>0</td>\n",
       "      <td>1</td>\n",
       "      <td>0</td>\n",
       "      <td>0</td>\n",
       "    </tr>\n",
       "    <tr>\n",
       "      <th>1</th>\n",
       "      <td>1</td>\n",
       "      <td>1</td>\n",
       "      <td>0</td>\n",
       "      <td>0</td>\n",
       "      <td>1</td>\n",
       "      <td>0</td>\n",
       "      <td>0</td>\n",
       "      <td>0</td>\n",
       "      <td>0</td>\n",
       "      <td>0</td>\n",
       "      <td>...</td>\n",
       "      <td>0</td>\n",
       "      <td>0</td>\n",
       "      <td>0</td>\n",
       "      <td>0</td>\n",
       "      <td>38.0</td>\n",
       "      <td>1.0</td>\n",
       "      <td>1</td>\n",
       "      <td>0</td>\n",
       "      <td>0</td>\n",
       "      <td>0</td>\n",
       "    </tr>\n",
       "    <tr>\n",
       "      <th>2</th>\n",
       "      <td>1</td>\n",
       "      <td>0</td>\n",
       "      <td>0</td>\n",
       "      <td>1</td>\n",
       "      <td>0</td>\n",
       "      <td>0</td>\n",
       "      <td>1</td>\n",
       "      <td>0</td>\n",
       "      <td>1</td>\n",
       "      <td>0</td>\n",
       "      <td>...</td>\n",
       "      <td>0</td>\n",
       "      <td>1</td>\n",
       "      <td>0</td>\n",
       "      <td>1</td>\n",
       "      <td>26.0</td>\n",
       "      <td>1.0</td>\n",
       "      <td>0</td>\n",
       "      <td>0</td>\n",
       "      <td>1</td>\n",
       "      <td>0</td>\n",
       "    </tr>\n",
       "    <tr>\n",
       "      <th>3</th>\n",
       "      <td>1</td>\n",
       "      <td>1</td>\n",
       "      <td>0</td>\n",
       "      <td>0</td>\n",
       "      <td>0</td>\n",
       "      <td>0</td>\n",
       "      <td>1</td>\n",
       "      <td>0</td>\n",
       "      <td>0</td>\n",
       "      <td>0</td>\n",
       "      <td>...</td>\n",
       "      <td>0</td>\n",
       "      <td>0</td>\n",
       "      <td>0</td>\n",
       "      <td>0</td>\n",
       "      <td>35.0</td>\n",
       "      <td>1.0</td>\n",
       "      <td>1</td>\n",
       "      <td>0</td>\n",
       "      <td>0</td>\n",
       "      <td>0</td>\n",
       "    </tr>\n",
       "    <tr>\n",
       "      <th>4</th>\n",
       "      <td>0</td>\n",
       "      <td>0</td>\n",
       "      <td>0</td>\n",
       "      <td>1</td>\n",
       "      <td>0</td>\n",
       "      <td>0</td>\n",
       "      <td>1</td>\n",
       "      <td>0</td>\n",
       "      <td>0</td>\n",
       "      <td>1</td>\n",
       "      <td>...</td>\n",
       "      <td>0</td>\n",
       "      <td>1</td>\n",
       "      <td>0</td>\n",
       "      <td>1</td>\n",
       "      <td>35.0</td>\n",
       "      <td>0.0</td>\n",
       "      <td>0</td>\n",
       "      <td>1</td>\n",
       "      <td>0</td>\n",
       "      <td>0</td>\n",
       "    </tr>\n",
       "  </tbody>\n",
       "</table>\n",
       "<p>5 rows × 28 columns</p>\n",
       "</div>"
      ],
      "text/plain": [
       "     female/male  Pclass_1  Pclass_2  Pclass_3  Embarked_C  Embarked_Q  \\\n",
       "0 0            0         0         0         1           0           0   \n",
       "  1            1         1         0         0           1           0   \n",
       "  2            1         0         0         1           0           0   \n",
       "  3            1         1         0         0           0           0   \n",
       "  4            0         0         0         1           0           0   \n",
       "\n",
       "     Embarked_S  Title_Master  Title_Miss  Title_Mr  ...  Deck_G  Deck_Missed  \\\n",
       "0 0           1             0           0         1  ...       0            1   \n",
       "  1           0             0           0         0  ...       0            0   \n",
       "  2           1             0           1         0  ...       0            1   \n",
       "  3           1             0           0         0  ...       0            0   \n",
       "  4           1             0           0         1  ...       0            1   \n",
       "\n",
       "     Deck_T  Is_alone   Age  Survived  cluster_labels_1  cluster_labels_2  \\\n",
       "0 0       0         0  22.0       0.0                 0                 1   \n",
       "  1       0         0  38.0       1.0                 1                 0   \n",
       "  2       0         1  26.0       1.0                 0                 0   \n",
       "  3       0         0  35.0       1.0                 1                 0   \n",
       "  4       0         1  35.0       0.0                 0                 1   \n",
       "\n",
       "     cluster_labels_3  cluster_labels_4  \n",
       "0 0                 0                 0  \n",
       "  1                 0                 0  \n",
       "  2                 1                 0  \n",
       "  3                 0                 0  \n",
       "  4                 0                 0  \n",
       "\n",
       "[5 rows x 28 columns]"
      ]
     },
     "execution_count": 70,
     "metadata": {},
     "output_type": "execute_result"
    }
   ],
   "source": [
    "final_train_df_cluster = pd.get_dummies(data=final_train_df_cluster, columns=[\"cluster_labels\"])\n",
    "final_train_df_cluster.head()"
   ]
  },
  {
   "cell_type": "markdown",
   "id": "ecb38dce",
   "metadata": {
    "papermill": {
     "duration": 0.059363,
     "end_time": "2022-06-06T16:04:00.179268",
     "exception": false,
     "start_time": "2022-06-06T16:04:00.119905",
     "status": "completed"
    },
    "tags": []
   },
   "source": [
    "**Let's try to group our ages.**"
   ]
  },
  {
   "cell_type": "code",
   "execution_count": 71,
   "id": "b93c3b94",
   "metadata": {
    "execution": {
     "iopub.execute_input": "2022-06-06T16:04:00.279518Z",
     "iopub.status.busy": "2022-06-06T16:04:00.278812Z",
     "iopub.status.idle": "2022-06-06T16:04:00.289960Z",
     "shell.execute_reply": "2022-06-06T16:04:00.289229Z"
    },
    "papermill": {
     "duration": 0.063621,
     "end_time": "2022-06-06T16:04:00.291861",
     "exception": false,
     "start_time": "2022-06-06T16:04:00.228240",
     "status": "completed"
    },
    "tags": []
   },
   "outputs": [
    {
     "data": {
      "text/html": [
       "<div>\n",
       "<style scoped>\n",
       "    .dataframe tbody tr th:only-of-type {\n",
       "        vertical-align: middle;\n",
       "    }\n",
       "\n",
       "    .dataframe tbody tr th {\n",
       "        vertical-align: top;\n",
       "    }\n",
       "\n",
       "    .dataframe thead th {\n",
       "        text-align: right;\n",
       "    }\n",
       "</style>\n",
       "<table border=\"1\" class=\"dataframe\">\n",
       "  <thead>\n",
       "    <tr style=\"text-align: right;\">\n",
       "      <th></th>\n",
       "      <th></th>\n",
       "      <th>Age</th>\n",
       "    </tr>\n",
       "  </thead>\n",
       "  <tbody>\n",
       "    <tr>\n",
       "      <th rowspan=\"5\" valign=\"top\">0</th>\n",
       "      <th>0</th>\n",
       "      <td>22.0</td>\n",
       "    </tr>\n",
       "    <tr>\n",
       "      <th>1</th>\n",
       "      <td>38.0</td>\n",
       "    </tr>\n",
       "    <tr>\n",
       "      <th>2</th>\n",
       "      <td>26.0</td>\n",
       "    </tr>\n",
       "    <tr>\n",
       "      <th>3</th>\n",
       "      <td>35.0</td>\n",
       "    </tr>\n",
       "    <tr>\n",
       "      <th>4</th>\n",
       "      <td>35.0</td>\n",
       "    </tr>\n",
       "  </tbody>\n",
       "</table>\n",
       "</div>"
      ],
      "text/plain": [
       "      Age\n",
       "0 0  22.0\n",
       "  1  38.0\n",
       "  2  26.0\n",
       "  3  35.0\n",
       "  4  35.0"
      ]
     },
     "execution_count": 71,
     "metadata": {},
     "output_type": "execute_result"
    }
   ],
   "source": [
    "ages = final_train_df_cluster[[\"Age\"]]\n",
    "ages.head()"
   ]
  },
  {
   "cell_type": "code",
   "execution_count": 72,
   "id": "c8026431",
   "metadata": {
    "execution": {
     "iopub.execute_input": "2022-06-06T16:04:00.393675Z",
     "iopub.status.busy": "2022-06-06T16:04:00.393002Z",
     "iopub.status.idle": "2022-06-06T16:04:01.900107Z",
     "shell.execute_reply": "2022-06-06T16:04:01.899011Z"
    },
    "papermill": {
     "duration": 1.560365,
     "end_time": "2022-06-06T16:04:01.902234",
     "exception": false,
     "start_time": "2022-06-06T16:04:00.341869",
     "status": "completed"
    },
    "tags": []
   },
   "outputs": [
    {
     "data": {
      "image/png": "[encoded data removed]",
      "text/plain": [
       "<Figure size 432x288 with 1 Axes>"
      ]
     },
     "metadata": {},
     "output_type": "display_data"
    }
   ],
   "source": [
    "from sklearn.cluster import KMeans\n",
    "\n",
    "sse = []\n",
    "for i in range(1,20):\n",
    "    kmeans = KMeans(n_clusters=i, random_state=0)\n",
    "    kmeans.fit(ages)\n",
    "    sse.append(kmeans.inertia_) # inertia возвращает сумму квадратов расстояния от каждого образца до ближайшего центроида\n",
    "    \n",
    "\n",
    "plt.style.use(\"fivethirtyeight\")\n",
    "plt.plot(range(1, 20), sse)\n",
    "plt.xticks(range(1, 20))\n",
    "plt.xlabel(\"Number of Clusters\")\n",
    "plt.ylabel(\"SSE\")\n",
    "plt.show()"
   ]
  },
  {
   "cell_type": "code",
   "execution_count": 73,
   "id": "a909d739",
   "metadata": {
    "execution": {
     "iopub.execute_input": "2022-06-06T16:04:02.003896Z",
     "iopub.status.busy": "2022-06-06T16:04:02.003466Z",
     "iopub.status.idle": "2022-06-06T16:04:02.007756Z",
     "shell.execute_reply": "2022-06-06T16:04:02.006924Z"
    },
    "papermill": {
     "duration": 0.057791,
     "end_time": "2022-06-06T16:04:02.009856",
     "exception": false,
     "start_time": "2022-06-06T16:04:01.952065",
     "status": "completed"
    },
    "tags": []
   },
   "outputs": [],
   "source": [
    "n_clust_age = 13"
   ]
  },
  {
   "cell_type": "code",
   "execution_count": 74,
   "id": "f90bd0a9",
   "metadata": {
    "execution": {
     "iopub.execute_input": "2022-06-06T16:04:02.112590Z",
     "iopub.status.busy": "2022-06-06T16:04:02.112172Z",
     "iopub.status.idle": "2022-06-06T16:04:02.189504Z",
     "shell.execute_reply": "2022-06-06T16:04:02.188540Z"
    },
    "papermill": {
     "duration": 0.132032,
     "end_time": "2022-06-06T16:04:02.191808",
     "exception": false,
     "start_time": "2022-06-06T16:04:02.059776",
     "status": "completed"
    },
    "tags": []
   },
   "outputs": [
    {
     "data": {
      "text/plain": [
       "KMeans(n_clusters=13, random_state=0)"
      ]
     },
     "execution_count": 74,
     "metadata": {},
     "output_type": "execute_result"
    }
   ],
   "source": [
    "kmeans_best_model = KMeans(n_clusters=n_clust_age, random_state=0)\n",
    "kmeans_best_model.fit(ages)"
   ]
  },
  {
   "cell_type": "code",
   "execution_count": 75,
   "id": "3103ea3a",
   "metadata": {
    "execution": {
     "iopub.execute_input": "2022-06-06T16:04:02.294848Z",
     "iopub.status.busy": "2022-06-06T16:04:02.294106Z",
     "iopub.status.idle": "2022-06-06T16:04:02.321148Z",
     "shell.execute_reply": "2022-06-06T16:04:02.320394Z"
    },
    "papermill": {
     "duration": 0.080549,
     "end_time": "2022-06-06T16:04:02.323440",
     "exception": false,
     "start_time": "2022-06-06T16:04:02.242891",
     "status": "completed"
    },
    "tags": []
   },
   "outputs": [
    {
     "data": {
      "text/html": [
       "<div>\n",
       "<style scoped>\n",
       "    .dataframe tbody tr th:only-of-type {\n",
       "        vertical-align: middle;\n",
       "    }\n",
       "\n",
       "    .dataframe tbody tr th {\n",
       "        vertical-align: top;\n",
       "    }\n",
       "\n",
       "    .dataframe thead th {\n",
       "        text-align: right;\n",
       "    }\n",
       "</style>\n",
       "<table border=\"1\" class=\"dataframe\">\n",
       "  <thead>\n",
       "    <tr style=\"text-align: right;\">\n",
       "      <th></th>\n",
       "      <th></th>\n",
       "      <th>female/male</th>\n",
       "      <th>Pclass_1</th>\n",
       "      <th>Pclass_2</th>\n",
       "      <th>Pclass_3</th>\n",
       "      <th>Embarked_C</th>\n",
       "      <th>Embarked_Q</th>\n",
       "      <th>Embarked_S</th>\n",
       "      <th>Title_Master</th>\n",
       "      <th>Title_Miss</th>\n",
       "      <th>Title_Mr</th>\n",
       "      <th>...</th>\n",
       "      <th>kmeans_labels_3</th>\n",
       "      <th>kmeans_labels_4</th>\n",
       "      <th>kmeans_labels_5</th>\n",
       "      <th>kmeans_labels_6</th>\n",
       "      <th>kmeans_labels_7</th>\n",
       "      <th>kmeans_labels_8</th>\n",
       "      <th>kmeans_labels_9</th>\n",
       "      <th>kmeans_labels_10</th>\n",
       "      <th>kmeans_labels_11</th>\n",
       "      <th>kmeans_labels_12</th>\n",
       "    </tr>\n",
       "  </thead>\n",
       "  <tbody>\n",
       "    <tr>\n",
       "      <th rowspan=\"5\" valign=\"top\">0</th>\n",
       "      <th>0</th>\n",
       "      <td>0</td>\n",
       "      <td>0</td>\n",
       "      <td>0</td>\n",
       "      <td>1</td>\n",
       "      <td>0</td>\n",
       "      <td>0</td>\n",
       "      <td>1</td>\n",
       "      <td>0</td>\n",
       "      <td>0</td>\n",
       "      <td>1</td>\n",
       "      <td>...</td>\n",
       "      <td>0</td>\n",
       "      <td>0</td>\n",
       "      <td>0</td>\n",
       "      <td>0</td>\n",
       "      <td>0</td>\n",
       "      <td>1</td>\n",
       "      <td>0</td>\n",
       "      <td>0</td>\n",
       "      <td>0</td>\n",
       "      <td>0</td>\n",
       "    </tr>\n",
       "    <tr>\n",
       "      <th>1</th>\n",
       "      <td>1</td>\n",
       "      <td>1</td>\n",
       "      <td>0</td>\n",
       "      <td>0</td>\n",
       "      <td>1</td>\n",
       "      <td>0</td>\n",
       "      <td>0</td>\n",
       "      <td>0</td>\n",
       "      <td>0</td>\n",
       "      <td>0</td>\n",
       "      <td>...</td>\n",
       "      <td>1</td>\n",
       "      <td>0</td>\n",
       "      <td>0</td>\n",
       "      <td>0</td>\n",
       "      <td>0</td>\n",
       "      <td>0</td>\n",
       "      <td>0</td>\n",
       "      <td>0</td>\n",
       "      <td>0</td>\n",
       "      <td>0</td>\n",
       "    </tr>\n",
       "    <tr>\n",
       "      <th>2</th>\n",
       "      <td>1</td>\n",
       "      <td>0</td>\n",
       "      <td>0</td>\n",
       "      <td>1</td>\n",
       "      <td>0</td>\n",
       "      <td>0</td>\n",
       "      <td>1</td>\n",
       "      <td>0</td>\n",
       "      <td>1</td>\n",
       "      <td>0</td>\n",
       "      <td>...</td>\n",
       "      <td>0</td>\n",
       "      <td>0</td>\n",
       "      <td>0</td>\n",
       "      <td>0</td>\n",
       "      <td>0</td>\n",
       "      <td>0</td>\n",
       "      <td>0</td>\n",
       "      <td>0</td>\n",
       "      <td>0</td>\n",
       "      <td>0</td>\n",
       "    </tr>\n",
       "    <tr>\n",
       "      <th>3</th>\n",
       "      <td>1</td>\n",
       "      <td>1</td>\n",
       "      <td>0</td>\n",
       "      <td>0</td>\n",
       "      <td>0</td>\n",
       "      <td>0</td>\n",
       "      <td>1</td>\n",
       "      <td>0</td>\n",
       "      <td>0</td>\n",
       "      <td>0</td>\n",
       "      <td>...</td>\n",
       "      <td>0</td>\n",
       "      <td>0</td>\n",
       "      <td>0</td>\n",
       "      <td>0</td>\n",
       "      <td>0</td>\n",
       "      <td>0</td>\n",
       "      <td>0</td>\n",
       "      <td>0</td>\n",
       "      <td>1</td>\n",
       "      <td>0</td>\n",
       "    </tr>\n",
       "    <tr>\n",
       "      <th>4</th>\n",
       "      <td>0</td>\n",
       "      <td>0</td>\n",
       "      <td>0</td>\n",
       "      <td>1</td>\n",
       "      <td>0</td>\n",
       "      <td>0</td>\n",
       "      <td>1</td>\n",
       "      <td>0</td>\n",
       "      <td>0</td>\n",
       "      <td>1</td>\n",
       "      <td>...</td>\n",
       "      <td>0</td>\n",
       "      <td>0</td>\n",
       "      <td>0</td>\n",
       "      <td>0</td>\n",
       "      <td>0</td>\n",
       "      <td>0</td>\n",
       "      <td>0</td>\n",
       "      <td>0</td>\n",
       "      <td>1</td>\n",
       "      <td>0</td>\n",
       "    </tr>\n",
       "  </tbody>\n",
       "</table>\n",
       "<p>5 rows × 40 columns</p>\n",
       "</div>"
      ],
      "text/plain": [
       "     female/male  Pclass_1  Pclass_2  Pclass_3  Embarked_C  Embarked_Q  \\\n",
       "0 0            0         0         0         1           0           0   \n",
       "  1            1         1         0         0           1           0   \n",
       "  2            1         0         0         1           0           0   \n",
       "  3            1         1         0         0           0           0   \n",
       "  4            0         0         0         1           0           0   \n",
       "\n",
       "     Embarked_S  Title_Master  Title_Miss  Title_Mr  ...  kmeans_labels_3  \\\n",
       "0 0           1             0           0         1  ...                0   \n",
       "  1           0             0           0         0  ...                1   \n",
       "  2           1             0           1         0  ...                0   \n",
       "  3           1             0           0         0  ...                0   \n",
       "  4           1             0           0         1  ...                0   \n",
       "\n",
       "     kmeans_labels_4  kmeans_labels_5  kmeans_labels_6  kmeans_labels_7  \\\n",
       "0 0                0                0                0                0   \n",
       "  1                0                0                0                0   \n",
       "  2                0                0                0                0   \n",
       "  3                0                0                0                0   \n",
       "  4                0                0                0                0   \n",
       "\n",
       "     kmeans_labels_8  kmeans_labels_9  kmeans_labels_10  kmeans_labels_11  \\\n",
       "0 0                1                0                 0                 0   \n",
       "  1                0                0                 0                 0   \n",
       "  2                0                0                 0                 0   \n",
       "  3                0                0                 0                 1   \n",
       "  4                0                0                 0                 1   \n",
       "\n",
       "     kmeans_labels_12  \n",
       "0 0                 0  \n",
       "  1                 0  \n",
       "  2                 0  \n",
       "  3                 0  \n",
       "  4                 0  \n",
       "\n",
       "[5 rows x 40 columns]"
      ]
     },
     "execution_count": 75,
     "metadata": {},
     "output_type": "execute_result"
    }
   ],
   "source": [
    "final_train_df_cluster[\"kmeans_labels\"] = kmeans_best_model.labels_\n",
    "final_train_df_cluster.drop(\"Age\", axis=1, inplace=True)\n",
    "final_train_df_cluster = pd.get_dummies(data=final_train_df_cluster, columns=[\"kmeans_labels\"])\n",
    "\n",
    "final_train_df_cluster.head()"
   ]
  },
  {
   "cell_type": "markdown",
   "id": "571fccf5",
   "metadata": {
    "papermill": {
     "duration": 0.049729,
     "end_time": "2022-06-06T16:04:02.423283",
     "exception": false,
     "start_time": "2022-06-06T16:04:02.373554",
     "status": "completed"
    },
    "tags": []
   },
   "source": [
    "## Split our data to train and test"
   ]
  },
  {
   "cell_type": "code",
   "execution_count": 76,
   "id": "33258d52",
   "metadata": {
    "execution": {
     "iopub.execute_input": "2022-06-06T16:04:02.525025Z",
     "iopub.status.busy": "2022-06-06T16:04:02.524609Z",
     "iopub.status.idle": "2022-06-06T16:04:02.535152Z",
     "shell.execute_reply": "2022-06-06T16:04:02.533734Z"
    },
    "papermill": {
     "duration": 0.064331,
     "end_time": "2022-06-06T16:04:02.537562",
     "exception": false,
     "start_time": "2022-06-06T16:04:02.473231",
     "status": "completed"
    },
    "tags": []
   },
   "outputs": [
    {
     "name": "stdout",
     "output_type": "stream",
     "text": [
      "(891, 39) (418, 39) \n",
      " (891,)\n"
     ]
    }
   ],
   "source": [
    "train, test = final_train_df_cluster.xs(0),final_train_df_cluster.xs(1)\n",
    "\n",
    "X = train.drop(\"Survived\", axis=1)\n",
    "y = train[\"Survived\"]\n",
    "\n",
    "ultimate_test = test.drop(\"Survived\", axis=1)\n",
    "# X_cluster = final_train_df_cluster.drop(\"Survived\", axis=1)\n",
    "# y_cluster = final_train_df_cluster[\"Survived\"]\n",
    "\n",
    "print(X.shape, ultimate_test.shape, \"\\n\", y.shape)"
   ]
  },
  {
   "cell_type": "code",
   "execution_count": 77,
   "id": "3b44bb49",
   "metadata": {
    "execution": {
     "iopub.execute_input": "2022-06-06T16:04:02.640801Z",
     "iopub.status.busy": "2022-06-06T16:04:02.640426Z",
     "iopub.status.idle": "2022-06-06T16:04:02.659821Z",
     "shell.execute_reply": "2022-06-06T16:04:02.658768Z"
    },
    "papermill": {
     "duration": 0.073426,
     "end_time": "2022-06-06T16:04:02.661956",
     "exception": false,
     "start_time": "2022-06-06T16:04:02.588530",
     "status": "completed"
    },
    "tags": []
   },
   "outputs": [
    {
     "data": {
      "text/html": [
       "<div>\n",
       "<style scoped>\n",
       "    .dataframe tbody tr th:only-of-type {\n",
       "        vertical-align: middle;\n",
       "    }\n",
       "\n",
       "    .dataframe tbody tr th {\n",
       "        vertical-align: top;\n",
       "    }\n",
       "\n",
       "    .dataframe thead th {\n",
       "        text-align: right;\n",
       "    }\n",
       "</style>\n",
       "<table border=\"1\" class=\"dataframe\">\n",
       "  <thead>\n",
       "    <tr style=\"text-align: right;\">\n",
       "      <th></th>\n",
       "      <th>female/male</th>\n",
       "      <th>Pclass_1</th>\n",
       "      <th>Pclass_2</th>\n",
       "      <th>Pclass_3</th>\n",
       "      <th>Embarked_C</th>\n",
       "      <th>Embarked_Q</th>\n",
       "      <th>Embarked_S</th>\n",
       "      <th>Title_Master</th>\n",
       "      <th>Title_Miss</th>\n",
       "      <th>Title_Mr</th>\n",
       "      <th>...</th>\n",
       "      <th>kmeans_labels_3</th>\n",
       "      <th>kmeans_labels_4</th>\n",
       "      <th>kmeans_labels_5</th>\n",
       "      <th>kmeans_labels_6</th>\n",
       "      <th>kmeans_labels_7</th>\n",
       "      <th>kmeans_labels_8</th>\n",
       "      <th>kmeans_labels_9</th>\n",
       "      <th>kmeans_labels_10</th>\n",
       "      <th>kmeans_labels_11</th>\n",
       "      <th>kmeans_labels_12</th>\n",
       "    </tr>\n",
       "  </thead>\n",
       "  <tbody>\n",
       "    <tr>\n",
       "      <th>0</th>\n",
       "      <td>0</td>\n",
       "      <td>0</td>\n",
       "      <td>0</td>\n",
       "      <td>1</td>\n",
       "      <td>0</td>\n",
       "      <td>0</td>\n",
       "      <td>1</td>\n",
       "      <td>0</td>\n",
       "      <td>0</td>\n",
       "      <td>1</td>\n",
       "      <td>...</td>\n",
       "      <td>0</td>\n",
       "      <td>0</td>\n",
       "      <td>0</td>\n",
       "      <td>0</td>\n",
       "      <td>0</td>\n",
       "      <td>1</td>\n",
       "      <td>0</td>\n",
       "      <td>0</td>\n",
       "      <td>0</td>\n",
       "      <td>0</td>\n",
       "    </tr>\n",
       "    <tr>\n",
       "      <th>1</th>\n",
       "      <td>1</td>\n",
       "      <td>1</td>\n",
       "      <td>0</td>\n",
       "      <td>0</td>\n",
       "      <td>1</td>\n",
       "      <td>0</td>\n",
       "      <td>0</td>\n",
       "      <td>0</td>\n",
       "      <td>0</td>\n",
       "      <td>0</td>\n",
       "      <td>...</td>\n",
       "      <td>1</td>\n",
       "      <td>0</td>\n",
       "      <td>0</td>\n",
       "      <td>0</td>\n",
       "      <td>0</td>\n",
       "      <td>0</td>\n",
       "      <td>0</td>\n",
       "      <td>0</td>\n",
       "      <td>0</td>\n",
       "      <td>0</td>\n",
       "    </tr>\n",
       "    <tr>\n",
       "      <th>2</th>\n",
       "      <td>1</td>\n",
       "      <td>0</td>\n",
       "      <td>0</td>\n",
       "      <td>1</td>\n",
       "      <td>0</td>\n",
       "      <td>0</td>\n",
       "      <td>1</td>\n",
       "      <td>0</td>\n",
       "      <td>1</td>\n",
       "      <td>0</td>\n",
       "      <td>...</td>\n",
       "      <td>0</td>\n",
       "      <td>0</td>\n",
       "      <td>0</td>\n",
       "      <td>0</td>\n",
       "      <td>0</td>\n",
       "      <td>0</td>\n",
       "      <td>0</td>\n",
       "      <td>0</td>\n",
       "      <td>0</td>\n",
       "      <td>0</td>\n",
       "    </tr>\n",
       "    <tr>\n",
       "      <th>3</th>\n",
       "      <td>1</td>\n",
       "      <td>1</td>\n",
       "      <td>0</td>\n",
       "      <td>0</td>\n",
       "      <td>0</td>\n",
       "      <td>0</td>\n",
       "      <td>1</td>\n",
       "      <td>0</td>\n",
       "      <td>0</td>\n",
       "      <td>0</td>\n",
       "      <td>...</td>\n",
       "      <td>0</td>\n",
       "      <td>0</td>\n",
       "      <td>0</td>\n",
       "      <td>0</td>\n",
       "      <td>0</td>\n",
       "      <td>0</td>\n",
       "      <td>0</td>\n",
       "      <td>0</td>\n",
       "      <td>1</td>\n",
       "      <td>0</td>\n",
       "    </tr>\n",
       "    <tr>\n",
       "      <th>4</th>\n",
       "      <td>0</td>\n",
       "      <td>0</td>\n",
       "      <td>0</td>\n",
       "      <td>1</td>\n",
       "      <td>0</td>\n",
       "      <td>0</td>\n",
       "      <td>1</td>\n",
       "      <td>0</td>\n",
       "      <td>0</td>\n",
       "      <td>1</td>\n",
       "      <td>...</td>\n",
       "      <td>0</td>\n",
       "      <td>0</td>\n",
       "      <td>0</td>\n",
       "      <td>0</td>\n",
       "      <td>0</td>\n",
       "      <td>0</td>\n",
       "      <td>0</td>\n",
       "      <td>0</td>\n",
       "      <td>1</td>\n",
       "      <td>0</td>\n",
       "    </tr>\n",
       "  </tbody>\n",
       "</table>\n",
       "<p>5 rows × 39 columns</p>\n",
       "</div>"
      ],
      "text/plain": [
       "   female/male  Pclass_1  Pclass_2  Pclass_3  Embarked_C  Embarked_Q  \\\n",
       "0            0         0         0         1           0           0   \n",
       "1            1         1         0         0           1           0   \n",
       "2            1         0         0         1           0           0   \n",
       "3            1         1         0         0           0           0   \n",
       "4            0         0         0         1           0           0   \n",
       "\n",
       "   Embarked_S  Title_Master  Title_Miss  Title_Mr  ...  kmeans_labels_3  \\\n",
       "0           1             0           0         1  ...                0   \n",
       "1           0             0           0         0  ...                1   \n",
       "2           1             0           1         0  ...                0   \n",
       "3           1             0           0         0  ...                0   \n",
       "4           1             0           0         1  ...                0   \n",
       "\n",
       "   kmeans_labels_4  kmeans_labels_5  kmeans_labels_6  kmeans_labels_7  \\\n",
       "0                0                0                0                0   \n",
       "1                0                0                0                0   \n",
       "2                0                0                0                0   \n",
       "3                0                0                0                0   \n",
       "4                0                0                0                0   \n",
       "\n",
       "   kmeans_labels_8  kmeans_labels_9  kmeans_labels_10  kmeans_labels_11  \\\n",
       "0                1                0                 0                 0   \n",
       "1                0                0                 0                 0   \n",
       "2                0                0                 0                 0   \n",
       "3                0                0                 0                 1   \n",
       "4                0                0                 0                 1   \n",
       "\n",
       "   kmeans_labels_12  \n",
       "0                 0  \n",
       "1                 0  \n",
       "2                 0  \n",
       "3                 0  \n",
       "4                 0  \n",
       "\n",
       "[5 rows x 39 columns]"
      ]
     },
     "execution_count": 77,
     "metadata": {},
     "output_type": "execute_result"
    }
   ],
   "source": [
    "X.head()"
   ]
  },
  {
   "cell_type": "code",
   "execution_count": 78,
   "id": "e4614e6a",
   "metadata": {
    "execution": {
     "iopub.execute_input": "2022-06-06T16:04:02.766748Z",
     "iopub.status.busy": "2022-06-06T16:04:02.765927Z",
     "iopub.status.idle": "2022-06-06T16:04:02.773469Z",
     "shell.execute_reply": "2022-06-06T16:04:02.772447Z"
    },
    "papermill": {
     "duration": 0.062409,
     "end_time": "2022-06-06T16:04:02.775600",
     "exception": false,
     "start_time": "2022-06-06T16:04:02.713191",
     "status": "completed"
    },
    "tags": []
   },
   "outputs": [
    {
     "data": {
      "text/plain": [
       "0    0.0\n",
       "1    1.0\n",
       "2    1.0\n",
       "3    1.0\n",
       "4    0.0\n",
       "Name: Survived, dtype: float64"
      ]
     },
     "execution_count": 78,
     "metadata": {},
     "output_type": "execute_result"
    }
   ],
   "source": [
    "y.head()"
   ]
  },
  {
   "cell_type": "code",
   "execution_count": 79,
   "id": "64a9985f",
   "metadata": {
    "execution": {
     "iopub.execute_input": "2022-06-06T16:04:02.880447Z",
     "iopub.status.busy": "2022-06-06T16:04:02.879486Z",
     "iopub.status.idle": "2022-06-06T16:04:02.896805Z",
     "shell.execute_reply": "2022-06-06T16:04:02.895973Z"
    },
    "papermill": {
     "duration": 0.07119,
     "end_time": "2022-06-06T16:04:02.898673",
     "exception": false,
     "start_time": "2022-06-06T16:04:02.827483",
     "status": "completed"
    },
    "tags": []
   },
   "outputs": [
    {
     "data": {
      "text/html": [
       "<div>\n",
       "<style scoped>\n",
       "    .dataframe tbody tr th:only-of-type {\n",
       "        vertical-align: middle;\n",
       "    }\n",
       "\n",
       "    .dataframe tbody tr th {\n",
       "        vertical-align: top;\n",
       "    }\n",
       "\n",
       "    .dataframe thead th {\n",
       "        text-align: right;\n",
       "    }\n",
       "</style>\n",
       "<table border=\"1\" class=\"dataframe\">\n",
       "  <thead>\n",
       "    <tr style=\"text-align: right;\">\n",
       "      <th></th>\n",
       "      <th>female/male</th>\n",
       "      <th>Pclass_1</th>\n",
       "      <th>Pclass_2</th>\n",
       "      <th>Pclass_3</th>\n",
       "      <th>Embarked_C</th>\n",
       "      <th>Embarked_Q</th>\n",
       "      <th>Embarked_S</th>\n",
       "      <th>Title_Master</th>\n",
       "      <th>Title_Miss</th>\n",
       "      <th>Title_Mr</th>\n",
       "      <th>...</th>\n",
       "      <th>kmeans_labels_3</th>\n",
       "      <th>kmeans_labels_4</th>\n",
       "      <th>kmeans_labels_5</th>\n",
       "      <th>kmeans_labels_6</th>\n",
       "      <th>kmeans_labels_7</th>\n",
       "      <th>kmeans_labels_8</th>\n",
       "      <th>kmeans_labels_9</th>\n",
       "      <th>kmeans_labels_10</th>\n",
       "      <th>kmeans_labels_11</th>\n",
       "      <th>kmeans_labels_12</th>\n",
       "    </tr>\n",
       "  </thead>\n",
       "  <tbody>\n",
       "    <tr>\n",
       "      <th>0</th>\n",
       "      <td>0</td>\n",
       "      <td>0</td>\n",
       "      <td>0</td>\n",
       "      <td>1</td>\n",
       "      <td>0</td>\n",
       "      <td>1</td>\n",
       "      <td>0</td>\n",
       "      <td>0</td>\n",
       "      <td>0</td>\n",
       "      <td>1</td>\n",
       "      <td>...</td>\n",
       "      <td>0</td>\n",
       "      <td>0</td>\n",
       "      <td>0</td>\n",
       "      <td>0</td>\n",
       "      <td>0</td>\n",
       "      <td>0</td>\n",
       "      <td>0</td>\n",
       "      <td>0</td>\n",
       "      <td>1</td>\n",
       "      <td>0</td>\n",
       "    </tr>\n",
       "    <tr>\n",
       "      <th>1</th>\n",
       "      <td>1</td>\n",
       "      <td>0</td>\n",
       "      <td>0</td>\n",
       "      <td>1</td>\n",
       "      <td>0</td>\n",
       "      <td>0</td>\n",
       "      <td>1</td>\n",
       "      <td>0</td>\n",
       "      <td>0</td>\n",
       "      <td>0</td>\n",
       "      <td>...</td>\n",
       "      <td>0</td>\n",
       "      <td>0</td>\n",
       "      <td>0</td>\n",
       "      <td>1</td>\n",
       "      <td>0</td>\n",
       "      <td>0</td>\n",
       "      <td>0</td>\n",
       "      <td>0</td>\n",
       "      <td>0</td>\n",
       "      <td>0</td>\n",
       "    </tr>\n",
       "    <tr>\n",
       "      <th>2</th>\n",
       "      <td>0</td>\n",
       "      <td>0</td>\n",
       "      <td>1</td>\n",
       "      <td>0</td>\n",
       "      <td>0</td>\n",
       "      <td>1</td>\n",
       "      <td>0</td>\n",
       "      <td>0</td>\n",
       "      <td>0</td>\n",
       "      <td>1</td>\n",
       "      <td>...</td>\n",
       "      <td>0</td>\n",
       "      <td>0</td>\n",
       "      <td>0</td>\n",
       "      <td>0</td>\n",
       "      <td>0</td>\n",
       "      <td>0</td>\n",
       "      <td>0</td>\n",
       "      <td>0</td>\n",
       "      <td>0</td>\n",
       "      <td>1</td>\n",
       "    </tr>\n",
       "    <tr>\n",
       "      <th>3</th>\n",
       "      <td>0</td>\n",
       "      <td>0</td>\n",
       "      <td>0</td>\n",
       "      <td>1</td>\n",
       "      <td>0</td>\n",
       "      <td>0</td>\n",
       "      <td>1</td>\n",
       "      <td>0</td>\n",
       "      <td>0</td>\n",
       "      <td>1</td>\n",
       "      <td>...</td>\n",
       "      <td>0</td>\n",
       "      <td>0</td>\n",
       "      <td>0</td>\n",
       "      <td>0</td>\n",
       "      <td>0</td>\n",
       "      <td>0</td>\n",
       "      <td>0</td>\n",
       "      <td>0</td>\n",
       "      <td>0</td>\n",
       "      <td>0</td>\n",
       "    </tr>\n",
       "    <tr>\n",
       "      <th>4</th>\n",
       "      <td>1</td>\n",
       "      <td>0</td>\n",
       "      <td>0</td>\n",
       "      <td>1</td>\n",
       "      <td>0</td>\n",
       "      <td>0</td>\n",
       "      <td>1</td>\n",
       "      <td>0</td>\n",
       "      <td>0</td>\n",
       "      <td>0</td>\n",
       "      <td>...</td>\n",
       "      <td>0</td>\n",
       "      <td>0</td>\n",
       "      <td>0</td>\n",
       "      <td>0</td>\n",
       "      <td>0</td>\n",
       "      <td>1</td>\n",
       "      <td>0</td>\n",
       "      <td>0</td>\n",
       "      <td>0</td>\n",
       "      <td>0</td>\n",
       "    </tr>\n",
       "  </tbody>\n",
       "</table>\n",
       "<p>5 rows × 39 columns</p>\n",
       "</div>"
      ],
      "text/plain": [
       "   female/male  Pclass_1  Pclass_2  Pclass_3  Embarked_C  Embarked_Q  \\\n",
       "0            0         0         0         1           0           1   \n",
       "1            1         0         0         1           0           0   \n",
       "2            0         0         1         0           0           1   \n",
       "3            0         0         0         1           0           0   \n",
       "4            1         0         0         1           0           0   \n",
       "\n",
       "   Embarked_S  Title_Master  Title_Miss  Title_Mr  ...  kmeans_labels_3  \\\n",
       "0           0             0           0         1  ...                0   \n",
       "1           1             0           0         0  ...                0   \n",
       "2           0             0           0         1  ...                0   \n",
       "3           1             0           0         1  ...                0   \n",
       "4           1             0           0         0  ...                0   \n",
       "\n",
       "   kmeans_labels_4  kmeans_labels_5  kmeans_labels_6  kmeans_labels_7  \\\n",
       "0                0                0                0                0   \n",
       "1                0                0                1                0   \n",
       "2                0                0                0                0   \n",
       "3                0                0                0                0   \n",
       "4                0                0                0                0   \n",
       "\n",
       "   kmeans_labels_8  kmeans_labels_9  kmeans_labels_10  kmeans_labels_11  \\\n",
       "0                0                0                 0                 1   \n",
       "1                0                0                 0                 0   \n",
       "2                0                0                 0                 0   \n",
       "3                0                0                 0                 0   \n",
       "4                1                0                 0                 0   \n",
       "\n",
       "   kmeans_labels_12  \n",
       "0                 0  \n",
       "1                 0  \n",
       "2                 1  \n",
       "3                 0  \n",
       "4                 0  \n",
       "\n",
       "[5 rows x 39 columns]"
      ]
     },
     "execution_count": 79,
     "metadata": {},
     "output_type": "execute_result"
    }
   ],
   "source": [
    "ultimate_test.head()"
   ]
  },
  {
   "cell_type": "code",
   "execution_count": 80,
   "id": "2e83daa7",
   "metadata": {
    "execution": {
     "iopub.execute_input": "2022-06-06T16:04:03.003664Z",
     "iopub.status.busy": "2022-06-06T16:04:03.002651Z",
     "iopub.status.idle": "2022-06-06T16:04:03.009148Z",
     "shell.execute_reply": "2022-06-06T16:04:03.008467Z"
    },
    "papermill": {
     "duration": 0.060735,
     "end_time": "2022-06-06T16:04:03.011197",
     "exception": false,
     "start_time": "2022-06-06T16:04:02.950462",
     "status": "completed"
    },
    "tags": []
   },
   "outputs": [],
   "source": [
    "X_train_cluster, X_test_cluster, y_train_cluster, y_test_cluster = train_test_split(X, y, test_size=0.2, random_state=0)"
   ]
  },
  {
   "cell_type": "code",
   "execution_count": 81,
   "id": "5fc1313e",
   "metadata": {
    "execution": {
     "iopub.execute_input": "2022-06-06T16:04:03.116440Z",
     "iopub.status.busy": "2022-06-06T16:04:03.115472Z",
     "iopub.status.idle": "2022-06-06T16:04:03.121384Z",
     "shell.execute_reply": "2022-06-06T16:04:03.119940Z"
    },
    "papermill": {
     "duration": 0.061493,
     "end_time": "2022-06-06T16:04:03.123647",
     "exception": false,
     "start_time": "2022-06-06T16:04:03.062154",
     "status": "completed"
    },
    "tags": []
   },
   "outputs": [
    {
     "name": "stdout",
     "output_type": "stream",
     "text": [
      "(712, 39) (179, 39) \n",
      " (712,) (179,)\n"
     ]
    }
   ],
   "source": [
    "print(X_train_cluster.shape, X_test_cluster.shape, \"\\n\", y_train_cluster.shape, y_test_cluster.shape)"
   ]
  },
  {
   "cell_type": "markdown",
   "id": "420cd338",
   "metadata": {
    "papermill": {
     "duration": 0.051264,
     "end_time": "2022-06-06T16:04:03.225967",
     "exception": false,
     "start_time": "2022-06-06T16:04:03.174703",
     "status": "completed"
    },
    "tags": []
   },
   "source": [
    "# 4. Creating a model"
   ]
  },
  {
   "cell_type": "markdown",
   "id": "be399c4e",
   "metadata": {
    "papermill": {
     "duration": 0.061112,
     "end_time": "2022-06-06T16:04:03.338142",
     "exception": false,
     "start_time": "2022-06-06T16:04:03.277030",
     "status": "completed"
    },
    "tags": []
   },
   "source": [
    "## Random Forest"
   ]
  },
  {
   "cell_type": "code",
   "execution_count": 82,
   "id": "0427750e",
   "metadata": {
    "execution": {
     "iopub.execute_input": "2022-06-06T16:04:03.444304Z",
     "iopub.status.busy": "2022-06-06T16:04:03.443402Z",
     "iopub.status.idle": "2022-06-06T16:04:03.527748Z",
     "shell.execute_reply": "2022-06-06T16:04:03.526726Z"
    },
    "papermill": {
     "duration": 0.140721,
     "end_time": "2022-06-06T16:04:03.530728",
     "exception": false,
     "start_time": "2022-06-06T16:04:03.390007",
     "status": "completed"
    },
    "tags": []
   },
   "outputs": [],
   "source": [
    "from sklearn.ensemble import RandomForestClassifier\n",
    "rf_clf = RandomForestClassifier()"
   ]
  },
  {
   "cell_type": "code",
   "execution_count": 83,
   "id": "cd8e21d6",
   "metadata": {
    "execution": {
     "iopub.execute_input": "2022-06-06T16:04:03.635620Z",
     "iopub.status.busy": "2022-06-06T16:04:03.635001Z",
     "iopub.status.idle": "2022-06-06T16:04:03.641028Z",
     "shell.execute_reply": "2022-06-06T16:04:03.640017Z"
    },
    "papermill": {
     "duration": 0.060647,
     "end_time": "2022-06-06T16:04:03.643099",
     "exception": false,
     "start_time": "2022-06-06T16:04:03.582452",
     "status": "completed"
    },
    "tags": []
   },
   "outputs": [],
   "source": [
    "rf_param = {\"n_estimators\": [100, 200, 500],\n",
    "           \"max_depth\": range(1, 11, 2),\n",
    "           \"min_samples_leaf\": [10 ,30,50, 100],\n",
    "           \"max_features\": [\"sqrt\", \"log2\"],\n",
    "           \"random_state\": [0]}"
   ]
  },
  {
   "cell_type": "code",
   "execution_count": 84,
   "id": "05f4b83e",
   "metadata": {
    "execution": {
     "iopub.execute_input": "2022-06-06T16:04:03.760958Z",
     "iopub.status.busy": "2022-06-06T16:04:03.760584Z",
     "iopub.status.idle": "2022-06-06T16:06:11.275732Z",
     "shell.execute_reply": "2022-06-06T16:06:11.274587Z"
    },
    "papermill": {
     "duration": 127.634668,
     "end_time": "2022-06-06T16:06:11.332303",
     "exception": false,
     "start_time": "2022-06-06T16:04:03.697635",
     "status": "completed"
    },
    "tags": []
   },
   "outputs": [
    {
     "name": "stdout",
     "output_type": "stream",
     "text": [
      "CPU times: user 3.95 s, sys: 173 ms, total: 4.13 s\n",
      "Wall time: 2min 7s\n"
     ]
    },
    {
     "data": {
      "text/plain": [
       "GridSearchCV(cv=5, estimator=RandomForestClassifier(), n_jobs=-1,\n",
       "             param_grid={'max_depth': range(1, 11, 2),\n",
       "                         'max_features': ['sqrt', 'log2'],\n",
       "                         'min_samples_leaf': [10, 30, 50, 100],\n",
       "                         'n_estimators': [100, 200, 500], 'random_state': [0]},\n",
       "             scoring='f1')"
      ]
     },
     "execution_count": 84,
     "metadata": {},
     "output_type": "execute_result"
    }
   ],
   "source": [
    "%%time\n",
    "grid_rd = GridSearchCV(rf_clf, rf_param, scoring='f1', cv=5, n_jobs=-1)\n",
    "grid_rd.fit(X_train_cluster, y_train_cluster)"
   ]
  },
  {
   "cell_type": "code",
   "execution_count": 85,
   "id": "2c6549c5",
   "metadata": {
    "execution": {
     "iopub.execute_input": "2022-06-06T16:06:11.450305Z",
     "iopub.status.busy": "2022-06-06T16:06:11.449459Z",
     "iopub.status.idle": "2022-06-06T16:06:11.455754Z",
     "shell.execute_reply": "2022-06-06T16:06:11.455070Z"
    },
    "papermill": {
     "duration": 0.065447,
     "end_time": "2022-06-06T16:06:11.457527",
     "exception": false,
     "start_time": "2022-06-06T16:06:11.392080",
     "status": "completed"
    },
    "tags": []
   },
   "outputs": [
    {
     "data": {
      "text/plain": [
       "{'max_depth': 5,\n",
       " 'max_features': 'sqrt',\n",
       " 'min_samples_leaf': 10,\n",
       " 'n_estimators': 100,\n",
       " 'random_state': 0}"
      ]
     },
     "execution_count": 85,
     "metadata": {},
     "output_type": "execute_result"
    }
   ],
   "source": [
    "grid_rd.best_params_"
   ]
  },
  {
   "cell_type": "code",
   "execution_count": 86,
   "id": "7c45841c",
   "metadata": {
    "execution": {
     "iopub.execute_input": "2022-06-06T16:06:11.562387Z",
     "iopub.status.busy": "2022-06-06T16:06:11.561517Z",
     "iopub.status.idle": "2022-06-06T16:06:11.566755Z",
     "shell.execute_reply": "2022-06-06T16:06:11.566162Z"
    },
    "papermill": {
     "duration": 0.059474,
     "end_time": "2022-06-06T16:06:11.568436",
     "exception": false,
     "start_time": "2022-06-06T16:06:11.508962",
     "status": "completed"
    },
    "tags": []
   },
   "outputs": [
    {
     "data": {
      "text/plain": [
       "0.7484716772773427"
      ]
     },
     "execution_count": 86,
     "metadata": {},
     "output_type": "execute_result"
    }
   ],
   "source": [
    "grid_rd.best_score_"
   ]
  },
  {
   "cell_type": "code",
   "execution_count": 87,
   "id": "d3a40f63",
   "metadata": {
    "execution": {
     "iopub.execute_input": "2022-06-06T16:06:11.672929Z",
     "iopub.status.busy": "2022-06-06T16:06:11.672231Z",
     "iopub.status.idle": "2022-06-06T16:06:11.692444Z",
     "shell.execute_reply": "2022-06-06T16:06:11.691580Z"
    },
    "papermill": {
     "duration": 0.075707,
     "end_time": "2022-06-06T16:06:11.695488",
     "exception": false,
     "start_time": "2022-06-06T16:06:11.619781",
     "status": "completed"
    },
    "tags": []
   },
   "outputs": [],
   "source": [
    "preds = grid_rd.predict(X_test_cluster)"
   ]
  },
  {
   "cell_type": "code",
   "execution_count": 88,
   "id": "928b8f6a",
   "metadata": {
    "execution": {
     "iopub.execute_input": "2022-06-06T16:06:11.800498Z",
     "iopub.status.busy": "2022-06-06T16:06:11.799763Z",
     "iopub.status.idle": "2022-06-06T16:06:11.812163Z",
     "shell.execute_reply": "2022-06-06T16:06:11.810857Z"
    },
    "papermill": {
     "duration": 0.068082,
     "end_time": "2022-06-06T16:06:11.815234",
     "exception": false,
     "start_time": "2022-06-06T16:06:11.747152",
     "status": "completed"
    },
    "tags": []
   },
   "outputs": [
    {
     "name": "stdout",
     "output_type": "stream",
     "text": [
      "              precision    recall  f1-score   support\n",
      "\n",
      "         0.0       0.84      0.82      0.83       112\n",
      "         1.0       0.71      0.73      0.72        67\n",
      "\n",
      "    accuracy                           0.79       179\n",
      "   macro avg       0.77      0.78      0.77       179\n",
      "weighted avg       0.79      0.79      0.79       179\n",
      "\n"
     ]
    }
   ],
   "source": [
    "print(classification_report(preds, y_test_cluster))"
   ]
  },
  {
   "cell_type": "code",
   "execution_count": 89,
   "id": "fc15acbc",
   "metadata": {
    "execution": {
     "iopub.execute_input": "2022-06-06T16:06:11.921488Z",
     "iopub.status.busy": "2022-06-06T16:06:11.920780Z",
     "iopub.status.idle": "2022-06-06T16:06:11.925367Z",
     "shell.execute_reply": "2022-06-06T16:06:11.924674Z"
    },
    "papermill": {
     "duration": 0.05994,
     "end_time": "2022-06-06T16:06:11.927284",
     "exception": false,
     "start_time": "2022-06-06T16:06:11.867344",
     "status": "completed"
    },
    "tags": []
   },
   "outputs": [],
   "source": [
    "# assign found parameters to new model\n",
    "best_rf = grid_rd.best_estimator_"
   ]
  },
  {
   "cell_type": "markdown",
   "id": "aac2e125",
   "metadata": {
    "papermill": {
     "duration": 0.050457,
     "end_time": "2022-06-06T16:06:12.029485",
     "exception": false,
     "start_time": "2022-06-06T16:06:11.979028",
     "status": "completed"
    },
    "tags": []
   },
   "source": [
    "## Catboost"
   ]
  },
  {
   "cell_type": "code",
   "execution_count": 90,
   "id": "035a5dbe",
   "metadata": {
    "execution": {
     "iopub.execute_input": "2022-06-06T16:06:12.131691Z",
     "iopub.status.busy": "2022-06-06T16:06:12.131343Z",
     "iopub.status.idle": "2022-06-06T16:06:13.369487Z",
     "shell.execute_reply": "2022-06-06T16:06:13.368655Z"
    },
    "papermill": {
     "duration": 1.291589,
     "end_time": "2022-06-06T16:06:13.371577",
     "exception": false,
     "start_time": "2022-06-06T16:06:12.079988",
     "status": "completed"
    },
    "tags": []
   },
   "outputs": [
    {
     "name": "stdout",
     "output_type": "stream",
     "text": [
      "CPU times: user 2.32 s, sys: 767 ms, total: 3.09 s\n",
      "Wall time: 1.23 s\n"
     ]
    },
    {
     "data": {
      "text/plain": [
       "<catboost.core.CatBoostClassifier at 0x7f1bddcce5d0>"
      ]
     },
     "execution_count": 90,
     "metadata": {},
     "output_type": "execute_result"
    }
   ],
   "source": [
    "%%time\n",
    "simple_cat = CatBoostClassifier(silent=True)\n",
    "\n",
    "simple_cat.fit(X_train_cluster, y_train_cluster)"
   ]
  },
  {
   "cell_type": "code",
   "execution_count": 91,
   "id": "fc3a3df9",
   "metadata": {
    "execution": {
     "iopub.execute_input": "2022-06-06T16:06:13.476591Z",
     "iopub.status.busy": "2022-06-06T16:06:13.475522Z",
     "iopub.status.idle": "2022-06-06T16:06:13.488612Z",
     "shell.execute_reply": "2022-06-06T16:06:13.487650Z"
    },
    "papermill": {
     "duration": 0.067868,
     "end_time": "2022-06-06T16:06:13.490899",
     "exception": false,
     "start_time": "2022-06-06T16:06:13.423031",
     "status": "completed"
    },
    "tags": []
   },
   "outputs": [],
   "source": [
    "pred_simple_cat = simple_cat.predict(X_test_cluster)"
   ]
  },
  {
   "cell_type": "code",
   "execution_count": 92,
   "id": "30fb22fe",
   "metadata": {
    "execution": {
     "iopub.execute_input": "2022-06-06T16:06:13.597326Z",
     "iopub.status.busy": "2022-06-06T16:06:13.596653Z",
     "iopub.status.idle": "2022-06-06T16:06:13.608889Z",
     "shell.execute_reply": "2022-06-06T16:06:13.607551Z"
    },
    "papermill": {
     "duration": 0.067729,
     "end_time": "2022-06-06T16:06:13.611166",
     "exception": false,
     "start_time": "2022-06-06T16:06:13.543437",
     "status": "completed"
    },
    "tags": []
   },
   "outputs": [
    {
     "name": "stdout",
     "output_type": "stream",
     "text": [
      "              precision    recall  f1-score   support\n",
      "\n",
      "         0.0       0.85      0.82      0.84       114\n",
      "         1.0       0.71      0.75      0.73        65\n",
      "\n",
      "    accuracy                           0.80       179\n",
      "   macro avg       0.78      0.79      0.79       179\n",
      "weighted avg       0.80      0.80      0.80       179\n",
      "\n"
     ]
    }
   ],
   "source": [
    "print(classification_report(pred_simple_cat, y_test_cluster))"
   ]
  },
  {
   "cell_type": "markdown",
   "id": "10849a34",
   "metadata": {
    "papermill": {
     "duration": 0.051184,
     "end_time": "2022-06-06T16:06:13.716543",
     "exception": false,
     "start_time": "2022-06-06T16:06:13.665359",
     "status": "completed"
    },
    "tags": []
   },
   "source": [
    "**It's seen that the result of not tuned catboost is pretty good. Let's try to tune it**"
   ]
  },
  {
   "cell_type": "code",
   "execution_count": 93,
   "id": "0d3e83db",
   "metadata": {
    "execution": {
     "iopub.execute_input": "2022-06-06T16:06:13.821907Z",
     "iopub.status.busy": "2022-06-06T16:06:13.821505Z",
     "iopub.status.idle": "2022-06-06T16:06:13.826979Z",
     "shell.execute_reply": "2022-06-06T16:06:13.826123Z"
    },
    "papermill": {
     "duration": 0.060292,
     "end_time": "2022-06-06T16:06:13.828957",
     "exception": false,
     "start_time": "2022-06-06T16:06:13.768665",
     "status": "completed"
    },
    "tags": []
   },
   "outputs": [],
   "source": [
    "params_cat = [{\"depth\": range(6,11)},\n",
    "#              {\"num_trees\": [100, 300, 500]},\n",
    "             {\"learning_rate\": [1, 0.1, 0.01, 0.001]},\n",
    "             {\"l2_leaf_reg\": [0.1, 1, 10, 100]}\n",
    "             ]\n"
   ]
  },
  {
   "cell_type": "code",
   "execution_count": 94,
   "id": "a6ddd798",
   "metadata": {
    "execution": {
     "iopub.execute_input": "2022-06-06T16:06:13.932639Z",
     "iopub.status.busy": "2022-06-06T16:06:13.932020Z",
     "iopub.status.idle": "2022-06-06T16:06:13.936244Z",
     "shell.execute_reply": "2022-06-06T16:06:13.935349Z"
    },
    "papermill": {
     "duration": 0.057768,
     "end_time": "2022-06-06T16:06:13.938093",
     "exception": false,
     "start_time": "2022-06-06T16:06:13.880325",
     "status": "completed"
    },
    "tags": []
   },
   "outputs": [],
   "source": [
    "# %%time\n",
    "# grid_rd = GridSearchCV(rf_clf, rf_param, scoring='f1', cv=5, n_jobs=-1)\n",
    "# grid_rd.fit(X_train_cluster, y_train_cluster)"
   ]
  },
  {
   "cell_type": "code",
   "execution_count": 95,
   "id": "6fd016f6",
   "metadata": {
    "execution": {
     "iopub.execute_input": "2022-06-06T16:06:14.043157Z",
     "iopub.status.busy": "2022-06-06T16:06:14.042436Z",
     "iopub.status.idle": "2022-06-06T16:08:14.457511Z",
     "shell.execute_reply": "2022-06-06T16:08:14.456606Z"
    },
    "papermill": {
     "duration": 120.521144,
     "end_time": "2022-06-06T16:08:14.511312",
     "exception": false,
     "start_time": "2022-06-06T16:06:13.990168",
     "status": "completed"
    },
    "tags": []
   },
   "outputs": [
    {
     "name": "stderr",
     "output_type": "stream",
     "text": [
      " 33%|███▎      | 1/3 [01:12<02:25, 72.93s/it]"
     ]
    },
    {
     "name": "stdout",
     "output_type": "stream",
     "text": [
      "hyperparameter has been tuned\n"
     ]
    },
    {
     "name": "stderr",
     "output_type": "stream",
     "text": [
      " 67%|██████▋   | 2/3 [01:36<00:44, 44.05s/it]"
     ]
    },
    {
     "name": "stdout",
     "output_type": "stream",
     "text": [
      "hyperparameter has been tuned\n"
     ]
    },
    {
     "name": "stderr",
     "output_type": "stream",
     "text": [
      "100%|██████████| 3/3 [02:00<00:00, 40.13s/it]"
     ]
    },
    {
     "name": "stdout",
     "output_type": "stream",
     "text": [
      "hyperparameter has been tuned\n",
      "CPU times: user 12.8 s, sys: 3.28 s, total: 16 s\n",
      "Wall time: 2min\n"
     ]
    },
    {
     "name": "stderr",
     "output_type": "stream",
     "text": [
      "\n"
     ]
    }
   ],
   "source": [
    "%%time\n",
    "best_params = dict()\n",
    "for dictionary in tqdm(params_cat):\n",
    "    cat = CatBoostClassifier(silent=True)\n",
    "    grid_cat = GridSearchCV(cat, dictionary, scoring='f1', cv=5, n_jobs=-1)\n",
    "    grid_cat.fit(X_train_cluster, y_train_cluster)\n",
    "    key = list(grid_cat.best_params_.keys())[0]\n",
    "    best_params[key] = grid_cat.best_params_.get(key)\n",
    "    print(\"hyperparameter has been tuned\")"
   ]
  },
  {
   "cell_type": "code",
   "execution_count": 96,
   "id": "3cf211a7",
   "metadata": {
    "execution": {
     "iopub.execute_input": "2022-06-06T16:08:14.615023Z",
     "iopub.status.busy": "2022-06-06T16:08:14.614659Z",
     "iopub.status.idle": "2022-06-06T16:08:14.620976Z",
     "shell.execute_reply": "2022-06-06T16:08:14.619972Z"
    },
    "papermill": {
     "duration": 0.062179,
     "end_time": "2022-06-06T16:08:14.624350",
     "exception": false,
     "start_time": "2022-06-06T16:08:14.562171",
     "status": "completed"
    },
    "tags": []
   },
   "outputs": [
    {
     "data": {
      "text/plain": [
       "{'depth': 9, 'learning_rate': 0.001, 'l2_leaf_reg': 100}"
      ]
     },
     "execution_count": 96,
     "metadata": {},
     "output_type": "execute_result"
    }
   ],
   "source": [
    "best_params"
   ]
  },
  {
   "cell_type": "code",
   "execution_count": 97,
   "id": "2e031056",
   "metadata": {
    "execution": {
     "iopub.execute_input": "2022-06-06T16:08:14.729113Z",
     "iopub.status.busy": "2022-06-06T16:08:14.728171Z",
     "iopub.status.idle": "2022-06-06T16:08:14.735257Z",
     "shell.execute_reply": "2022-06-06T16:08:14.734445Z"
    },
    "papermill": {
     "duration": 0.061335,
     "end_time": "2022-06-06T16:08:14.737326",
     "exception": false,
     "start_time": "2022-06-06T16:08:14.675991",
     "status": "completed"
    },
    "tags": []
   },
   "outputs": [
    {
     "data": {
      "text/plain": [
       "{'depth': 9,\n",
       " 'learning_rate': 0.001,\n",
       " 'l2_leaf_reg': 100,\n",
       " 'use_best_model': True,\n",
       " 'eval_metric': 'F1',\n",
       " 'silent': True,\n",
       " 'iterations': 1000}"
      ]
     },
     "execution_count": 97,
     "metadata": {},
     "output_type": "execute_result"
    }
   ],
   "source": [
    "best_params[\"use_best_model\"] = True\n",
    "best_params[\"eval_metric\"] = \"F1\"\n",
    "best_params[\"silent\"] = True\n",
    "best_params[\"iterations\"] = 1000\n",
    "\n",
    "best_params"
   ]
  },
  {
   "cell_type": "code",
   "execution_count": 98,
   "id": "aeb0e41c",
   "metadata": {
    "execution": {
     "iopub.execute_input": "2022-06-06T16:08:14.841851Z",
     "iopub.status.busy": "2022-06-06T16:08:14.841503Z",
     "iopub.status.idle": "2022-06-06T16:08:14.849106Z",
     "shell.execute_reply": "2022-06-06T16:08:14.848169Z"
    },
    "papermill": {
     "duration": 0.062262,
     "end_time": "2022-06-06T16:08:14.850966",
     "exception": false,
     "start_time": "2022-06-06T16:08:14.788704",
     "status": "completed"
    },
    "tags": []
   },
   "outputs": [
    {
     "name": "stdout",
     "output_type": "stream",
     "text": [
      "(90, 40)\n",
      "(801, 40)\n"
     ]
    }
   ],
   "source": [
    "# we need to cut some data for catboost\n",
    "for_train_test, for_eval = train_test_split(train, test_size=0.1, random_state=0)\n",
    "print(for_eval.shape)\n",
    "print(for_train_test.shape)"
   ]
  },
  {
   "cell_type": "code",
   "execution_count": 99,
   "id": "489b4bd2",
   "metadata": {
    "execution": {
     "iopub.execute_input": "2022-06-06T16:08:14.957133Z",
     "iopub.status.busy": "2022-06-06T16:08:14.956710Z",
     "iopub.status.idle": "2022-06-06T16:08:14.970331Z",
     "shell.execute_reply": "2022-06-06T16:08:14.969269Z"
    },
    "papermill": {
     "duration": 0.069144,
     "end_time": "2022-06-06T16:08:14.972435",
     "exception": false,
     "start_time": "2022-06-06T16:08:14.903291",
     "status": "completed"
    },
    "tags": []
   },
   "outputs": [
    {
     "name": "stdout",
     "output_type": "stream",
     "text": [
      "(640, 39) (161, 39) \n",
      " (640,) (161,) \n",
      " (90, 39) (90,)\n"
     ]
    }
   ],
   "source": [
    "X_cat = for_train_test.drop(\"Survived\", axis=1)\n",
    "y_cat = for_train_test[\"Survived\"]\n",
    "\n",
    "# get eval sets for catboost\n",
    "X_eval = for_eval.drop(\"Survived\", axis=1)\n",
    "y_eval = for_eval[\"Survived\"]\n",
    "\n",
    "X_train_cat, X_test_cat, y_train_cat, y_test_cat = train_test_split(X_cat, y_cat, test_size=0.2, random_state=0)\n",
    "\n",
    "print(X_train_cat.shape, X_test_cat.shape, \"\\n\", y_train_cat.shape, y_test_cat.shape, \"\\n\", X_eval.shape, y_eval.shape)"
   ]
  },
  {
   "cell_type": "code",
   "execution_count": 100,
   "id": "70a79bd8",
   "metadata": {
    "execution": {
     "iopub.execute_input": "2022-06-06T16:08:15.078092Z",
     "iopub.status.busy": "2022-06-06T16:08:15.077299Z",
     "iopub.status.idle": "2022-06-06T16:08:15.422419Z",
     "shell.execute_reply": "2022-06-06T16:08:15.421073Z"
    },
    "papermill": {
     "duration": 0.400521,
     "end_time": "2022-06-06T16:08:15.424926",
     "exception": false,
     "start_time": "2022-06-06T16:08:15.024405",
     "status": "completed"
    },
    "tags": []
   },
   "outputs": [
    {
     "data": {
      "application/vnd.jupyter.widget-view+json": {
       "model_id": "4c8165fc70c347e9a00d5fa1e87f5148",
       "version_major": 2,
       "version_minor": 0
      },
      "text/plain": [
       "MetricVisualizer(layout=Layout(align_self='stretch', height='500px'))"
      ]
     },
     "metadata": {},
     "output_type": "display_data"
    },
    {
     "name": "stdout",
     "output_type": "stream",
     "text": [
      "CPU times: user 515 ms, sys: 151 ms, total: 666 ms\n",
      "Wall time: 337 ms\n"
     ]
    },
    {
     "data": {
      "text/plain": [
       "<catboost.core.CatBoostClassifier at 0x7f1bddd2d390>"
      ]
     },
     "execution_count": 100,
     "metadata": {},
     "output_type": "execute_result"
    }
   ],
   "source": [
    "%%time\n",
    "best_cat = CatBoostClassifier(**best_params)\n",
    "\n",
    "best_cat.fit(X_cat, y_cat, eval_set=(X_eval, y_eval), early_stopping_rounds=150, use_best_model=True, plot=True)"
   ]
  },
  {
   "cell_type": "code",
   "execution_count": 101,
   "id": "19b7f4de",
   "metadata": {
    "execution": {
     "iopub.execute_input": "2022-06-06T16:08:15.532161Z",
     "iopub.status.busy": "2022-06-06T16:08:15.531766Z",
     "iopub.status.idle": "2022-06-06T16:08:15.540624Z",
     "shell.execute_reply": "2022-06-06T16:08:15.539536Z"
    },
    "papermill": {
     "duration": 0.064832,
     "end_time": "2022-06-06T16:08:15.542730",
     "exception": false,
     "start_time": "2022-06-06T16:08:15.477898",
     "status": "completed"
    },
    "tags": []
   },
   "outputs": [],
   "source": [
    "preds_best_cat = best_cat.predict(X_test_cat)"
   ]
  },
  {
   "cell_type": "code",
   "execution_count": 102,
   "id": "f5b4c4fd",
   "metadata": {
    "execution": {
     "iopub.execute_input": "2022-06-06T16:08:15.650216Z",
     "iopub.status.busy": "2022-06-06T16:08:15.649413Z",
     "iopub.status.idle": "2022-06-06T16:08:15.660003Z",
     "shell.execute_reply": "2022-06-06T16:08:15.658879Z"
    },
    "papermill": {
     "duration": 0.066144,
     "end_time": "2022-06-06T16:08:15.662033",
     "exception": false,
     "start_time": "2022-06-06T16:08:15.595889",
     "status": "completed"
    },
    "tags": []
   },
   "outputs": [
    {
     "name": "stdout",
     "output_type": "stream",
     "text": [
      "              precision    recall  f1-score   support\n",
      "\n",
      "         0.0       0.93      0.83      0.88       120\n",
      "         1.0       0.63      0.83      0.72        41\n",
      "\n",
      "    accuracy                           0.83       161\n",
      "   macro avg       0.78      0.83      0.80       161\n",
      "weighted avg       0.86      0.83      0.84       161\n",
      "\n"
     ]
    }
   ],
   "source": [
    "print(classification_report(preds_best_cat, y_test_cat))"
   ]
  },
  {
   "cell_type": "markdown",
   "id": "487fff09",
   "metadata": {
    "papermill": {
     "duration": 0.053278,
     "end_time": "2022-06-06T16:08:15.768332",
     "exception": false,
     "start_time": "2022-06-06T16:08:15.715054",
     "status": "completed"
    },
    "tags": []
   },
   "source": [
    "**The result of tuned Catboost is better than of Random Forest**"
   ]
  },
  {
   "cell_type": "markdown",
   "id": "d90c1587",
   "metadata": {
    "papermill": {
     "duration": 0.052395,
     "end_time": "2022-06-06T16:08:15.873762",
     "exception": false,
     "start_time": "2022-06-06T16:08:15.821367",
     "status": "completed"
    },
    "tags": []
   },
   "source": [
    "### Making prediction for test data"
   ]
  },
  {
   "cell_type": "code",
   "execution_count": 103,
   "id": "69963a19",
   "metadata": {
    "execution": {
     "iopub.execute_input": "2022-06-06T16:08:15.982240Z",
     "iopub.status.busy": "2022-06-06T16:08:15.981360Z",
     "iopub.status.idle": "2022-06-06T16:08:15.996644Z",
     "shell.execute_reply": "2022-06-06T16:08:15.995649Z"
    },
    "papermill": {
     "duration": 0.072761,
     "end_time": "2022-06-06T16:08:15.999791",
     "exception": false,
     "start_time": "2022-06-06T16:08:15.927030",
     "status": "completed"
    },
    "tags": []
   },
   "outputs": [
    {
     "name": "stdout",
     "output_type": "stream",
     "text": [
      "<class 'pandas.core.frame.DataFrame'>\n",
      "Int64Index: 418 entries, 0 to 417\n",
      "Data columns (total 39 columns):\n",
      " #   Column            Non-Null Count  Dtype\n",
      "---  ------            --------------  -----\n",
      " 0   female/male       418 non-null    uint8\n",
      " 1   Pclass_1          418 non-null    uint8\n",
      " 2   Pclass_2          418 non-null    uint8\n",
      " 3   Pclass_3          418 non-null    uint8\n",
      " 4   Embarked_C        418 non-null    uint8\n",
      " 5   Embarked_Q        418 non-null    uint8\n",
      " 6   Embarked_S        418 non-null    uint8\n",
      " 7   Title_Master      418 non-null    uint8\n",
      " 8   Title_Miss        418 non-null    uint8\n",
      " 9   Title_Mr          418 non-null    uint8\n",
      " 10  Title_Mrs         418 non-null    uint8\n",
      " 11  Title_other       418 non-null    uint8\n",
      " 12  Deck_A            418 non-null    uint8\n",
      " 13  Deck_B            418 non-null    uint8\n",
      " 14  Deck_C            418 non-null    uint8\n",
      " 15  Deck_D            418 non-null    uint8\n",
      " 16  Deck_E            418 non-null    uint8\n",
      " 17  Deck_F            418 non-null    uint8\n",
      " 18  Deck_G            418 non-null    uint8\n",
      " 19  Deck_Missed       418 non-null    uint8\n",
      " 20  Deck_T            418 non-null    uint8\n",
      " 21  Is_alone          418 non-null    int64\n",
      " 22  cluster_labels_1  418 non-null    uint8\n",
      " 23  cluster_labels_2  418 non-null    uint8\n",
      " 24  cluster_labels_3  418 non-null    uint8\n",
      " 25  cluster_labels_4  418 non-null    uint8\n",
      " 26  kmeans_labels_0   418 non-null    uint8\n",
      " 27  kmeans_labels_1   418 non-null    uint8\n",
      " 28  kmeans_labels_2   418 non-null    uint8\n",
      " 29  kmeans_labels_3   418 non-null    uint8\n",
      " 30  kmeans_labels_4   418 non-null    uint8\n",
      " 31  kmeans_labels_5   418 non-null    uint8\n",
      " 32  kmeans_labels_6   418 non-null    uint8\n",
      " 33  kmeans_labels_7   418 non-null    uint8\n",
      " 34  kmeans_labels_8   418 non-null    uint8\n",
      " 35  kmeans_labels_9   418 non-null    uint8\n",
      " 36  kmeans_labels_10  418 non-null    uint8\n",
      " 37  kmeans_labels_11  418 non-null    uint8\n",
      " 38  kmeans_labels_12  418 non-null    uint8\n",
      "dtypes: int64(1), uint8(38)\n",
      "memory usage: 22.0 KB\n"
     ]
    }
   ],
   "source": [
    "ultimate_test.info()"
   ]
  },
  {
   "cell_type": "code",
   "execution_count": 104,
   "id": "99549736",
   "metadata": {
    "execution": {
     "iopub.execute_input": "2022-06-06T16:08:16.164840Z",
     "iopub.status.busy": "2022-06-06T16:08:16.164099Z",
     "iopub.status.idle": "2022-06-06T16:08:16.185314Z",
     "shell.execute_reply": "2022-06-06T16:08:16.183889Z"
    },
    "papermill": {
     "duration": 0.134181,
     "end_time": "2022-06-06T16:08:16.187400",
     "exception": false,
     "start_time": "2022-06-06T16:08:16.053219",
     "status": "completed"
    },
    "tags": []
   },
   "outputs": [
    {
     "name": "stdout",
     "output_type": "stream",
     "text": [
      "(891, 39)\n"
     ]
    },
    {
     "data": {
      "text/html": [
       "<div>\n",
       "<style scoped>\n",
       "    .dataframe tbody tr th:only-of-type {\n",
       "        vertical-align: middle;\n",
       "    }\n",
       "\n",
       "    .dataframe tbody tr th {\n",
       "        vertical-align: top;\n",
       "    }\n",
       "\n",
       "    .dataframe thead th {\n",
       "        text-align: right;\n",
       "    }\n",
       "</style>\n",
       "<table border=\"1\" class=\"dataframe\">\n",
       "  <thead>\n",
       "    <tr style=\"text-align: right;\">\n",
       "      <th></th>\n",
       "      <th>female/male</th>\n",
       "      <th>Pclass_1</th>\n",
       "      <th>Pclass_2</th>\n",
       "      <th>Pclass_3</th>\n",
       "      <th>Embarked_C</th>\n",
       "      <th>Embarked_Q</th>\n",
       "      <th>Embarked_S</th>\n",
       "      <th>Title_Master</th>\n",
       "      <th>Title_Miss</th>\n",
       "      <th>Title_Mr</th>\n",
       "      <th>...</th>\n",
       "      <th>kmeans_labels_3</th>\n",
       "      <th>kmeans_labels_4</th>\n",
       "      <th>kmeans_labels_5</th>\n",
       "      <th>kmeans_labels_6</th>\n",
       "      <th>kmeans_labels_7</th>\n",
       "      <th>kmeans_labels_8</th>\n",
       "      <th>kmeans_labels_9</th>\n",
       "      <th>kmeans_labels_10</th>\n",
       "      <th>kmeans_labels_11</th>\n",
       "      <th>kmeans_labels_12</th>\n",
       "    </tr>\n",
       "  </thead>\n",
       "  <tbody>\n",
       "    <tr>\n",
       "      <th>140</th>\n",
       "      <td>1</td>\n",
       "      <td>0</td>\n",
       "      <td>0</td>\n",
       "      <td>1</td>\n",
       "      <td>1</td>\n",
       "      <td>0</td>\n",
       "      <td>0</td>\n",
       "      <td>0</td>\n",
       "      <td>0</td>\n",
       "      <td>0</td>\n",
       "      <td>...</td>\n",
       "      <td>0</td>\n",
       "      <td>0</td>\n",
       "      <td>0</td>\n",
       "      <td>0</td>\n",
       "      <td>0</td>\n",
       "      <td>1</td>\n",
       "      <td>0</td>\n",
       "      <td>0</td>\n",
       "      <td>0</td>\n",
       "      <td>0</td>\n",
       "    </tr>\n",
       "    <tr>\n",
       "      <th>439</th>\n",
       "      <td>0</td>\n",
       "      <td>0</td>\n",
       "      <td>1</td>\n",
       "      <td>0</td>\n",
       "      <td>0</td>\n",
       "      <td>0</td>\n",
       "      <td>1</td>\n",
       "      <td>0</td>\n",
       "      <td>0</td>\n",
       "      <td>1</td>\n",
       "      <td>...</td>\n",
       "      <td>0</td>\n",
       "      <td>0</td>\n",
       "      <td>0</td>\n",
       "      <td>0</td>\n",
       "      <td>1</td>\n",
       "      <td>0</td>\n",
       "      <td>0</td>\n",
       "      <td>0</td>\n",
       "      <td>0</td>\n",
       "      <td>0</td>\n",
       "    </tr>\n",
       "    <tr>\n",
       "      <th>817</th>\n",
       "      <td>0</td>\n",
       "      <td>0</td>\n",
       "      <td>1</td>\n",
       "      <td>0</td>\n",
       "      <td>1</td>\n",
       "      <td>0</td>\n",
       "      <td>0</td>\n",
       "      <td>0</td>\n",
       "      <td>0</td>\n",
       "      <td>1</td>\n",
       "      <td>...</td>\n",
       "      <td>0</td>\n",
       "      <td>0</td>\n",
       "      <td>0</td>\n",
       "      <td>0</td>\n",
       "      <td>1</td>\n",
       "      <td>0</td>\n",
       "      <td>0</td>\n",
       "      <td>0</td>\n",
       "      <td>0</td>\n",
       "      <td>0</td>\n",
       "    </tr>\n",
       "    <tr>\n",
       "      <th>378</th>\n",
       "      <td>0</td>\n",
       "      <td>0</td>\n",
       "      <td>0</td>\n",
       "      <td>1</td>\n",
       "      <td>1</td>\n",
       "      <td>0</td>\n",
       "      <td>0</td>\n",
       "      <td>0</td>\n",
       "      <td>0</td>\n",
       "      <td>1</td>\n",
       "      <td>...</td>\n",
       "      <td>0</td>\n",
       "      <td>0</td>\n",
       "      <td>0</td>\n",
       "      <td>0</td>\n",
       "      <td>0</td>\n",
       "      <td>1</td>\n",
       "      <td>0</td>\n",
       "      <td>0</td>\n",
       "      <td>0</td>\n",
       "      <td>0</td>\n",
       "    </tr>\n",
       "    <tr>\n",
       "      <th>491</th>\n",
       "      <td>0</td>\n",
       "      <td>0</td>\n",
       "      <td>0</td>\n",
       "      <td>1</td>\n",
       "      <td>0</td>\n",
       "      <td>0</td>\n",
       "      <td>1</td>\n",
       "      <td>0</td>\n",
       "      <td>0</td>\n",
       "      <td>1</td>\n",
       "      <td>...</td>\n",
       "      <td>0</td>\n",
       "      <td>0</td>\n",
       "      <td>0</td>\n",
       "      <td>0</td>\n",
       "      <td>0</td>\n",
       "      <td>1</td>\n",
       "      <td>0</td>\n",
       "      <td>0</td>\n",
       "      <td>0</td>\n",
       "      <td>0</td>\n",
       "    </tr>\n",
       "  </tbody>\n",
       "</table>\n",
       "<p>5 rows × 39 columns</p>\n",
       "</div>"
      ],
      "text/plain": [
       "     female/male  Pclass_1  Pclass_2  Pclass_3  Embarked_C  Embarked_Q  \\\n",
       "140            1         0         0         1           1           0   \n",
       "439            0         0         1         0           0           0   \n",
       "817            0         0         1         0           1           0   \n",
       "378            0         0         0         1           1           0   \n",
       "491            0         0         0         1           0           0   \n",
       "\n",
       "     Embarked_S  Title_Master  Title_Miss  Title_Mr  ...  kmeans_labels_3  \\\n",
       "140           0             0           0         0  ...                0   \n",
       "439           1             0           0         1  ...                0   \n",
       "817           0             0           0         1  ...                0   \n",
       "378           0             0           0         1  ...                0   \n",
       "491           1             0           0         1  ...                0   \n",
       "\n",
       "     kmeans_labels_4  kmeans_labels_5  kmeans_labels_6  kmeans_labels_7  \\\n",
       "140                0                0                0                0   \n",
       "439                0                0                0                1   \n",
       "817                0                0                0                1   \n",
       "378                0                0                0                0   \n",
       "491                0                0                0                0   \n",
       "\n",
       "     kmeans_labels_8  kmeans_labels_9  kmeans_labels_10  kmeans_labels_11  \\\n",
       "140                1                0                 0                 0   \n",
       "439                0                0                 0                 0   \n",
       "817                0                0                 0                 0   \n",
       "378                1                0                 0                 0   \n",
       "491                1                0                 0                 0   \n",
       "\n",
       "     kmeans_labels_12  \n",
       "140                 0  \n",
       "439                 0  \n",
       "817                 0  \n",
       "378                 0  \n",
       "491                 0  \n",
       "\n",
       "[5 rows x 39 columns]"
      ]
     },
     "execution_count": 104,
     "metadata": {},
     "output_type": "execute_result"
    }
   ],
   "source": [
    "# unite our data to train final models\n",
    "united_data_X = pd.concat([X_train_cluster, X_test_cluster])\n",
    "print(united_data_X.shape)\n",
    "united_data_X.head()"
   ]
  },
  {
   "cell_type": "code",
   "execution_count": 105,
   "id": "002b1580",
   "metadata": {
    "execution": {
     "iopub.execute_input": "2022-06-06T16:08:16.296834Z",
     "iopub.status.busy": "2022-06-06T16:08:16.296039Z",
     "iopub.status.idle": "2022-06-06T16:08:16.307218Z",
     "shell.execute_reply": "2022-06-06T16:08:16.305437Z"
    },
    "papermill": {
     "duration": 0.068785,
     "end_time": "2022-06-06T16:08:16.310268",
     "exception": false,
     "start_time": "2022-06-06T16:08:16.241483",
     "status": "completed"
    },
    "tags": []
   },
   "outputs": [
    {
     "name": "stdout",
     "output_type": "stream",
     "text": [
      "(891,)\n"
     ]
    },
    {
     "data": {
      "text/plain": [
       "140    0.0\n",
       "439    0.0\n",
       "817    0.0\n",
       "378    0.0\n",
       "491    0.0\n",
       "Name: Survived, dtype: float64"
      ]
     },
     "execution_count": 105,
     "metadata": {},
     "output_type": "execute_result"
    }
   ],
   "source": [
    "united_data_y = pd.concat([y_train_cluster, y_test_cluster])\n",
    "print(united_data_y.shape)\n",
    "united_data_y.head()"
   ]
  },
  {
   "cell_type": "code",
   "execution_count": 106,
   "id": "2a75953f",
   "metadata": {
    "execution": {
     "iopub.execute_input": "2022-06-06T16:08:16.421086Z",
     "iopub.status.busy": "2022-06-06T16:08:16.420699Z",
     "iopub.status.idle": "2022-06-06T16:08:16.618826Z",
     "shell.execute_reply": "2022-06-06T16:08:16.617906Z"
    },
    "papermill": {
     "duration": 0.25623,
     "end_time": "2022-06-06T16:08:16.620919",
     "exception": false,
     "start_time": "2022-06-06T16:08:16.364689",
     "status": "completed"
    },
    "tags": []
   },
   "outputs": [
    {
     "data": {
      "text/plain": [
       "RandomForestClassifier(max_depth=5, max_features='sqrt', min_samples_leaf=10,\n",
       "                       random_state=0)"
      ]
     },
     "execution_count": 106,
     "metadata": {},
     "output_type": "execute_result"
    }
   ],
   "source": [
    "best_rf.fit(united_data_X, united_data_y)\n"
   ]
  },
  {
   "cell_type": "code",
   "execution_count": 107,
   "id": "3200bf3c",
   "metadata": {
    "execution": {
     "iopub.execute_input": "2022-06-06T16:08:16.730539Z",
     "iopub.status.busy": "2022-06-06T16:08:16.729928Z",
     "iopub.status.idle": "2022-06-06T16:08:16.750871Z",
     "shell.execute_reply": "2022-06-06T16:08:16.749844Z"
    },
    "papermill": {
     "duration": 0.078187,
     "end_time": "2022-06-06T16:08:16.753107",
     "exception": false,
     "start_time": "2022-06-06T16:08:16.674920",
     "status": "completed"
    },
    "tags": []
   },
   "outputs": [
    {
     "name": "stdout",
     "output_type": "stream",
     "text": [
      "(801, 39)\n"
     ]
    },
    {
     "data": {
      "text/html": [
       "<div>\n",
       "<style scoped>\n",
       "    .dataframe tbody tr th:only-of-type {\n",
       "        vertical-align: middle;\n",
       "    }\n",
       "\n",
       "    .dataframe tbody tr th {\n",
       "        vertical-align: top;\n",
       "    }\n",
       "\n",
       "    .dataframe thead th {\n",
       "        text-align: right;\n",
       "    }\n",
       "</style>\n",
       "<table border=\"1\" class=\"dataframe\">\n",
       "  <thead>\n",
       "    <tr style=\"text-align: right;\">\n",
       "      <th></th>\n",
       "      <th>female/male</th>\n",
       "      <th>Pclass_1</th>\n",
       "      <th>Pclass_2</th>\n",
       "      <th>Pclass_3</th>\n",
       "      <th>Embarked_C</th>\n",
       "      <th>Embarked_Q</th>\n",
       "      <th>Embarked_S</th>\n",
       "      <th>Title_Master</th>\n",
       "      <th>Title_Miss</th>\n",
       "      <th>Title_Mr</th>\n",
       "      <th>...</th>\n",
       "      <th>kmeans_labels_3</th>\n",
       "      <th>kmeans_labels_4</th>\n",
       "      <th>kmeans_labels_5</th>\n",
       "      <th>kmeans_labels_6</th>\n",
       "      <th>kmeans_labels_7</th>\n",
       "      <th>kmeans_labels_8</th>\n",
       "      <th>kmeans_labels_9</th>\n",
       "      <th>kmeans_labels_10</th>\n",
       "      <th>kmeans_labels_11</th>\n",
       "      <th>kmeans_labels_12</th>\n",
       "    </tr>\n",
       "  </thead>\n",
       "  <tbody>\n",
       "    <tr>\n",
       "      <th>135</th>\n",
       "      <td>0</td>\n",
       "      <td>0</td>\n",
       "      <td>1</td>\n",
       "      <td>0</td>\n",
       "      <td>1</td>\n",
       "      <td>0</td>\n",
       "      <td>0</td>\n",
       "      <td>0</td>\n",
       "      <td>0</td>\n",
       "      <td>1</td>\n",
       "      <td>...</td>\n",
       "      <td>0</td>\n",
       "      <td>0</td>\n",
       "      <td>0</td>\n",
       "      <td>0</td>\n",
       "      <td>0</td>\n",
       "      <td>1</td>\n",
       "      <td>0</td>\n",
       "      <td>0</td>\n",
       "      <td>0</td>\n",
       "      <td>0</td>\n",
       "    </tr>\n",
       "    <tr>\n",
       "      <th>490</th>\n",
       "      <td>0</td>\n",
       "      <td>0</td>\n",
       "      <td>0</td>\n",
       "      <td>1</td>\n",
       "      <td>0</td>\n",
       "      <td>0</td>\n",
       "      <td>1</td>\n",
       "      <td>0</td>\n",
       "      <td>0</td>\n",
       "      <td>1</td>\n",
       "      <td>...</td>\n",
       "      <td>0</td>\n",
       "      <td>0</td>\n",
       "      <td>0</td>\n",
       "      <td>0</td>\n",
       "      <td>0</td>\n",
       "      <td>0</td>\n",
       "      <td>0</td>\n",
       "      <td>0</td>\n",
       "      <td>0</td>\n",
       "      <td>0</td>\n",
       "    </tr>\n",
       "    <tr>\n",
       "      <th>631</th>\n",
       "      <td>0</td>\n",
       "      <td>0</td>\n",
       "      <td>0</td>\n",
       "      <td>1</td>\n",
       "      <td>0</td>\n",
       "      <td>0</td>\n",
       "      <td>1</td>\n",
       "      <td>0</td>\n",
       "      <td>0</td>\n",
       "      <td>1</td>\n",
       "      <td>...</td>\n",
       "      <td>0</td>\n",
       "      <td>0</td>\n",
       "      <td>0</td>\n",
       "      <td>1</td>\n",
       "      <td>0</td>\n",
       "      <td>0</td>\n",
       "      <td>0</td>\n",
       "      <td>0</td>\n",
       "      <td>0</td>\n",
       "      <td>0</td>\n",
       "    </tr>\n",
       "    <tr>\n",
       "      <th>389</th>\n",
       "      <td>1</td>\n",
       "      <td>0</td>\n",
       "      <td>1</td>\n",
       "      <td>0</td>\n",
       "      <td>1</td>\n",
       "      <td>0</td>\n",
       "      <td>0</td>\n",
       "      <td>0</td>\n",
       "      <td>1</td>\n",
       "      <td>0</td>\n",
       "      <td>...</td>\n",
       "      <td>0</td>\n",
       "      <td>1</td>\n",
       "      <td>0</td>\n",
       "      <td>0</td>\n",
       "      <td>0</td>\n",
       "      <td>0</td>\n",
       "      <td>0</td>\n",
       "      <td>0</td>\n",
       "      <td>0</td>\n",
       "      <td>0</td>\n",
       "    </tr>\n",
       "    <tr>\n",
       "      <th>269</th>\n",
       "      <td>1</td>\n",
       "      <td>1</td>\n",
       "      <td>0</td>\n",
       "      <td>0</td>\n",
       "      <td>0</td>\n",
       "      <td>0</td>\n",
       "      <td>1</td>\n",
       "      <td>0</td>\n",
       "      <td>1</td>\n",
       "      <td>0</td>\n",
       "      <td>...</td>\n",
       "      <td>0</td>\n",
       "      <td>0</td>\n",
       "      <td>0</td>\n",
       "      <td>0</td>\n",
       "      <td>0</td>\n",
       "      <td>0</td>\n",
       "      <td>0</td>\n",
       "      <td>0</td>\n",
       "      <td>1</td>\n",
       "      <td>0</td>\n",
       "    </tr>\n",
       "  </tbody>\n",
       "</table>\n",
       "<p>5 rows × 39 columns</p>\n",
       "</div>"
      ],
      "text/plain": [
       "     female/male  Pclass_1  Pclass_2  Pclass_3  Embarked_C  Embarked_Q  \\\n",
       "135            0         0         1         0           1           0   \n",
       "490            0         0         0         1           0           0   \n",
       "631            0         0         0         1           0           0   \n",
       "389            1         0         1         0           1           0   \n",
       "269            1         1         0         0           0           0   \n",
       "\n",
       "     Embarked_S  Title_Master  Title_Miss  Title_Mr  ...  kmeans_labels_3  \\\n",
       "135           0             0           0         1  ...                0   \n",
       "490           1             0           0         1  ...                0   \n",
       "631           1             0           0         1  ...                0   \n",
       "389           0             0           1         0  ...                0   \n",
       "269           1             0           1         0  ...                0   \n",
       "\n",
       "     kmeans_labels_4  kmeans_labels_5  kmeans_labels_6  kmeans_labels_7  \\\n",
       "135                0                0                0                0   \n",
       "490                0                0                0                0   \n",
       "631                0                0                1                0   \n",
       "389                1                0                0                0   \n",
       "269                0                0                0                0   \n",
       "\n",
       "     kmeans_labels_8  kmeans_labels_9  kmeans_labels_10  kmeans_labels_11  \\\n",
       "135                1                0                 0                 0   \n",
       "490                0                0                 0                 0   \n",
       "631                0                0                 0                 0   \n",
       "389                0                0                 0                 0   \n",
       "269                0                0                 0                 1   \n",
       "\n",
       "     kmeans_labels_12  \n",
       "135                 0  \n",
       "490                 0  \n",
       "631                 0  \n",
       "389                 0  \n",
       "269                 0  \n",
       "\n",
       "[5 rows x 39 columns]"
      ]
     },
     "execution_count": 107,
     "metadata": {},
     "output_type": "execute_result"
    }
   ],
   "source": [
    "# unite data for catboost\n",
    "united_data_X_cat = pd.concat([X_train_cat, X_test_cat])\n",
    "print(united_data_X_cat.shape)\n",
    "united_data_X_cat.head()"
   ]
  },
  {
   "cell_type": "code",
   "execution_count": 108,
   "id": "9a7b0797",
   "metadata": {
    "execution": {
     "iopub.execute_input": "2022-06-06T16:08:16.863780Z",
     "iopub.status.busy": "2022-06-06T16:08:16.863407Z",
     "iopub.status.idle": "2022-06-06T16:08:16.872124Z",
     "shell.execute_reply": "2022-06-06T16:08:16.871197Z"
    },
    "papermill": {
     "duration": 0.068181,
     "end_time": "2022-06-06T16:08:16.875625",
     "exception": false,
     "start_time": "2022-06-06T16:08:16.807444",
     "status": "completed"
    },
    "tags": []
   },
   "outputs": [
    {
     "name": "stdout",
     "output_type": "stream",
     "text": [
      "(801,)\n"
     ]
    },
    {
     "data": {
      "text/plain": [
       "135    0.0\n",
       "490    0.0\n",
       "631    0.0\n",
       "389    1.0\n",
       "269    1.0\n",
       "Name: Survived, dtype: float64"
      ]
     },
     "execution_count": 108,
     "metadata": {},
     "output_type": "execute_result"
    }
   ],
   "source": [
    "united_data_y = pd.concat([y_train_cat, y_test_cat])\n",
    "print(united_data_y.shape)\n",
    "united_data_y.head()"
   ]
  },
  {
   "cell_type": "code",
   "execution_count": 109,
   "id": "e18b7926",
   "metadata": {
    "execution": {
     "iopub.execute_input": "2022-06-06T16:08:16.986413Z",
     "iopub.status.busy": "2022-06-06T16:08:16.985929Z",
     "iopub.status.idle": "2022-06-06T16:08:17.471113Z",
     "shell.execute_reply": "2022-06-06T16:08:17.470180Z"
    },
    "papermill": {
     "duration": 0.542996,
     "end_time": "2022-06-06T16:08:17.473231",
     "exception": false,
     "start_time": "2022-06-06T16:08:16.930235",
     "status": "completed"
    },
    "tags": []
   },
   "outputs": [
    {
     "data": {
      "application/vnd.jupyter.widget-view+json": {
       "model_id": "3346a661b16d48358453fa26f58f2996",
       "version_major": 2,
       "version_minor": 0
      },
      "text/plain": [
       "MetricVisualizer(layout=Layout(align_self='stretch', height='500px'))"
      ]
     },
     "metadata": {},
     "output_type": "display_data"
    },
    {
     "data": {
      "text/plain": [
       "<catboost.core.CatBoostClassifier at 0x7f1bddd2d390>"
      ]
     },
     "execution_count": 109,
     "metadata": {},
     "output_type": "execute_result"
    }
   ],
   "source": [
    "cat_for_test = CatBoostClassifier(**best_params)\n",
    "\n",
    "best_cat.fit(united_data_X_cat, united_data_y, eval_set=(X_eval, y_eval), early_stopping_rounds=150, use_best_model=True, plot=True)"
   ]
  },
  {
   "cell_type": "code",
   "execution_count": 110,
   "id": "bdfe7b72",
   "metadata": {
    "execution": {
     "iopub.execute_input": "2022-06-06T16:08:17.592339Z",
     "iopub.status.busy": "2022-06-06T16:08:17.591941Z",
     "iopub.status.idle": "2022-06-06T16:08:17.623688Z",
     "shell.execute_reply": "2022-06-06T16:08:17.622678Z"
    },
    "papermill": {
     "duration": 0.098045,
     "end_time": "2022-06-06T16:08:17.626835",
     "exception": false,
     "start_time": "2022-06-06T16:08:17.528790",
     "status": "completed"
    },
    "tags": []
   },
   "outputs": [],
   "source": [
    "best_prediction = best_rf.predict(ultimate_test)\n",
    "# best_prediction = cat1.predict(ultimate_test)\n",
    "# best_prediction = best_cat.predict(ultimate_test)"
   ]
  },
  {
   "cell_type": "code",
   "execution_count": 111,
   "id": "c00d80a8",
   "metadata": {
    "execution": {
     "iopub.execute_input": "2022-06-06T16:08:17.752650Z",
     "iopub.status.busy": "2022-06-06T16:08:17.751754Z",
     "iopub.status.idle": "2022-06-06T16:08:17.774028Z",
     "shell.execute_reply": "2022-06-06T16:08:17.772838Z"
    },
    "papermill": {
     "duration": 0.082209,
     "end_time": "2022-06-06T16:08:17.776569",
     "exception": false,
     "start_time": "2022-06-06T16:08:17.694360",
     "status": "completed"
    },
    "tags": []
   },
   "outputs": [
    {
     "data": {
      "text/html": [
       "<div>\n",
       "<style scoped>\n",
       "    .dataframe tbody tr th:only-of-type {\n",
       "        vertical-align: middle;\n",
       "    }\n",
       "\n",
       "    .dataframe tbody tr th {\n",
       "        vertical-align: top;\n",
       "    }\n",
       "\n",
       "    .dataframe thead th {\n",
       "        text-align: right;\n",
       "    }\n",
       "</style>\n",
       "<table border=\"1\" class=\"dataframe\">\n",
       "  <thead>\n",
       "    <tr style=\"text-align: right;\">\n",
       "      <th></th>\n",
       "      <th>PassengerId</th>\n",
       "      <th>Survived</th>\n",
       "    </tr>\n",
       "  </thead>\n",
       "  <tbody>\n",
       "    <tr>\n",
       "      <th>0</th>\n",
       "      <td>892</td>\n",
       "      <td>0.0</td>\n",
       "    </tr>\n",
       "    <tr>\n",
       "      <th>1</th>\n",
       "      <td>893</td>\n",
       "      <td>0.0</td>\n",
       "    </tr>\n",
       "    <tr>\n",
       "      <th>2</th>\n",
       "      <td>894</td>\n",
       "      <td>0.0</td>\n",
       "    </tr>\n",
       "    <tr>\n",
       "      <th>3</th>\n",
       "      <td>895</td>\n",
       "      <td>0.0</td>\n",
       "    </tr>\n",
       "    <tr>\n",
       "      <th>4</th>\n",
       "      <td>896</td>\n",
       "      <td>0.0</td>\n",
       "    </tr>\n",
       "  </tbody>\n",
       "</table>\n",
       "</div>"
      ],
      "text/plain": [
       "   PassengerId  Survived\n",
       "0          892       0.0\n",
       "1          893       0.0\n",
       "2          894       0.0\n",
       "3          895       0.0\n",
       "4          896       0.0"
      ]
     },
     "execution_count": 111,
     "metadata": {},
     "output_type": "execute_result"
    }
   ],
   "source": [
    "submission = pd.DataFrame(best_prediction).reset_index().rename(columns={\"index\": \"PassengerId\", 0: \"Survived\"})\n",
    "right_ids = [i for i in range(892, 1310, 1)]\n",
    "submission[\"PassengerId\"] = right_ids\n",
    "submission.head()"
   ]
  },
  {
   "cell_type": "code",
   "execution_count": 112,
   "id": "151fddf0",
   "metadata": {
    "execution": {
     "iopub.execute_input": "2022-06-06T16:08:17.896483Z",
     "iopub.status.busy": "2022-06-06T16:08:17.895808Z",
     "iopub.status.idle": "2022-06-06T16:08:17.907565Z",
     "shell.execute_reply": "2022-06-06T16:08:17.906408Z"
    },
    "papermill": {
     "duration": 0.077583,
     "end_time": "2022-06-06T16:08:17.910266",
     "exception": false,
     "start_time": "2022-06-06T16:08:17.832683",
     "status": "completed"
    },
    "tags": []
   },
   "outputs": [
    {
     "data": {
      "text/html": [
       "<div>\n",
       "<style scoped>\n",
       "    .dataframe tbody tr th:only-of-type {\n",
       "        vertical-align: middle;\n",
       "    }\n",
       "\n",
       "    .dataframe tbody tr th {\n",
       "        vertical-align: top;\n",
       "    }\n",
       "\n",
       "    .dataframe thead th {\n",
       "        text-align: right;\n",
       "    }\n",
       "</style>\n",
       "<table border=\"1\" class=\"dataframe\">\n",
       "  <thead>\n",
       "    <tr style=\"text-align: right;\">\n",
       "      <th></th>\n",
       "      <th>PassengerId</th>\n",
       "      <th>Survived</th>\n",
       "    </tr>\n",
       "  </thead>\n",
       "  <tbody>\n",
       "    <tr>\n",
       "      <th>0</th>\n",
       "      <td>892</td>\n",
       "      <td>0</td>\n",
       "    </tr>\n",
       "    <tr>\n",
       "      <th>1</th>\n",
       "      <td>893</td>\n",
       "      <td>0</td>\n",
       "    </tr>\n",
       "    <tr>\n",
       "      <th>2</th>\n",
       "      <td>894</td>\n",
       "      <td>0</td>\n",
       "    </tr>\n",
       "    <tr>\n",
       "      <th>3</th>\n",
       "      <td>895</td>\n",
       "      <td>0</td>\n",
       "    </tr>\n",
       "    <tr>\n",
       "      <th>4</th>\n",
       "      <td>896</td>\n",
       "      <td>0</td>\n",
       "    </tr>\n",
       "  </tbody>\n",
       "</table>\n",
       "</div>"
      ],
      "text/plain": [
       "   PassengerId  Survived\n",
       "0          892         0\n",
       "1          893         0\n",
       "2          894         0\n",
       "3          895         0\n",
       "4          896         0"
      ]
     },
     "execution_count": 112,
     "metadata": {},
     "output_type": "execute_result"
    }
   ],
   "source": [
    "submission[\"Survived\"] = submission[\"Survived\"].astype(int)\n",
    "submission.head()"
   ]
  },
  {
   "cell_type": "code",
   "execution_count": 113,
   "id": "a9114f44",
   "metadata": {
    "execution": {
     "iopub.execute_input": "2022-06-06T16:08:18.036755Z",
     "iopub.status.busy": "2022-06-06T16:08:18.036049Z",
     "iopub.status.idle": "2022-06-06T16:08:18.046650Z",
     "shell.execute_reply": "2022-06-06T16:08:18.045550Z"
    },
    "papermill": {
     "duration": 0.075533,
     "end_time": "2022-06-06T16:08:18.049333",
     "exception": false,
     "start_time": "2022-06-06T16:08:17.973800",
     "status": "completed"
    },
    "tags": []
   },
   "outputs": [],
   "source": [
    "submission.to_csv('submission.csv', index = False)"
   ]
  },
  {
   "cell_type": "code",
   "execution_count": 114,
   "id": "3fab6d98",
   "metadata": {
    "execution": {
     "iopub.execute_input": "2022-06-06T16:08:18.175561Z",
     "iopub.status.busy": "2022-06-06T16:08:18.174760Z",
     "iopub.status.idle": "2022-06-06T16:08:18.188801Z",
     "shell.execute_reply": "2022-06-06T16:08:18.187204Z"
    },
    "papermill": {
     "duration": 0.079181,
     "end_time": "2022-06-06T16:08:18.191433",
     "exception": false,
     "start_time": "2022-06-06T16:08:18.112252",
     "status": "completed"
    },
    "tags": []
   },
   "outputs": [
    {
     "data": {
      "text/html": [
       "<div>\n",
       "<style scoped>\n",
       "    .dataframe tbody tr th:only-of-type {\n",
       "        vertical-align: middle;\n",
       "    }\n",
       "\n",
       "    .dataframe tbody tr th {\n",
       "        vertical-align: top;\n",
       "    }\n",
       "\n",
       "    .dataframe thead th {\n",
       "        text-align: right;\n",
       "    }\n",
       "</style>\n",
       "<table border=\"1\" class=\"dataframe\">\n",
       "  <thead>\n",
       "    <tr style=\"text-align: right;\">\n",
       "      <th></th>\n",
       "      <th>PassengerId</th>\n",
       "      <th>Survived</th>\n",
       "    </tr>\n",
       "  </thead>\n",
       "  <tbody>\n",
       "    <tr>\n",
       "      <th>0</th>\n",
       "      <td>892</td>\n",
       "      <td>0</td>\n",
       "    </tr>\n",
       "    <tr>\n",
       "      <th>1</th>\n",
       "      <td>893</td>\n",
       "      <td>0</td>\n",
       "    </tr>\n",
       "    <tr>\n",
       "      <th>2</th>\n",
       "      <td>894</td>\n",
       "      <td>0</td>\n",
       "    </tr>\n",
       "    <tr>\n",
       "      <th>3</th>\n",
       "      <td>895</td>\n",
       "      <td>0</td>\n",
       "    </tr>\n",
       "    <tr>\n",
       "      <th>4</th>\n",
       "      <td>896</td>\n",
       "      <td>0</td>\n",
       "    </tr>\n",
       "  </tbody>\n",
       "</table>\n",
       "</div>"
      ],
      "text/plain": [
       "   PassengerId  Survived\n",
       "0          892         0\n",
       "1          893         0\n",
       "2          894         0\n",
       "3          895         0\n",
       "4          896         0"
      ]
     },
     "execution_count": 114,
     "metadata": {},
     "output_type": "execute_result"
    }
   ],
   "source": [
    "pd.read_csv(\"submission.csv\").head()"
   ]
  }
 ],
 "metadata": {
  "kernelspec": {
   "display_name": "Python 3",
   "language": "python",
   "name": "python3"
  },
  "language_info": {
   "codemirror_mode": {
    "name": "ipython",
    "version": 3
   },
   "file_extension": ".py",
   "mimetype": "text/x-python",
   "name": "python",
   "nbconvert_exporter": "python",
   "pygments_lexer": "ipython3",
   "version": "3.7.12"
  },
  "papermill": {
   "default_parameters": {},
   "duration": 312.796181,
   "end_time": "2022-06-06T16:08:20.875388",
   "environment_variables": {},
   "exception": null,
   "input_path": "__notebook__.ipynb",
   "output_path": "__notebook__.ipynb",
   "parameters": {},
   "start_time": "2022-06-06T16:03:08.079207",
   "version": "2.3.4"
  },
  "widgets": {
   "application/vnd.jupyter.widget-state+json": {
    "state": {
     "3346a661b16d48358453fa26f58f2996": {
      "model_module": "catboost-widget",
      "model_module_version": "^1.0.0",
      "model_name": "CatboostWidgetModel",
      "state": {
       "_dom_classes": [],
       "_model_module": "catboost-widget",
       "_model_module_version": "^1.0.0",
       "_model_name": "CatboostWidgetModel",
       "_view_count": null,
       "_view_module": "catboost-widget",
       "_view_module_version": "^1.0.0",
       "_view_name": "CatboostWidgetView",
       "data": {
        "catboost_info": {
         "content": {
          "data": {
           "iterations": [
            {
             "iteration": 0,
             "learn": [
              0.6359649123,
              0.6926210722
             ],
             "passed_time": 0.0006559983056,
             "remaining_time": 0.6553423073,
             "test": [
              0.6885245902,
              0.6926153797
             ]
            },
            {
             "iteration": 1,
             "learn": [
              0.7150837989,
              0.6922505984
             ],
             "passed_time": 0.001693928499,
             "remaining_time": 0.8452703211,
             "test": [
              0.7397260274,
              0.6922700044
             ]
            },
            {
             "iteration": 2,
             "learn": [
              0.7166979362,
              0.6918891654
             ],
             "passed_time": 0.004204981882,
             "remaining_time": 1.397455645,
             "test": [
              0.7222222222,
              0.6918927495
             ]
            },
            {
             "iteration": 3,
             "learn": [
              0.7166979362,
              0.6913726088
             ],
             "passed_time": 0.004893274234,
             "remaining_time": 1.218425284,
             "test": [
              0.7222222222,
              0.6913730675
             ]
            },
            {
             "iteration": 4,
             "learn": [
              0.7195571956,
              0.690967607
             ],
             "passed_time": 0.00539582002,
             "remaining_time": 1.073768184,
             "test": [
              0.7397260274,
              0.6909746955
             ]
            },
            {
             "iteration": 5,
             "learn": [
              0.717472119,
              0.6904637862
             ],
             "passed_time": 0.005984429624,
             "remaining_time": 0.9914205077,
             "test": [
              0.7397260274,
              0.690464189
             ]
            },
            {
             "iteration": 6,
             "learn": [
              0.7188081937,
              0.6900334863
             ],
             "passed_time": 0.01082103302,
             "remaining_time": 1.535040827,
             "test": [
              0.7397260274,
              0.6900800487
             ]
            },
            {
             "iteration": 7,
             "learn": [
              0.717472119,
              0.689602559
             ],
             "passed_time": 0.01234399485,
             "remaining_time": 1.530655362,
             "test": [
              0.7397260274,
              0.6896519021
             ]
            },
            {
             "iteration": 8,
             "learn": [
              0.719851577,
              0.6891231478
             ],
             "passed_time": 0.01297244119,
             "remaining_time": 1.428409913,
             "test": [
              0.7397260274,
              0.6891592031
             ]
            },
            {
             "iteration": 9,
             "learn": [
              0.7389162562,
              0.6887271291
             ],
             "passed_time": 0.01348366973,
             "remaining_time": 1.334883303,
             "test": [
              0.7368421053,
              0.6887829103
             ]
            },
            {
             "iteration": 10,
             "learn": [
              0.7396768402,
              0.6884059099
             ],
             "passed_time": 0.01803966498,
             "remaining_time": 1.621929879,
             "test": [
              0.7297297297,
              0.6884771811
             ]
            },
            {
             "iteration": 11,
             "learn": [
              0.7389162562,
              0.6879433361
             ],
             "passed_time": 0.0185697841,
             "remaining_time": 1.528912224,
             "test": [
              0.7368421053,
              0.6880011505
             ]
            },
            {
             "iteration": 12,
             "learn": [
              0.7389162562,
              0.6875225799
             ],
             "passed_time": 0.02336724898,
             "remaining_time": 1.774113442,
             "test": [
              0.7368421053,
              0.6876141475
             ]
            },
            {
             "iteration": 13,
             "learn": [
              0.7491166078,
              0.6870477032
             ],
             "passed_time": 0.02606233383,
             "remaining_time": 1.83553294,
             "test": [
              0.7297297297,
              0.6871212982
             ]
            },
            {
             "iteration": 14,
             "learn": [
              0.7389162562,
              0.6866631009
             ],
             "passed_time": 0.02669449174,
             "remaining_time": 1.752938291,
             "test": [
              0.7368421053,
              0.6867851705
             ]
            },
            {
             "iteration": 15,
             "learn": [
              0.7389162562,
              0.6862050451
             ],
             "passed_time": 0.02951388388,
             "remaining_time": 1.815103858,
             "test": [
              0.7368421053,
              0.6863180366
             ]
            },
            {
             "iteration": 16,
             "learn": [
              0.7389162562,
              0.6857577367
             ],
             "passed_time": 0.03159538048,
             "remaining_time": 1.826956413,
             "test": [
              0.7368421053,
              0.6858741958
             ]
            },
            {
             "iteration": 17,
             "learn": [
              0.7389162562,
              0.6853985354
             ],
             "passed_time": 0.03697424366,
             "remaining_time": 2.017150404,
             "test": [
              0.7368421053,
              0.6855006265
             ]
            },
            {
             "iteration": 18,
             "learn": [
              0.7560137457,
              0.6850461763
             ],
             "passed_time": 0.04012379893,
             "remaining_time": 2.071655092,
             "test": [
              0.7466666667,
              0.6851804928
             ]
            },
            {
             "iteration": 19,
             "learn": [
              0.7491289199,
              0.6846183379
             ],
             "passed_time": 0.04108960789,
             "remaining_time": 2.013390787,
             "test": [
              0.7466666667,
              0.6847454124
             ]
            },
            {
             "iteration": 20,
             "learn": [
              0.747826087,
              0.6841324817
             ],
             "passed_time": 0.04186939345,
             "remaining_time": 1.951911247,
             "test": [
              0.7466666667,
              0.6842416338
             ]
            },
            {
             "iteration": 21,
             "learn": [
              0.7491289199,
              0.6837849351
             ],
             "passed_time": 0.04760602401,
             "remaining_time": 2.116304158,
             "test": [
              0.7466666667,
              0.6838653284
             ]
            },
            {
             "iteration": 22,
             "learn": [
              0.7530647986,
              0.6834186489
             ],
             "passed_time": 0.04897077079,
             "remaining_time": 2.080193177,
             "test": [
              0.7466666667,
              0.6835118698
             ]
            },
            {
             "iteration": 23,
             "learn": [
              0.7530647986,
              0.6830795225
             ],
             "passed_time": 0.05409348172,
             "remaining_time": 2.19980159,
             "test": [
              0.7466666667,
              0.6831765302
             ]
            },
            {
             "iteration": 24,
             "learn": [
              0.755711775,
              0.6826168812
             ],
             "passed_time": 0.05597197036,
             "remaining_time": 2.182906844,
             "test": [
              0.7567567568,
              0.682697378
             ]
            },
            {
             "iteration": 25,
             "learn": [
              0.758377425,
              0.6821146753
             ],
             "passed_time": 0.056756533,
             "remaining_time": 2.126187044,
             "test": [
              0.7567567568,
              0.6821603669
             ]
            },
            {
             "iteration": 26,
             "learn": [
              0.7526501767,
              0.6816605075
             ],
             "passed_time": 0.057517918,
             "remaining_time": 2.072775341,
             "test": [
              0.7567567568,
              0.6816841859
             ]
            },
            {
             "iteration": 27,
             "learn": [
              0.7526501767,
              0.6811806355
             ],
             "passed_time": 0.05826431945,
             "remaining_time": 2.022604232,
             "test": [
              0.7567567568,
              0.6811863475
             ]
            },
            {
             "iteration": 28,
             "learn": [
              0.7546531303,
              0.6807349115
             ],
             "passed_time": 0.05900683206,
             "remaining_time": 1.975711515,
             "test": [
              0.7466666667,
              0.6807182059
             ]
            },
            {
             "iteration": 29,
             "learn": [
              0.755711775,
              0.680422154
             ],
             "passed_time": 0.06451013571,
             "remaining_time": 2.085827721,
             "test": [
              0.7567567568,
              0.6804128546
             ]
            },
            {
             "iteration": 30,
             "learn": [
              0.7570422535,
              0.6800037005
             ],
             "passed_time": 0.06553796398,
             "remaining_time": 2.048589906,
             "test": [
              0.7567567568,
              0.679999053
             ]
            },
            {
             "iteration": 31,
             "learn": [
              0.7526501767,
              0.6795702401
             ],
             "passed_time": 0.06709687416,
             "remaining_time": 2.029680443,
             "test": [
              0.7567567568,
              0.6795270354
             ]
            },
            {
             "iteration": 32,
             "learn": [
              0.7526501767,
              0.6791265697
             ],
             "passed_time": 0.07201564843,
             "remaining_time": 2.110276728,
             "test": [
              0.7567567568,
              0.6790795525
             ]
            },
            {
             "iteration": 33,
             "learn": [
              0.7570422535,
              0.6787224381
             ],
             "passed_time": 0.07687364936,
             "remaining_time": 2.184116038,
             "test": [
              0.7567567568,
              0.678672625
             ]
            },
            {
             "iteration": 34,
             "learn": [
              0.7526501767,
              0.6783076981
             ],
             "passed_time": 0.07780134668,
             "remaining_time": 2.145094273,
             "test": [
              0.7567567568,
              0.6782836577
             ]
            },
            {
             "iteration": 35,
             "learn": [
              0.75,
              0.677867053
             ],
             "passed_time": 0.07856691373,
             "remaining_time": 2.103847357,
             "test": [
              0.7567567568,
              0.6778458269
             ]
            },
            {
             "iteration": 36,
             "learn": [
              0.7526501767,
              0.6774221206
             ],
             "passed_time": 0.07994731001,
             "remaining_time": 2.080790798,
             "test": [
              0.7567567568,
              0.6773744292
             ]
            },
            {
             "iteration": 37,
             "learn": [
              0.7513227513,
              0.6770234893
             ],
             "passed_time": 0.08082979348,
             "remaining_time": 2.046270035,
             "test": [
              0.7567567568,
              0.6769916806
             ]
            },
            {
             "iteration": 38,
             "learn": [
              0.75,
              0.676735725
             ],
             "passed_time": 0.0860753207,
             "remaining_time": 2.120984184,
             "test": [
              0.7567567568,
              0.676715497
             ]
            },
            {
             "iteration": 39,
             "learn": [
              0.75,
              0.6763616242
             ],
             "passed_time": 0.08927680519,
             "remaining_time": 2.142643325,
             "test": [
              0.7567567568,
              0.6763293518
             ]
            },
            {
             "iteration": 40,
             "learn": [
              0.75,
              0.6759490056
             ],
             "passed_time": 0.09119686338,
             "remaining_time": 2.133116878,
             "test": [
              0.7567567568,
              0.6758761035
             ]
            },
            {
             "iteration": 41,
             "learn": [
              0.75,
              0.6754586267
             ],
             "passed_time": 0.09198304884,
             "remaining_time": 2.098089543,
             "test": [
              0.7567567568,
              0.6753786874
             ]
            },
            {
             "iteration": 42,
             "learn": [
              0.7513227513,
              0.6750902207
             ],
             "passed_time": 0.09382497729,
             "remaining_time": 2.088151239,
             "test": [
              0.7567567568,
              0.6750118665
             ]
            },
            {
             "iteration": 43,
             "learn": [
              0.7526501767,
              0.674677184
             ],
             "passed_time": 0.09673686678,
             "remaining_time": 2.101828287,
             "test": [
              0.7567567568,
              0.6745937053
             ]
            },
            {
             "iteration": 44,
             "learn": [
              0.7526501767,
              0.6743788146
             ],
             "passed_time": 0.1014292177,
             "remaining_time": 2.152553398,
             "test": [
              0.7567567568,
              0.6743040237
             ]
            },
            {
             "iteration": 45,
             "learn": [
              0.7526501767,
              0.6739404441
             ],
             "passed_time": 0.102360618,
             "remaining_time": 2.122870207,
             "test": [
              0.7567567568,
              0.6738696873
             ]
            },
            {
             "iteration": 46,
             "learn": [
              0.7526501767,
              0.673632371
             ],
             "passed_time": 0.1074616877,
             "remaining_time": 2.178957199,
             "test": [
              0.7567567568,
              0.6735681133
             ]
            },
            {
             "iteration": 47,
             "learn": [
              0.7526501767,
              0.6732083194
             ],
             "passed_time": 0.1127952561,
             "remaining_time": 2.237105913,
             "test": [
              0.7567567568,
              0.6731127948
             ]
            },
            {
             "iteration": 48,
             "learn": [
              0.7473684211,
              0.6727920516
             ],
             "passed_time": 0.114108531,
             "remaining_time": 2.214636999,
             "test": [
              0.7466666667,
              0.6727147176
             ]
            },
            {
             "iteration": 49,
             "learn": [
              0.7424511545,
              0.6723783389
             ],
             "passed_time": 0.1161009872,
             "remaining_time": 2.205918757,
             "test": [
              0.7567567568,
              0.6723056915
             ]
            },
            {
             "iteration": 50,
             "learn": [
              0.7428571429,
              0.6719753005
             ],
             "passed_time": 0.1168016798,
             "remaining_time": 2.173427336,
             "test": [
              0.7397260274,
              0.6719276195
             ]
            },
            {
             "iteration": 51,
             "learn": [
              0.7428571429,
              0.6715930589
             ],
             "passed_time": 0.1177989678,
             "remaining_time": 2.147565797,
             "test": [
              0.7397260274,
              0.6715174618
             ]
            },
            {
             "iteration": 52,
             "learn": [
              0.7486437613,
              0.6712243816
             ],
             "passed_time": 0.1228902983,
             "remaining_time": 2.195794576,
             "test": [
              0.75,
              0.6711527584
             ]
            },
            {
             "iteration": 53,
             "learn": [
              0.7495495495,
              0.6708564546
             ],
             "passed_time": 0.126027768,
             "remaining_time": 2.207819787,
             "test": [
              0.75,
              0.6707933213
             ]
            },
            {
             "iteration": 54,
             "learn": [
              0.7495495495,
              0.6705850041
             ],
             "passed_time": 0.1311762307,
             "remaining_time": 2.253846146,
             "test": [
              0.75,
              0.6705334948
             ]
            },
            {
             "iteration": 55,
             "learn": [
              0.7495495495,
              0.6701274566
             ],
             "passed_time": 0.1319736941,
             "remaining_time": 2.224699415,
             "test": [
              0.75,
              0.6700576204
             ]
            },
            {
             "iteration": 56,
             "learn": [
              0.7472924188,
              0.6697287506
             ],
             "passed_time": 0.1329683465,
             "remaining_time": 2.199809662,
             "test": [
              0.7323943662,
              0.669635744
             ]
            },
            {
             "iteration": 57,
             "learn": [
              0.7481751825,
              0.6693171117
             ],
             "passed_time": 0.136181072,
             "remaining_time": 2.211768446,
             "test": [
              0.7323943662,
              0.6692433933
             ]
            },
            {
             "iteration": 58,
             "learn": [
              0.7481751825,
              0.6688932667
             ],
             "passed_time": 0.1380999083,
             "remaining_time": 2.202576504,
             "test": [
              0.7323943662,
              0.6688103769
             ]
            },
            {
             "iteration": 59,
             "learn": [
              0.7481751825,
              0.668482471
             ],
             "passed_time": 0.1390374062,
             "remaining_time": 2.178252697,
             "test": [
              0.7323943662,
              0.6683921338
             ]
            },
            {
             "iteration": 60,
             "learn": [
              0.7454545455,
              0.6680783087
             ],
             "passed_time": 0.1404739119,
             "remaining_time": 2.162377103,
             "test": [
              0.7323943662,
              0.668001558
             ]
            },
            {
             "iteration": 61,
             "learn": [
              0.7441016334,
              0.6676831195
             ],
             "passed_time": 0.1412591255,
             "remaining_time": 2.137113866,
             "test": [
              0.7222222222,
              0.6676309146
             ]
            },
            {
             "iteration": 62,
             "learn": [
              0.7441016334,
              0.6673187321
             ],
             "passed_time": 0.1464309818,
             "remaining_time": 2.177870317,
             "test": [
              0.7323943662,
              0.6672658226
             ]
            },
            {
             "iteration": 63,
             "learn": [
              0.7468123862,
              0.6669053444
             ],
             "passed_time": 0.1476486674,
             "remaining_time": 2.15936176,
             "test": [
              0.7323943662,
              0.6668383765
             ]
            },
            {
             "iteration": 64,
             "learn": [
              0.7468123862,
              0.6664434923
             ],
             "passed_time": 0.1486779303,
             "remaining_time": 2.138674843,
             "test": [
              0.7323943662,
              0.6663521655
             ]
            },
            {
             "iteration": 65,
             "learn": [
              0.7495429616,
              0.6660559034
             ],
             "passed_time": 0.1497902968,
             "remaining_time": 2.119759655,
             "test": [
              0.7323943662,
              0.6659459969
             ]
            },
            {
             "iteration": 66,
             "learn": [
              0.7495429616,
              0.6656798802
             ],
             "passed_time": 0.1528666244,
             "remaining_time": 2.128724785,
             "test": [
              0.7323943662,
              0.6655895394
             ]
            },
            {
             "iteration": 67,
             "learn": [
              0.7495429616,
              0.6652613478
             ],
             "passed_time": 0.1535157719,
             "remaining_time": 2.104069109,
             "test": [
              0.7323943662,
              0.6651665353
             ]
            },
            {
             "iteration": 68,
             "learn": [
              0.7477313975,
              0.6649263241
             ],
             "passed_time": 0.154046682,
             "remaining_time": 2.078513926,
             "test": [
              0.7323943662,
              0.6648249738
             ]
            },
            {
             "iteration": 69,
             "learn": [
              0.7481751825,
              0.664531352
             ],
             "passed_time": 0.155678853,
             "remaining_time": 2.068304761,
             "test": [
              0.7323943662,
              0.6644309952
             ]
            },
            {
             "iteration": 70,
             "learn": [
              0.7481751825,
              0.664168622
             ],
             "passed_time": 0.1567260523,
             "remaining_time": 2.050683136,
             "test": [
              0.7323943662,
              0.664098759
             ]
            },
            {
             "iteration": 71,
             "learn": [
              0.7495429616,
              0.6637595209
             ],
             "passed_time": 0.1592188906,
             "remaining_time": 2.05215459,
             "test": [
              0.7323943662,
              0.6636541772
             ]
            },
            {
             "iteration": 72,
             "learn": [
              0.7495429616,
              0.6633686776
             ],
             "passed_time": 0.1603488068,
             "remaining_time": 2.03621019,
             "test": [
              0.7323943662,
              0.6632586866
             ]
            },
            {
             "iteration": 73,
             "learn": [
              0.7481751825,
              0.6629773645
             ],
             "passed_time": 0.1631144728,
             "remaining_time": 2.04113516,
             "test": [
              0.7323943662,
              0.6628649375
             ]
            },
            {
             "iteration": 74,
             "learn": [
              0.7481751825,
              0.662531838
             ],
             "passed_time": 0.1637035361,
             "remaining_time": 2.019010278,
             "test": [
              0.7323943662,
              0.662382216
             ]
            },
            {
             "iteration": 75,
             "learn": [
              0.7481751825,
              0.6620810428
             ],
             "passed_time": 0.165040699,
             "remaining_time": 2.006547446,
             "test": [
              0.7323943662,
              0.6619249834
             ]
            },
            {
             "iteration": 76,
             "learn": [
              0.7495429616,
              0.6617731776
             ],
             "passed_time": 0.1683334117,
             "remaining_time": 2.017814793,
             "test": [
              0.7323943662,
              0.6616366133
             ]
            },
            {
             "iteration": 77,
             "learn": [
              0.7495429616,
              0.6614097654
             ],
             "passed_time": 0.1700685734,
             "remaining_time": 2.010297752,
             "test": [
              0.7323943662,
              0.6612800433
             ]
            },
            {
             "iteration": 78,
             "learn": [
              0.7481751825,
              0.6609857744
             ],
             "passed_time": 0.1710463739,
             "remaining_time": 1.9940976,
             "test": [
              0.7323943662,
              0.6608602388
             ]
            },
            {
             "iteration": 79,
             "learn": [
              0.7495429616,
              0.6605744251
             ],
             "passed_time": 0.1727272926,
             "remaining_time": 1.986363865,
             "test": [
              0.7323943662,
              0.6604406414
             ]
            },
            {
             "iteration": 80,
             "learn": [
              0.7535714286,
              0.6602217843
             ],
             "passed_time": 0.1732357001,
             "remaining_time": 1.965476647,
             "test": [
              0.7222222222,
              0.6601281088
             ]
            },
            {
             "iteration": 81,
             "learn": [
              0.7540394973,
              0.6598497591
             ],
             "passed_time": 0.1750144705,
             "remaining_time": 1.959308341,
             "test": [
              0.7222222222,
              0.6597526051
             ]
            },
            {
             "iteration": 82,
             "learn": [
              0.7540394973,
              0.6594704342
             ],
             "passed_time": 0.1780148662,
             "remaining_time": 1.966742558,
             "test": [
              0.7222222222,
              0.6593588407
             ]
            },
            {
             "iteration": 83,
             "learn": [
              0.7540394973,
              0.6590516885
             ],
             "passed_time": 0.1789185618,
             "remaining_time": 1.951064317,
             "test": [
              0.7222222222,
              0.658898724
             ]
            },
            {
             "iteration": 84,
             "learn": [
              0.7535714286,
              0.6586462541
             ],
             "passed_time": 0.1795148718,
             "remaining_time": 1.932424797,
             "test": [
              0.7222222222,
              0.6584879615
             ]
            },
            {
             "iteration": 85,
             "learn": [
              0.7544483986,
              0.6582458342
             ],
             "passed_time": 0.1800208769,
             "remaining_time": 1.913245133,
             "test": [
              0.7397260274,
              0.6580657674
             ]
            },
            {
             "iteration": 86,
             "learn": [
              0.7544483986,
              0.6578139429
             ],
             "passed_time": 0.1808163292,
             "remaining_time": 1.897532282,
             "test": [
              0.7397260274,
              0.6576137728
             ]
            },
            {
             "iteration": 87,
             "learn": [
              0.7526501767,
              0.6574606616
             ],
             "passed_time": 0.1815787161,
             "remaining_time": 1.881815785,
             "test": [
              0.7567567568,
              0.6572908433
             ]
            },
            {
             "iteration": 88,
             "learn": [
              0.7526501767,
              0.6571196157
             ],
             "passed_time": 0.1864158636,
             "remaining_time": 1.908144402,
             "test": [
              0.7567567568,
              0.6569454439
             ]
            },
            {
             "iteration": 89,
             "learn": [
              0.7526501767,
              0.6567988553
             ],
             "passed_time": 0.1874702165,
             "remaining_time": 1.895532189,
             "test": [
              0.7567567568,
              0.6566199457
             ]
            },
            {
             "iteration": 90,
             "learn": [
              0.7526501767,
              0.6564254814
             ],
             "passed_time": 0.1890266925,
             "remaining_time": 1.888189708,
             "test": [
              0.7567567568,
              0.6562200169
             ]
            },
            {
             "iteration": 91,
             "learn": [
              0.7526501767,
              0.6560318218
             ],
             "passed_time": 0.1897361792,
             "remaining_time": 1.872613594,
             "test": [
              0.7567567568,
              0.6558507985
             ]
            },
            {
             "iteration": 92,
             "learn": [
              0.7526501767,
              0.655642076
             ],
             "passed_time": 0.1901308445,
             "remaining_time": 1.854286838,
             "test": [
              0.7567567568,
              0.655414505
             ]
            },
            {
             "iteration": 93,
             "learn": [
              0.7526501767,
              0.6552941845
             ],
             "passed_time": 0.1929251616,
             "remaining_time": 1.859470175,
             "test": [
              0.7567567568,
              0.6550616332
             ]
            },
            {
             "iteration": 94,
             "learn": [
              0.7539823009,
              0.6549796584
             ],
             "passed_time": 0.1977924062,
             "remaining_time": 1.884232922,
             "test": [
              0.7567567568,
              0.654747629
             ]
            },
            {
             "iteration": 95,
             "learn": [
              0.7539823009,
              0.6545930665
             ],
             "passed_time": 0.1990462606,
             "remaining_time": 1.874352287,
             "test": [
              0.7567567568,
              0.6543388726
             ]
            },
            {
             "iteration": 96,
             "learn": [
              0.7539823009,
              0.6542367104
             ],
             "passed_time": 0.2000456523,
             "remaining_time": 1.86228066,
             "test": [
              0.7567567568,
              0.6539224871
             ]
            },
            {
             "iteration": 97,
             "learn": [
              0.7539823009,
              0.6538828734
             ],
             "passed_time": 0.2010241697,
             "remaining_time": 1.850242868,
             "test": [
              0.7567567568,
              0.6535958018
             ]
            },
            {
             "iteration": 98,
             "learn": [
              0.7539823009,
              0.6534443373
             ],
             "passed_time": 0.2019791139,
             "remaining_time": 1.838213956,
             "test": [
              0.7567567568,
              0.6531552416
             ]
            },
            {
             "iteration": 99,
             "learn": [
              0.7539823009,
              0.6530604573
             ],
             "passed_time": 0.2029744431,
             "remaining_time": 1.826769988,
             "test": [
              0.7567567568,
              0.6528330053
             ]
            },
            {
             "iteration": 100,
             "learn": [
              0.7539823009,
              0.6527180554
             ],
             "passed_time": 0.2037514508,
             "remaining_time": 1.813589646,
             "test": [
              0.7567567568,
              0.652491964
             ]
            },
            {
             "iteration": 101,
             "learn": [
              0.7539823009,
              0.6522979449
             ],
             "passed_time": 0.2058667711,
             "remaining_time": 1.812434906,
             "test": [
              0.7567567568,
              0.6520665879
             ]
            },
            {
             "iteration": 102,
             "learn": [
              0.7539823009,
              0.6518956235
             ],
             "passed_time": 0.2068347461,
             "remaining_time": 1.801269585,
             "test": [
              0.7567567568,
              0.6516461756
             ]
            },
            {
             "iteration": 103,
             "learn": [
              0.7531083481,
              0.6515348231
             ],
             "passed_time": 0.2076206493,
             "remaining_time": 1.788731747,
             "test": [
              0.7397260274,
              0.6512597931
             ]
            },
            {
             "iteration": 104,
             "learn": [
              0.7531083481,
              0.6512022639
             ],
             "passed_time": 0.209648797,
             "remaining_time": 1.787006413,
             "test": [
              0.7397260274,
              0.6509372826
             ]
            },
            {
             "iteration": 105,
             "learn": [
              0.7531083481,
              0.6508965002
             ],
             "passed_time": 0.2154268267,
             "remaining_time": 1.816901727,
             "test": [
              0.7397260274,
              0.6506290416
             ]
            },
            {
             "iteration": 106,
             "learn": [
              0.7531083481,
              0.6505354218
             ],
             "passed_time": 0.2186066382,
             "remaining_time": 1.824446055,
             "test": [
              0.7397260274,
              0.6502413541
             ]
            },
            {
             "iteration": 107,
             "learn": [
              0.7531083481,
              0.6502600669
             ],
             "passed_time": 0.2236898042,
             "remaining_time": 1.847512086,
             "test": [
              0.7397260274,
              0.6499538976
             ]
            },
            {
             "iteration": 108,
             "learn": [
              0.7531083481,
              0.6498810972
             ],
             "passed_time": 0.2243171755,
             "remaining_time": 1.833638563,
             "test": [
              0.7397260274,
              0.6495288634
             ]
            },
            {
             "iteration": 109,
             "learn": [
              0.7531083481,
              0.6495356321
             ],
             "passed_time": 0.2257187815,
             "remaining_time": 1.826270142,
             "test": [
              0.7397260274,
              0.6491682484
             ]
            },
            {
             "iteration": 110,
             "learn": [
              0.7531083481,
              0.6491955817
             ],
             "passed_time": 0.2270531026,
             "remaining_time": 1.818470344,
             "test": [
              0.7397260274,
              0.6488141116
             ]
            },
            {
             "iteration": 111,
             "learn": [
              0.7531083481,
              0.6488310292
             ],
             "passed_time": 0.2284072579,
             "remaining_time": 1.810943259,
             "test": [
              0.7397260274,
              0.6484500433
             ]
            },
            {
             "iteration": 112,
             "learn": [
              0.7531083481,
              0.6484260882
             ],
             "passed_time": 0.2296184967,
             "remaining_time": 1.802403598,
             "test": [
              0.7397260274,
              0.648033946
             ]
            },
            {
             "iteration": 113,
             "learn": [
              0.7531083481,
              0.648022929
             ],
             "passed_time": 0.2309262553,
             "remaining_time": 1.794742651,
             "test": [
              0.7397260274,
              0.6475914514
             ]
            },
            {
             "iteration": 114,
             "learn": [
              0.7531083481,
              0.6476445854
             ],
             "passed_time": 0.2327117616,
             "remaining_time": 1.790868774,
             "test": [
              0.7397260274,
              0.647189867
             ]
            },
            {
             "iteration": 115,
             "learn": [
              0.7531083481,
              0.6472898257
             ],
             "passed_time": 0.2332050427,
             "remaining_time": 1.777183257,
             "test": [
              0.7397260274,
              0.6468135519
             ]
            },
            {
             "iteration": 116,
             "learn": [
              0.7531083481,
              0.6469533921
             ],
             "passed_time": 0.234459793,
             "remaining_time": 1.769470062,
             "test": [
              0.7397260274,
              0.6464643747
             ]
            },
            {
             "iteration": 117,
             "learn": [
              0.7531083481,
              0.6466141906
             ],
             "passed_time": 0.2372932,
             "remaining_time": 1.773666122,
             "test": [
              0.7397260274,
              0.6461468478
             ]
            },
            {
             "iteration": 118,
             "learn": [
              0.7531083481,
              0.6462892712
             ],
             "passed_time": 0.2389654614,
             "remaining_time": 1.76914766,
             "test": [
              0.7397260274,
              0.6458442919
             ]
            },
            {
             "iteration": 119,
             "learn": [
              0.7531083481,
              0.6458835553
             ],
             "passed_time": 0.2405902461,
             "remaining_time": 1.764328472,
             "test": [
              0.7397260274,
              0.6454391554
             ]
            },
            {
             "iteration": 120,
             "learn": [
              0.7531083481,
              0.6455389482
             ],
             "passed_time": 0.2410455234,
             "remaining_time": 1.75106624,
             "test": [
              0.7397260274,
              0.6451495343
             ]
            },
            {
             "iteration": 121,
             "learn": [
              0.7531083481,
              0.6451922782
             ],
             "passed_time": 0.24208363,
             "remaining_time": 1.742208419,
             "test": [
              0.7397260274,
              0.6447754482
             ]
            },
            {
             "iteration": 122,
             "learn": [
              0.7531083481,
              0.6448004349
             ],
             "passed_time": 0.2432366065,
             "remaining_time": 1.73429678,
             "test": [
              0.7397260274,
              0.6443687689
             ]
            },
            {
             "iteration": 123,
             "learn": [
              0.7531083481,
              0.6444639795
             ],
             "passed_time": 0.2442701242,
             "remaining_time": 1.725650232,
             "test": [
              0.7397260274,
              0.6440336165
             ]
            },
            {
             "iteration": 124,
             "learn": [
              0.7544483986,
              0.6441390628
             ],
             "passed_time": 0.2472907665,
             "remaining_time": 1.731035365,
             "test": [
              0.7397260274,
              0.6437229719
             ]
            },
            {
             "iteration": 125,
             "learn": [
              0.7531083481,
              0.6438427125
             ],
             "passed_time": 0.252735241,
             "remaining_time": 1.753100005,
             "test": [
              0.7397260274,
              0.6434467335
             ]
            },
            {
             "iteration": 126,
             "learn": [
              0.7531083481,
              0.6435373769
             ],
             "passed_time": 0.2586843,
             "remaining_time": 1.778199952,
             "test": [
              0.7397260274,
              0.6431487349
             ]
            },
            {
             "iteration": 127,
             "learn": [
              0.7544483986,
              0.6431758243
             ],
             "passed_time": 0.2601894386,
             "remaining_time": 1.77254055,
             "test": [
              0.7222222222,
              0.6427684339
             ]
            },
            {
             "iteration": 128,
             "learn": [
              0.752688172,
              0.642873416
             ],
             "passed_time": 0.2622066421,
             "remaining_time": 1.770402987,
             "test": [
              0.7222222222,
              0.642464356
             ]
            },
            {
             "iteration": 129,
             "learn": [
              0.752688172,
              0.6424768928
             ],
             "passed_time": 0.2628373413,
             "remaining_time": 1.758988361,
             "test": [
              0.7222222222,
              0.6420841735
             ]
            },
            {
             "iteration": 130,
             "learn": [
              0.752688172,
              0.6422227547
             ],
             "passed_time": 0.2681334227,
             "remaining_time": 1.778686598,
             "test": [
              0.7222222222,
              0.6418024901
             ]
            },
            {
             "iteration": 131,
             "learn": [
              0.752688172,
              0.6418930029
             ],
             "passed_time": 0.2690811111,
             "remaining_time": 1.769412155,
             "test": [
              0.7222222222,
              0.6414148518
             ]
            },
            {
             "iteration": 132,
             "learn": [
              0.752688172,
              0.6415670643
             ],
             "passed_time": 0.27238047,
             "remaining_time": 1.775592989,
             "test": [
              0.7222222222,
              0.6410863628
             ]
            },
            {
             "iteration": 133,
             "learn": [
              0.752688172,
              0.6412099439
             ],
             "passed_time": 0.2743828346,
             "remaining_time": 1.773250259,
             "test": [
              0.7222222222,
              0.6407163667
             ]
            },
            {
             "iteration": 134,
             "learn": [
              0.752688172,
              0.6408437696
             ],
             "passed_time": 0.2764205933,
             "remaining_time": 1.771139357,
             "test": [
              0.7222222222,
              0.6403233295
             ]
            },
            {
             "iteration": 135,
             "learn": [
              0.752688172,
              0.6404477787
             ],
             "passed_time": 0.2771415275,
             "remaining_time": 1.760663822,
             "test": [
              0.7222222222,
              0.6399582269
             ]
            },
            {
             "iteration": 136,
             "learn": [
              0.7540394973,
              0.6401067407
             ],
             "passed_time": 0.2789702243,
             "remaining_time": 1.757308785,
             "test": [
              0.7222222222,
              0.6395926076
             ]
            },
            {
             "iteration": 137,
             "learn": [
              0.752688172,
              0.6398812319
             ],
             "passed_time": 0.2840235409,
             "remaining_time": 1.77411806,
             "test": [
              0.7222222222,
              0.639384723
             ]
            },
            {
             "iteration": 138,
             "learn": [
              0.752688172,
              0.6395231609
             ],
             "passed_time": 0.2846237071,
             "remaining_time": 1.763028862,
             "test": [
              0.7222222222,
              0.639020446
             ]
            },
            {
             "iteration": 139,
             "learn": [
              0.752688172,
              0.6391784096
             ],
             "passed_time": 0.2851095892,
             "remaining_time": 1.751387477,
             "test": [
              0.7222222222,
              0.6386220263
             ]
            },
            {
             "iteration": 140,
             "learn": [
              0.7540394973,
              0.6388252256
             ],
             "passed_time": 0.2858573317,
             "remaining_time": 1.741499631,
             "test": [
              0.7222222222,
              0.6382717592
             ]
            },
            {
             "iteration": 141,
             "learn": [
              0.752688172,
              0.6384943422
             ],
             "passed_time": 0.2865443512,
             "remaining_time": 1.731373615,
             "test": [
              0.7222222222,
              0.6379153453
             ]
            },
            {
             "iteration": 142,
             "learn": [
              0.752688172,
              0.638150471
             ],
             "passed_time": 0.2871627347,
             "remaining_time": 1.720968277,
             "test": [
              0.7222222222,
              0.6375504977
             ]
            },
            {
             "iteration": 143,
             "learn": [
              0.7545126354,
              0.6378248334
             ],
             "passed_time": 0.2890338825,
             "remaining_time": 1.718145857,
             "test": [
              0.7222222222,
              0.6372147132
             ]
            },
            {
             "iteration": 144,
             "learn": [
              0.7545126354,
              0.6375474549
             ],
             "passed_time": 0.293976259,
             "remaining_time": 1.733446217,
             "test": [
              0.7222222222,
              0.6369358772
             ]
            },
            {
             "iteration": 145,
             "learn": [
              0.7545126354,
              0.6371617013
             ],
             "passed_time": 0.2946507315,
             "remaining_time": 1.723504964,
             "test": [
              0.7222222222,
              0.6365659622
             ]
            },
            {
             "iteration": 146,
             "learn": [
              0.7545126354,
              0.6368122411
             ],
             "passed_time": 0.2956215066,
             "remaining_time": 1.715409151,
             "test": [
              0.7222222222,
              0.6362192703
             ]
            },
            {
             "iteration": 147,
             "learn": [
              0.7545126354,
              0.6364490363
             ],
             "passed_time": 0.2965288565,
             "remaining_time": 1.707044498,
             "test": [
              0.7222222222,
              0.635855546
             ]
            },
            {
             "iteration": 148,
             "learn": [
              0.7545126354,
              0.6361107336
             ],
             "passed_time": 0.2984221132,
             "remaining_time": 1.704410861,
             "test": [
              0.7222222222,
              0.6355389247
             ]
            },
            {
             "iteration": 149,
             "learn": [
              0.7545126354,
              0.6358485453
             ],
             "passed_time": 0.3037448124,
             "remaining_time": 1.721220603,
             "test": [
              0.7222222222,
              0.6352606496
             ]
            },
            {
             "iteration": 150,
             "learn": [
              0.7545126354,
              0.6354663262
             ],
             "passed_time": 0.3043688635,
             "remaining_time": 1.711318974,
             "test": [
              0.7222222222,
              0.6348941586
             ]
            },
            {
             "iteration": 151,
             "learn": [
              0.7545126354,
              0.6351179065
             ],
             "passed_time": 0.3052516451,
             "remaining_time": 1.702982862,
             "test": [
              0.7222222222,
              0.6345328413
             ]
            },
            {
             "iteration": 152,
             "learn": [
              0.7540394973,
              0.634830695
             ],
             "passed_time": 0.3060167531,
             "remaining_time": 1.694092744,
             "test": [
              0.7222222222,
              0.6342806096
             ]
            },
            {
             "iteration": 153,
             "learn": [
              0.7540394973,
              0.6344957462
             ],
             "passed_time": 0.3066524198,
             "remaining_time": 1.68459706,
             "test": [
              0.7222222222,
              0.633966621
             ]
            },
            {
             "iteration": 154,
             "learn": [
              0.7540394973,
              0.634230078
             ],
             "passed_time": 0.3117559574,
             "remaining_time": 1.6995728,
             "test": [
              0.7222222222,
              0.6337241434
             ]
            },
            {
             "iteration": 155,
             "learn": [
              0.7545126354,
              0.6339505044
             ],
             "passed_time": 0.3137330419,
             "remaining_time": 1.697376201,
             "test": [
              0.7222222222,
              0.6334411424
             ]
            },
            {
             "iteration": 156,
             "learn": [
              0.7545126354,
              0.6336132361
             ],
             "passed_time": 0.3168027519,
             "remaining_time": 1.701049171,
             "test": [
              0.7222222222,
              0.6331326436
             ]
            },
            {
             "iteration": 157,
             "learn": [
              0.7545126354,
              0.633300369
             ],
             "passed_time": 0.3199687535,
             "remaining_time": 1.70514994,
             "test": [
              0.7222222222,
              0.6328232288
             ]
            },
            {
             "iteration": 158,
             "learn": [
              0.7545126354,
              0.6329987739
             ],
             "passed_time": 0.325277176,
             "remaining_time": 1.720491227,
             "test": [
              0.7222222222,
              0.6325054556
             ]
            },
            {
             "iteration": 159,
             "learn": [
              0.7545126354,
              0.6327035736
             ],
             "passed_time": 0.3275927773,
             "remaining_time": 1.719862081,
             "test": [
              0.7222222222,
              0.6321850187
             ]
            },
            {
             "iteration": 160,
             "learn": [
              0.7545126354,
              0.632381113
             ],
             "passed_time": 0.3330462028,
             "remaining_time": 1.735563752,
             "test": [
              0.7222222222,
              0.6318582185
             ]
            },
            {
             "iteration": 161,
             "learn": [
              0.7531531532,
              0.6320516472
             ],
             "passed_time": 0.3340517144,
             "remaining_time": 1.727995905,
             "test": [
              0.7222222222,
              0.6315487095
             ]
            },
            {
             "iteration": 162,
             "learn": [
              0.7531531532,
              0.6316728724
             ],
             "passed_time": 0.3371411081,
             "remaining_time": 1.731209249,
             "test": [
              0.7222222222,
              0.6311611049
             ]
            },
            {
             "iteration": 163,
             "learn": [
              0.7468123862,
              0.6313797965
             ],
             "passed_time": 0.3383526165,
             "remaining_time": 1.724773094,
             "test": [
              0.7323943662,
              0.6308620632
             ]
            },
            {
             "iteration": 164,
             "learn": [
              0.750448833,
              0.6310363887
             ],
             "passed_time": 0.3399912374,
             "remaining_time": 1.720561717,
             "test": [
              0.7222222222,
              0.6305355015
             ]
            },
            {
             "iteration": 165,
             "learn": [
              0.750448833,
              0.6306891075
             ],
             "passed_time": 0.3403931986,
             "remaining_time": 1.710168239,
             "test": [
              0.7222222222,
              0.6301635231
             ]
            },
            {
             "iteration": 166,
             "learn": [
              0.750448833,
              0.6302920584
             ],
             "passed_time": 0.3412732033,
             "remaining_time": 1.702278912,
             "test": [
              0.7222222222,
              0.6297453912
             ]
            },
            {
             "iteration": 167,
             "learn": [
              0.7531531532,
              0.6299729167
             ],
             "passed_time": 0.3440050293,
             "remaining_time": 1.703643954,
             "test": [
              0.7222222222,
              0.6293926641
             ]
            },
            {
             "iteration": 168,
             "learn": [
              0.7545126354,
              0.6297242409
             ],
             "passed_time": 0.3490828605,
             "remaining_time": 1.716496195,
             "test": [
              0.7222222222,
              0.6291701533
             ]
            },
            {
             "iteration": 169,
             "learn": [
              0.7531531532,
              0.6293735848
             ],
             "passed_time": 0.3498999508,
             "remaining_time": 1.708335054,
             "test": [
              0.7222222222,
              0.6288195594
             ]
            },
            {
             "iteration": 170,
             "learn": [
              0.7517985612,
              0.6290486105
             ],
             "passed_time": 0.3504180502,
             "remaining_time": 1.698810313,
             "test": [
              0.7222222222,
              0.6285150245
             ]
            },
            {
             "iteration": 171,
             "learn": [
              0.7517985612,
              0.6287336444
             ],
             "passed_time": 0.3532886847,
             "remaining_time": 1.700715296,
             "test": [
              0.7222222222,
              0.6281920118
             ]
            },
            {
             "iteration": 172,
             "learn": [
              0.7531531532,
              0.6284228904
             ],
             "passed_time": 0.3586285843,
             "remaining_time": 1.714369013,
             "test": [
              0.7222222222,
              0.6278667786
             ]
            },
            {
             "iteration": 173,
             "learn": [
              0.7517985612,
              0.6281291384
             ],
             "passed_time": 0.3606567635,
             "remaining_time": 1.712083256,
             "test": [
              0.7222222222,
              0.627581789
             ]
            },
            {
             "iteration": 174,
             "learn": [
              0.7531531532,
              0.6278623821
             ],
             "passed_time": 0.365663213,
             "remaining_time": 1.723840861,
             "test": [
              0.7222222222,
              0.6273191505
             ]
            }
           ],
           "meta": {
            "iteration_count": 1000,
            "launch_mode": "Train",
            "learn_metrics": [
             {
              "best_value": "Max",
              "name": "F1"
             },
             {
              "best_value": "Min",
              "name": "Logloss"
             }
            ],
            "learn_sets": [
             "learn"
            ],
            "name": "experiment",
            "parameters": "",
            "test_metrics": [
             {
              "best_value": "Max",
              "name": "F1"
             },
             {
              "best_value": "Min",
              "name": "Logloss"
             }
            ],
            "test_sets": [
             "test"
            ]
           }
          },
          "passed_iterations": 174,
          "total_iterations": 1000
         },
         "name": "catboost_info",
         "path": "catboost_info"
        }
       },
       "layout": "IPY_MODEL_99e290668fb94021b2112c52d5ba9622"
      }
     },
     "4c8165fc70c347e9a00d5fa1e87f5148": {
      "model_module": "catboost-widget",
      "model_module_version": "^1.0.0",
      "model_name": "CatboostWidgetModel",
      "state": {
       "_dom_classes": [],
       "_model_module": "catboost-widget",
       "_model_module_version": "^1.0.0",
       "_model_name": "CatboostWidgetModel",
       "_view_count": null,
       "_view_module": "catboost-widget",
       "_view_module_version": "^1.0.0",
       "_view_name": "CatboostWidgetView",
       "data": {
        "catboost_info": {
         "content": {
          "data": {
           "iterations": [
            {
             "iteration": 0,
             "learn": [
              0.6359649123,
              0.6926210722
             ],
             "passed_time": 0.0006359031109,
             "remaining_time": 0.6352672078,
             "test": [
              0.6885245902,
              0.6926153797
             ]
            },
            {
             "iteration": 1,
             "learn": [
              0.7150837989,
              0.6922505984
             ],
             "passed_time": 0.001733122925,
             "remaining_time": 0.8648283395,
             "test": [
              0.7397260274,
              0.6922700044
             ]
            },
            {
             "iteration": 2,
             "learn": [
              0.7208872458,
              0.6918168643
             ],
             "passed_time": 0.002823741013,
             "remaining_time": 0.9384232632,
             "test": [
              0.7397260274,
              0.6918116583
             ]
            },
            {
             "iteration": 3,
             "learn": [
              0.7255639098,
              0.6913890675
             ],
             "passed_time": 0.003522400752,
             "remaining_time": 0.8770777873,
             "test": [
              0.7536231884,
              0.691370472
             ]
            },
            {
             "iteration": 4,
             "learn": [
              0.7255639098,
              0.6909111902
             ],
             "passed_time": 0.005252775344,
             "remaining_time": 1.045302294,
             "test": [
              0.7536231884,
              0.6908674977
             ]
            },
            {
             "iteration": 5,
             "learn": [
              0.7219152855,
              0.6904219975
             ],
             "passed_time": 0.005809239546,
             "remaining_time": 0.9623973515,
             "test": [
              0.7397260274,
              0.6903957738
             ]
            },
            {
             "iteration": 6,
             "learn": [
              0.7400722022,
              0.6899917729
             ],
             "passed_time": 0.01042169381,
             "remaining_time": 1.478391708,
             "test": [
              0.7297297297,
              0.6900117244
             ]
            },
            {
             "iteration": 7,
             "learn": [
              0.7400722022,
              0.6895608867
             ],
             "passed_time": 0.01216647238,
             "remaining_time": 1.508642575,
             "test": [
              0.7297297297,
              0.6895836326
             ]
            },
            {
             "iteration": 8,
             "learn": [
              0.719851577,
              0.6891699398
             ],
             "passed_time": 0.01285979137,
             "remaining_time": 1.416005916,
             "test": [
              0.7222222222,
              0.6892053374
             ]
            },
            {
             "iteration": 9,
             "learn": [
              0.719851577,
              0.6887855029
             ],
             "passed_time": 0.01399579922,
             "remaining_time": 1.385584123,
             "test": [
              0.7222222222,
              0.6888201296
             ]
            },
            {
             "iteration": 10,
             "learn": [
              0.719851577,
              0.6883167955
             ],
             "passed_time": 0.01470871974,
             "remaining_time": 1.322447621,
             "test": [
              0.7222222222,
              0.6883271009
             ]
            },
            {
             "iteration": 11,
             "learn": [
              0.719851577,
              0.6878566678
             ],
             "passed_time": 0.01569430206,
             "remaining_time": 1.292164203,
             "test": [
              0.7222222222,
              0.6878451362
             ]
            },
            {
             "iteration": 12,
             "learn": [
              0.7188081937,
              0.6874244164
             ],
             "passed_time": 0.01831687612,
             "remaining_time": 1.390673594,
             "test": [
              0.7222222222,
              0.6874321613
             ]
            },
            {
             "iteration": 13,
             "learn": [
              0.7188081937,
              0.6869868762
             ],
             "passed_time": 0.0229011461,
             "remaining_time": 1.612895004,
             "test": [
              0.7222222222,
              0.6869987499
             ]
            },
            {
             "iteration": 14,
             "learn": [
              0.7400722022,
              0.6866021513
             ],
             "passed_time": 0.02336421654,
             "remaining_time": 1.534250219,
             "test": [
              0.7297297297,
              0.6866625289
             ]
            },
            {
             "iteration": 15,
             "learn": [
              0.7414104882,
              0.6861441896
             ],
             "passed_time": 0.02614712076,
             "remaining_time": 1.608047927,
             "test": [
              0.7297297297,
              0.6861955185
             ]
            },
            {
             "iteration": 16,
             "learn": [
              0.7400722022,
              0.6856969697
             ],
             "passed_time": 0.02777489381,
             "remaining_time": 1.606042389,
             "test": [
              0.7297297297,
              0.6857518674
             ]
            },
            {
             "iteration": 17,
             "learn": [
              0.7482014388,
              0.685337877
             ],
             "passed_time": 0.03246919166,
             "remaining_time": 1.771374789,
             "test": [
              0.7123287671,
              0.6853784873
             ]
            },
            {
             "iteration": 18,
             "learn": [
              0.7495495495,
              0.6849856013
             ],
             "passed_time": 0.03513082241,
             "remaining_time": 1.81385983,
             "test": [
              0.7123287671,
              0.685058538
             ]
            },
            {
             "iteration": 19,
             "learn": [
              0.7431693989,
              0.6845909266
             ],
             "passed_time": 0.03576126385,
             "remaining_time": 1.752301929,
             "test": [
              0.7222222222,
              0.6846975272
             ]
            },
            {
             "iteration": 20,
             "learn": [
              0.7329650092,
              0.6841738431
             ],
             "passed_time": 0.03626381873,
             "remaining_time": 1.690584692,
             "test": [
              0.7222222222,
              0.6842521531
             ]
            },
            {
             "iteration": 21,
             "learn": [
              0.747763864,
              0.6837948892
             ],
             "passed_time": 0.03813225954,
             "remaining_time": 1.695152265,
             "test": [
              0.7297297297,
              0.6838632965
             ]
            },
            {
             "iteration": 22,
             "learn": [
              0.7414104882,
              0.6833936053
             ],
             "passed_time": 0.03991305372,
             "remaining_time": 1.695437108,
             "test": [
              0.7297297297,
              0.6834533171
             ]
            },
            {
             "iteration": 23,
             "learn": [
              0.7414104882,
              0.6829499916
             ],
             "passed_time": 0.04091478147,
             "remaining_time": 1.66386778,
             "test": [
              0.7297297297,
              0.6830056765
             ]
            },
            {
             "iteration": 24,
             "learn": [
              0.7414104882,
              0.6825077662
             ],
             "passed_time": 0.04167372589,
             "remaining_time": 1.62527531,
             "test": [
              0.7297297297,
              0.6825152482
             ]
            },
            {
             "iteration": 25,
             "learn": [
              0.747763864,
              0.682208772
             ],
             "passed_time": 0.04651682646,
             "remaining_time": 1.742591883,
             "test": [
              0.7297297297,
              0.6822114286
             ]
            },
            {
             "iteration": 26,
             "learn": [
              0.7400722022,
              0.6817124282
             ],
             "passed_time": 0.04727020556,
             "remaining_time": 1.703478149,
             "test": [
              0.7297297297,
              0.6816955726
             ]
            },
            {
             "iteration": 27,
             "learn": [
              0.7418181818,
              0.6813456502
             ],
             "passed_time": 0.05006371219,
             "remaining_time": 1.737926009,
             "test": [
              0.7123287671,
              0.6813157424
             ]
            },
            {
             "iteration": 28,
             "learn": [
              0.7412844037,
              0.6809663702
             ],
             "passed_time": 0.05105873912,
             "remaining_time": 1.709587437,
             "test": [
              0.7123287671,
              0.6809179369
             ]
            },
            {
             "iteration": 29,
             "learn": [
              0.744014733,
              0.6805938932
             ],
             "passed_time": 0.0536345156,
             "remaining_time": 1.734182671,
             "test": [
              0.7222222222,
              0.6805242078
             ]
            },
            {
             "iteration": 30,
             "learn": [
              0.7346938776,
              0.6801704129
             ],
             "passed_time": 0.05472188987,
             "remaining_time": 1.710500364,
             "test": [
              0.7222222222,
              0.6800966832
             ]
            },
            {
             "iteration": 31,
             "learn": [
              0.7393715342,
              0.6797473602
             ],
             "passed_time": 0.055382818,
             "remaining_time": 1.675330244,
             "test": [
              0.7222222222,
              0.6796710744
             ]
            },
            {
             "iteration": 32,
             "learn": [
              0.7393715342,
              0.6793711316
             ],
             "passed_time": 0.06005833663,
             "remaining_time": 1.759891258,
             "test": [
              0.7222222222,
              0.6792695973
             ]
            },
            {
             "iteration": 33,
             "learn": [
              0.7393715342,
              0.6789012199
             ],
             "passed_time": 0.06076012154,
             "remaining_time": 1.726302277,
             "test": [
              0.7222222222,
              0.6787791474
             ]
            },
            {
             "iteration": 34,
             "learn": [
              0.7327102804,
              0.6785713242
             ],
             "passed_time": 0.06232251964,
             "remaining_time": 1.718320899,
             "test": [
              0.7323943662,
              0.6784667121
             ]
            },
            {
             "iteration": 35,
             "learn": [
              0.7327102804,
              0.6781068268
             ],
             "passed_time": 0.06390026448,
             "remaining_time": 1.711107082,
             "test": [
              0.7323943662,
              0.6779809507
             ]
            },
            {
             "iteration": 36,
             "learn": [
              0.7327102804,
              0.677710221
             ],
             "passed_time": 0.06638687061,
             "remaining_time": 1.727852876,
             "test": [
              0.7323943662,
              0.6775803804
             ]
            },
            {
             "iteration": 37,
             "learn": [
              0.7183364839,
              0.6772976057
             ],
             "passed_time": 0.06691808161,
             "remaining_time": 1.694084066,
             "test": [
              0.7222222222,
              0.6771935221
             ]
            },
            {
             "iteration": 38,
             "learn": [
              0.7303370787,
              0.6768504451
             ],
             "passed_time": 0.06842282153,
             "remaining_time": 1.6860085,
             "test": [
              0.7222222222,
              0.6767499239
             ]
            },
            {
             "iteration": 39,
             "learn": [
              0.7317073171,
              0.6764083139
             ],
             "passed_time": 0.07108371633,
             "remaining_time": 1.706009192,
             "test": [
              0.7222222222,
              0.6762821952
             ]
            },
            {
             "iteration": 40,
             "learn": [
              0.7196969697,
              0.6759593423
             ],
             "passed_time": 0.07216278287,
             "remaining_time": 1.687905092,
             "test": [
              0.7323943662,
              0.6758156442
             ]
            },
            {
             "iteration": 41,
             "learn": [
              0.7156308851,
              0.6755509184
             ],
             "passed_time": 0.07320311456,
             "remaining_time": 1.669728185,
             "test": [
              0.7222222222,
              0.6754439637
             ]
            },
            {
             "iteration": 42,
             "learn": [
              0.7142857143,
              0.6751436084
             ],
             "passed_time": 0.07429140979,
             "remaining_time": 1.653415795,
             "test": [
              0.7222222222,
              0.6750502538
             ]
            },
            {
             "iteration": 43,
             "learn": [
              0.7142857143,
              0.674833041
             ],
             "passed_time": 0.0760509019,
             "remaining_time": 1.652378687,
             "test": [
              0.7222222222,
              0.6747248363
             ]
            },
            {
             "iteration": 44,
             "learn": [
              0.7214953271,
              0.6744965297
             ],
             "passed_time": 0.07874033508,
             "remaining_time": 1.671044889,
             "test": [
              0.7222222222,
              0.6743704188
             ]
            },
            {
             "iteration": 45,
             "learn": [
              0.7201492537,
              0.6740560406
             ],
             "passed_time": 0.07938663376,
             "remaining_time": 1.646409752,
             "test": [
              0.7222222222,
              0.6739062042
             ]
            },
            {
             "iteration": 46,
             "learn": [
              0.7177570093,
              0.6736475063
             ],
             "passed_time": 0.08042428348,
             "remaining_time": 1.630730684,
             "test": [
              0.7222222222,
              0.6734881465
             ]
            },
            {
             "iteration": 47,
             "learn": [
              0.7211895911,
              0.673218068
             ],
             "passed_time": 0.08081634047,
             "remaining_time": 1.602857419,
             "test": [
              0.7222222222,
              0.6730387124
             ]
            },
            {
             "iteration": 48,
             "learn": [
              0.7211895911,
              0.6728729548
             ],
             "passed_time": 0.08561510633,
             "remaining_time": 1.661631962,
             "test": [
              0.7222222222,
              0.6727073593
             ]
            },
            {
             "iteration": 49,
             "learn": [
              0.7211895911,
              0.6725243041
             ],
             "passed_time": 0.09056978939,
             "remaining_time": 1.720825998,
             "test": [
              0.7222222222,
              0.6723736514
             ]
            },
            {
             "iteration": 50,
             "learn": [
              0.719851577,
              0.6721086085
             ],
             "passed_time": 0.09119300954,
             "remaining_time": 1.696905217,
             "test": [
              0.7222222222,
              0.6719847094
             ]
            },
            {
             "iteration": 51,
             "learn": [
              0.7211895911,
              0.6717133422
             ],
             "passed_time": 0.09286553231,
             "remaining_time": 1.693010089,
             "test": [
              0.7222222222,
              0.6715897069
             ]
            },
            {
             "iteration": 52,
             "learn": [
              0.719851577,
              0.6712878042
             ],
             "passed_time": 0.09326728984,
             "remaining_time": 1.666492896,
             "test": [
              0.7222222222,
              0.6711439141
             ]
            },
            {
             "iteration": 53,
             "learn": [
              0.719851577,
              0.6708780343
             ],
             "passed_time": 0.09578412217,
             "remaining_time": 1.677995918,
             "test": [
              0.7222222222,
              0.670745426
             ]
            },
            {
             "iteration": 54,
             "learn": [
              0.719851577,
              0.6704617573
             ],
             "passed_time": 0.096792233,
             "remaining_time": 1.663066549,
             "test": [
              0.7222222222,
              0.6703473325
             ]
            },
            {
             "iteration": 55,
             "learn": [
              0.719851577,
              0.6700452791
             ],
             "passed_time": 0.09722746873,
             "remaining_time": 1.63897733,
             "test": [
              0.7222222222,
              0.6698834112
             ]
            },
            {
             "iteration": 56,
             "learn": [
              0.719851577,
              0.6696699043
             ],
             "passed_time": 0.0996992445,
             "remaining_time": 1.649410308,
             "test": [
              0.7222222222,
              0.6695084086
             ]
            },
            {
             "iteration": 57,
             "learn": [
              0.719851577,
              0.6692768751
             ],
             "passed_time": 0.1003504362,
             "remaining_time": 1.629829498,
             "test": [
              0.7222222222,
              0.6691438365
             ]
            },
            {
             "iteration": 58,
             "learn": [
              0.719851577,
              0.6689545476
             ],
             "passed_time": 0.1048385441,
             "remaining_time": 1.672085932,
             "test": [
              0.7222222222,
              0.6688346026
             ]
            },
            {
             "iteration": 59,
             "learn": [
              0.7316176471,
              0.6685611802
             ],
             "passed_time": 0.1103222244,
             "remaining_time": 1.728381515,
             "test": [
              0.7222222222,
              0.6684072807
             ]
            },
            {
             "iteration": 60,
             "learn": [
              0.7316176471,
              0.6680881061
             ],
             "passed_time": 0.1110697559,
             "remaining_time": 1.709745914,
             "test": [
              0.7222222222,
              0.6678995041
             ]
            },
            {
             "iteration": 61,
             "learn": [
              0.7316176471,
              0.6677073542
             ],
             "passed_time": 0.1120093466,
             "remaining_time": 1.694593018,
             "test": [
              0.7222222222,
              0.6674892502
             ]
            },
            {
             "iteration": 62,
             "learn": [
              0.7316176471,
              0.6673445286
             ],
             "passed_time": 0.1140210171,
             "remaining_time": 1.695836397,
             "test": [
              0.7222222222,
              0.6671378738
             ]
            },
            {
             "iteration": 63,
             "learn": [
              0.7316176471,
              0.6669152406
             ],
             "passed_time": 0.1151773051,
             "remaining_time": 1.684468088,
             "test": [
              0.7222222222,
              0.6666902904
             ]
            },
            {
             "iteration": 64,
             "learn": [
              0.719851577,
              0.6665444715
             ],
             "passed_time": 0.1166221459,
             "remaining_time": 1.677564714,
             "test": [
              0.7222222222,
              0.6663203365
             ]
            },
            {
             "iteration": 65,
             "learn": [
              0.719851577,
              0.6661656572
             ],
             "passed_time": 0.1184668381,
             "remaining_time": 1.676485254,
             "test": [
              0.7222222222,
              0.6659389312
             ]
            },
            {
             "iteration": 66,
             "learn": [
              0.719851577,
              0.6658138191
             ],
             "passed_time": 0.1193637883,
             "remaining_time": 1.66218529,
             "test": [
              0.7222222222,
              0.6655969285
             ]
            },
            {
             "iteration": 67,
             "learn": [
              0.719851577,
              0.6654093742
             ],
             "passed_time": 0.1205212805,
             "remaining_time": 1.651850491,
             "test": [
              0.7222222222,
              0.6651980324
             ]
            },
            {
             "iteration": 68,
             "learn": [
              0.719851577,
              0.6650785032
             ],
             "passed_time": 0.1233990649,
             "remaining_time": 1.66499318,
             "test": [
              0.7222222222,
              0.6648798923
             ]
            },
            {
             "iteration": 69,
             "learn": [
              0.719851577,
              0.6646889788
             ],
             "passed_time": 0.1241390106,
             "remaining_time": 1.649275426,
             "test": [
              0.7222222222,
              0.664514774
             ]
            },
            {
             "iteration": 70,
             "learn": [
              0.719851577,
              0.6643339445
             ],
             "passed_time": 0.1261632127,
             "remaining_time": 1.650783445,
             "test": [
              0.7222222222,
              0.664184856
             ]
            },
            {
             "iteration": 71,
             "learn": [
              0.719851577,
              0.6639783941
             ],
             "passed_time": 0.1279777928,
             "remaining_time": 1.649491552,
             "test": [
              0.7222222222,
              0.6638713534
             ]
            },
            {
             "iteration": 72,
             "learn": [
              0.719851577,
              0.6635609783
             ],
             "passed_time": 0.1289516413,
             "remaining_time": 1.637509198,
             "test": [
              0.7222222222,
              0.6634533253
             ]
            },
            {
             "iteration": 73,
             "learn": [
              0.719851577,
              0.6632229756
             ],
             "passed_time": 0.1340250759,
             "remaining_time": 1.677124598,
             "test": [
              0.7222222222,
              0.6630993498
             ]
            },
            {
             "iteration": 74,
             "learn": [
              0.7211895911,
              0.6628629789
             ],
             "passed_time": 0.1391219426,
             "remaining_time": 1.715837293,
             "test": [
              0.7222222222,
              0.6627295649
             ]
            },
            {
             "iteration": 75,
             "learn": [
              0.729281768,
              0.6624458811
             ],
             "passed_time": 0.1400320272,
             "remaining_time": 1.702494646,
             "test": [
              0.7222222222,
              0.6623256291
             ]
            },
            {
             "iteration": 76,
             "learn": [
              0.7211895911,
              0.6621144931
             ],
             "passed_time": 0.1449113616,
             "remaining_time": 1.737054373,
             "test": [
              0.7222222222,
              0.6619934086
             ]
            },
            {
             "iteration": 77,
             "learn": [
              0.719851577,
              0.6617803048
             ],
             "passed_time": 0.1458316617,
             "remaining_time": 1.723805026,
             "test": [
              0.7222222222,
              0.6616191765
             ]
            },
            {
             "iteration": 78,
             "learn": [
              0.719851577,
              0.6613604625
             ],
             "passed_time": 0.1471902667,
             "remaining_time": 1.715977667,
             "test": [
              0.7222222222,
              0.6611921948
             ]
            },
            {
             "iteration": 79,
             "learn": [
              0.7418181818,
              0.6610144022
             ],
             "passed_time": 0.1483581118,
             "remaining_time": 1.706118286,
             "test": [
              0.7222222222,
              0.6608960564
             ]
            },
            {
             "iteration": 80,
             "learn": [
              0.7418181818,
              0.6606176837
             ],
             "passed_time": 0.1488140132,
             "remaining_time": 1.688396026,
             "test": [
              0.7222222222,
              0.6605081418
             ]
            },
            {
             "iteration": 81,
             "learn": [
              0.7418181818,
              0.66021397
             ],
             "passed_time": 0.1492002426,
             "remaining_time": 1.670314911,
             "test": [
              0.7222222222,
              0.6600988954
             ]
            },
            {
             "iteration": 82,
             "learn": [
              0.7418181818,
              0.6598495603
             ],
             "passed_time": 0.1496382303,
             "remaining_time": 1.653232014,
             "test": [
              0.7222222222,
              0.6597624898
             ]
            },
            {
             "iteration": 83,
             "learn": [
              0.7418181818,
              0.6594642127
             ],
             "passed_time": 0.1502922248,
             "remaining_time": 1.638900928,
             "test": [
              0.7222222222,
              0.6593321304
             ]
            },
            {
             "iteration": 84,
             "learn": [
              0.7418181818,
              0.6590343471
             ],
             "passed_time": 0.1507234481,
             "remaining_time": 1.622493588,
             "test": [
              0.7222222222,
              0.6589205769
             ]
            },
            {
             "iteration": 85,
             "learn": [
              0.7418181818,
              0.6586875114
             ],
             "passed_time": 0.1512697358,
             "remaining_time": 1.607680681,
             "test": [
              0.7222222222,
              0.6585227069
             ]
            },
            {
             "iteration": 86,
             "learn": [
              0.7418181818,
              0.6582809562
             ],
             "passed_time": 0.1519696988,
             "remaining_time": 1.594808448,
             "test": [
              0.7222222222,
              0.658147539
             ]
            },
            {
             "iteration": 87,
             "learn": [
              0.7418181818,
              0.6579011398
             ],
             "passed_time": 0.1534580215,
             "remaining_time": 1.590383132,
             "test": [
              0.7222222222,
              0.6577615803
             ]
            },
            {
             "iteration": 88,
             "learn": [
              0.7441016334,
              0.6575724432
             ],
             "passed_time": 0.153809859,
             "remaining_time": 1.574390804,
             "test": [
              0.7222222222,
              0.6574663832
             ]
            },
            {
             "iteration": 89,
             "learn": [
              0.7441016334,
              0.6571821399
             ],
             "passed_time": 0.1553583195,
             "remaining_time": 1.57084523,
             "test": [
              0.7222222222,
              0.6570429326
             ]
            },
            {
             "iteration": 90,
             "learn": [
              0.7441016334,
              0.6567973093
             ],
             "passed_time": 0.1564032928,
             "remaining_time": 1.56231421,
             "test": [
              0.7222222222,
              0.656655946
             ]
            },
            {
             "iteration": 91,
             "learn": [
              0.7436823105,
              0.6564106661
             ],
             "passed_time": 0.1570488951,
             "remaining_time": 1.550004312,
             "test": [
              0.7397260274,
              0.6562377004
             ]
            },
            {
             "iteration": 92,
             "learn": [
              0.7450271248,
              0.6560859649
             ],
             "passed_time": 0.1600421931,
             "remaining_time": 1.560841604,
             "test": [
              0.7397260274,
              0.6559176181
             ]
            },
            {
             "iteration": 93,
             "learn": [
              0.7436823105,
              0.6556973433
             ],
             "passed_time": 0.1619007661,
             "remaining_time": 1.56044781,
             "test": [
              0.7397260274,
              0.6554954088
             ]
            },
            {
             "iteration": 94,
             "learn": [
              0.7436823105,
              0.6552958351
             ],
             "passed_time": 0.16286517,
             "remaining_time": 1.551505041,
             "test": [
              0.7397260274,
              0.6550961994
             ]
            },
            {
             "iteration": 95,
             "learn": [
              0.7436823105,
              0.6549012033
             ],
             "passed_time": 0.163572052,
             "remaining_time": 1.54030349,
             "test": [
              0.7397260274,
              0.654728282
             ]
            },
            {
             "iteration": 96,
             "learn": [
              0.7414104882,
              0.6545438842
             ],
             "passed_time": 0.1686994627,
             "remaining_time": 1.570470256,
             "test": [
              0.7222222222,
              0.6543578064
             ]
            },
            {
             "iteration": 97,
             "learn": [
              0.7414104882,
              0.6541382941
             ],
             "passed_time": 0.1700482932,
             "remaining_time": 1.565138372,
             "test": [
              0.7222222222,
              0.6539078249
             ]
            },
            {
             "iteration": 98,
             "learn": [
              0.7427536232,
              0.6537884773
             ],
             "passed_time": 0.1718631861,
             "remaining_time": 1.564128592,
             "test": [
              0.7222222222,
              0.6535684725
             ]
            },
            {
             "iteration": 99,
             "learn": [
              0.7427536232,
              0.6533500502
             ],
             "passed_time": 0.172764722,
             "remaining_time": 1.554882498,
             "test": [
              0.7222222222,
              0.653127921
             ]
            },
            {
             "iteration": 100,
             "learn": [
              0.7441860465,
              0.6530082106
             ],
             "passed_time": 0.1733453852,
             "remaining_time": 1.542945557,
             "test": [
              0.7397260274,
              0.6528234739
             ]
            },
            {
             "iteration": 101,
             "learn": [
              0.7441860465,
              0.6525867212
             ],
             "passed_time": 0.1740610045,
             "remaining_time": 1.532419432,
             "test": [
              0.7397260274,
              0.6523833177
             ]
            },
            {
             "iteration": 102,
             "learn": [
              0.7441860465,
              0.6521986996
             ],
             "passed_time": 0.176641904,
             "remaining_time": 1.538328038,
             "test": [
              0.7397260274,
              0.6520027902
             ]
            },
            {
             "iteration": 103,
             "learn": [
              0.7441860465,
              0.6517837256
             ],
             "passed_time": 0.1771091256,
             "remaining_time": 1.525863236,
             "test": [
              0.7397260274,
              0.6516054762
             ]
            },
            {
             "iteration": 104,
             "learn": [
              0.7504424779,
              0.6513973749
             ],
             "passed_time": 0.1775151983,
             "remaining_time": 1.513105738,
             "test": [
              0.7297297297,
              0.6512125099
             ]
            },
            {
             "iteration": 105,
             "learn": [
              0.7504424779,
              0.6510374224
             ],
             "passed_time": 0.1780333704,
             "remaining_time": 1.501526728,
             "test": [
              0.7297297297,
              0.6508269316
             ]
            },
            {
             "iteration": 106,
             "learn": [
              0.7441860465,
              0.6507057951
             ],
             "passed_time": 0.1795132331,
             "remaining_time": 1.498180534,
             "test": [
              0.7397260274,
              0.6505052317
             ]
            },
            {
             "iteration": 107,
             "learn": [
              0.7504424779,
              0.6503934181
             ],
             "passed_time": 0.1803377925,
             "remaining_time": 1.489456582,
             "test": [
              0.7466666667,
              0.6502139681
             ]
            },
            {
             "iteration": 108,
             "learn": [
              0.7491166078,
              0.6500311325
             ],
             "passed_time": 0.1819243978,
             "remaining_time": 1.487106775,
             "test": [
              0.7466666667,
              0.6498301566
             ]
            },
            {
             "iteration": 109,
             "learn": [
              0.7504424779,
              0.6497072416
             ],
             "passed_time": 0.1830421992,
             "remaining_time": 1.480977794,
             "test": [
              0.7297297297,
              0.6495135508
             ]
            },
            {
             "iteration": 110,
             "learn": [
              0.7504424779,
              0.6493193699
             ],
             "passed_time": 0.184028107,
             "remaining_time": 1.473882767,
             "test": [
              0.7297297297,
              0.6491062272
             ]
            },
            {
             "iteration": 111,
             "learn": [
              0.7441860465,
              0.648932509
             ],
             "passed_time": 0.18452961,
             "remaining_time": 1.463056194,
             "test": [
              0.7397260274,
              0.6487204698
             ]
            },
            {
             "iteration": 112,
             "learn": [
              0.7504424779,
              0.6485512858
             ],
             "passed_time": 0.1849269336,
             "remaining_time": 1.451594603,
             "test": [
              0.7466666667,
              0.6483165457
             ]
            },
            {
             "iteration": 113,
             "learn": [
              0.7504424779,
              0.648169765
             ],
             "passed_time": 0.1856036422,
             "remaining_time": 1.442498482,
             "test": [
              0.7297297297,
              0.6479682476
             ]
            },
            {
             "iteration": 114,
             "learn": [
              0.7486818981,
              0.647871733
             ],
             "passed_time": 0.1903248115,
             "remaining_time": 1.464673549,
             "test": [
              0.7297297297,
              0.6476910147
             ]
            },
            {
             "iteration": 115,
             "learn": [
              0.7486818981,
              0.647531818
             ],
             "passed_time": 0.1910604642,
             "remaining_time": 1.456012503,
             "test": [
              0.7297297297,
              0.6473769893
             ]
            },
            {
             "iteration": 116,
             "learn": [
              0.7441860465,
              0.6471743492
             ],
             "passed_time": 0.1915357971,
             "remaining_time": 1.445522298,
             "test": [
              0.7397260274,
              0.6470420586
             ]
            },
            {
             "iteration": 117,
             "learn": [
              0.7441860465,
              0.6467971568
             ],
             "passed_time": 0.1922450552,
             "remaining_time": 1.436950328,
             "test": [
              0.7397260274,
              0.6466617409
             ]
            },
            {
             "iteration": 118,
             "learn": [
              0.7486818981,
              0.6464692974
             ],
             "passed_time": 0.1938404755,
             "remaining_time": 1.435071083,
             "test": [
              0.7297297297,
              0.6463539657
             ]
            },
            {
             "iteration": 119,
             "learn": [
              0.7486818981,
              0.6461253201
             ],
             "passed_time": 0.1945305461,
             "remaining_time": 1.426557338,
             "test": [
              0.7466666667,
              0.6459982725
             ]
            },
            {
             "iteration": 120,
             "learn": [
              0.7486818981,
              0.645849465
             ],
             "passed_time": 0.1991076126,
             "remaining_time": 1.446409847,
             "test": [
              0.7297297297,
              0.6457055658
             ]
            },
            {
             "iteration": 121,
             "learn": [
              0.7473684211,
              0.6455789318
             ],
             "passed_time": 0.2001625769,
             "remaining_time": 1.440514283,
             "test": [
              0.7466666667,
              0.6454563717
             ]
            },
            {
             "iteration": 122,
             "learn": [
              0.7473684211,
              0.6452579429
             ],
             "passed_time": 0.2009606966,
             "remaining_time": 1.432866105,
             "test": [
              0.7466666667,
              0.6451836918
             ]
            },
            {
             "iteration": 123,
             "learn": [
              0.7486818981,
              0.6448543565
             ],
             "passed_time": 0.2027294579,
             "remaining_time": 1.432185525,
             "test": [
              0.7466666667,
              0.6447803214
             ]
            },
            {
             "iteration": 124,
             "learn": [
              0.7473684211,
              0.6445119882
             ],
             "passed_time": 0.2031705744,
             "remaining_time": 1.422194021,
             "test": [
              0.7466666667,
              0.6444927628
             ]
            },
            {
             "iteration": 125,
             "learn": [
              0.7473684211,
              0.6441670086
             ],
             "passed_time": 0.2042022465,
             "remaining_time": 1.416450503,
             "test": [
              0.7466666667,
              0.6441200718
             ]
            },
            {
             "iteration": 126,
             "learn": [
              0.7473684211,
              0.6437742299
             ],
             "passed_time": 0.205248664,
             "remaining_time": 1.410882548,
             "test": [
              0.7466666667,
              0.6437012797
             ]
            },
            {
             "iteration": 127,
             "learn": [
              0.7486818981,
              0.6434393525
             ],
             "passed_time": 0.2062499199,
             "remaining_time": 1.405077579,
             "test": [
              0.7466666667,
              0.6433672985
             ]
            },
            {
             "iteration": 128,
             "learn": [
              0.7486818981,
              0.6430803753
             ],
             "passed_time": 0.2069534017,
             "remaining_time": 1.397336534,
             "test": [
              0.7466666667,
              0.6430052555
             ]
            },
            {
             "iteration": 129,
             "learn": [
              0.7486818981,
              0.6426757444
             ],
             "passed_time": 0.2076277146,
             "remaining_time": 1.389508552,
             "test": [
              0.7466666667,
              0.642574946
             ]
            },
            {
             "iteration": 130,
             "learn": [
              0.7486818981,
              0.6423256883
             ],
             "passed_time": 0.2093608117,
             "remaining_time": 1.388813323,
             "test": [
              0.7466666667,
              0.6422206107
             ]
            },
            {
             "iteration": 131,
             "learn": [
              0.7486818981,
              0.642001161
             ],
             "passed_time": 0.2143821216,
             "remaining_time": 1.40972486,
             "test": [
              0.7466666667,
              0.6419015285
             ]
            },
            {
             "iteration": 132,
             "learn": [
              0.7486818981,
              0.641673617
             ],
             "passed_time": 0.2198476304,
             "remaining_time": 1.433142072,
             "test": [
              0.7466666667,
              0.6415729632
             ]
            },
            {
             "iteration": 133,
             "learn": [
              0.7486818981,
              0.6413565307
             ],
             "passed_time": 0.2230801061,
             "remaining_time": 1.441696805,
             "test": [
              0.7466666667,
              0.641241615
             ]
            },
            {
             "iteration": 134,
             "learn": [
              0.7486818981,
              0.6410171382
             ],
             "passed_time": 0.2240069834,
             "remaining_time": 1.435304005,
             "test": [
              0.7466666667,
              0.6409208297
             ]
            },
            {
             "iteration": 135,
             "learn": [
              0.7486818981,
              0.6406690258
             ],
             "passed_time": 0.2248686612,
             "remaining_time": 1.428577377,
             "test": [
              0.7466666667,
              0.6405949241
             ]
            },
            {
             "iteration": 136,
             "learn": [
              0.7486818981,
              0.6403577883
             ],
             "passed_time": 0.2295302864,
             "remaining_time": 1.445873264,
             "test": [
              0.7466666667,
              0.6402646488
             ]
            },
            {
             "iteration": 137,
             "learn": [
              0.7486818981,
              0.6399837175
             ],
             "passed_time": 0.2307233764,
             "remaining_time": 1.441185148,
             "test": [
              0.7466666667,
              0.6398958423
             ]
            },
            {
             "iteration": 138,
             "learn": [
              0.7477954145,
              0.6396311209
             ],
             "passed_time": 0.2316155136,
             "remaining_time": 1.434683146,
             "test": [
              0.7297297297,
              0.6395389984
             ]
            },
            {
             "iteration": 139,
             "learn": [
              0.7486818981,
              0.6393322044
             ],
             "passed_time": 0.2334104295,
             "remaining_time": 1.433806924,
             "test": [
              0.7466666667,
              0.6392572964
             ]
            },
            {
             "iteration": 140,
             "learn": [
              0.7486818981,
              0.6389707997
             ],
             "passed_time": 0.2340000037,
             "remaining_time": 1.425574491,
             "test": [
              0.7466666667,
              0.6388869001
             ]
            },
            {
             "iteration": 141,
             "learn": [
              0.7486818981,
              0.6385975336
             ],
             "passed_time": 0.2346764572,
             "remaining_time": 1.41797465,
             "test": [
              0.7466666667,
              0.6384932685
             ]
            },
            {
             "iteration": 142,
             "learn": [
              0.7486818981,
              0.6382603357
             ],
             "passed_time": 0.235876019,
             "remaining_time": 1.413606631,
             "test": [
              0.7466666667,
              0.6381514365
             ]
            },
            {
             "iteration": 143,
             "learn": [
              0.7486818981,
              0.6379017698
             ],
             "passed_time": 0.2366951845,
             "remaining_time": 1.407021374,
             "test": [
              0.7466666667,
              0.6378036426
             ]
            },
            {
             "iteration": 144,
             "learn": [
              0.7486818981,
              0.6375597732
             ],
             "passed_time": 0.2374172959,
             "remaining_time": 1.399943366,
             "test": [
              0.7466666667,
              0.63745176
             ]
            },
            {
             "iteration": 145,
             "learn": [
              0.7486818981,
              0.6371546611
             ],
             "passed_time": 0.2380656516,
             "remaining_time": 1.392521003,
             "test": [
              0.7466666667,
              0.6370172358
             ]
            },
            {
             "iteration": 146,
             "learn": [
              0.7486818981,
              0.6367925391
             ],
             "passed_time": 0.2388112698,
             "remaining_time": 1.385755191,
             "test": [
              0.7466666667,
              0.6366203466
             ]
            },
            {
             "iteration": 147,
             "learn": [
              0.7486818981,
              0.6364514315
             ],
             "passed_time": 0.2393227888,
             "remaining_time": 1.377723081,
             "test": [
              0.7466666667,
              0.6362580049
             ]
            },
            {
             "iteration": 148,
             "learn": [
              0.7486818981,
              0.6361289918
             ],
             "passed_time": 0.240709464,
             "remaining_time": 1.374790295,
             "test": [
              0.7466666667,
              0.6359250788
             ]
            },
            {
             "iteration": 149,
             "learn": [
              0.7486818981,
              0.6358347893
             ],
             "passed_time": 0.2458888204,
             "remaining_time": 1.393369982,
             "test": [
              0.7466666667,
              0.6356294627
             ]
            },
            {
             "iteration": 150,
             "learn": [
              0.7486818981,
              0.6355413708
             ],
             "passed_time": 0.2475685685,
             "remaining_time": 1.391958375,
             "test": [
              0.7466666667,
              0.6353317933
             ]
            },
            {
             "iteration": 151,
             "learn": [
              0.7477954145,
              0.6352593176
             ],
             "passed_time": 0.2521069119,
             "remaining_time": 1.406491193,
             "test": [
              0.7123287671,
              0.6350340262
             ]
            },
            {
             "iteration": 152,
             "learn": [
              0.7486818981,
              0.6349279413
             ],
             "passed_time": 0.2568010416,
             "remaining_time": 1.421637139,
             "test": [
              0.7297297297,
              0.6346853115
             ]
            },
            {
             "iteration": 153,
             "learn": [
              0.7486818981,
              0.6345823206
             ],
             "passed_time": 0.2582478819,
             "remaining_time": 1.418686416,
             "test": [
              0.7466666667,
              0.6343441151
             ]
            }
           ],
           "meta": {
            "iteration_count": 1000,
            "launch_mode": "Train",
            "learn_metrics": [
             {
              "best_value": "Max",
              "name": "F1"
             },
             {
              "best_value": "Min",
              "name": "Logloss"
             }
            ],
            "learn_sets": [
             "learn"
            ],
            "name": "experiment",
            "parameters": "",
            "test_metrics": [
             {
              "best_value": "Max",
              "name": "F1"
             },
             {
              "best_value": "Min",
              "name": "Logloss"
             }
            ],
            "test_sets": [
             "test"
            ]
           }
          },
          "passed_iterations": 153,
          "total_iterations": 1000
         },
         "name": "catboost_info",
         "path": "catboost_info"
        }
       },
       "layout": "IPY_MODEL_dbfd3f9acde9459f87d892adc61aad33"
      }
     },
     "99e290668fb94021b2112c52d5ba9622": {
      "model_module": "@jupyter-widgets/base",
      "model_module_version": "1.2.0",
      "model_name": "LayoutModel",
      "state": {
       "_model_module": "@jupyter-widgets/base",
       "_model_module_version": "1.2.0",
       "_model_name": "LayoutModel",
       "_view_count": null,
       "_view_module": "@jupyter-widgets/base",
       "_view_module_version": "1.2.0",
       "_view_name": "LayoutView",
       "align_content": null,
       "align_items": null,
       "align_self": "stretch",
       "border": null,
       "bottom": null,
       "display": null,
       "flex": null,
       "flex_flow": null,
       "grid_area": null,
       "grid_auto_columns": null,
       "grid_auto_flow": null,
       "grid_auto_rows": null,
       "grid_column": null,
       "grid_gap": null,
       "grid_row": null,
       "grid_template_areas": null,
       "grid_template_columns": null,
       "grid_template_rows": null,
       "height": "500px",
       "justify_content": null,
       "justify_items": null,
       "left": null,
       "margin": null,
       "max_height": null,
       "max_width": null,
       "min_height": null,
       "min_width": null,
       "object_fit": null,
       "object_position": null,
       "order": null,
       "overflow": null,
       "overflow_x": null,
       "overflow_y": null,
       "padding": null,
       "right": null,
       "top": null,
       "visibility": null,
       "width": null
      }
     },
     "dbfd3f9acde9459f87d892adc61aad33": {
      "model_module": "@jupyter-widgets/base",
      "model_module_version": "1.2.0",
      "model_name": "LayoutModel",
      "state": {
       "_model_module": "@jupyter-widgets/base",
       "_model_module_version": "1.2.0",
       "_model_name": "LayoutModel",
       "_view_count": null,
       "_view_module": "@jupyter-widgets/base",
       "_view_module_version": "1.2.0",
       "_view_name": "LayoutView",
       "align_content": null,
       "align_items": null,
       "align_self": "stretch",
       "border": null,
       "bottom": null,
       "display": null,
       "flex": null,
       "flex_flow": null,
       "grid_area": null,
       "grid_auto_columns": null,
       "grid_auto_flow": null,
       "grid_auto_rows": null,
       "grid_column": null,
       "grid_gap": null,
       "grid_row": null,
       "grid_template_areas": null,
       "grid_template_columns": null,
       "grid_template_rows": null,
       "height": "500px",
       "justify_content": null,
       "justify_items": null,
       "left": null,
       "margin": null,
       "max_height": null,
       "max_width": null,
       "min_height": null,
       "min_width": null,
       "object_fit": null,
       "object_position": null,
       "order": null,
       "overflow": null,
       "overflow_x": null,
       "overflow_y": null,
       "padding": null,
       "right": null,
       "top": null,
       "visibility": null,
       "width": null
      }
     }
    },
    "version_major": 2,
    "version_minor": 0
   }
  }
 },
 "nbformat": 4,
 "nbformat_minor": 5
}
