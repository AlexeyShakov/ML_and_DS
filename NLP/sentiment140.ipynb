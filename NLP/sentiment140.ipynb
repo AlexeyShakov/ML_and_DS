{
 "cells": [
  {
   "cell_type": "markdown",
   "id": "f5d4d353",
   "metadata": {
    "id": "D3gZVgnMedem",
    "papermill": {
     "duration": 0.021117,
     "end_time": "2022-06-01T07:29:57.500306",
     "exception": false,
     "start_time": "2022-06-01T07:29:57.479189",
     "status": "completed"
    },
    "tags": []
   },
   "source": [
    "# Importing libraries"
   ]
  },
  {
   "cell_type": "code",
   "execution_count": 1,
   "id": "6462a85a",
   "metadata": {
    "execution": {
     "iopub.execute_input": "2022-06-01T07:29:57.542371Z",
     "iopub.status.busy": "2022-06-01T07:29:57.541587Z",
     "iopub.status.idle": "2022-06-01T07:30:10.762584Z",
     "shell.execute_reply": "2022-06-01T07:30:10.761583Z"
    },
    "id": "-J2rWdWbc_pq",
    "papermill": {
     "duration": 13.245067,
     "end_time": "2022-06-01T07:30:10.765396",
     "exception": false,
     "start_time": "2022-06-01T07:29:57.520329",
     "status": "completed"
    },
    "tags": []
   },
   "outputs": [
    {
     "name": "stdout",
     "output_type": "stream",
     "text": [
      "Requirement already satisfied: catboost in /opt/conda/lib/python3.7/site-packages (1.0.6)\r\n",
      "Requirement already satisfied: graphviz in /opt/conda/lib/python3.7/site-packages (from catboost) (0.8.4)\r\n",
      "Requirement already satisfied: six in /opt/conda/lib/python3.7/site-packages (from catboost) (1.16.0)\r\n",
      "Requirement already satisfied: numpy>=1.16.0 in /opt/conda/lib/python3.7/site-packages (from catboost) (1.21.6)\r\n",
      "Requirement already satisfied: scipy in /opt/conda/lib/python3.7/site-packages (from catboost) (1.7.3)\r\n",
      "Requirement already satisfied: pandas>=0.24.0 in /opt/conda/lib/python3.7/site-packages (from catboost) (1.3.5)\r\n",
      "Requirement already satisfied: matplotlib in /opt/conda/lib/python3.7/site-packages (from catboost) (3.5.2)\r\n",
      "Requirement already satisfied: plotly in /opt/conda/lib/python3.7/site-packages (from catboost) (5.8.0)\r\n",
      "Requirement already satisfied: python-dateutil>=2.7.3 in /opt/conda/lib/python3.7/site-packages (from pandas>=0.24.0->catboost) (2.8.2)\r\n",
      "Requirement already satisfied: pytz>=2017.3 in /opt/conda/lib/python3.7/site-packages (from pandas>=0.24.0->catboost) (2022.1)\r\n",
      "Requirement already satisfied: fonttools>=4.22.0 in /opt/conda/lib/python3.7/site-packages (from matplotlib->catboost) (4.33.3)\r\n",
      "Requirement already satisfied: packaging>=20.0 in /opt/conda/lib/python3.7/site-packages (from matplotlib->catboost) (21.3)\r\n",
      "Requirement already satisfied: cycler>=0.10 in /opt/conda/lib/python3.7/site-packages (from matplotlib->catboost) (0.11.0)\r\n",
      "Requirement already satisfied: kiwisolver>=1.0.1 in /opt/conda/lib/python3.7/site-packages (from matplotlib->catboost) (1.4.2)\r\n",
      "Requirement already satisfied: pillow>=6.2.0 in /opt/conda/lib/python3.7/site-packages (from matplotlib->catboost) (9.1.0)\r\n",
      "Requirement already satisfied: pyparsing>=2.2.1 in /opt/conda/lib/python3.7/site-packages (from matplotlib->catboost) (3.0.9)\r\n",
      "Requirement already satisfied: tenacity>=6.2.0 in /opt/conda/lib/python3.7/site-packages (from plotly->catboost) (8.0.1)\r\n",
      "Requirement already satisfied: typing-extensions in /opt/conda/lib/python3.7/site-packages (from kiwisolver>=1.0.1->matplotlib->catboost) (4.2.0)\r\n",
      "\u001b[33mWARNING: Running pip as the 'root' user can result in broken permissions and conflicting behaviour with the system package manager. It is recommended to use a virtual environment instead: https://pip.pypa.io/warnings/venv\u001b[0m\u001b[33m\r\n",
      "\u001b[0m"
     ]
    }
   ],
   "source": [
    "!pip install catboost"
   ]
  },
  {
   "cell_type": "code",
   "execution_count": 2,
   "id": "c503aa39",
   "metadata": {
    "execution": {
     "iopub.execute_input": "2022-06-01T07:30:10.810334Z",
     "iopub.status.busy": "2022-06-01T07:30:10.809893Z",
     "iopub.status.idle": "2022-06-01T07:30:24.955862Z",
     "shell.execute_reply": "2022-06-01T07:30:24.954884Z"
    },
    "id": "TFjOVeWuhisf",
    "outputId": "89d8b79b-7ca2-4ac1-cd87-e571c0446cf1",
    "papermill": {
     "duration": 14.17149,
     "end_time": "2022-06-01T07:30:24.958348",
     "exception": false,
     "start_time": "2022-06-01T07:30:10.786858",
     "status": "completed"
    },
    "tags": []
   },
   "outputs": [
    {
     "name": "stdout",
     "output_type": "stream",
     "text": [
      "[nltk_data] Downloading package punkt to /usr/share/nltk_data...\n",
      "[nltk_data]   Package punkt is already up-to-date!\n"
     ]
    }
   ],
   "source": [
    "# for data manipulation\n",
    "import pandas as pd\n",
    "import numpy as np\n",
    "import re\n",
    "import string\n",
    "import random\n",
    "\n",
    "# for text manipulation\n",
    "import nltk\n",
    "import spacy\n",
    "from nltk.corpus import stopwords\n",
    "from nltk.tokenize import word_tokenize\n",
    "from nltk.stem import  WordNetLemmatizer\n",
    "from sklearn.feature_extraction.text import TfidfVectorizer\n",
    "nltk.download('punkt')\n",
    "\n",
    "\n",
    "# for machine learning\n",
    "from sklearn.metrics import confusion_matrix, accuracy_score, f1_score, classification_report, plot_confusion_matrix\n",
    "from sklearn.linear_model import LogisticRegression\n",
    "from sklearn.svm import SVC\n",
    "from sklearn.naive_bayes import MultinomialNB\n",
    "from sklearn.ensemble import RandomForestClassifier\n",
    "from catboost import CatBoostClassifier \n",
    "\n",
    "# others\n",
    "from sklearn.model_selection import train_test_split\n",
    "from sklearn.pipeline import Pipeline\n",
    "import warnings\n",
    "warnings.filterwarnings(\"ignore\")\n",
    "import pickle\n",
    "from tqdm import tqdm\n",
    "import time\n",
    "from sklearn.model_selection import GridSearchCV"
   ]
  },
  {
   "cell_type": "code",
   "execution_count": 3,
   "id": "e6eb51b0",
   "metadata": {
    "execution": {
     "iopub.execute_input": "2022-06-01T07:30:25.000928Z",
     "iopub.status.busy": "2022-06-01T07:30:25.000071Z",
     "iopub.status.idle": "2022-06-01T07:30:25.016033Z",
     "shell.execute_reply": "2022-06-01T07:30:25.015229Z"
    },
    "papermill": {
     "duration": 0.040212,
     "end_time": "2022-06-01T07:30:25.018765",
     "exception": false,
     "start_time": "2022-06-01T07:30:24.978553",
     "status": "completed"
    },
    "tags": []
   },
   "outputs": [
    {
     "name": "stdout",
     "output_type": "stream",
     "text": [
      "/kaggle/input/sentiment140/training.1600000.processed.noemoticon.csv\n",
      "/kaggle/input/emotion-dict/Emoticon_Dict.p\n"
     ]
    }
   ],
   "source": [
    "import os\n",
    "for dirname, _, filenames in os.walk('/kaggle/input'):\n",
    "    for filename in filenames:\n",
    "        print(os.path.join(dirname, filename))"
   ]
  },
  {
   "cell_type": "code",
   "execution_count": 4,
   "id": "5c91769a",
   "metadata": {
    "execution": {
     "iopub.execute_input": "2022-06-01T07:30:25.062599Z",
     "iopub.status.busy": "2022-06-01T07:30:25.061854Z",
     "iopub.status.idle": "2022-06-01T07:30:25.066228Z",
     "shell.execute_reply": "2022-06-01T07:30:25.065512Z"
    },
    "id": "0FIU7eaEh3Uy",
    "outputId": "b5c1db0a-d276-4fa2-be11-9d79419f3aa3",
    "papermill": {
     "duration": 0.028017,
     "end_time": "2022-06-01T07:30:25.068196",
     "exception": false,
     "start_time": "2022-06-01T07:30:25.040179",
     "status": "completed"
    },
    "tags": []
   },
   "outputs": [],
   "source": [
    "# from google.colab import drive\n",
    "# drive.mount('/content/drive')\n",
    "\n",
    "# path = \"/content/drive/MyDrive/Colab Notebooks/data/\""
   ]
  },
  {
   "cell_type": "code",
   "execution_count": 5,
   "id": "b92208e8",
   "metadata": {
    "execution": {
     "iopub.execute_input": "2022-06-01T07:30:25.110511Z",
     "iopub.status.busy": "2022-06-01T07:30:25.109734Z",
     "iopub.status.idle": "2022-06-01T07:30:25.114580Z",
     "shell.execute_reply": "2022-06-01T07:30:25.113905Z"
    },
    "id": "NRK1rIvwBq7R",
    "papermill": {
     "duration": 0.028563,
     "end_time": "2022-06-01T07:30:25.116740",
     "exception": false,
     "start_time": "2022-06-01T07:30:25.088177",
     "status": "completed"
    },
    "tags": []
   },
   "outputs": [],
   "source": [
    "# eliminate randomness in calculations\n",
    "random.seed(0)\n",
    "np.random.seed(0)"
   ]
  },
  {
   "cell_type": "markdown",
   "id": "9918650b",
   "metadata": {
    "id": "1ZRludSueuGU",
    "papermill": {
     "duration": 0.019634,
     "end_time": "2022-06-01T07:30:25.156305",
     "exception": false,
     "start_time": "2022-06-01T07:30:25.136671",
     "status": "completed"
    },
    "tags": []
   },
   "source": [
    "# Explorating data\n"
   ]
  },
  {
   "cell_type": "code",
   "execution_count": 6,
   "id": "8c26824d",
   "metadata": {
    "execution": {
     "iopub.execute_input": "2022-06-01T07:30:25.198139Z",
     "iopub.status.busy": "2022-06-01T07:30:25.197717Z",
     "iopub.status.idle": "2022-06-01T07:30:25.201640Z",
     "shell.execute_reply": "2022-06-01T07:30:25.200749Z"
    },
    "id": "kSiAAtLvex6y",
    "papermill": {
     "duration": 0.027099,
     "end_time": "2022-06-01T07:30:25.203514",
     "exception": false,
     "start_time": "2022-06-01T07:30:25.176415",
     "status": "completed"
    },
    "tags": []
   },
   "outputs": [],
   "source": [
    "# data = pd.read_csv(\"/content/drive/MyDrive/Colab Notebooks/data/training.1600000.processed.noemoticon.csv\", encoding = \"ISO-8859-1\",\n",
    "#                    names=[\"category\", \"ids\", \"date\", \"flag\", \"user\", \"text\"])"
   ]
  },
  {
   "cell_type": "code",
   "execution_count": 7,
   "id": "4aac8ede",
   "metadata": {
    "execution": {
     "iopub.execute_input": "2022-06-01T07:30:25.245403Z",
     "iopub.status.busy": "2022-06-01T07:30:25.245011Z",
     "iopub.status.idle": "2022-06-01T07:30:32.088914Z",
     "shell.execute_reply": "2022-06-01T07:30:32.087847Z"
    },
    "papermill": {
     "duration": 6.867799,
     "end_time": "2022-06-01T07:30:32.091439",
     "exception": false,
     "start_time": "2022-06-01T07:30:25.223640",
     "status": "completed"
    },
    "tags": []
   },
   "outputs": [],
   "source": [
    "data = pd.read_csv(\"/kaggle/input/sentiment140/training.1600000.processed.noemoticon.csv\", encoding = \"ISO-8859-1\",\n",
    "                   names=[\"category\", \"ids\", \"date\", \"flag\", \"user\", \"text\"])"
   ]
  },
  {
   "cell_type": "code",
   "execution_count": 8,
   "id": "ec5d5947",
   "metadata": {
    "execution": {
     "iopub.execute_input": "2022-06-01T07:30:32.133895Z",
     "iopub.status.busy": "2022-06-01T07:30:32.133441Z",
     "iopub.status.idle": "2022-06-01T07:30:32.143080Z",
     "shell.execute_reply": "2022-06-01T07:30:32.142349Z"
    },
    "id": "o8gS8EyUh0VE",
    "outputId": "ea3ec7cb-233f-40fd-a440-fd1382b7339d",
    "papermill": {
     "duration": 0.033215,
     "end_time": "2022-06-01T07:30:32.144956",
     "exception": false,
     "start_time": "2022-06-01T07:30:32.111741",
     "status": "completed"
    },
    "tags": []
   },
   "outputs": [
    {
     "data": {
      "text/plain": [
       "(1600000, 6)"
      ]
     },
     "execution_count": 8,
     "metadata": {},
     "output_type": "execute_result"
    }
   ],
   "source": [
    "data.shape"
   ]
  },
  {
   "cell_type": "code",
   "execution_count": 9,
   "id": "2e1e28dd",
   "metadata": {
    "execution": {
     "iopub.execute_input": "2022-06-01T07:30:32.187857Z",
     "iopub.status.busy": "2022-06-01T07:30:32.187179Z",
     "iopub.status.idle": "2022-06-01T07:30:32.925426Z",
     "shell.execute_reply": "2022-06-01T07:30:32.923851Z"
    },
    "id": "kw0RRcShi3HU",
    "outputId": "18ce7c67-2233-4b5b-9c41-a8260be2daba",
    "papermill": {
     "duration": 0.762754,
     "end_time": "2022-06-01T07:30:32.928104",
     "exception": false,
     "start_time": "2022-06-01T07:30:32.165350",
     "status": "completed"
    },
    "tags": []
   },
   "outputs": [
    {
     "name": "stdout",
     "output_type": "stream",
     "text": [
      "<class 'pandas.core.frame.DataFrame'>\n",
      "RangeIndex: 1600000 entries, 0 to 1599999\n",
      "Data columns (total 6 columns):\n",
      " #   Column    Non-Null Count    Dtype \n",
      "---  ------    --------------    ----- \n",
      " 0   category  1600000 non-null  int64 \n",
      " 1   ids       1600000 non-null  int64 \n",
      " 2   date      1600000 non-null  object\n",
      " 3   flag      1600000 non-null  object\n",
      " 4   user      1600000 non-null  object\n",
      " 5   text      1600000 non-null  object\n",
      "dtypes: int64(2), object(4)\n",
      "memory usage: 73.2+ MB\n"
     ]
    }
   ],
   "source": [
    "data.info()\n"
   ]
  },
  {
   "cell_type": "code",
   "execution_count": 10,
   "id": "cd9b5f03",
   "metadata": {
    "execution": {
     "iopub.execute_input": "2022-06-01T07:30:32.971342Z",
     "iopub.status.busy": "2022-06-01T07:30:32.970884Z",
     "iopub.status.idle": "2022-06-01T07:30:32.988131Z",
     "shell.execute_reply": "2022-06-01T07:30:32.987056Z"
    },
    "id": "5aiu4Wgoi9vd",
    "outputId": "aa5f446f-2a8a-4962-d576-12967f37dae8",
    "papermill": {
     "duration": 0.041592,
     "end_time": "2022-06-01T07:30:32.990355",
     "exception": false,
     "start_time": "2022-06-01T07:30:32.948763",
     "status": "completed"
    },
    "tags": []
   },
   "outputs": [
    {
     "data": {
      "text/html": [
       "<div>\n",
       "<style scoped>\n",
       "    .dataframe tbody tr th:only-of-type {\n",
       "        vertical-align: middle;\n",
       "    }\n",
       "\n",
       "    .dataframe tbody tr th {\n",
       "        vertical-align: top;\n",
       "    }\n",
       "\n",
       "    .dataframe thead th {\n",
       "        text-align: right;\n",
       "    }\n",
       "</style>\n",
       "<table border=\"1\" class=\"dataframe\">\n",
       "  <thead>\n",
       "    <tr style=\"text-align: right;\">\n",
       "      <th></th>\n",
       "      <th>category</th>\n",
       "      <th>ids</th>\n",
       "      <th>date</th>\n",
       "      <th>flag</th>\n",
       "      <th>user</th>\n",
       "      <th>text</th>\n",
       "    </tr>\n",
       "  </thead>\n",
       "  <tbody>\n",
       "    <tr>\n",
       "      <th>0</th>\n",
       "      <td>0</td>\n",
       "      <td>1467810369</td>\n",
       "      <td>Mon Apr 06 22:19:45 PDT 2009</td>\n",
       "      <td>NO_QUERY</td>\n",
       "      <td>_TheSpecialOne_</td>\n",
       "      <td>@switchfoot http://twitpic.com/2y1zl - Awww, t...</td>\n",
       "    </tr>\n",
       "    <tr>\n",
       "      <th>1</th>\n",
       "      <td>0</td>\n",
       "      <td>1467810672</td>\n",
       "      <td>Mon Apr 06 22:19:49 PDT 2009</td>\n",
       "      <td>NO_QUERY</td>\n",
       "      <td>scotthamilton</td>\n",
       "      <td>is upset that he can't update his Facebook by ...</td>\n",
       "    </tr>\n",
       "    <tr>\n",
       "      <th>2</th>\n",
       "      <td>0</td>\n",
       "      <td>1467810917</td>\n",
       "      <td>Mon Apr 06 22:19:53 PDT 2009</td>\n",
       "      <td>NO_QUERY</td>\n",
       "      <td>mattycus</td>\n",
       "      <td>@Kenichan I dived many times for the ball. Man...</td>\n",
       "    </tr>\n",
       "    <tr>\n",
       "      <th>3</th>\n",
       "      <td>0</td>\n",
       "      <td>1467811184</td>\n",
       "      <td>Mon Apr 06 22:19:57 PDT 2009</td>\n",
       "      <td>NO_QUERY</td>\n",
       "      <td>ElleCTF</td>\n",
       "      <td>my whole body feels itchy and like its on fire</td>\n",
       "    </tr>\n",
       "    <tr>\n",
       "      <th>4</th>\n",
       "      <td>0</td>\n",
       "      <td>1467811193</td>\n",
       "      <td>Mon Apr 06 22:19:57 PDT 2009</td>\n",
       "      <td>NO_QUERY</td>\n",
       "      <td>Karoli</td>\n",
       "      <td>@nationwideclass no, it's not behaving at all....</td>\n",
       "    </tr>\n",
       "  </tbody>\n",
       "</table>\n",
       "</div>"
      ],
      "text/plain": [
       "   category         ids                          date      flag  \\\n",
       "0         0  1467810369  Mon Apr 06 22:19:45 PDT 2009  NO_QUERY   \n",
       "1         0  1467810672  Mon Apr 06 22:19:49 PDT 2009  NO_QUERY   \n",
       "2         0  1467810917  Mon Apr 06 22:19:53 PDT 2009  NO_QUERY   \n",
       "3         0  1467811184  Mon Apr 06 22:19:57 PDT 2009  NO_QUERY   \n",
       "4         0  1467811193  Mon Apr 06 22:19:57 PDT 2009  NO_QUERY   \n",
       "\n",
       "              user                                               text  \n",
       "0  _TheSpecialOne_  @switchfoot http://twitpic.com/2y1zl - Awww, t...  \n",
       "1    scotthamilton  is upset that he can't update his Facebook by ...  \n",
       "2         mattycus  @Kenichan I dived many times for the ball. Man...  \n",
       "3          ElleCTF    my whole body feels itchy and like its on fire   \n",
       "4           Karoli  @nationwideclass no, it's not behaving at all....  "
      ]
     },
     "execution_count": 10,
     "metadata": {},
     "output_type": "execute_result"
    }
   ],
   "source": [
    "data.head()"
   ]
  },
  {
   "cell_type": "code",
   "execution_count": 11,
   "id": "54ee15a5",
   "metadata": {
    "execution": {
     "iopub.execute_input": "2022-06-01T07:30:33.037607Z",
     "iopub.status.busy": "2022-06-01T07:30:33.036830Z",
     "iopub.status.idle": "2022-06-01T07:30:33.053891Z",
     "shell.execute_reply": "2022-06-01T07:30:33.052788Z"
    },
    "id": "3FhsjqkOjB6R",
    "outputId": "ab045541-719a-439b-c644-888f90e6ac6e",
    "papermill": {
     "duration": 0.044976,
     "end_time": "2022-06-01T07:30:33.056257",
     "exception": false,
     "start_time": "2022-06-01T07:30:33.011281",
     "status": "completed"
    },
    "tags": []
   },
   "outputs": [
    {
     "data": {
      "text/plain": [
       "array([0, 4])"
      ]
     },
     "execution_count": 11,
     "metadata": {},
     "output_type": "execute_result"
    }
   ],
   "source": [
    "data.category.unique()"
   ]
  },
  {
   "cell_type": "code",
   "execution_count": 12,
   "id": "7b61586d",
   "metadata": {
    "execution": {
     "iopub.execute_input": "2022-06-01T07:30:33.100901Z",
     "iopub.status.busy": "2022-06-01T07:30:33.099722Z",
     "iopub.status.idle": "2022-06-01T07:30:33.117129Z",
     "shell.execute_reply": "2022-06-01T07:30:33.116086Z"
    },
    "id": "mdDLbp1_I24L",
    "outputId": "192199b3-37ea-4fd8-9870-850b17a45252",
    "papermill": {
     "duration": 0.042504,
     "end_time": "2022-06-01T07:30:33.119601",
     "exception": false,
     "start_time": "2022-06-01T07:30:33.077097",
     "status": "completed"
    },
    "tags": []
   },
   "outputs": [
    {
     "data": {
      "text/plain": [
       "0    800000\n",
       "4    800000\n",
       "Name: category, dtype: int64"
      ]
     },
     "execution_count": 12,
     "metadata": {},
     "output_type": "execute_result"
    }
   ],
   "source": [
    "data[\"category\"].value_counts()"
   ]
  },
  {
   "cell_type": "markdown",
   "id": "c1fa6635",
   "metadata": {
    "id": "E6mSwWccsri5",
    "papermill": {
     "duration": 0.02096,
     "end_time": "2022-06-01T07:30:33.162462",
     "exception": false,
     "start_time": "2022-06-01T07:30:33.141502",
     "status": "completed"
    },
    "tags": []
   },
   "source": [
    "# Data cleaning"
   ]
  },
  {
   "cell_type": "markdown",
   "id": "6138a00c",
   "metadata": {
    "id": "R8CvdKMoszgI",
    "papermill": {
     "duration": 0.022009,
     "end_time": "2022-06-01T07:30:33.206119",
     "exception": false,
     "start_time": "2022-06-01T07:30:33.184110",
     "status": "completed"
    },
    "tags": []
   },
   "source": [
    "\n",
    "Delete **ids**, **flag**, **date** and **user** columns. These columns are very unique and they don't make any contribution to classify text properly, in my opinion. \n"
   ]
  },
  {
   "cell_type": "code",
   "execution_count": 13,
   "id": "5f88350f",
   "metadata": {
    "execution": {
     "iopub.execute_input": "2022-06-01T07:30:33.252594Z",
     "iopub.status.busy": "2022-06-01T07:30:33.251308Z",
     "iopub.status.idle": "2022-06-01T07:30:33.305350Z",
     "shell.execute_reply": "2022-06-01T07:30:33.304046Z"
    },
    "id": "0EReIV_2ja2W",
    "outputId": "87736451-e1ea-4f6e-c85c-ca1af6994da3",
    "papermill": {
     "duration": 0.079658,
     "end_time": "2022-06-01T07:30:33.307799",
     "exception": false,
     "start_time": "2022-06-01T07:30:33.228141",
     "status": "completed"
    },
    "tags": []
   },
   "outputs": [
    {
     "data": {
      "text/html": [
       "<div>\n",
       "<style scoped>\n",
       "    .dataframe tbody tr th:only-of-type {\n",
       "        vertical-align: middle;\n",
       "    }\n",
       "\n",
       "    .dataframe tbody tr th {\n",
       "        vertical-align: top;\n",
       "    }\n",
       "\n",
       "    .dataframe thead th {\n",
       "        text-align: right;\n",
       "    }\n",
       "</style>\n",
       "<table border=\"1\" class=\"dataframe\">\n",
       "  <thead>\n",
       "    <tr style=\"text-align: right;\">\n",
       "      <th></th>\n",
       "      <th>category</th>\n",
       "      <th>text</th>\n",
       "    </tr>\n",
       "  </thead>\n",
       "  <tbody>\n",
       "    <tr>\n",
       "      <th>0</th>\n",
       "      <td>0</td>\n",
       "      <td>@switchfoot http://twitpic.com/2y1zl - Awww, t...</td>\n",
       "    </tr>\n",
       "    <tr>\n",
       "      <th>1</th>\n",
       "      <td>0</td>\n",
       "      <td>is upset that he can't update his Facebook by ...</td>\n",
       "    </tr>\n",
       "    <tr>\n",
       "      <th>2</th>\n",
       "      <td>0</td>\n",
       "      <td>@Kenichan I dived many times for the ball. Man...</td>\n",
       "    </tr>\n",
       "    <tr>\n",
       "      <th>3</th>\n",
       "      <td>0</td>\n",
       "      <td>my whole body feels itchy and like its on fire</td>\n",
       "    </tr>\n",
       "    <tr>\n",
       "      <th>4</th>\n",
       "      <td>0</td>\n",
       "      <td>@nationwideclass no, it's not behaving at all....</td>\n",
       "    </tr>\n",
       "  </tbody>\n",
       "</table>\n",
       "</div>"
      ],
      "text/plain": [
       "   category                                               text\n",
       "0         0  @switchfoot http://twitpic.com/2y1zl - Awww, t...\n",
       "1         0  is upset that he can't update his Facebook by ...\n",
       "2         0  @Kenichan I dived many times for the ball. Man...\n",
       "3         0    my whole body feels itchy and like its on fire \n",
       "4         0  @nationwideclass no, it's not behaving at all...."
      ]
     },
     "execution_count": 13,
     "metadata": {},
     "output_type": "execute_result"
    }
   ],
   "source": [
    "data_needed = data[[\"category\", \"text\"]]\n",
    "data_needed[\"category\"].loc[data_needed[\"category\"] == 4] = 1\n",
    "\n",
    "data_needed.head()"
   ]
  },
  {
   "cell_type": "markdown",
   "id": "ecd7cd26",
   "metadata": {
    "id": "Z0DLxFpPwneR",
    "papermill": {
     "duration": 0.022045,
     "end_time": "2022-06-01T07:30:33.351228",
     "exception": false,
     "start_time": "2022-06-01T07:30:33.329183",
     "status": "completed"
    },
    "tags": []
   },
   "source": [
    "Let's reduce our data in order to make calculations faster."
   ]
  },
  {
   "cell_type": "code",
   "execution_count": 14,
   "id": "35ac0b96",
   "metadata": {
    "execution": {
     "iopub.execute_input": "2022-06-01T07:30:33.401920Z",
     "iopub.status.busy": "2022-06-01T07:30:33.400755Z",
     "iopub.status.idle": "2022-06-01T07:30:33.628590Z",
     "shell.execute_reply": "2022-06-01T07:30:33.627644Z"
    },
    "id": "y6eCZnwgwyus",
    "papermill": {
     "duration": 0.257313,
     "end_time": "2022-06-01T07:30:33.630707",
     "exception": false,
     "start_time": "2022-06-01T07:30:33.373394",
     "status": "completed"
    },
    "tags": []
   },
   "outputs": [
    {
     "name": "stdout",
     "output_type": "stream",
     "text": [
      "(480000, 2)\n"
     ]
    },
    {
     "data": {
      "text/html": [
       "<div>\n",
       "<style scoped>\n",
       "    .dataframe tbody tr th:only-of-type {\n",
       "        vertical-align: middle;\n",
       "    }\n",
       "\n",
       "    .dataframe tbody tr th {\n",
       "        vertical-align: top;\n",
       "    }\n",
       "\n",
       "    .dataframe thead th {\n",
       "        text-align: right;\n",
       "    }\n",
       "</style>\n",
       "<table border=\"1\" class=\"dataframe\">\n",
       "  <thead>\n",
       "    <tr style=\"text-align: right;\">\n",
       "      <th></th>\n",
       "      <th>category</th>\n",
       "      <th>text</th>\n",
       "    </tr>\n",
       "  </thead>\n",
       "  <tbody>\n",
       "    <tr>\n",
       "      <th>0</th>\n",
       "      <td>0</td>\n",
       "      <td>wants to compete! i want hard competition! i w...</td>\n",
       "    </tr>\n",
       "    <tr>\n",
       "      <th>1</th>\n",
       "      <td>0</td>\n",
       "      <td>It seems we are stuck on the ground in Amarill...</td>\n",
       "    </tr>\n",
       "    <tr>\n",
       "      <th>2</th>\n",
       "      <td>0</td>\n",
       "      <td>where the f are my pinking shears? rarararrrar...</td>\n",
       "    </tr>\n",
       "    <tr>\n",
       "      <th>3</th>\n",
       "      <td>0</td>\n",
       "      <td>0ff t0 tHE MEEtiN..  i HAtE WhEN PPl V0lUNtEER...</td>\n",
       "    </tr>\n",
       "    <tr>\n",
       "      <th>4</th>\n",
       "      <td>1</td>\n",
       "      <td>@ reply me pls</td>\n",
       "    </tr>\n",
       "  </tbody>\n",
       "</table>\n",
       "</div>"
      ],
      "text/plain": [
       "   category                                               text\n",
       "0         0  wants to compete! i want hard competition! i w...\n",
       "1         0  It seems we are stuck on the ground in Amarill...\n",
       "2         0  where the f are my pinking shears? rarararrrar...\n",
       "3         0  0ff t0 tHE MEEtiN..  i HAtE WhEN PPl V0lUNtEER...\n",
       "4         1                                    @ reply me pls "
      ]
     },
     "execution_count": 14,
     "metadata": {},
     "output_type": "execute_result"
    }
   ],
   "source": [
    "# I think it's better to shuffle data\n",
    "reduced_data = data_needed.sample(frac=0.3).reset_index(drop=True)\n",
    "print(reduced_data.shape)\n",
    "reduced_data.head()"
   ]
  },
  {
   "cell_type": "code",
   "execution_count": 15,
   "id": "7ccd8dac",
   "metadata": {
    "execution": {
     "iopub.execute_input": "2022-06-01T07:30:33.675940Z",
     "iopub.status.busy": "2022-06-01T07:30:33.675491Z",
     "iopub.status.idle": "2022-06-01T07:30:33.680390Z",
     "shell.execute_reply": "2022-06-01T07:30:33.679516Z"
    },
    "id": "a1QR9u9AKXmc",
    "papermill": {
     "duration": 0.029959,
     "end_time": "2022-06-01T07:30:33.682589",
     "exception": false,
     "start_time": "2022-06-01T07:30:33.652630",
     "status": "completed"
    },
    "tags": []
   },
   "outputs": [],
   "source": [
    "# try:\n",
    "#   with open('reduced_data.pickle', 'rb') as f:\n",
    "#     reduced_data = pickle.load(f)\n",
    "# except:\n",
    "#   with open(\"reduced_data.pickle\", 'wb') as f:\n",
    "#     pickle.dump(reduced_data, f)\n",
    "#   with open('reduced_data.pickle', 'rb') as f:\n",
    "#     reduced_data = pickle.load(f)"
   ]
  },
  {
   "cell_type": "markdown",
   "id": "1090ce4a",
   "metadata": {
    "id": "UJ6NyH-8S_hh",
    "papermill": {
     "duration": 0.021714,
     "end_time": "2022-06-01T07:30:33.726600",
     "exception": false,
     "start_time": "2022-06-01T07:30:33.704886",
     "status": "completed"
    },
    "tags": []
   },
   "source": [
    "## Text cleaning"
   ]
  },
  {
   "cell_type": "code",
   "execution_count": 16,
   "id": "5c5a979d",
   "metadata": {
    "execution": {
     "iopub.execute_input": "2022-06-01T07:30:33.771342Z",
     "iopub.status.busy": "2022-06-01T07:30:33.770920Z",
     "iopub.status.idle": "2022-06-01T07:30:33.786708Z",
     "shell.execute_reply": "2022-06-01T07:30:33.785124Z"
    },
    "id": "XGRslZtkt8qN",
    "outputId": "1c77b058-1840-402e-aef0-0c610ddea08a",
    "papermill": {
     "duration": 0.040875,
     "end_time": "2022-06-01T07:30:33.789116",
     "exception": false,
     "start_time": "2022-06-01T07:30:33.748241",
     "status": "completed"
    },
    "tags": []
   },
   "outputs": [
    {
     "name": "stdout",
     "output_type": "stream",
     "text": [
      "[nltk_data] Downloading package stopwords to /usr/share/nltk_data...\n",
      "[nltk_data]   Package stopwords is already up-to-date!\n",
      "The number of stopwords - 179\n"
     ]
    }
   ],
   "source": [
    "# downloading stopwords\n",
    "nltk.download(\"stopwords\")\n",
    "stop_words = set(stopwords.words(\"english\"))\n",
    "print(r\"The number of stopwords -\", len(stop_words))"
   ]
  },
  {
   "cell_type": "code",
   "execution_count": 17,
   "id": "5f9c9703",
   "metadata": {
    "execution": {
     "iopub.execute_input": "2022-06-01T07:30:33.839797Z",
     "iopub.status.busy": "2022-06-01T07:30:33.838454Z",
     "iopub.status.idle": "2022-06-01T07:30:33.846435Z",
     "shell.execute_reply": "2022-06-01T07:30:33.845552Z"
    },
    "id": "m-43DIi6ej67",
    "papermill": {
     "duration": 0.034003,
     "end_time": "2022-06-01T07:30:33.848871",
     "exception": false,
     "start_time": "2022-06-01T07:30:33.814868",
     "status": "completed"
    },
    "tags": []
   },
   "outputs": [],
   "source": [
    "# dictionary with emotions. It's needed to convert emotions to words\n",
    "with open('/kaggle/input/emotion-dict/Emoticon_Dict.p', 'rb') as fp:\n",
    "    emoticon_dict = pickle.load(fp)"
   ]
  },
  {
   "cell_type": "code",
   "execution_count": 18,
   "id": "c5dd4363",
   "metadata": {
    "execution": {
     "iopub.execute_input": "2022-06-01T07:30:33.895094Z",
     "iopub.status.busy": "2022-06-01T07:30:33.893978Z",
     "iopub.status.idle": "2022-06-01T07:30:33.911581Z",
     "shell.execute_reply": "2022-06-01T07:30:33.910776Z"
    },
    "id": "QRB5ro7-AliN",
    "papermill": {
     "duration": 0.042769,
     "end_time": "2022-06-01T07:30:33.913939",
     "exception": false,
     "start_time": "2022-06-01T07:30:33.871170",
     "status": "completed"
    },
    "tags": []
   },
   "outputs": [],
   "source": [
    "def full_cleaning(df: pd.DataFrame, column: str, emotions: dict, batch_size: int):\n",
    "  df_copy = df.copy()\n",
    "\n",
    "  # converting emotions to words\n",
    "  for emot in emotions:\n",
    "    df_copy[column] =df_copy[column].apply(lambda x: re.sub(u'('+emot+')', \" \".join(emotions[emot].replace(\",\",\"\").split()), x))\n",
    "  print(\"emotions have been coverted to words\")\n",
    "  \n",
    "  # convert all text to lowcase\n",
    "  df_copy[column] = df_copy[column].str.lower()\n",
    "  print(\"all test is lowcase\")\n",
    "  \n",
    "  # delete URLs from text\n",
    "  df_copy[column] = df_copy[column].str.replace(r\"http\\S+|www\\S+|https\\S+\", \"\")\n",
    "  print(\"URLs have been deleted\")\n",
    "\n",
    "  # remove references(@) to users, hashtags(#) and quotes(&)\n",
    "  df_copy[column] = df_copy[column].str.replace(r\"\\@\\S+|\\#|\\&\\S+\", \"\")\n",
    "  print(\"references, hashtags and quotes have been deleted\")\n",
    "\n",
    "  # delete punctuation\n",
    "  df_copy[column] = df_copy[column].apply(lambda x: x.translate(str.maketrans(\"\", \"\", string.punctuation)))\n",
    "  print(\"sins of punctuation have been deleted\")\n",
    "\n",
    "  # delete blanks at the beginning and at the end of a string\n",
    "  df_copy[column] = df_copy[column].str.replace(r\"^\\s\", \"\")\n",
    "  df_copy[column] = df_copy[column].str.replace(r\"^\\s$\", \"\")\n",
    "  print(\"blanks are deleted\")\n",
    "\n",
    "  # tokenize our text\n",
    "  df_copy[column] = df_copy[column].apply(lambda x: word_tokenize(x))\n",
    "  print(\"text has been tokenized\")\n",
    "\n",
    "  # filter words that there are in stopwords\n",
    "  df_copy[column] = df_copy[column].apply(lambda x: [word for word in x if word not in stop_words])\n",
    "  print(\"stopwords have been deleted\")\n",
    "\n",
    "  # lemmatazing\n",
    "  lemmer = spacy.load(\"en_core_web_sm\")\n",
    "  # we need to join words in list into string in order to use spacy lemmatizer\n",
    "  df_copy[column] = df_copy[column].apply(lambda x: \" \".join(x))\n",
    "\n",
    "  for pos in tqdm(range(0, len(df_copy), batch_size)):\n",
    "    df_copy[column][pos: pos + batch_size] = df_copy[column][pos: pos + batch_size].apply(lambda x: [token.lemma_ for token in lemmer(x)])\n",
    "  print(\"words have been lemmatized\")\n",
    "\n",
    "  # finally join the words\n",
    "  df_copy[column] = df_copy[column].apply(lambda x: \" \".join(x))\n",
    "\n",
    "  return df_copy"
   ]
  },
  {
   "cell_type": "markdown",
   "id": "a1cf9754",
   "metadata": {
    "id": "g4J2Qt4wXtNy",
    "papermill": {
     "duration": 0.026056,
     "end_time": "2022-06-01T07:30:33.966256",
     "exception": false,
     "start_time": "2022-06-01T07:30:33.940200",
     "status": "completed"
    },
    "tags": []
   },
   "source": [
    "**There is an opinion that we should not delete stopwords  and make words in lowcase for tweets. So we should  check this hypothesis.**"
   ]
  },
  {
   "cell_type": "code",
   "execution_count": 19,
   "id": "8387a9cc",
   "metadata": {
    "execution": {
     "iopub.execute_input": "2022-06-01T07:30:34.021281Z",
     "iopub.status.busy": "2022-06-01T07:30:34.020345Z",
     "iopub.status.idle": "2022-06-01T07:30:34.034679Z",
     "shell.execute_reply": "2022-06-01T07:30:34.033806Z"
    },
    "id": "whVi_Bxn_rYn",
    "papermill": {
     "duration": 0.044418,
     "end_time": "2022-06-01T07:30:34.037156",
     "exception": false,
     "start_time": "2022-06-01T07:30:33.992738",
     "status": "completed"
    },
    "tags": []
   },
   "outputs": [],
   "source": [
    "# I don't convert text to lowcase\n",
    "# I don't delete stopwords\n",
    "def not_full_cleaning(df: pd.DataFrame, column: str, emotions: dict, batch_size: int):\n",
    "  df_copy = df.copy()\n",
    "\n",
    "  # converting emotions to words\n",
    "  for emot in emotions:\n",
    "    df_copy[column] =df_copy[column].apply(lambda x: re.sub(u'('+emot+')', \" \".join(emotions[emot].replace(\",\",\"\").split()), x))\n",
    "  print(\"emotions have been coverted to words\")\n",
    "  \n",
    "  # # convert all text to lowcase\n",
    "  # df_copy[column] = df_copy[column].str.lower()\n",
    "  # print(\"all test is lowcase\")\n",
    "  \n",
    "  # delete URLs from text\n",
    "  df_copy[column] = df_copy[column].str.replace(r\"http\\S+|www\\S+|https\\S+\", \"\")\n",
    "  print(\"URLs have been deleted\")\n",
    "\n",
    "  # remove references(@) to users, hashtags(#) and quotes(&)\n",
    "  df_copy[column] = df_copy[column].str.replace(r\"\\@\\S+|\\#|\\&\\S+\", \"\")\n",
    "  print(\"references, hashtags and quotes have been deleted\")\n",
    "\n",
    "  # delete punctuation\n",
    "  df_copy[column] = df_copy[column].apply(lambda x: x.translate(str.maketrans(\"\", \"\", string.punctuation)))\n",
    "  print(\"sins of punctuation have been deleted\")\n",
    "\n",
    "  # delete blanks at the beginning and at the end of a string\n",
    "  df_copy[column] = df_copy[column].str.replace(r\"^\\s\", \"\")\n",
    "  df_copy[column] = df_copy[column].str.replace(r\"^\\s$\", \"\")\n",
    "  print(\"blanks are deleted\")\n",
    "\n",
    "  # tokenize our text\n",
    "  df_copy[column] = df_copy[column].apply(lambda x: word_tokenize(x))\n",
    "  print(\"text has been tokenized\")\n",
    "\n",
    "  # # filter words that there are in stopwords\n",
    "  # df_copy[column] = df_copy[column].apply(lambda x: [word for word in x if word not in stop_words])\n",
    "  # print(\"stopwords have been deleted\")\n",
    "\n",
    "  # lemmatazing\n",
    "  lemmer = spacy.load(\"en_core_web_sm\")\n",
    "  # we need to join words in list into string in order to use spacy lemmatizer\n",
    "  df_copy[column] = df_copy[column].apply(lambda x: \" \".join(x))\n",
    "\n",
    "  for pos in tqdm(range(0, len(df_copy), batch_size)):\n",
    "    df_copy[column][pos: pos + batch_size] = df_copy[column][pos: pos + batch_size].apply(lambda x: [token.lemma_ for token in lemmer(x)])\n",
    "  print(\"words have been lemmatized\")\n",
    "\n",
    "  # finally join the words\n",
    "  df_copy[column] = df_copy[column].apply(lambda x: \" \".join(x))\n",
    "\n",
    "  return df_copy"
   ]
  },
  {
   "cell_type": "code",
   "execution_count": 20,
   "id": "238bf187",
   "metadata": {
    "execution": {
     "iopub.execute_input": "2022-06-01T07:30:34.084038Z",
     "iopub.status.busy": "2022-06-01T07:30:34.083197Z",
     "iopub.status.idle": "2022-06-01T08:32:37.017797Z",
     "shell.execute_reply": "2022-06-01T08:32:37.016651Z"
    },
    "id": "ey0rYwpwF9dR",
    "papermill": {
     "duration": 3722.959981,
     "end_time": "2022-06-01T08:32:37.020646",
     "exception": false,
     "start_time": "2022-06-01T07:30:34.060665",
     "status": "completed"
    },
    "tags": []
   },
   "outputs": [
    {
     "name": "stdout",
     "output_type": "stream",
     "text": [
      "emotions have been coverted to words\n",
      "all test is lowcase\n",
      "URLs have been deleted\n",
      "references, hashtags and quotes have been deleted\n",
      "sins of punctuation have been deleted\n",
      "blanks are deleted\n",
      "text has been tokenized\n",
      "stopwords have been deleted\n"
     ]
    },
    {
     "name": "stderr",
     "output_type": "stream",
     "text": [
      "100%|██████████| 120/120 [55:11<00:00, 27.60s/it]\n"
     ]
    },
    {
     "name": "stdout",
     "output_type": "stream",
     "text": [
      "words have been lemmatized\n",
      "CPU times: user 1h 2min, sys: 1.46 s, total: 1h 2min 2s\n",
      "Wall time: 1h 2min 2s\n"
     ]
    }
   ],
   "source": [
    "%%time\n",
    "cleaned_data_full = full_cleaning(reduced_data, \"text\", emoticon_dict, 4000)"
   ]
  },
  {
   "cell_type": "code",
   "execution_count": 21,
   "id": "4624fec0",
   "metadata": {
    "execution": {
     "iopub.execute_input": "2022-06-01T08:32:37.085149Z",
     "iopub.status.busy": "2022-06-01T08:32:37.084426Z",
     "iopub.status.idle": "2022-06-01T08:32:37.088981Z",
     "shell.execute_reply": "2022-06-01T08:32:37.088111Z"
    },
    "id": "Q0CkyoeLwaUF",
    "papermill": {
     "duration": 0.038463,
     "end_time": "2022-06-01T08:32:37.090958",
     "exception": false,
     "start_time": "2022-06-01T08:32:37.052495",
     "status": "completed"
    },
    "tags": []
   },
   "outputs": [],
   "source": [
    "# try:\n",
    "#   with open('preprocessed_data.pickle', 'rb') as f:\n",
    "#     cleaned_data_full = pickle.load(f)\n",
    "# except:\n",
    "#   with open(\"preprocessed_data.pickle\", 'wb') as f:\n",
    "#     pickle.dump(cleaned_data_full, f)\n",
    "#   with open('preprocessed_data.pickle', 'rb') as f:\n",
    "#     cleaned_data_full = pickle.load(f)"
   ]
  },
  {
   "cell_type": "code",
   "execution_count": 22,
   "id": "b23fd4c4",
   "metadata": {
    "execution": {
     "iopub.execute_input": "2022-06-01T08:32:37.152646Z",
     "iopub.status.busy": "2022-06-01T08:32:37.152276Z",
     "iopub.status.idle": "2022-06-01T08:32:37.162842Z",
     "shell.execute_reply": "2022-06-01T08:32:37.161665Z"
    },
    "id": "l_Qhd7jTxI7h",
    "outputId": "d83ea9d9-3d53-450f-f83d-ac42269bd46a",
    "papermill": {
     "duration": 0.044065,
     "end_time": "2022-06-01T08:32:37.165177",
     "exception": false,
     "start_time": "2022-06-01T08:32:37.121112",
     "status": "completed"
    },
    "tags": []
   },
   "outputs": [
    {
     "name": "stdout",
     "output_type": "stream",
     "text": [
      "(480000, 2)\n"
     ]
    },
    {
     "data": {
      "text/html": [
       "<div>\n",
       "<style scoped>\n",
       "    .dataframe tbody tr th:only-of-type {\n",
       "        vertical-align: middle;\n",
       "    }\n",
       "\n",
       "    .dataframe tbody tr th {\n",
       "        vertical-align: top;\n",
       "    }\n",
       "\n",
       "    .dataframe thead th {\n",
       "        text-align: right;\n",
       "    }\n",
       "</style>\n",
       "<table border=\"1\" class=\"dataframe\">\n",
       "  <thead>\n",
       "    <tr style=\"text-align: right;\">\n",
       "      <th></th>\n",
       "      <th>category</th>\n",
       "      <th>text</th>\n",
       "    </tr>\n",
       "  </thead>\n",
       "  <tbody>\n",
       "    <tr>\n",
       "      <th>0</th>\n",
       "      <td>0</td>\n",
       "      <td>wants compete want hard competition want rally...</td>\n",
       "    </tr>\n",
       "    <tr>\n",
       "      <th>1</th>\n",
       "      <td>0</td>\n",
       "      <td>seem stuck ground amarillo put ground stop fli...</td>\n",
       "    </tr>\n",
       "    <tr>\n",
       "      <th>2</th>\n",
       "      <td>0</td>\n",
       "      <td>f pink shear rarararrrarararrbabyproofe cut st...</td>\n",
       "    </tr>\n",
       "    <tr>\n",
       "      <th>3</th>\n",
       "      <td>0</td>\n",
       "      <td>0ff t0 meetin hate ppl v0lunteer free timegrrr</td>\n",
       "    </tr>\n",
       "    <tr>\n",
       "      <th>4</th>\n",
       "      <td>1</td>\n",
       "      <td>reply pls</td>\n",
       "    </tr>\n",
       "  </tbody>\n",
       "</table>\n",
       "</div>"
      ],
      "text/plain": [
       "   category                                               text\n",
       "0         0  wants compete want hard competition want rally...\n",
       "1         0  seem stuck ground amarillo put ground stop fli...\n",
       "2         0  f pink shear rarararrrarararrbabyproofe cut st...\n",
       "3         0     0ff t0 meetin hate ppl v0lunteer free timegrrr\n",
       "4         1                                          reply pls"
      ]
     },
     "execution_count": 22,
     "metadata": {},
     "output_type": "execute_result"
    }
   ],
   "source": [
    "print(cleaned_data_full.shape)\n",
    "cleaned_data_full.head()"
   ]
  },
  {
   "cell_type": "code",
   "execution_count": 23,
   "id": "e4750aec",
   "metadata": {
    "execution": {
     "iopub.execute_input": "2022-06-01T08:32:37.229045Z",
     "iopub.status.busy": "2022-06-01T08:32:37.228420Z",
     "iopub.status.idle": "2022-06-01T09:42:30.089777Z",
     "shell.execute_reply": "2022-06-01T09:42:30.088679Z"
    },
    "id": "sP1OhziDAaOv",
    "papermill": {
     "duration": 4192.896172,
     "end_time": "2022-06-01T09:42:30.092169",
     "exception": false,
     "start_time": "2022-06-01T08:32:37.195997",
     "status": "completed"
    },
    "tags": []
   },
   "outputs": [
    {
     "name": "stdout",
     "output_type": "stream",
     "text": [
      "emotions have been coverted to words\n",
      "URLs have been deleted\n",
      "references, hashtags and quotes have been deleted\n",
      "sins of punctuation have been deleted\n",
      "blanks are deleted\n",
      "text has been tokenized\n"
     ]
    },
    {
     "name": "stderr",
     "output_type": "stream",
     "text": [
      "100%|██████████| 120/120 [1:03:06<00:00, 31.56s/it]\n"
     ]
    },
    {
     "name": "stdout",
     "output_type": "stream",
     "text": [
      "words have been lemmatized\n",
      "CPU times: user 1h 9min 50s, sys: 1.63 s, total: 1h 9min 51s\n",
      "Wall time: 1h 9min 52s\n"
     ]
    }
   ],
   "source": [
    "%%time\n",
    "not_full_cleaned_data = not_full_cleaning(reduced_data, \"text\", emoticon_dict, 4000)"
   ]
  },
  {
   "cell_type": "code",
   "execution_count": 24,
   "id": "ee953448",
   "metadata": {
    "execution": {
     "iopub.execute_input": "2022-06-01T09:42:30.174680Z",
     "iopub.status.busy": "2022-06-01T09:42:30.174316Z",
     "iopub.status.idle": "2022-06-01T09:42:30.178515Z",
     "shell.execute_reply": "2022-06-01T09:42:30.177590Z"
    },
    "id": "Vg45qIGKAjH7",
    "papermill": {
     "duration": 0.047108,
     "end_time": "2022-06-01T09:42:30.180642",
     "exception": false,
     "start_time": "2022-06-01T09:42:30.133534",
     "status": "completed"
    },
    "tags": []
   },
   "outputs": [],
   "source": [
    "# try:\n",
    "#   with open('preprocessed_data_not_full.pickle', 'rb') as f:\n",
    "#     not_full_cleaned_data = pickle.load(f)\n",
    "# except:\n",
    "#   with open(\"preprocessed_data_not_full.pickle\", 'wb') as f:\n",
    "#     pickle.dump(not_full_cleaned_data, f)\n",
    "#   with open('preprocessed_data_not_full.pickle', 'rb') as f:\n",
    "#     not_full_cleaned_data = pickle.load(f)"
   ]
  },
  {
   "cell_type": "code",
   "execution_count": 25,
   "id": "3846950f",
   "metadata": {
    "execution": {
     "iopub.execute_input": "2022-06-01T09:42:30.263419Z",
     "iopub.status.busy": "2022-06-01T09:42:30.263042Z",
     "iopub.status.idle": "2022-06-01T09:42:30.272831Z",
     "shell.execute_reply": "2022-06-01T09:42:30.271576Z"
    },
    "id": "mLte28EyxT20",
    "outputId": "b17afbe6-8b75-44d0-9d77-a70c62153f35",
    "papermill": {
     "duration": 0.053417,
     "end_time": "2022-06-01T09:42:30.275568",
     "exception": false,
     "start_time": "2022-06-01T09:42:30.222151",
     "status": "completed"
    },
    "tags": []
   },
   "outputs": [
    {
     "name": "stdout",
     "output_type": "stream",
     "text": [
      "(480000, 2)\n"
     ]
    },
    {
     "data": {
      "text/html": [
       "<div>\n",
       "<style scoped>\n",
       "    .dataframe tbody tr th:only-of-type {\n",
       "        vertical-align: middle;\n",
       "    }\n",
       "\n",
       "    .dataframe tbody tr th {\n",
       "        vertical-align: top;\n",
       "    }\n",
       "\n",
       "    .dataframe thead th {\n",
       "        text-align: right;\n",
       "    }\n",
       "</style>\n",
       "<table border=\"1\" class=\"dataframe\">\n",
       "  <thead>\n",
       "    <tr style=\"text-align: right;\">\n",
       "      <th></th>\n",
       "      <th>category</th>\n",
       "      <th>text</th>\n",
       "    </tr>\n",
       "  </thead>\n",
       "  <tbody>\n",
       "    <tr>\n",
       "      <th>0</th>\n",
       "      <td>0</td>\n",
       "      <td>want to compete I want hard competition I want...</td>\n",
       "    </tr>\n",
       "    <tr>\n",
       "      <th>1</th>\n",
       "      <td>0</td>\n",
       "      <td>it seem we be stick on the ground in Amarillo ...</td>\n",
       "    </tr>\n",
       "    <tr>\n",
       "      <th>2</th>\n",
       "      <td>0</td>\n",
       "      <td>where the f be my pinking shear rarararrrarara...</td>\n",
       "    </tr>\n",
       "    <tr>\n",
       "      <th>3</th>\n",
       "      <td>0</td>\n",
       "      <td>0ff t0 the meetin I hate when PPl V0lUNtEER my...</td>\n",
       "    </tr>\n",
       "    <tr>\n",
       "      <th>4</th>\n",
       "      <td>1</td>\n",
       "      <td>reply I pls</td>\n",
       "    </tr>\n",
       "  </tbody>\n",
       "</table>\n",
       "</div>"
      ],
      "text/plain": [
       "   category                                               text\n",
       "0         0  want to compete I want hard competition I want...\n",
       "1         0  it seem we be stick on the ground in Amarillo ...\n",
       "2         0  where the f be my pinking shear rarararrrarara...\n",
       "3         0  0ff t0 the meetin I hate when PPl V0lUNtEER my...\n",
       "4         1                                        reply I pls"
      ]
     },
     "execution_count": 25,
     "metadata": {},
     "output_type": "execute_result"
    }
   ],
   "source": [
    "print(not_full_cleaned_data.shape)\n",
    "not_full_cleaned_data.head()"
   ]
  },
  {
   "cell_type": "markdown",
   "id": "0a71c382",
   "metadata": {
    "id": "FKHmYIxAJa_e",
    "papermill": {
     "duration": 0.039523,
     "end_time": "2022-06-01T09:42:30.356524",
     "exception": false,
     "start_time": "2022-06-01T09:42:30.317001",
     "status": "completed"
    },
    "tags": []
   },
   "source": [
    "# Choosing the best model"
   ]
  },
  {
   "cell_type": "markdown",
   "id": "a85b2173",
   "metadata": {
    "id": "cVrSVQYGwBE6",
    "papermill": {
     "duration": 0.039847,
     "end_time": "2022-06-01T09:42:30.436230",
     "exception": false,
     "start_time": "2022-06-01T09:42:30.396383",
     "status": "completed"
    },
    "tags": []
   },
   "source": [
    "## Splitting the dataset"
   ]
  },
  {
   "cell_type": "markdown",
   "id": "f6cb6f78",
   "metadata": {
    "id": "yrnMDflvwDs6",
    "papermill": {
     "duration": 0.039634,
     "end_time": "2022-06-01T09:42:30.515639",
     "exception": false,
     "start_time": "2022-06-01T09:42:30.476005",
     "status": "completed"
    },
    "tags": []
   },
   "source": [
    "As our dataset is large and I don't have so much computatuinal power I need to take just small amount of data for training."
   ]
  },
  {
   "cell_type": "code",
   "execution_count": 26,
   "id": "7b96097f",
   "metadata": {
    "execution": {
     "iopub.execute_input": "2022-06-01T09:42:30.597891Z",
     "iopub.status.busy": "2022-06-01T09:42:30.597088Z",
     "iopub.status.idle": "2022-06-01T09:42:30.717239Z",
     "shell.execute_reply": "2022-06-01T09:42:30.716134Z"
    },
    "id": "FIU9H0QXwWX2",
    "outputId": "30e425e2-34d7-471b-cca2-9bcf8a9f15af",
    "papermill": {
     "duration": 0.163853,
     "end_time": "2022-06-01T09:42:30.719344",
     "exception": false,
     "start_time": "2022-06-01T09:42:30.555491",
     "status": "completed"
    },
    "tags": []
   },
   "outputs": [
    {
     "name": "stdout",
     "output_type": "stream",
     "text": [
      "(4800, 2)\n",
      "(4800,) \n",
      " (4800,)\n",
      "(466036, 2)\n"
     ]
    }
   ],
   "source": [
    "# creating dataset for tesing a model\n",
    "for_test = cleaned_data_full.sample(frac=0.01).reset_index(drop=True)\n",
    "print(for_test.shape)\n",
    "\n",
    "X_test = for_test[\"text\"]\n",
    "y_test = for_test[\"category\"]\n",
    "print(X_test.shape, \"\\n\", y_test.shape)\n",
    "\n",
    "other = cleaned_data_full[~(cleaned_data_full[\"text\"].isin(X_test))]\n",
    "print(other.shape)"
   ]
  },
  {
   "cell_type": "code",
   "execution_count": 27,
   "id": "d11c2663",
   "metadata": {
    "execution": {
     "iopub.execute_input": "2022-06-01T09:42:30.801574Z",
     "iopub.status.busy": "2022-06-01T09:42:30.800927Z",
     "iopub.status.idle": "2022-06-01T09:42:30.815465Z",
     "shell.execute_reply": "2022-06-01T09:42:30.814477Z"
    },
    "id": "viZ1YpLdoIcV",
    "papermill": {
     "duration": 0.058725,
     "end_time": "2022-06-01T09:42:30.817787",
     "exception": false,
     "start_time": "2022-06-01T09:42:30.759062",
     "status": "completed"
    },
    "tags": []
   },
   "outputs": [],
   "source": [
    "def choosing_best_model(main_df: pd.DataFrame, X_val:pd.Series, y_val:pd.Series, num_df=10):\n",
    "  \n",
    "  # splitting for train data\n",
    "  dataframes_for_estim = dict()\n",
    "\n",
    "  # create several dataframes in order to have fairer estimation\n",
    "  for num in range(num_df):\n",
    "    exec(f'estimate_data{num} = main_df.sample(frac=0.04).reset_index(drop=True)')\n",
    "    dataframes_for_estim[num] = f\"estimate_data{num}\"\n",
    "  \n",
    "  # save train and test for different dataframes\n",
    "  train_test_dict = dict()\n",
    "\n",
    "  for key,value in dataframes_for_estim.items():\n",
    "    exec(f\"X_train{key} = eval(value)['text']\")\n",
    "    exec(f\"y_train{key} = eval(value)['category']\")\n",
    "    train_test_dict[key] = tuple((f\"X_train{key}\", f\"y_train{key}\"))\n",
    "  \n",
    "  # create pipelines for each model\n",
    "  tf_idf_vec = TfidfVectorizer()\n",
    "  pipe_dict = list()\n",
    "  \n",
    "  pipelines = [\"logistic_reg\", \"svm\", \"naive_bayes\", \"RF\", \"cat_boost\"]\n",
    "  models = [\"LogisticRegression()\", \"SVC()\", \"MultinomialNB()\", \"RandomForestClassifier()\", \"CatBoostClassifier(logging_level='Silent')\"]\n",
    "\n",
    "  # save pipelines for each model\n",
    "  # eval() allows us to convert string to variable\n",
    "  for num in range(len(pipelines)):\n",
    "    exec(f\"pipe_{pipelines[num]} = Pipeline([('tfidf', TfidfVectorizer()),(pipelines[num], eval(models[num]))])\")\n",
    "    pipe_dict.append(f\"pipe_{pipelines[num]}\")\n",
    "\n",
    "  \n",
    "  # estimating models\n",
    "  accuracy_dict = dict()\n",
    "  f1_dict = dict()\n",
    "  \n",
    "  for i in range(len(models)):\n",
    "    start = time.time()\n",
    "    print(i)\n",
    "    accuracy_list = []\n",
    "    f1_list = []\n",
    "    for j in range(len(train_test_dict)):\n",
    "      # training model\n",
    "      eval(pipe_dict[i]).fit(eval(train_test_dict[j][0]), eval(train_test_dict[j][1]))\n",
    "      # making predictions\n",
    "      pred = eval(pipe_dict[i]).predict(X_val)\n",
    "    \n",
    "      accuracy = accuracy_score(y_val, pred)\n",
    "      accuracy_list.append(accuracy)\n",
    "\n",
    "      f1 = f1_score(y_val, pred)\n",
    "      f1_list.append(f1)\n",
    "\n",
    "    accuracy_dict[pipelines[i]] = accuracy_list\n",
    "    f1_dict[pipelines[i]] = f1_list\n",
    "    stop = time.time()\n",
    "    print(f\"Время обучения {pipelines[i]} составляет {stop - start}\")\n",
    "\n",
    "  return accuracy_dict, f1_dict\n",
    "\n",
    "\n",
    "\n",
    "  "
   ]
  },
  {
   "cell_type": "code",
   "execution_count": 28,
   "id": "0c9b9b8d",
   "metadata": {
    "execution": {
     "iopub.execute_input": "2022-06-01T09:42:30.899520Z",
     "iopub.status.busy": "2022-06-01T09:42:30.899117Z",
     "iopub.status.idle": "2022-06-01T09:42:30.906093Z",
     "shell.execute_reply": "2022-06-01T09:42:30.905506Z"
    },
    "papermill": {
     "duration": 0.049876,
     "end_time": "2022-06-01T09:42:30.907812",
     "exception": false,
     "start_time": "2022-06-01T09:42:30.857936",
     "status": "completed"
    },
    "tags": []
   },
   "outputs": [
    {
     "data": {
      "text/plain": [
       "0       0\n",
       "1       1\n",
       "2       1\n",
       "3       1\n",
       "4       0\n",
       "       ..\n",
       "4795    0\n",
       "4796    0\n",
       "4797    0\n",
       "4798    0\n",
       "4799    1\n",
       "Name: category, Length: 4800, dtype: int64"
      ]
     },
     "execution_count": 28,
     "metadata": {},
     "output_type": "execute_result"
    }
   ],
   "source": [
    "y_test"
   ]
  },
  {
   "cell_type": "code",
   "execution_count": 29,
   "id": "dac9a4b6",
   "metadata": {
    "execution": {
     "iopub.execute_input": "2022-06-01T09:42:30.991407Z",
     "iopub.status.busy": "2022-06-01T09:42:30.990302Z",
     "iopub.status.idle": "2022-06-01T10:21:23.501947Z",
     "shell.execute_reply": "2022-06-01T10:21:23.500842Z"
    },
    "id": "omM72a4QzVVO",
    "papermill": {
     "duration": 2332.593188,
     "end_time": "2022-06-01T10:21:23.542041",
     "exception": false,
     "start_time": "2022-06-01T09:42:30.948853",
     "status": "completed"
    },
    "tags": []
   },
   "outputs": [
    {
     "name": "stdout",
     "output_type": "stream",
     "text": [
      "0\n",
      "Время обучения logistic_reg составляет 11.740012645721436\n",
      "1\n",
      "Время обучения svm составляет 810.0854918956757\n",
      "2\n",
      "Время обучения naive_bayes составляет 3.5837461948394775\n",
      "3\n",
      "Время обучения RF составляет 298.67607259750366\n",
      "4\n",
      "Время обучения cat_boost составляет 1208.2296993732452\n",
      "CPU times: user 1h 11min 35s, sys: 13min 51s, total: 1h 25min 26s\n",
      "Wall time: 38min 52s\n"
     ]
    }
   ],
   "source": [
    "%%time\n",
    "acc, f1_m = choosing_best_model(other, X_test, y_test)\n"
   ]
  },
  {
   "cell_type": "code",
   "execution_count": 30,
   "id": "154d21cc",
   "metadata": {
    "execution": {
     "iopub.execute_input": "2022-06-01T10:21:23.625124Z",
     "iopub.status.busy": "2022-06-01T10:21:23.624072Z",
     "iopub.status.idle": "2022-06-01T10:21:23.630223Z",
     "shell.execute_reply": "2022-06-01T10:21:23.629563Z"
    },
    "papermill": {
     "duration": 0.049301,
     "end_time": "2022-06-01T10:21:23.631932",
     "exception": false,
     "start_time": "2022-06-01T10:21:23.582631",
     "status": "completed"
    },
    "tags": []
   },
   "outputs": [
    {
     "data": {
      "text/plain": [
       "array([0, 1])"
      ]
     },
     "execution_count": 30,
     "metadata": {},
     "output_type": "execute_result"
    }
   ],
   "source": [
    "y_test.unique()"
   ]
  },
  {
   "cell_type": "code",
   "execution_count": 31,
   "id": "7a0a0342",
   "metadata": {
    "execution": {
     "iopub.execute_input": "2022-06-01T10:21:23.716380Z",
     "iopub.status.busy": "2022-06-01T10:21:23.715449Z",
     "iopub.status.idle": "2022-06-01T10:21:23.720261Z",
     "shell.execute_reply": "2022-06-01T10:21:23.719426Z"
    },
    "id": "9DaEkjRowMva",
    "papermill": {
     "duration": 0.049819,
     "end_time": "2022-06-01T10:21:23.722275",
     "exception": false,
     "start_time": "2022-06-01T10:21:23.672456",
     "status": "completed"
    },
    "tags": []
   },
   "outputs": [],
   "source": [
    "# try:\n",
    "#   with open(path + 'accuracy.pickle', 'rb') as f:\n",
    "#     acc = pickle.load(f)\n",
    "# except:\n",
    "#   with open(path + \"accuracy.pickle\", 'wb') as f:\n",
    "#     pickle.dump(acc, f)\n",
    "#   with open(path + 'accuracy.pickle', 'rb') as f:\n",
    "#     acc = pickle.load(f)"
   ]
  },
  {
   "cell_type": "code",
   "execution_count": 32,
   "id": "53a89a15",
   "metadata": {
    "execution": {
     "iopub.execute_input": "2022-06-01T10:21:23.806631Z",
     "iopub.status.busy": "2022-06-01T10:21:23.806126Z",
     "iopub.status.idle": "2022-06-01T10:21:23.811833Z",
     "shell.execute_reply": "2022-06-01T10:21:23.810158Z"
    },
    "id": "SxEvVof0wsw_",
    "papermill": {
     "duration": 0.051834,
     "end_time": "2022-06-01T10:21:23.814166",
     "exception": false,
     "start_time": "2022-06-01T10:21:23.762332",
     "status": "completed"
    },
    "tags": []
   },
   "outputs": [],
   "source": [
    "# try:\n",
    "#   with open(path + 'f1.pickle', 'rb') as f:\n",
    "#     f1_m = pickle.load(f)\n",
    "# except:\n",
    "#   with open(path + \"f1.pickle\", 'wb') as f:\n",
    "#     pickle.dump(f1_m, f)\n",
    "#   with open(path + 'f1.pickle', 'rb') as f:\n",
    "#     f1_m = pickle.load(f)"
   ]
  },
  {
   "cell_type": "code",
   "execution_count": 33,
   "id": "d1de3a44",
   "metadata": {
    "execution": {
     "iopub.execute_input": "2022-06-01T10:21:23.895051Z",
     "iopub.status.busy": "2022-06-01T10:21:23.894654Z",
     "iopub.status.idle": "2022-06-01T10:21:23.907999Z",
     "shell.execute_reply": "2022-06-01T10:21:23.907209Z"
    },
    "id": "8H8PJ4zB1YUu",
    "outputId": "d57a084c-af38-4e7f-c2d3-d53c1a0f91a7",
    "papermill": {
     "duration": 0.056522,
     "end_time": "2022-06-01T10:21:23.911096",
     "exception": false,
     "start_time": "2022-06-01T10:21:23.854574",
     "status": "completed"
    },
    "tags": []
   },
   "outputs": [
    {
     "data": {
      "text/html": [
       "<div>\n",
       "<style scoped>\n",
       "    .dataframe tbody tr th:only-of-type {\n",
       "        vertical-align: middle;\n",
       "    }\n",
       "\n",
       "    .dataframe tbody tr th {\n",
       "        vertical-align: top;\n",
       "    }\n",
       "\n",
       "    .dataframe thead th {\n",
       "        text-align: right;\n",
       "    }\n",
       "</style>\n",
       "<table border=\"1\" class=\"dataframe\">\n",
       "  <thead>\n",
       "    <tr style=\"text-align: right;\">\n",
       "      <th></th>\n",
       "      <th>logistic_reg</th>\n",
       "      <th>svm</th>\n",
       "      <th>naive_bayes</th>\n",
       "      <th>RF</th>\n",
       "      <th>cat_boost</th>\n",
       "    </tr>\n",
       "  </thead>\n",
       "  <tbody>\n",
       "    <tr>\n",
       "      <th>0</th>\n",
       "      <td>0.752267</td>\n",
       "      <td>0.755262</td>\n",
       "      <td>0.735338</td>\n",
       "      <td>0.726295</td>\n",
       "      <td>0.753201</td>\n",
       "    </tr>\n",
       "    <tr>\n",
       "      <th>1</th>\n",
       "      <td>0.750155</td>\n",
       "      <td>0.751126</td>\n",
       "      <td>0.726318</td>\n",
       "      <td>0.738716</td>\n",
       "      <td>0.752705</td>\n",
       "    </tr>\n",
       "    <tr>\n",
       "      <th>2</th>\n",
       "      <td>0.747466</td>\n",
       "      <td>0.749068</td>\n",
       "      <td>0.720106</td>\n",
       "      <td>0.732101</td>\n",
       "      <td>0.749704</td>\n",
       "    </tr>\n",
       "    <tr>\n",
       "      <th>3</th>\n",
       "      <td>0.744785</td>\n",
       "      <td>0.751426</td>\n",
       "      <td>0.720950</td>\n",
       "      <td>0.731697</td>\n",
       "      <td>0.747771</td>\n",
       "    </tr>\n",
       "    <tr>\n",
       "      <th>4</th>\n",
       "      <td>0.753593</td>\n",
       "      <td>0.754038</td>\n",
       "      <td>0.739102</td>\n",
       "      <td>0.737836</td>\n",
       "      <td>0.746085</td>\n",
       "    </tr>\n",
       "  </tbody>\n",
       "</table>\n",
       "</div>"
      ],
      "text/plain": [
       "   logistic_reg       svm  naive_bayes        RF  cat_boost\n",
       "0      0.752267  0.755262     0.735338  0.726295   0.753201\n",
       "1      0.750155  0.751126     0.726318  0.738716   0.752705\n",
       "2      0.747466  0.749068     0.720106  0.732101   0.749704\n",
       "3      0.744785  0.751426     0.720950  0.731697   0.747771\n",
       "4      0.753593  0.754038     0.739102  0.737836   0.746085"
      ]
     },
     "execution_count": 33,
     "metadata": {},
     "output_type": "execute_result"
    }
   ],
   "source": [
    "f1 = pd.DataFrame(f1_m)\n",
    "f1.head()"
   ]
  },
  {
   "cell_type": "code",
   "execution_count": 34,
   "id": "3de4208d",
   "metadata": {
    "execution": {
     "iopub.execute_input": "2022-06-01T10:21:23.993752Z",
     "iopub.status.busy": "2022-06-01T10:21:23.992786Z",
     "iopub.status.idle": "2022-06-01T10:21:24.368600Z",
     "shell.execute_reply": "2022-06-01T10:21:24.367694Z"
    },
    "id": "YVFPcwOBGXPj",
    "outputId": "8088cce0-0407-4ed3-fa37-00f1b8697f96",
    "papermill": {
     "duration": 0.419195,
     "end_time": "2022-06-01T10:21:24.370495",
     "exception": false,
     "start_time": "2022-06-01T10:21:23.951300",
     "status": "completed"
    },
    "tags": []
   },
   "outputs": [
    {
     "data": {
      "text/plain": [
       "<seaborn.axisgrid.FacetGrid at 0x7ffabd441450>"
      ]
     },
     "execution_count": 34,
     "metadata": {},
     "output_type": "execute_result"
    },
    {
     "data": {
      "image/png": "[encoded data removed]",
      "text/plain": [
       "<Figure size 864x432 with 1 Axes>"
      ]
     },
     "metadata": {
      "needs_background": "light"
     },
     "output_type": "display_data"
    }
   ],
   "source": [
    "import matplotlib.pyplot as plt\n",
    "import seaborn as sns\n",
    "sns.catplot(data=f1, height=6, aspect=2, s=10)\n",
    "  "
   ]
  },
  {
   "cell_type": "markdown",
   "id": "32417882",
   "metadata": {
    "id": "8NMIAiUaZEtq",
    "papermill": {
     "duration": 0.039777,
     "end_time": "2022-06-01T10:21:24.450876",
     "exception": false,
     "start_time": "2022-06-01T10:21:24.411099",
     "status": "completed"
    },
    "tags": []
   },
   "source": [
    "We see that the results of logistic regression and support vector machine are close enough but the variance of the latest model is smaller. \n",
    "\n",
    "I choose logistic regression as \"the best model\" as the results are quite well and the speed of fitting is very high."
   ]
  },
  {
   "cell_type": "markdown",
   "id": "1085892e",
   "metadata": {
    "id": "-3g5ClYfFUZ9",
    "papermill": {
     "duration": 0.040285,
     "end_time": "2022-06-01T10:21:24.532103",
     "exception": false,
     "start_time": "2022-06-01T10:21:24.491818",
     "status": "completed"
    },
    "tags": []
   },
   "source": [
    "# Tuning the model"
   ]
  },
  {
   "cell_type": "markdown",
   "id": "461ac422",
   "metadata": {
    "id": "6Q_GXi-etm7Q",
    "papermill": {
     "duration": 0.039427,
     "end_time": "2022-06-01T10:21:24.612300",
     "exception": false,
     "start_time": "2022-06-01T10:21:24.572873",
     "status": "completed"
    },
    "tags": []
   },
   "source": [
    "## Without stopwords"
   ]
  },
  {
   "cell_type": "code",
   "execution_count": 35,
   "id": "0619cf9d",
   "metadata": {
    "execution": {
     "iopub.execute_input": "2022-06-01T10:21:24.693780Z",
     "iopub.status.busy": "2022-06-01T10:21:24.693368Z",
     "iopub.status.idle": "2022-06-01T10:21:24.722741Z",
     "shell.execute_reply": "2022-06-01T10:21:24.721699Z"
    },
    "id": "WzF9sYNXMw6l",
    "outputId": "cb53d664-e224-4bc3-ebab-f141c5498d24",
    "papermill": {
     "duration": 0.072381,
     "end_time": "2022-06-01T10:21:24.724851",
     "exception": false,
     "start_time": "2022-06-01T10:21:24.652470",
     "status": "completed"
    },
    "tags": []
   },
   "outputs": [
    {
     "name": "stdout",
     "output_type": "stream",
     "text": [
      "(18641, 2)\n"
     ]
    },
    {
     "data": {
      "text/html": [
       "<div>\n",
       "<style scoped>\n",
       "    .dataframe tbody tr th:only-of-type {\n",
       "        vertical-align: middle;\n",
       "    }\n",
       "\n",
       "    .dataframe tbody tr th {\n",
       "        vertical-align: top;\n",
       "    }\n",
       "\n",
       "    .dataframe thead th {\n",
       "        text-align: right;\n",
       "    }\n",
       "</style>\n",
       "<table border=\"1\" class=\"dataframe\">\n",
       "  <thead>\n",
       "    <tr style=\"text-align: right;\">\n",
       "      <th></th>\n",
       "      <th>category</th>\n",
       "      <th>text</th>\n",
       "    </tr>\n",
       "  </thead>\n",
       "  <tbody>\n",
       "    <tr>\n",
       "      <th>0</th>\n",
       "      <td>1</td>\n",
       "      <td>tim actually star new red robin series next week</td>\n",
       "    </tr>\n",
       "    <tr>\n",
       "      <th>1</th>\n",
       "      <td>0</td>\n",
       "      <td>even vip ticket yesterday there s way get time...</td>\n",
       "    </tr>\n",
       "    <tr>\n",
       "      <th>2</th>\n",
       "      <td>1</td>\n",
       "      <td>get paper</td>\n",
       "    </tr>\n",
       "    <tr>\n",
       "      <th>3</th>\n",
       "      <td>1</td>\n",
       "      <td>everyone amazing day tomorrowor today lol u fi...</td>\n",
       "    </tr>\n",
       "    <tr>\n",
       "      <th>4</th>\n",
       "      <td>1</td>\n",
       "      <td>tryin 2 get pic upload</td>\n",
       "    </tr>\n",
       "  </tbody>\n",
       "</table>\n",
       "</div>"
      ],
      "text/plain": [
       "   category                                               text\n",
       "0         1   tim actually star new red robin series next week\n",
       "1         0  even vip ticket yesterday there s way get time...\n",
       "2         1                                          get paper\n",
       "3         1  everyone amazing day tomorrowor today lol u fi...\n",
       "4         1                             tryin 2 get pic upload"
      ]
     },
     "execution_count": 35,
     "metadata": {},
     "output_type": "execute_result"
    }
   ],
   "source": [
    "# creating dataset for GridSearch\n",
    "for_grid = other.sample(frac=0.04).reset_index(drop=True)\n",
    "print(for_grid.shape)\n",
    "for_grid.head()"
   ]
  },
  {
   "cell_type": "code",
   "execution_count": 36,
   "id": "b12937f9",
   "metadata": {
    "execution": {
     "iopub.execute_input": "2022-06-01T10:21:24.806111Z",
     "iopub.status.busy": "2022-06-01T10:21:24.805473Z",
     "iopub.status.idle": "2022-06-01T10:21:24.813548Z",
     "shell.execute_reply": "2022-06-01T10:21:24.812575Z"
    },
    "id": "PwotnYT8NE6B",
    "outputId": "2e030d70-66fb-4ed6-c91a-7afc5b74a5ce",
    "papermill": {
     "duration": 0.051185,
     "end_time": "2022-06-01T10:21:24.815553",
     "exception": false,
     "start_time": "2022-06-01T10:21:24.764368",
     "status": "completed"
    },
    "tags": []
   },
   "outputs": [
    {
     "data": {
      "text/plain": [
       "0    1\n",
       "1    0\n",
       "2    1\n",
       "3    1\n",
       "4    1\n",
       "Name: category, dtype: int64"
      ]
     },
     "execution_count": 36,
     "metadata": {},
     "output_type": "execute_result"
    }
   ],
   "source": [
    "for_grid_X = for_grid[\"text\"]\n",
    "for_grid_y = for_grid[\"category\"]\n",
    "\n",
    "for_grid_y.head()\n"
   ]
  },
  {
   "cell_type": "code",
   "execution_count": 37,
   "id": "145387dc",
   "metadata": {
    "execution": {
     "iopub.execute_input": "2022-06-01T10:21:24.899274Z",
     "iopub.status.busy": "2022-06-01T10:21:24.898147Z",
     "iopub.status.idle": "2022-06-01T10:21:24.906367Z",
     "shell.execute_reply": "2022-06-01T10:21:24.905575Z"
    },
    "id": "DHFZoowOlPDv",
    "outputId": "046018ea-c4b0-4d90-e2e9-0ad6f5539e88",
    "papermill": {
     "duration": 0.052081,
     "end_time": "2022-06-01T10:21:24.908152",
     "exception": false,
     "start_time": "2022-06-01T10:21:24.856071",
     "status": "completed"
    },
    "tags": []
   },
   "outputs": [
    {
     "data": {
      "text/plain": [
       "0     tim actually star new red robin series next week\n",
       "1    even vip ticket yesterday there s way get time...\n",
       "2                                            get paper\n",
       "3    everyone amazing day tomorrowor today lol u fi...\n",
       "4                               tryin 2 get pic upload\n",
       "Name: text, dtype: object"
      ]
     },
     "execution_count": 37,
     "metadata": {},
     "output_type": "execute_result"
    }
   ],
   "source": [
    "for_grid_X.head()"
   ]
  },
  {
   "cell_type": "code",
   "execution_count": 38,
   "id": "4b3b40d9",
   "metadata": {
    "execution": {
     "iopub.execute_input": "2022-06-01T10:21:24.992377Z",
     "iopub.status.busy": "2022-06-01T10:21:24.991607Z",
     "iopub.status.idle": "2022-06-01T10:21:25.079758Z",
     "shell.execute_reply": "2022-06-01T10:21:25.078630Z"
    },
    "id": "xEvPCXFemxZ1",
    "outputId": "fc393247-225d-4082-be5e-e466185ff893",
    "papermill": {
     "duration": 0.13254,
     "end_time": "2022-06-01T10:21:25.082073",
     "exception": false,
     "start_time": "2022-06-01T10:21:24.949533",
     "status": "completed"
    },
    "tags": []
   },
   "outputs": [
    {
     "name": "stdout",
     "output_type": "stream",
     "text": [
      "(336000,) (336000,) \n",
      " (144000,) (144000,)\n"
     ]
    }
   ],
   "source": [
    "cleaned_data_full_X = cleaned_data_full[\"text\"]\n",
    "cleaned_data_full_y = cleaned_data_full[\"category\"]\n",
    "\n",
    "cleaned_data_full_X_train, cleaned_data_full_X_test, cleaned_data_full_y_train, cleaned_data_full_y_test = train_test_split(cleaned_data_full_X,\\\n",
    "                                                                                                        cleaned_data_full_y, test_size=0.3, random_state=0)\n",
    "print(cleaned_data_full_X_train.shape, cleaned_data_full_y_train.shape,\"\\n\", cleaned_data_full_X_test.shape, cleaned_data_full_y_test.shape)\n"
   ]
  },
  {
   "cell_type": "code",
   "execution_count": 39,
   "id": "278596e3",
   "metadata": {
    "execution": {
     "iopub.execute_input": "2022-06-01T10:21:25.183672Z",
     "iopub.status.busy": "2022-06-01T10:21:25.182971Z",
     "iopub.status.idle": "2022-06-01T10:21:25.269626Z",
     "shell.execute_reply": "2022-06-01T10:21:25.268704Z"
    },
    "id": "sztf4BjwN6tw",
    "outputId": "e781b3aa-97b9-4037-8fe7-dfec014b486b",
    "papermill": {
     "duration": 0.14087,
     "end_time": "2022-06-01T10:21:25.271899",
     "exception": false,
     "start_time": "2022-06-01T10:21:25.131029",
     "status": "completed"
    },
    "tags": []
   },
   "outputs": [
    {
     "name": "stdout",
     "output_type": "stream",
     "text": [
      "(336000,) (336000,) \n",
      " (144000,) (144000,)\n"
     ]
    }
   ],
   "source": [
    "not_full_cleaned_data_X = not_full_cleaned_data[\"text\"]\n",
    "not_full_cleaned_data_y = not_full_cleaned_data[\"category\"]\n",
    "\n",
    "not_full_cleaned_data_X_train, not_full_cleaned_data_X_test, not_full_cleaned_data_y_train, not_full_cleaned_data_y_test = train_test_split(not_full_cleaned_data_X,\\\n",
    "                                                                                                        not_full_cleaned_data_y, test_size=0.3, random_state=0)\n",
    "print(not_full_cleaned_data_X_train.shape, not_full_cleaned_data_y_train.shape,\"\\n\", not_full_cleaned_data_X_test.shape, not_full_cleaned_data_y_test.shape)\n"
   ]
  },
  {
   "cell_type": "markdown",
   "id": "c8aefcad",
   "metadata": {
    "id": "GmhEclQAMlY9",
    "papermill": {
     "duration": 0.041441,
     "end_time": "2022-06-01T10:21:25.355213",
     "exception": false,
     "start_time": "2022-06-01T10:21:25.313772",
     "status": "completed"
    },
    "tags": []
   },
   "source": [
    "### Logistic regression"
   ]
  },
  {
   "cell_type": "markdown",
   "id": "791255ad",
   "metadata": {
    "id": "qOAjvLgsaeZU",
    "papermill": {
     "duration": 0.042834,
     "end_time": "2022-06-01T10:21:25.439576",
     "exception": false,
     "start_time": "2022-06-01T10:21:25.396742",
     "status": "completed"
    },
    "tags": []
   },
   "source": [
    "Firstly we have to find the best hyperparametes of the algorithm"
   ]
  },
  {
   "cell_type": "code",
   "execution_count": 40,
   "id": "9aa06d21",
   "metadata": {
    "execution": {
     "iopub.execute_input": "2022-06-01T10:21:25.523942Z",
     "iopub.status.busy": "2022-06-01T10:21:25.523546Z",
     "iopub.status.idle": "2022-06-01T10:33:50.891113Z",
     "shell.execute_reply": "2022-06-01T10:33:50.890058Z"
    },
    "id": "6i-NPeFkFRTd",
    "papermill": {
     "duration": 745.508669,
     "end_time": "2022-06-01T10:33:50.990076",
     "exception": false,
     "start_time": "2022-06-01T10:21:25.481407",
     "status": "completed"
    },
    "tags": []
   },
   "outputs": [
    {
     "name": "stdout",
     "output_type": "stream",
     "text": [
      "CPU times: user 20min 40s, sys: 25min 57s, total: 46min 38s\n",
      "Wall time: 12min 25s\n"
     ]
    },
    {
     "data": {
      "text/plain": [
       "GridSearchCV(cv=5,\n",
       "             estimator=Pipeline(steps=[('tfidf', TfidfVectorizer()),\n",
       "                                       ('logistic_clf', LogisticRegression())]),\n",
       "             param_grid={'logistic_clf__C': [1, 10, 100, 500],\n",
       "                         'logistic_clf__max_iter': [500, 200, 1000, 2000],\n",
       "                         'logistic_clf__penalty': ['none', 'elasticnet']},\n",
       "             scoring='f1')"
      ]
     },
     "execution_count": 40,
     "metadata": {},
     "output_type": "execute_result"
    }
   ],
   "source": [
    "%%time\n",
    "# IT'S IMPORTANT TO USE THE NAME OF A MODEL FROM PIPELINE + __ + a parameter name !!!!!!!!!!!!!\n",
    "pipe_log = Pipeline([(\"tfidf\", TfidfVectorizer()),\n",
    "                    (\"logistic_clf\", LogisticRegression())])\n",
    "log_param = {\"logistic_clf__penalty\": [\"none\",\"elasticnet\"],\n",
    "             \"logistic_clf__C\": [1, 10, 100, 500],\n",
    "             \"logistic_clf__max_iter\": [500, 200, 1000, 2000]}\n",
    "\n",
    "log_grid = GridSearchCV(pipe_log, log_param, scoring=\"f1\", cv=5)\n",
    "log_grid.fit(for_grid_X, for_grid_y)"
   ]
  },
  {
   "cell_type": "code",
   "execution_count": 41,
   "id": "28bb7dab",
   "metadata": {
    "execution": {
     "iopub.execute_input": "2022-06-01T10:33:51.079265Z",
     "iopub.status.busy": "2022-06-01T10:33:51.078878Z",
     "iopub.status.idle": "2022-06-01T10:33:51.084892Z",
     "shell.execute_reply": "2022-06-01T10:33:51.084020Z"
    },
    "id": "mzttVG3JNP4i",
    "papermill": {
     "duration": 0.053271,
     "end_time": "2022-06-01T10:33:51.086731",
     "exception": false,
     "start_time": "2022-06-01T10:33:51.033460",
     "status": "completed"
    },
    "tags": []
   },
   "outputs": [
    {
     "data": {
      "text/plain": [
       "0.6450559740463807"
      ]
     },
     "execution_count": 41,
     "metadata": {},
     "output_type": "execute_result"
    }
   ],
   "source": [
    "log_grid.best_score_"
   ]
  },
  {
   "cell_type": "code",
   "execution_count": 42,
   "id": "7d79ff1c",
   "metadata": {
    "execution": {
     "iopub.execute_input": "2022-06-01T10:33:51.176465Z",
     "iopub.status.busy": "2022-06-01T10:33:51.175855Z",
     "iopub.status.idle": "2022-06-01T10:33:51.182319Z",
     "shell.execute_reply": "2022-06-01T10:33:51.181627Z"
    },
    "id": "5OUIZCaBWK2m",
    "papermill": {
     "duration": 0.054241,
     "end_time": "2022-06-01T10:33:51.184259",
     "exception": false,
     "start_time": "2022-06-01T10:33:51.130018",
     "status": "completed"
    },
    "tags": []
   },
   "outputs": [
    {
     "data": {
      "text/plain": [
       "{'logistic_clf__C': 1,\n",
       " 'logistic_clf__max_iter': 200,\n",
       " 'logistic_clf__penalty': 'none'}"
      ]
     },
     "execution_count": 42,
     "metadata": {},
     "output_type": "execute_result"
    }
   ],
   "source": [
    "log_grid.best_params_"
   ]
  },
  {
   "cell_type": "code",
   "execution_count": 43,
   "id": "755e1916",
   "metadata": {
    "execution": {
     "iopub.execute_input": "2022-06-01T10:33:51.276716Z",
     "iopub.status.busy": "2022-06-01T10:33:51.276295Z",
     "iopub.status.idle": "2022-06-01T10:34:24.945241Z",
     "shell.execute_reply": "2022-06-01T10:34:24.944101Z"
    },
    "id": "eCOnsodGkz_-",
    "outputId": "42b16745-2f45-4b92-d750-ffc097c539c6",
    "papermill": {
     "duration": 33.794351,
     "end_time": "2022-06-01T10:34:25.022346",
     "exception": false,
     "start_time": "2022-06-01T10:33:51.227995",
     "status": "completed"
    },
    "tags": []
   },
   "outputs": [
    {
     "name": "stdout",
     "output_type": "stream",
     "text": [
      "CPU times: user 57.5 s, sys: 58.2 s, total: 1min 55s\n",
      "Wall time: 33.6 s\n"
     ]
    },
    {
     "data": {
      "text/plain": [
       "Pipeline(steps=[('tfidf', TfidfVectorizer()),\n",
       "                ('logistic_clf',\n",
       "                 LogisticRegression(C=1, max_iter=200, penalty='none'))])"
      ]
     },
     "execution_count": 43,
     "metadata": {},
     "output_type": "execute_result"
    }
   ],
   "source": [
    "%%time\n",
    "best_log_pipe = Pipeline([(\"tfidf\", TfidfVectorizer()),\n",
    "             (\"logistic_clf\", LogisticRegression(penalty='none', C=1, max_iter=200))])\n",
    "best_log_pipe.fit(cleaned_data_full_X_train, cleaned_data_full_y_train)"
   ]
  },
  {
   "cell_type": "code",
   "execution_count": 44,
   "id": "a70ea25b",
   "metadata": {
    "execution": {
     "iopub.execute_input": "2022-06-01T10:34:25.110967Z",
     "iopub.status.busy": "2022-06-01T10:34:25.110538Z",
     "iopub.status.idle": "2022-06-01T10:34:27.142265Z",
     "shell.execute_reply": "2022-06-01T10:34:27.141205Z"
    },
    "id": "BaKkGu5_m9om",
    "papermill": {
     "duration": 2.079511,
     "end_time": "2022-06-01T10:34:27.145131",
     "exception": false,
     "start_time": "2022-06-01T10:34:25.065620",
     "status": "completed"
    },
    "tags": []
   },
   "outputs": [],
   "source": [
    "pred = best_log_pipe.predict(cleaned_data_full_X_test)\n",
    "\n",
    "f1_best_log = f1_score(cleaned_data_full_y_test, pred)"
   ]
  },
  {
   "cell_type": "code",
   "execution_count": 45,
   "id": "65f16884",
   "metadata": {
    "execution": {
     "iopub.execute_input": "2022-06-01T10:34:27.235367Z",
     "iopub.status.busy": "2022-06-01T10:34:27.234366Z",
     "iopub.status.idle": "2022-06-01T10:34:29.425400Z",
     "shell.execute_reply": "2022-06-01T10:34:29.424444Z"
    },
    "id": "uEh2uR65rMw4",
    "outputId": "8f3d55d0-fbf3-4488-b942-be7266048b30",
    "papermill": {
     "duration": 2.238416,
     "end_time": "2022-06-01T10:34:29.427551",
     "exception": false,
     "start_time": "2022-06-01T10:34:27.189135",
     "status": "completed"
    },
    "tags": []
   },
   "outputs": [
    {
     "data": {
      "text/plain": [
       "<sklearn.metrics._plot.confusion_matrix.ConfusionMatrixDisplay at 0x7ffabd9c1890>"
      ]
     },
     "execution_count": 45,
     "metadata": {},
     "output_type": "execute_result"
    },
    {
     "data": {
      "image/png": "[encoded data removed]",
      "text/plain": [
       "<Figure size 432x288 with 2 Axes>"
      ]
     },
     "metadata": {
      "needs_background": "light"
     },
     "output_type": "display_data"
    }
   ],
   "source": [
    "plot_confusion_matrix(best_log_pipe, cleaned_data_full_X_test, cleaned_data_full_y_test)"
   ]
  },
  {
   "cell_type": "code",
   "execution_count": 46,
   "id": "fac35ad8",
   "metadata": {
    "execution": {
     "iopub.execute_input": "2022-06-01T10:34:29.518031Z",
     "iopub.status.busy": "2022-06-01T10:34:29.517311Z",
     "iopub.status.idle": "2022-06-01T10:34:29.827947Z",
     "shell.execute_reply": "2022-06-01T10:34:29.826850Z"
    },
    "id": "I5G6xaBFsxwj",
    "outputId": "0ea1f89d-2209-4b09-f7ea-97b7f9611063",
    "papermill": {
     "duration": 0.358852,
     "end_time": "2022-06-01T10:34:29.830386",
     "exception": false,
     "start_time": "2022-06-01T10:34:29.471534",
     "status": "completed"
    },
    "tags": []
   },
   "outputs": [
    {
     "name": "stdout",
     "output_type": "stream",
     "text": [
      "              precision    recall  f1-score   support\n",
      "\n",
      "           0       0.75      0.73      0.74     71799\n",
      "           1       0.74      0.76      0.75     72201\n",
      "\n",
      "    accuracy                           0.75    144000\n",
      "   macro avg       0.75      0.75      0.75    144000\n",
      "weighted avg       0.75      0.75      0.75    144000\n",
      "\n"
     ]
    }
   ],
   "source": [
    "print(classification_report(cleaned_data_full_y_test, pred))"
   ]
  },
  {
   "cell_type": "markdown",
   "id": "c48fd944",
   "metadata": {
    "id": "H29gFNJ7alii",
    "papermill": {
     "duration": 0.044463,
     "end_time": "2022-06-01T10:34:29.918875",
     "exception": false,
     "start_time": "2022-06-01T10:34:29.874412",
     "status": "completed"
    },
    "tags": []
   },
   "source": [
    "Let's try to change the threshold and see whether the result is improved."
   ]
  },
  {
   "cell_type": "code",
   "execution_count": 47,
   "id": "8f6fdae2",
   "metadata": {
    "execution": {
     "iopub.execute_input": "2022-06-01T10:34:30.009881Z",
     "iopub.status.busy": "2022-06-01T10:34:30.009471Z",
     "iopub.status.idle": "2022-06-01T10:34:30.017285Z",
     "shell.execute_reply": "2022-06-01T10:34:30.016283Z"
    },
    "id": "XRNbI6VJUi-w",
    "papermill": {
     "duration": 0.056297,
     "end_time": "2022-06-01T10:34:30.019471",
     "exception": false,
     "start_time": "2022-06-01T10:34:29.963174",
     "status": "completed"
    },
    "tags": []
   },
   "outputs": [],
   "source": [
    "threshs = np.arange(0.0, 1.0, 0.1)\n",
    "def searching_for_best_thresh(X_train, y_train, X_test, y_test, thresh_list):\n",
    "  log = Pipeline([(\"tfidf\", TfidfVectorizer()),\n",
    "             (\"logistic_clf\", LogisticRegression(penalty='none', C=1, max_iter=200))])\n",
    "  log.fit(X_train, y_train)\n",
    "  \n",
    "  max_f1 = 0\n",
    "  \n",
    "  for thresh in tqdm(thresh_list):\n",
    "    pred = np.where(log.predict_proba(X_test)[:,1] > thresh, 1, 0)\n",
    "    f1 = f1_score(y_test, pred)\n",
    "    if f1 > max_f1:\n",
    "      max_f1 = f1\n",
    "      best_thresh = thresh\n",
    "  return (max_f1, best_thresh)"
   ]
  },
  {
   "cell_type": "code",
   "execution_count": 48,
   "id": "137e627b",
   "metadata": {
    "execution": {
     "iopub.execute_input": "2022-06-01T10:34:30.111931Z",
     "iopub.status.busy": "2022-06-01T10:34:30.111495Z",
     "iopub.status.idle": "2022-06-01T10:35:24.783863Z",
     "shell.execute_reply": "2022-06-01T10:35:24.782768Z"
    },
    "id": "ZyEEOqR6OdeU",
    "outputId": "baa9f682-c54f-48b0-8ec5-f7702950d0d8",
    "papermill": {
     "duration": 54.723568,
     "end_time": "2022-06-01T10:35:24.788813",
     "exception": false,
     "start_time": "2022-06-01T10:34:30.065245",
     "status": "completed"
    },
    "tags": []
   },
   "outputs": [
    {
     "name": "stderr",
     "output_type": "stream",
     "text": [
      "100%|██████████| 10/10 [00:20<00:00,  2.03s/it]"
     ]
    },
    {
     "name": "stdout",
     "output_type": "stream",
     "text": [
      "CPU times: user 1min 18s, sys: 1min, total: 2min 18s\n",
      "Wall time: 54.7 s\n"
     ]
    },
    {
     "name": "stderr",
     "output_type": "stream",
     "text": [
      "\n"
     ]
    }
   ],
   "source": [
    "%%time\n",
    "best_thresh, max_f1 = searching_for_best_thresh(cleaned_data_full_X_train, cleaned_data_full_y_train, cleaned_data_full_X_test, cleaned_data_full_y_test,\\\n",
    "                                        threshs)\n"
   ]
  },
  {
   "cell_type": "code",
   "execution_count": 49,
   "id": "932f3935",
   "metadata": {
    "execution": {
     "iopub.execute_input": "2022-06-01T10:35:24.881577Z",
     "iopub.status.busy": "2022-06-01T10:35:24.880814Z",
     "iopub.status.idle": "2022-06-01T10:35:24.887560Z",
     "shell.execute_reply": "2022-06-01T10:35:24.886632Z"
    },
    "id": "qIYGcBl0Q62E",
    "outputId": "0d849547-994d-4b63-b0e4-8b48c678036c",
    "papermill": {
     "duration": 0.055073,
     "end_time": "2022-06-01T10:35:24.889449",
     "exception": false,
     "start_time": "2022-06-01T10:35:24.834376",
     "status": "completed"
    },
    "tags": []
   },
   "outputs": [
    {
     "data": {
      "text/plain": [
       "0.7603575525929925"
      ]
     },
     "execution_count": 49,
     "metadata": {},
     "output_type": "execute_result"
    }
   ],
   "source": [
    "best_thresh"
   ]
  },
  {
   "cell_type": "code",
   "execution_count": 50,
   "id": "514cb655",
   "metadata": {
    "execution": {
     "iopub.execute_input": "2022-06-01T10:35:24.980902Z",
     "iopub.status.busy": "2022-06-01T10:35:24.980023Z",
     "iopub.status.idle": "2022-06-01T10:35:24.985242Z",
     "shell.execute_reply": "2022-06-01T10:35:24.984606Z"
    },
    "id": "LCaTUEyOQSSj",
    "outputId": "4da41d5b-a522-4f93-d477-0ca6dbebe7ef",
    "papermill": {
     "duration": 0.052865,
     "end_time": "2022-06-01T10:35:24.986898",
     "exception": false,
     "start_time": "2022-06-01T10:35:24.934033",
     "status": "completed"
    },
    "tags": []
   },
   "outputs": [
    {
     "data": {
      "text/plain": [
       "0.30000000000000004"
      ]
     },
     "execution_count": 50,
     "metadata": {},
     "output_type": "execute_result"
    }
   ],
   "source": [
    "max_f1"
   ]
  },
  {
   "cell_type": "markdown",
   "id": "356a60db",
   "metadata": {
    "id": "xjhxq93pF2n9",
    "papermill": {
     "duration": 0.04468,
     "end_time": "2022-06-01T10:35:25.076117",
     "exception": false,
     "start_time": "2022-06-01T10:35:25.031437",
     "status": "completed"
    },
    "tags": []
   },
   "source": [
    "## With stopwords"
   ]
  },
  {
   "cell_type": "code",
   "execution_count": 51,
   "id": "25f3dd74",
   "metadata": {
    "execution": {
     "iopub.execute_input": "2022-06-01T10:35:25.167940Z",
     "iopub.status.busy": "2022-06-01T10:35:25.167511Z",
     "iopub.status.idle": "2022-06-01T10:36:01.664073Z",
     "shell.execute_reply": "2022-06-01T10:36:01.662814Z"
    },
    "id": "o2bW5aub41R5",
    "outputId": "5ed59279-e766-4ea1-b9a1-520b42f7d201",
    "papermill": {
     "duration": 36.63584,
     "end_time": "2022-06-01T10:36:01.757314",
     "exception": false,
     "start_time": "2022-06-01T10:35:25.121474",
     "status": "completed"
    },
    "tags": []
   },
   "outputs": [
    {
     "name": "stdout",
     "output_type": "stream",
     "text": [
      "CPU times: user 1min 1s, sys: 1min, total: 2min 1s\n",
      "Wall time: 36.5 s\n"
     ]
    },
    {
     "data": {
      "text/plain": [
       "Pipeline(steps=[('tfidf', TfidfVectorizer()),\n",
       "                ('logistic_clf',\n",
       "                 LogisticRegression(C=1, max_iter=200, penalty='none'))])"
      ]
     },
     "execution_count": 51,
     "metadata": {},
     "output_type": "execute_result"
    }
   ],
   "source": [
    "%%time\n",
    "best_log_pipe_with_sw = Pipeline([(\"tfidf\", TfidfVectorizer()),\n",
    "             (\"logistic_clf\", LogisticRegression(penalty='none', C=1, max_iter=200))])\n",
    "best_log_pipe_with_sw.fit(not_full_cleaned_data_X_train, not_full_cleaned_data_y_train)"
   ]
  },
  {
   "cell_type": "code",
   "execution_count": 52,
   "id": "c1c9ce26",
   "metadata": {
    "execution": {
     "iopub.execute_input": "2022-06-01T10:36:01.849558Z",
     "iopub.status.busy": "2022-06-01T10:36:01.848456Z",
     "iopub.status.idle": "2022-06-01T10:36:04.642357Z",
     "shell.execute_reply": "2022-06-01T10:36:04.641367Z"
    },
    "id": "Z2iYSUb-OnYD",
    "papermill": {
     "duration": 2.842574,
     "end_time": "2022-06-01T10:36:04.644624",
     "exception": false,
     "start_time": "2022-06-01T10:36:01.802050",
     "status": "completed"
    },
    "tags": []
   },
   "outputs": [],
   "source": [
    "pred_with_sw = best_log_pipe_with_sw.predict(not_full_cleaned_data_X_test)\n",
    "\n",
    "f1_best_log_with_sw = f1_score(not_full_cleaned_data_y_test, pred_with_sw)"
   ]
  },
  {
   "cell_type": "code",
   "execution_count": 53,
   "id": "3da2e1ff",
   "metadata": {
    "execution": {
     "iopub.execute_input": "2022-06-01T10:36:04.736431Z",
     "iopub.status.busy": "2022-06-01T10:36:04.735798Z",
     "iopub.status.idle": "2022-06-01T10:36:07.778362Z",
     "shell.execute_reply": "2022-06-01T10:36:07.777409Z"
    },
    "id": "2RX1ORuqOysr",
    "outputId": "1c8bc9e6-421c-45e7-d346-370dc1616925",
    "papermill": {
     "duration": 3.090528,
     "end_time": "2022-06-01T10:36:07.780375",
     "exception": false,
     "start_time": "2022-06-01T10:36:04.689847",
     "status": "completed"
    },
    "tags": []
   },
   "outputs": [
    {
     "data": {
      "text/plain": [
       "<sklearn.metrics._plot.confusion_matrix.ConfusionMatrixDisplay at 0x7ffabd9c1410>"
      ]
     },
     "execution_count": 53,
     "metadata": {},
     "output_type": "execute_result"
    },
    {
     "data": {
      "image/png": "[encoded data removed]",
      "text/plain": [
       "<Figure size 432x288 with 2 Axes>"
      ]
     },
     "metadata": {
      "needs_background": "light"
     },
     "output_type": "display_data"
    }
   ],
   "source": [
    "plot_confusion_matrix(best_log_pipe_with_sw, not_full_cleaned_data_X_test, not_full_cleaned_data_y_test)"
   ]
  },
  {
   "cell_type": "code",
   "execution_count": 54,
   "id": "52b07078",
   "metadata": {
    "execution": {
     "iopub.execute_input": "2022-06-01T10:36:07.876306Z",
     "iopub.status.busy": "2022-06-01T10:36:07.875652Z",
     "iopub.status.idle": "2022-06-01T10:36:07.882610Z",
     "shell.execute_reply": "2022-06-01T10:36:07.881935Z"
    },
    "id": "KA9VegAlUyPO",
    "outputId": "1e22fbd2-11b9-47f3-9079-4822af2d403b",
    "papermill": {
     "duration": 0.05697,
     "end_time": "2022-06-01T10:36:07.884311",
     "exception": false,
     "start_time": "2022-06-01T10:36:07.827341",
     "status": "completed"
    },
    "tags": []
   },
   "outputs": [
    {
     "data": {
      "text/plain": [
       "433741                      yeah thank go home today though\n",
       "5472                                     I call she say now\n",
       "475048    bowling at 300 and the only single girl in my ...\n",
       "242080    sound like an excellent weekend except for wor...\n",
       "199089                                 YAY Glad you like em\n",
       "                                ...                        \n",
       "193520                              aww wrong spelling fete\n",
       "130591    ahh I too he be my fave though the name kinda ...\n",
       "357509    wisdom 4uskeptical annoy undecided uneasy or h...\n",
       "381694               do not stop Believin Glee Cast love it\n",
       "185377    I need to get my workout on tomorrow morning I...\n",
       "Name: text, Length: 144000, dtype: object"
      ]
     },
     "execution_count": 54,
     "metadata": {},
     "output_type": "execute_result"
    }
   ],
   "source": [
    "not_full_cleaned_data_X_test"
   ]
  },
  {
   "cell_type": "code",
   "execution_count": 55,
   "id": "8de94c74",
   "metadata": {
    "execution": {
     "iopub.execute_input": "2022-06-01T10:36:07.976721Z",
     "iopub.status.busy": "2022-06-01T10:36:07.976091Z",
     "iopub.status.idle": "2022-06-01T10:36:08.279889Z",
     "shell.execute_reply": "2022-06-01T10:36:08.279185Z"
    },
    "id": "UfEj2A7cO38Z",
    "outputId": "b4036b00-76ff-4962-84b7-0ec1753add0c",
    "papermill": {
     "duration": 0.352388,
     "end_time": "2022-06-01T10:36:08.282002",
     "exception": false,
     "start_time": "2022-06-01T10:36:07.929614",
     "status": "completed"
    },
    "tags": []
   },
   "outputs": [
    {
     "name": "stdout",
     "output_type": "stream",
     "text": [
      "              precision    recall  f1-score   support\n",
      "\n",
      "           0       0.77      0.76      0.76     71799\n",
      "           1       0.76      0.77      0.77     72201\n",
      "\n",
      "    accuracy                           0.76    144000\n",
      "   macro avg       0.76      0.76      0.76    144000\n",
      "weighted avg       0.76      0.76      0.76    144000\n",
      "\n"
     ]
    }
   ],
   "source": [
    "print(classification_report(not_full_cleaned_data_y_test, pred_with_sw))"
   ]
  },
  {
   "cell_type": "code",
   "execution_count": 56,
   "id": "d940f2fa",
   "metadata": {
    "execution": {
     "iopub.execute_input": "2022-06-01T10:36:08.374481Z",
     "iopub.status.busy": "2022-06-01T10:36:08.373845Z",
     "iopub.status.idle": "2022-06-01T10:37:13.300956Z",
     "shell.execute_reply": "2022-06-01T10:37:13.299781Z"
    },
    "id": "J0CNR9lDYZo_",
    "outputId": "7894b3dc-8121-407d-c688-724b963c332f",
    "papermill": {
     "duration": 64.976251,
     "end_time": "2022-06-01T10:37:13.303565",
     "exception": false,
     "start_time": "2022-06-01T10:36:08.327314",
     "status": "completed"
    },
    "tags": []
   },
   "outputs": [
    {
     "name": "stderr",
     "output_type": "stream",
     "text": [
      "100%|██████████| 10/10 [00:27<00:00,  2.75s/it]"
     ]
    },
    {
     "name": "stdout",
     "output_type": "stream",
     "text": [
      "CPU times: user 1min 30s, sys: 1min 2s, total: 2min 32s\n",
      "Wall time: 1min 4s\n"
     ]
    },
    {
     "name": "stderr",
     "output_type": "stream",
     "text": [
      "\n"
     ]
    }
   ],
   "source": [
    "%%time\n",
    "best_thresh_with_sw, max_f1_with_sw = searching_for_best_thresh(not_full_cleaned_data_X_train, not_full_cleaned_data_y_train, not_full_cleaned_data_X_test, not_full_cleaned_data_y_test,\\\n",
    "                                        threshs)\n"
   ]
  },
  {
   "cell_type": "code",
   "execution_count": 57,
   "id": "46329236",
   "metadata": {
    "execution": {
     "iopub.execute_input": "2022-06-01T10:37:13.399681Z",
     "iopub.status.busy": "2022-06-01T10:37:13.398748Z",
     "iopub.status.idle": "2022-06-01T10:37:13.405431Z",
     "shell.execute_reply": "2022-06-01T10:37:13.404559Z"
    },
    "id": "l38b-D4yZohk",
    "outputId": "2b528c2c-e435-4c19-f18a-354231e39de2",
    "papermill": {
     "duration": 0.056821,
     "end_time": "2022-06-01T10:37:13.407333",
     "exception": false,
     "start_time": "2022-06-01T10:37:13.350512",
     "status": "completed"
    },
    "tags": []
   },
   "outputs": [
    {
     "data": {
      "text/plain": [
       "0.7729738144907682"
      ]
     },
     "execution_count": 57,
     "metadata": {},
     "output_type": "execute_result"
    }
   ],
   "source": [
    "best_thresh_with_sw"
   ]
  },
  {
   "cell_type": "code",
   "execution_count": 58,
   "id": "06148a60",
   "metadata": {
    "execution": {
     "iopub.execute_input": "2022-06-01T10:37:13.503198Z",
     "iopub.status.busy": "2022-06-01T10:37:13.502443Z",
     "iopub.status.idle": "2022-06-01T10:37:13.507745Z",
     "shell.execute_reply": "2022-06-01T10:37:13.507100Z"
    },
    "id": "1dNDPPXcbB11",
    "outputId": "2df970d5-21c6-4281-b5fc-f1658605da07",
    "papermill": {
     "duration": 0.055227,
     "end_time": "2022-06-01T10:37:13.509498",
     "exception": false,
     "start_time": "2022-06-01T10:37:13.454271",
     "status": "completed"
    },
    "tags": []
   },
   "outputs": [
    {
     "data": {
      "text/plain": [
       "0.30000000000000004"
      ]
     },
     "execution_count": 58,
     "metadata": {},
     "output_type": "execute_result"
    }
   ],
   "source": [
    "max_f1_with_sw"
   ]
  },
  {
   "cell_type": "markdown",
   "id": "78ad24b5",
   "metadata": {
    "id": "wTt3Gy19a1I8",
    "papermill": {
     "duration": 0.048123,
     "end_time": "2022-06-01T10:37:13.605281",
     "exception": false,
     "start_time": "2022-06-01T10:37:13.557158",
     "status": "completed"
    },
    "tags": []
   },
   "source": [
    "# Conclusion"
   ]
  },
  {
   "cell_type": "markdown",
   "id": "25252d58",
   "metadata": {
    "id": "HUX_muhda--Z",
    "papermill": {
     "duration": 0.048149,
     "end_time": "2022-06-01T10:37:13.700667",
     "exception": false,
     "start_time": "2022-06-01T10:37:13.652518",
     "status": "completed"
    },
    "tags": []
   },
   "source": [
    "It's true that the f1-score of the model based on corpus with stopwords is a litle bit higher than without stopwords. The difference is anout 0.1.\n",
    "\n",
    "To imrove the performace we should try to reduce the amount of dimensions and feed the data to more advanced models like Gradient boosting. In addition, one can try to use special libraries which deal with tweets and compare data cleaning/preprocessing with the used libraries in this notebook."
   ]
  },
  {
   "cell_type": "code",
   "execution_count": null,
   "id": "8f109061",
   "metadata": {
    "papermill": {
     "duration": 0.046604,
     "end_time": "2022-06-01T10:37:13.794659",
     "exception": false,
     "start_time": "2022-06-01T10:37:13.748055",
     "status": "completed"
    },
    "tags": []
   },
   "outputs": [],
   "source": []
  },
  {
   "cell_type": "code",
   "execution_count": null,
   "id": "7054cf07",
   "metadata": {
    "papermill": {
     "duration": 0.046839,
     "end_time": "2022-06-01T10:37:13.890080",
     "exception": false,
     "start_time": "2022-06-01T10:37:13.843241",
     "status": "completed"
    },
    "tags": []
   },
   "outputs": [],
   "source": []
  },
  {
   "cell_type": "code",
   "execution_count": null,
   "id": "d2a9c37f",
   "metadata": {
    "papermill": {
     "duration": 0.046543,
     "end_time": "2022-06-01T10:37:13.983475",
     "exception": false,
     "start_time": "2022-06-01T10:37:13.936932",
     "status": "completed"
    },
    "tags": []
   },
   "outputs": [],
   "source": []
  }
 ],
 "metadata": {
  "kernelspec": {
   "display_name": "Python 3",
   "language": "python",
   "name": "python3"
  },
  "language_info": {
   "codemirror_mode": {
    "name": "ipython",
    "version": 3
   },
   "file_extension": ".py",
   "mimetype": "text/x-python",
   "name": "python",
   "nbconvert_exporter": "python",
   "pygments_lexer": "ipython3",
   "version": "3.7.12"
  },
  "papermill": {
   "default_parameters": {},
   "duration": 11250.823746,
   "end_time": "2022-06-01T10:37:17.671464",
   "environment_variables": {},
   "exception": null,
   "input_path": "__notebook__.ipynb",
   "output_path": "__notebook__.ipynb",
   "parameters": {},
   "start_time": "2022-06-01T07:29:46.847718",
   "version": "2.3.4"
  }
 },
 "nbformat": 4,
 "nbformat_minor": 5
}
